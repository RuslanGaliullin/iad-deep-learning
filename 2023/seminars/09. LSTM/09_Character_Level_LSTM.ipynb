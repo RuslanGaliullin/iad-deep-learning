{
  "cells": [
    {
      "cell_type": "markdown",
      "metadata": {
        "id": "1W8R8WgZceEk"
      },
      "source": [
        "# Семинар 9: Character-Level LSTM\n",
        "\n",
        "## Вступление\n",
        "На прошлом занятии мы познакомились с тем, как можно векторизовать текстовые данные для решения задач обработки текстов. Сегодня мы продолжим заниматься текстами и посмотрим на простейший пример автоматической генерации текстов при помощи Recurrent Neural Network (RNN).\n",
        "\n",
        "Полезные материалы по RNN можно почитать [здесь](http://karpathy.github.io/2015/05/21/rnn-effectiveness/), а реализацию на PyTorch — [здесь](https://github.com/karpathy/char-rnn).\n",
        "\n",
        "### План семинара\n",
        "1. Подготовка данных\n",
        "2. Имплементация модели\n",
        "3. Обучение модели\n",
        "4. Применение модели"
      ]
    },
    {
      "cell_type": "code",
      "source": [
        "!pip install lightning -q"
      ],
      "metadata": {
        "id": "OD5nh3nBPs0V"
      },
      "execution_count": null,
      "outputs": []
    },
    {
      "cell_type": "code",
      "execution_count": null,
      "metadata": {
        "id": "sqUOE2flceEl"
      },
      "outputs": [],
      "source": [
        "import warnings\n",
        "from typing import Iterable, Tuple\n",
        "\n",
        "import pytorch_lightning as pl\n",
        "import torch\n",
        "from torch import nn\n",
        "\n",
        "warnings.filterwarnings(\"ignore\")"
      ]
    },
    {
      "cell_type": "markdown",
      "metadata": {
        "id": "_wHfCDyzceEl"
      },
      "source": [
        "## 1. Подготовка данных\n",
        "\n",
        "### Загрузим текст \"Анны Карениной\""
      ]
    },
    {
      "cell_type": "code",
      "source": [
        "!wget https://raw.githubusercontent.com/hse-ds/iad-deep-learning/master/2022/seminars/sem09/anna.txt"
      ],
      "metadata": {
        "id": "0OdxVLREPXTa"
      },
      "execution_count": null,
      "outputs": []
    },
    {
      "cell_type": "code",
      "execution_count": null,
      "metadata": {
        "id": "b34kfqIOceEl"
      },
      "outputs": [],
      "source": [
        "with open(\"anna.txt\", \"r\") as f:\n",
        "    text = f.read()\n",
        "\n",
        "text[:100]"
      ]
    },
    {
      "cell_type": "markdown",
      "metadata": {
        "id": "4iC21bopceEl"
      },
      "source": [
        "### Токенизируем текст\n",
        "\n",
        "Аналогично предыдущему семинару, в ячейках ниже создадим два словаря для преобразования символов в целые числа и обратно."
      ]
    },
    {
      "cell_type": "code",
      "execution_count": null,
      "metadata": {
        "id": "tYVlmnxLceEl"
      },
      "outputs": [],
      "source": [
        "unique_chars = tuple(set(text))\n",
        "int2char = dict(enumerate(unique_chars))\n",
        "char2int = {ch: ii for ii, ch in int2char.items()}\n",
        "\n",
        "# encode the text\n",
        "encoded = torch.tensor([char2int[ch] for ch in text])\n",
        "encoded[:100]"
      ]
    },
    {
      "cell_type": "markdown",
      "metadata": {
        "id": "azltQy-gceEl"
      },
      "source": [
        "Посмотрим на схему char-RNN:\n",
        "<img src=\"https://github.com/udacity/deep-learning-v2-pytorch/blob/master/recurrent-neural-networks/char-rnn/assets/charseq.jpeg?raw=1\" width=\"30%\">\n",
        "\n",
        "Сеть ожидает **one-hot encoded** входа, что означает, что каждый символ преобразуется в целое число (через созданный маппинг), а затем преобразуется в вектор-столбец, где только соответствующий ему целочисленный индекс будет иметь значение 1, а остальная часть вектора будет заполнена нулями. Давайте напишем функцию для этого преобразования.\n",
        "\n",
        "#### Задание: допишите функцию one-hot кодирования последовательности"
      ]
    },
    {
      "cell_type": "code",
      "execution_count": null,
      "metadata": {
        "id": "OnahALhiceEl"
      },
      "outputs": [],
      "source": [
        "def one_hot_encode(int_words: torch.Tensor, n_labels: int) -> torch.Tensor:\n",
        "    \"\"\"\n",
        "    Creates one-hot representation matrix for a given batch of integer sequences\n",
        "    :param int_words: tensor of ints, which represents current sequence; shape: [batch_size, seq_len]\n",
        "    :param n_labels: vocabulary size (number of unique tokens in data)\n",
        "    :return: one-hot representation of the input tensor; shape: [batch_size, seq_len, n_labels]\n",
        "    \"\"\"\n",
        "    # <YOUR CODE HERE>\n",
        "\n",
        "    return words_one_hot"
      ]
    },
    {
      "cell_type": "code",
      "execution_count": null,
      "metadata": {
        "id": "t4ZQhskXF4xL"
      },
      "outputs": [],
      "source": [
        "# testing the function\n",
        "test_seq = torch.tensor([[3, 5, 1], [0, 2, 4]])\n",
        "test_one_hot = one_hot_encode(test_seq, 8)\n",
        "\n",
        "print(test_one_hot)"
      ]
    },
    {
      "cell_type": "markdown",
      "metadata": {
        "id": "9YyL91CuceEl"
      },
      "source": [
        "### Сформируем батчи\n",
        "На простом примере батчи будут выглядеть так: мы возьмем закодированные символы и разделим их на несколько последовательностей, заданных параметром `batch_size`. Каждая из наших последовательностей будет иметь длину `seq_length`.\n",
        "\n",
        "<img src=\"https://github.com/udacity/deep-learning-v2-pytorch/blob/master/recurrent-neural-networks/char-rnn/assets/sequence_batching@1x.png?raw=1\" width=500px>\n",
        "\n",
        "**1. Отбросим часть текста, чтобы у нас были только полные батчи**\n",
        "\n",
        "Каждый батч содержит $N \\times M$ символов, где $N$ — это количество последовательностей в батче (`batch_size`), а $M$ — длина каждой последовательности (`seq_length`). Затем, чтобы получить общее количество батчей $K$, которое мы можем сделать из последовательности, нужно разделить длину последовательности на количество символов в батче. Когда мы узнаем количество батчей, можно получить общее количество символов, которые нужно сохранить, из последовательности: $N \\times M \\times K$.\n",
        "\n",
        "**2. Разделим текст на $N$ частей**\n",
        "\n",
        "Этот шаг нужен, чтобы мы могли проходить по тексту окном размера `[batch_size, seq_len]`. Его можно реализовать при помощи простого `reshape`.\n",
        "\n",
        "**3. Теперь, когда у нас готова матрица текста, мы можем двигаться по ней окном, чтобы получить батчи**\n",
        "\n",
        "Из каждой позиции окна сформируем обучающие пары `(x, y)` следующим образом: $x$ — это все элементы окна кроме последнего столбца, а $y$ — это все элементы окна кроме первого столбца. Тем самым для каждого токена исходного текста мы будем предсказывать следующий за ним токен.\n",
        "\n",
        "#### Задание: допишите функцию генерации батчей"
      ]
    },
    {
      "cell_type": "code",
      "execution_count": null,
      "metadata": {
        "id": "2ECftYejnvpx"
      },
      "outputs": [],
      "source": [
        "def get_batches(\n",
        "    int_words: torch.Tensor, batch_size: int, seq_length: int\n",
        ") -> Iterable[torch.Tensor]:\n",
        "    \"\"\"\n",
        "    Generates batches from encoded sequence.\n",
        "    :param int_words: tensor of ints, which represents the text; shape: [batch_size, -1]\n",
        "    :param batch_size: number of sequences per batch\n",
        "    :param seq_length: number of encoded chars in a sequence\n",
        "    :return: generator of pairs (x, y); x_shape, y_shape: [batch_size, seq_length - 1]\n",
        "    \"\"\"\n",
        "    # 1. Truncate text, so there are only full batches\n",
        "    # YOUR CODE HERE\n",
        "\n",
        "    # 2. Reshape into batch_size rows\n",
        "    # YOUR CODE HERE\n",
        "\n",
        "    # 3. Iterate through the text matrix\n",
        "    for position in range(0, int_words.shape[1], window_size):\n",
        "        # YOUR CODE HERE\n",
        "        yield x, y"
      ]
    },
    {
      "cell_type": "code",
      "execution_count": null,
      "metadata": {
        "id": "qtKlLXi1ceEl"
      },
      "outputs": [],
      "source": [
        "# testing the function\n",
        "test_batches = get_batches(encoded, 8, 50)\n",
        "test_x, test_y = next(test_batches)\n",
        "assert test_x.shape == test_y.shape\n",
        "print(f\"x:\\n{test_x[:10, :10]}\\n\")\n",
        "print(f\"y:\\n{test_y[:10, :10]}\")"
      ]
    },
    {
      "cell_type": "markdown",
      "metadata": {
        "id": "TeaMa5fKF4xM"
      },
      "source": [
        "### Наконец, подготовим класс датасета"
      ]
    },
    {
      "cell_type": "code",
      "execution_count": null,
      "metadata": {
        "id": "V8P8HmW8F4xM"
      },
      "outputs": [],
      "source": [
        "class AnnaData(torch.utils.data.IterableDataset):\n",
        "    def __init__(self, int_words: torch.Tensor, batch_size: int, seq_length: int):\n",
        "        self.int_words = int_words\n",
        "        self.batch_size = batch_size\n",
        "        self.seq_length = seq_length\n",
        "\n",
        "    def __iter__(self):\n",
        "        return get_batches(self.int_words, self.batch_size, self.seq_length)"
      ]
    },
    {
      "cell_type": "markdown",
      "metadata": {
        "id": "Jouxv0L2ceEl"
      },
      "source": [
        "## 2. Имплементация модели\n",
        "\n",
        "<img src=\"https://github.com/udacity/deep-learning-v2-pytorch/blob/master/recurrent-neural-networks/char-rnn/assets/charRNN.png?raw=1\" width=50%>"
      ]
    },
    {
      "cell_type": "markdown",
      "metadata": {
        "id": "E7s5eRaoceEl"
      },
      "source": [
        "### Структура модели\n",
        "\n",
        "* Создаём и храним необходимые словари.\n",
        "* Определяем слой [LSTM]((https://pytorch.org/docs/stable/generated/torch.nn.LSTM.html#torch.nn.LSTM)) с помощью инстанса класса `torch.nn.LSTM`, который принимает набор параметров: `input_size` — длина последовательности в батче; `n_hidden` — размер скрытых слоёв; `n_layers` — количество слоёв; `drop_prob` — вероятность дропаута; и `batch_first` — флаг, указывающий на то, что у входных последовательностей размерность батча идёт вдоль нулевой оси.\n",
        "* Определяем слой Dropout с таким же значением `drop_prob`.\n",
        "* Определяем полносвязный слой с набором параметров: размерность ввода — `n_hidden`; размерность выхода — размер словаря.\n",
        "* Наконец, инициализируем веса и начальное скрытое состояние (`self.init_hidden()`)."
      ]
    },
    {
      "cell_type": "code",
      "execution_count": null,
      "metadata": {
        "id": "VPq1EA38rBqn"
      },
      "outputs": [],
      "source": [
        "class CharRNN(nn.Module):\n",
        "    def __init__(\n",
        "        self,\n",
        "        unique_tokens: Tuple[str],\n",
        "        n_hidden: int = 256,\n",
        "        n_layers: int = 2,\n",
        "        drop_prob: float = 0.5,\n",
        "    ) -> None:\n",
        "        super().__init__()\n",
        "        self.n_hidden = n_hidden\n",
        "        self.n_layers = n_layers\n",
        "        self.drop_prob = drop_prob\n",
        "\n",
        "        # create mappings\n",
        "        self.unique_tokens = unique_tokens\n",
        "        self.int2char = dict(enumerate(self.unique_tokens))\n",
        "        self.char2int = {ch: ii for ii, ch in self.int2char.items()}\n",
        "\n",
        "        ## define the LSTM, dropout and fully connected layers\n",
        "        self.lstm = nn.LSTM(\n",
        "            len(self.unique_tokens),\n",
        "            n_hidden,\n",
        "            n_layers,\n",
        "            dropout=drop_prob,\n",
        "            batch_first=True,\n",
        "        )\n",
        "        self.dropout = nn.Dropout(drop_prob)\n",
        "        self.fc = nn.Linear(n_hidden, len(self.unique_tokens))\n",
        "\n",
        "    def forward(\n",
        "        self, x: torch.Tensor, hidden: torch.Tensor\n",
        "    ) -> Tuple[torch.Tensor, torch.Tensor]:\n",
        "        r_output, hidden = self.lstm(x, hidden)\n",
        "        out = self.dropout(r_output)\n",
        "        # Stack up LSTM outputs using view. You may need to use contiguous to reshape the output.\n",
        "        out = out.contiguous().view(-1, self.n_hidden)\n",
        "        ## Get the output for classification.\n",
        "        out = self.fc(out)\n",
        "        return out, hidden\n",
        "\n",
        "    def init_hidden(\n",
        "        self, batch_size: int, weight_device: torch.device\n",
        "    ) -> Tuple[torch.Tensor]:\n",
        "        \"\"\"\n",
        "        Creates two new zero tensors for hidden state and cell state of LSTM\n",
        "        :param batch_size: number of sequences per batch\n",
        "        :param weight_device: torch.device(\"cuda\") for GPU init or torch.device(\"cpu\") for CPU init\n",
        "        :return: tuple of two tensors of shape [n_layers x batch_size x n_hidden]\n",
        "        \"\"\"\n",
        "        weight = next(self.parameters()).data\n",
        "        hidden = (\n",
        "            weight.new(self.n_layers, batch_size, self.n_hidden)\n",
        "            .zero_()\n",
        "            .to(weight_device),\n",
        "            weight.new(self.n_layers, batch_size, self.n_hidden)\n",
        "            .zero_()\n",
        "            .to(weight_device),\n",
        "        )\n",
        "        return hidden"
      ]
    },
    {
      "cell_type": "code",
      "execution_count": null,
      "metadata": {
        "id": "Om7WKpduF4xN"
      },
      "outputs": [],
      "source": [
        "class CharRNNModule(pl.LightningModule):\n",
        "    def __init__(\n",
        "        self,\n",
        "        unique_tokens: Tuple[str],\n",
        "        n_hidden: int = 1024,\n",
        "        n_layers: int = 2,\n",
        "        drop_prob: float = 0.5,\n",
        "        batch_size: int = 128,\n",
        "        seq_length=256,\n",
        "        lr: float = 0.001,\n",
        "    ) -> None:\n",
        "        super().__init__()\n",
        "        self.model = CharRNN(unique_tokens, n_hidden, n_layers, drop_prob)\n",
        "        self.hidden = None\n",
        "        self.loss = nn.CrossEntropyLoss()\n",
        "        self.optimizer = torch.optim.Adam(self.model.parameters(), lr=lr)\n",
        "        self.n_chars = len(unique_tokens)\n",
        "        self.batch_size = batch_size\n",
        "        self.seq_length = seq_length\n",
        "\n",
        "    def training_step(\n",
        "        self, train_batch: Tuple[torch.Tensor, torch.Tensor]\n",
        "    ) -> torch.Tensor:\n",
        "        x, y = train_batch\n",
        "        x, y = x.squeeze(0), y.squeeze(0)\n",
        "        x = one_hot_encode(x, self.n_chars)\n",
        "\n",
        "        if self.hidden is None:\n",
        "            self.hidden = self.model.init_hidden(self.batch_size, self.device)\n",
        "        self.hidden = tuple([each.data for each in self.hidden])\n",
        "\n",
        "        output, self.hidden = self.model(x, self.hidden)\n",
        "        loss = self.loss(output, y.reshape(self.batch_size * self.seq_length).long())\n",
        "\n",
        "        self.log(\"train_loss\", loss, prog_bar=True)\n",
        "        return loss\n",
        "\n",
        "    def configure_optimizers(self):\n",
        "        return self.optimizer"
      ]
    },
    {
      "cell_type": "markdown",
      "metadata": {
        "id": "5IrBRlEPceEl"
      },
      "source": [
        "## 3. Обучение модели\n",
        "\n",
        "По классике, используем оптимизатор Adam и кросс-энтропию. Но без пары особенностей не обойтись:\n",
        "* Во время цикла будем отделять скрытое состояние от его истории, потому что скрытое состояние LSTM является кортежем скрытых состояний.\n",
        "* Будем использовать gradient clipping, чтобы избавиться от взрывающихся градиентов."
      ]
    },
    {
      "cell_type": "code",
      "execution_count": null,
      "metadata": {
        "scrolled": false,
        "id": "InCNB0ICF4xN"
      },
      "outputs": [],
      "source": [
        "# data\n",
        "train_dataset = AnnaData(encoded, batch_size=128, seq_length=256)\n",
        "train_dataloader = torch.utils.data.DataLoader(\n",
        "    train_dataset,\n",
        "    batch_size=1,  # batching is already implemented on our side\n",
        "    shuffle=False,\n",
        "    num_workers=1,  # don't change: it will lead to the wrong implementation\n",
        ")\n",
        "# model\n",
        "char_rnn = CharRNNModule(unique_chars, n_hidden=1024, batch_size=128)\n",
        "# trainer\n",
        "trainer = pl.Trainer(max_epochs=15, gradient_clip_val=1.0, accelerator=\"gpu\", devices=1)\n",
        "trainer.fit(char_rnn, train_dataloaders=train_dataloader)"
      ]
    },
    {
      "cell_type": "markdown",
      "metadata": {
        "id": "ZfZxvNoDceEm"
      },
      "source": [
        "## 4. Применение модели\n",
        "\n",
        "Сперва сохраним обученную модель, чтобы можно было загрузить её позже. В следующей ячейке сохраняются параметры, необходимые для создания той же архитектуры, гиперпараметры скрытого слоя и токены."
      ]
    },
    {
      "cell_type": "code",
      "execution_count": null,
      "metadata": {
        "id": "q6RXl5VAceEm"
      },
      "outputs": [],
      "source": [
        "net = char_rnn.model\n",
        "checkpoint = {\n",
        "    \"n_hidden\": net.n_hidden,\n",
        "    \"n_layers\": net.n_layers,\n",
        "    \"state_dict\": net.state_dict(),\n",
        "    \"tokens\": net.unique_tokens,\n",
        "}\n",
        "\n",
        "with open(\"rnn_x_epoch.net\", \"wb\") as f:\n",
        "    torch.save(checkpoint, f)\n",
        "\n",
        "device = torch.device(\"cuda\") if torch.cuda.is_available() else torch.device(\"cpu\")"
      ]
    },
    {
      "cell_type": "markdown",
      "metadata": {
        "id": "K2sJhx5iceEm"
      },
      "source": [
        "### Делаем предсказания\n",
        "\n",
        "Сгенерируем текст! Для предсказания продолжения текста мы передаём в сеть последний символ, она предсказывает следующий символ, который мы снова передаем на вход, получаем ещё один предсказанный символ и так далее. Наши прогнозы основаны на категориальном распределении вероятностей по всем возможным символам. Мы можем ограничить число символов на каждом шаге генерации, чтобы сделать получаемый предсказанный текст более разумным, рассматривая только некоторые, наиболее вероятные символы. С одной стороны, такой подход позволит нам рассматривать не только самую вероятную последовательность с точки зрения прогноза модели. С другой стороны, мы будем работать с ограниченным набором сгенерированных вариантов, поэтому избавимся от совсем уж шумовых прогнозов. Узнать больше можно [здесь](https://pytorch.org/docs/stable/generated/torch.topk.html#torch.topk)."
      ]
    },
    {
      "cell_type": "code",
      "execution_count": null,
      "metadata": {
        "id": "QEIRW_B2ceEm"
      },
      "outputs": [],
      "source": [
        "def predict_next_char(\n",
        "    model: torch.nn.Module, char: str, h: torch.Tensor = None, top_k: int = None\n",
        ") -> Tuple[str, torch.Tensor]:\n",
        "    \"\"\"\n",
        "    Given a character and a model, predicts next character in the sequence\n",
        "    :param model: model that outputs next token probability distribution\n",
        "    :param char: last character of the sequence to continue generation from\n",
        "    :param h: hidden state of the model\n",
        "    :param top_k: number of most probable tokens to be chosen from\n",
        "    :return: tuple of next character and new hidden state\n",
        "    \"\"\"\n",
        "    # tensor inputs\n",
        "    x = torch.tensor([[model.char2int[char]]])\n",
        "    x = one_hot_encode(x, len(model.unique_tokens))\n",
        "    x = x.to(device)\n",
        "\n",
        "    h = tuple([each.data for each in h])\n",
        "\n",
        "    out, h = model(x, h)\n",
        "\n",
        "    # get the character probabilities\n",
        "    p = torch.nn.functional.softmax(out, dim=1).data.cpu()\n",
        "\n",
        "    # get top characters\n",
        "    if top_k is None:\n",
        "        top_ch = torch.arange(len(model.unique_tokens))\n",
        "    else:\n",
        "        p, top_ch = p.topk(top_k)\n",
        "\n",
        "    p.squeeze_()\n",
        "    top_ch.squeeze_()\n",
        "    char = top_ch[torch.multinomial(p / p.sum(), 1)]\n",
        "\n",
        "    return model.int2char[char.item()], h"
      ]
    },
    {
      "cell_type": "markdown",
      "metadata": {
        "id": "OG38j3gQceEm"
      },
      "source": [
        "### Priming и генерирование текста\n",
        "\n",
        "Нужно задать скрытое состояние, чтобы сеть не генерировала произвольные символы."
      ]
    },
    {
      "cell_type": "code",
      "execution_count": null,
      "metadata": {
        "id": "P9vpB5gRceEm"
      },
      "outputs": [],
      "source": [
        "def sample(model, size, prime=\"The\", top_k=None):\n",
        "    model.to(device)\n",
        "    model.eval()\n",
        "\n",
        "    # run through the prime characters\n",
        "    chars = [ch for ch in prime]\n",
        "    h = model.init_hidden(1, device)\n",
        "    for ch in prime:\n",
        "        char, h = predict_next_char(model, ch, h, top_k=top_k)\n",
        "\n",
        "    chars.append(char)\n",
        "\n",
        "    # pass in the previous character and get a new one\n",
        "    for ii in range(size):\n",
        "        char, h = predict_next_char(model, chars[-1], h, top_k=top_k)\n",
        "        chars.append(char)\n",
        "\n",
        "    return \"\".join(chars)"
      ]
    },
    {
      "cell_type": "code",
      "execution_count": null,
      "metadata": {
        "id": "Ys0joturF4xO"
      },
      "outputs": [],
      "source": [
        "print(sample(net, 1000, prime=\"Anna\", top_k=5))"
      ]
    },
    {
      "cell_type": "markdown",
      "metadata": {
        "id": "942mjdQHceEm"
      },
      "source": [
        "### Загрузка чекпоинта и генерация"
      ]
    },
    {
      "cell_type": "code",
      "execution_count": null,
      "metadata": {
        "id": "Xt9ldUuSceEm",
        "scrolled": false
      },
      "outputs": [],
      "source": [
        "with open(\"rnn_x_epoch.net\", \"rb\") as f:\n",
        "    checkpoint = torch.load(f)\n",
        "\n",
        "loaded = CharRNN(\n",
        "    checkpoint[\"tokens\"],\n",
        "    n_hidden=checkpoint[\"n_hidden\"],\n",
        "    n_layers=checkpoint[\"n_layers\"],\n",
        ")\n",
        "loaded.load_state_dict(checkpoint[\"state_dict\"])\n",
        "\n",
        "# sample using a loaded model\n",
        "print(sample(loaded, 2000, top_k=5, prime=\"And Levin said\"))"
      ]
    }
  ],
  "metadata": {
    "colab": {
      "provenance": [],
      "gpuType": "T4"
    },
    "kernelspec": {
      "display_name": "Python 3",
      "name": "python3"
    },
    "language_info": {
      "codemirror_mode": {
        "name": "ipython",
        "version": 3
      },
      "file_extension": ".py",
      "mimetype": "text/x-python",
      "name": "python",
      "nbconvert_exporter": "python",
      "pygments_lexer": "ipython3",
      "version": "3.8.8"
    },
    "accelerator": "GPU"
  },
  "nbformat": 4,
  "nbformat_minor": 0
}