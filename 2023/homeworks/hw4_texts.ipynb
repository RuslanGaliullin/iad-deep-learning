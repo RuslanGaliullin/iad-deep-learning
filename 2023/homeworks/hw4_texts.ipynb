{
  "cells": [
    {
      "cell_type": "markdown",
      "metadata": {
        "id": "N0MMALtdLU6F"
      },
      "source": [
        "<center>\n",
        "<img src=\"https://raw.githubusercontent.com/dvgodoy/PyTorch101_ODSC_Europe2020/master/images/linear_dogs.jpg\" width=\"800\">\n",
        "\n",
        "# Основы глубинного обучения: домашнее задание 4\n",
        "</center>"
      ]
    },
    {
      "cell_type": "markdown",
      "metadata": {
        "id": "Lp2Uf8PGM_zP"
      },
      "source": [
        "**ФИО:** Галиуллин Руслан Маратович\n",
        "\n",
        "**Забавный факт о себе:**"
      ]
    },
    {
      "cell_type": "markdown",
      "metadata": {
        "id": "W2LjTioKM_zP"
      },
      "source": [
        "## Общая информация\n",
        "\n",
        "__Дата выдачи:__ 09.12.2023\n",
        "\n",
        "__Дедлайн:__ 23:59MSK 18.12.2023\n",
        "\n",
        "В случае этой домашки мягкий дедлан совпадает с жёстким."
      ]
    },
    {
      "cell_type": "markdown",
      "metadata": {
        "id": "pGGDD519LWaa"
      },
      "source": [
        "## Оценивание и штрафы\n",
        "\n",
        "Каждая из задач имеет определенную «стоимость» (указана в скобках около задачи). Максимально допустимая оценка за работу — 5.2 балла (3 основных балла и ещё 2.2 бонусных).\n",
        "\n",
        "Задание выполняется самостоятельно. «Похожие» решения считаются плагиатом и все задействованные студенты (в том числе те, у кого списали) не могут получить за него больше 0 баллов. Если вы нашли решение какого-то из заданий (или его часть) в открытом источнике, необходимо указать ссылку на этот источник (скорее всего вы будете не единственным, кто это нашел, поэтому чтобы исключить подозрение в плагиате, необходима ссылка на источник)."
      ]
    },
    {
      "cell_type": "code",
      "source": [
        "!pip install wandb pytorch_lightning"
      ],
      "metadata": {
        "colab": {
          "base_uri": "https://localhost:8080/"
        },
        "id": "FKIn4JNWPBHu",
        "outputId": "2fd281c0-7fb1-4a7c-ed22-ac2636c41690"
      },
      "execution_count": 1,
      "outputs": [
        {
          "output_type": "stream",
          "name": "stdout",
          "text": [
            "Requirement already satisfied: wandb in /usr/local/lib/python3.10/dist-packages (0.16.1)\n",
            "Requirement already satisfied: pytorch_lightning in /usr/local/lib/python3.10/dist-packages (2.1.2)\n",
            "Requirement already satisfied: Click!=8.0.0,>=7.1 in /usr/local/lib/python3.10/dist-packages (from wandb) (8.1.7)\n",
            "Requirement already satisfied: GitPython!=3.1.29,>=1.0.0 in /usr/local/lib/python3.10/dist-packages (from wandb) (3.1.40)\n",
            "Requirement already satisfied: requests<3,>=2.0.0 in /usr/local/lib/python3.10/dist-packages (from wandb) (2.31.0)\n",
            "Requirement already satisfied: psutil>=5.0.0 in /usr/local/lib/python3.10/dist-packages (from wandb) (5.9.5)\n",
            "Requirement already satisfied: sentry-sdk>=1.0.0 in /usr/local/lib/python3.10/dist-packages (from wandb) (1.39.1)\n",
            "Requirement already satisfied: docker-pycreds>=0.4.0 in /usr/local/lib/python3.10/dist-packages (from wandb) (0.4.0)\n",
            "Requirement already satisfied: PyYAML in /usr/local/lib/python3.10/dist-packages (from wandb) (6.0.1)\n",
            "Requirement already satisfied: setproctitle in /usr/local/lib/python3.10/dist-packages (from wandb) (1.3.3)\n",
            "Requirement already satisfied: setuptools in /usr/local/lib/python3.10/dist-packages (from wandb) (67.7.2)\n",
            "Requirement already satisfied: appdirs>=1.4.3 in /usr/local/lib/python3.10/dist-packages (from wandb) (1.4.4)\n",
            "Requirement already satisfied: protobuf!=4.21.0,<5,>=3.19.0 in /usr/local/lib/python3.10/dist-packages (from wandb) (3.20.3)\n",
            "Requirement already satisfied: numpy>=1.17.2 in /usr/local/lib/python3.10/dist-packages (from pytorch_lightning) (1.23.5)\n",
            "Requirement already satisfied: torch>=1.12.0 in /usr/local/lib/python3.10/dist-packages (from pytorch_lightning) (2.1.0+cu121)\n",
            "Requirement already satisfied: tqdm>=4.57.0 in /usr/local/lib/python3.10/dist-packages (from pytorch_lightning) (4.66.1)\n",
            "Requirement already satisfied: fsspec[http]>2021.06.0 in /usr/local/lib/python3.10/dist-packages (from pytorch_lightning) (2023.6.0)\n",
            "Requirement already satisfied: torchmetrics>=0.7.0 in /usr/local/lib/python3.10/dist-packages (from pytorch_lightning) (1.2.1)\n",
            "Requirement already satisfied: packaging>=20.0 in /usr/local/lib/python3.10/dist-packages (from pytorch_lightning) (23.2)\n",
            "Requirement already satisfied: typing-extensions>=4.0.0 in /usr/local/lib/python3.10/dist-packages (from pytorch_lightning) (4.5.0)\n",
            "Requirement already satisfied: lightning-utilities>=0.8.0 in /usr/local/lib/python3.10/dist-packages (from pytorch_lightning) (0.10.0)\n",
            "Requirement already satisfied: six>=1.4.0 in /usr/local/lib/python3.10/dist-packages (from docker-pycreds>=0.4.0->wandb) (1.16.0)\n",
            "Requirement already satisfied: aiohttp!=4.0.0a0,!=4.0.0a1 in /usr/local/lib/python3.10/dist-packages (from fsspec[http]>2021.06.0->pytorch_lightning) (3.9.1)\n",
            "Requirement already satisfied: gitdb<5,>=4.0.1 in /usr/local/lib/python3.10/dist-packages (from GitPython!=3.1.29,>=1.0.0->wandb) (4.0.11)\n",
            "Requirement already satisfied: charset-normalizer<4,>=2 in /usr/local/lib/python3.10/dist-packages (from requests<3,>=2.0.0->wandb) (3.3.2)\n",
            "Requirement already satisfied: idna<4,>=2.5 in /usr/local/lib/python3.10/dist-packages (from requests<3,>=2.0.0->wandb) (3.6)\n",
            "Requirement already satisfied: urllib3<3,>=1.21.1 in /usr/local/lib/python3.10/dist-packages (from requests<3,>=2.0.0->wandb) (2.0.7)\n",
            "Requirement already satisfied: certifi>=2017.4.17 in /usr/local/lib/python3.10/dist-packages (from requests<3,>=2.0.0->wandb) (2023.11.17)\n",
            "Requirement already satisfied: filelock in /usr/local/lib/python3.10/dist-packages (from torch>=1.12.0->pytorch_lightning) (3.13.1)\n",
            "Requirement already satisfied: sympy in /usr/local/lib/python3.10/dist-packages (from torch>=1.12.0->pytorch_lightning) (1.12)\n",
            "Requirement already satisfied: networkx in /usr/local/lib/python3.10/dist-packages (from torch>=1.12.0->pytorch_lightning) (3.2.1)\n",
            "Requirement already satisfied: jinja2 in /usr/local/lib/python3.10/dist-packages (from torch>=1.12.0->pytorch_lightning) (3.1.2)\n",
            "Requirement already satisfied: triton==2.1.0 in /usr/local/lib/python3.10/dist-packages (from torch>=1.12.0->pytorch_lightning) (2.1.0)\n",
            "Requirement already satisfied: attrs>=17.3.0 in /usr/local/lib/python3.10/dist-packages (from aiohttp!=4.0.0a0,!=4.0.0a1->fsspec[http]>2021.06.0->pytorch_lightning) (23.1.0)\n",
            "Requirement already satisfied: multidict<7.0,>=4.5 in /usr/local/lib/python3.10/dist-packages (from aiohttp!=4.0.0a0,!=4.0.0a1->fsspec[http]>2021.06.0->pytorch_lightning) (6.0.4)\n",
            "Requirement already satisfied: yarl<2.0,>=1.0 in /usr/local/lib/python3.10/dist-packages (from aiohttp!=4.0.0a0,!=4.0.0a1->fsspec[http]>2021.06.0->pytorch_lightning) (1.9.4)\n",
            "Requirement already satisfied: frozenlist>=1.1.1 in /usr/local/lib/python3.10/dist-packages (from aiohttp!=4.0.0a0,!=4.0.0a1->fsspec[http]>2021.06.0->pytorch_lightning) (1.4.0)\n",
            "Requirement already satisfied: aiosignal>=1.1.2 in /usr/local/lib/python3.10/dist-packages (from aiohttp!=4.0.0a0,!=4.0.0a1->fsspec[http]>2021.06.0->pytorch_lightning) (1.3.1)\n",
            "Requirement already satisfied: async-timeout<5.0,>=4.0 in /usr/local/lib/python3.10/dist-packages (from aiohttp!=4.0.0a0,!=4.0.0a1->fsspec[http]>2021.06.0->pytorch_lightning) (4.0.3)\n",
            "Requirement already satisfied: smmap<6,>=3.0.1 in /usr/local/lib/python3.10/dist-packages (from gitdb<5,>=4.0.1->GitPython!=3.1.29,>=1.0.0->wandb) (5.0.1)\n",
            "Requirement already satisfied: MarkupSafe>=2.0 in /usr/local/lib/python3.10/dist-packages (from jinja2->torch>=1.12.0->pytorch_lightning) (2.1.3)\n",
            "Requirement already satisfied: mpmath>=0.19 in /usr/local/lib/python3.10/dist-packages (from sympy->torch>=1.12.0->pytorch_lightning) (1.3.0)\n"
          ]
        }
      ]
    },
    {
      "cell_type": "code",
      "execution_count": 2,
      "metadata": {
        "id": "e88B7C_7M_zQ"
      },
      "outputs": [],
      "source": [
        "import pandas as pd\n",
        "import numpy as np\n",
        "\n",
        "import matplotlib.pyplot as plt\n",
        "import seaborn as sns\n",
        "\n",
        "from pytorch_lightning.loggers import WandbLogger\n",
        "from tqdm.notebook import tqdm"
      ]
    },
    {
      "cell_type": "code",
      "execution_count": 3,
      "metadata": {
        "colab": {
          "base_uri": "https://localhost:8080/"
        },
        "id": "nqB7HlFIM_zR",
        "outputId": "25c08a7a-779d-4291-c80b-90121a92cd44"
      },
      "outputs": [
        {
          "output_type": "execute_result",
          "data": {
            "text/plain": [
              "device(type='cuda', index=0)"
            ]
          },
          "metadata": {},
          "execution_count": 3
        }
      ],
      "source": [
        "import torch\n",
        "device = torch.device('cuda:0' if torch.cuda.is_available() else 'cpu')\n",
        "device"
      ]
    },
    {
      "cell_type": "code",
      "source": [
        "import wandb\n",
        "\n",
        "wandb.login()"
      ],
      "metadata": {
        "colab": {
          "base_uri": "https://localhost:8080/"
        },
        "id": "WG7NGUDJFXsE",
        "outputId": "357a13ec-05cd-4152-ef77-dce2343cd6ec"
      },
      "execution_count": 4,
      "outputs": [
        {
          "output_type": "stream",
          "name": "stderr",
          "text": [
            "\u001b[34m\u001b[1mwandb\u001b[0m: Currently logged in as: \u001b[33mrmgaliullin\u001b[0m (\u001b[33mruslan_iad\u001b[0m). Use \u001b[1m`wandb login --relogin`\u001b[0m to force relogin\n"
          ]
        },
        {
          "output_type": "execute_result",
          "data": {
            "text/plain": [
              "True"
            ]
          },
          "metadata": {},
          "execution_count": 4
        }
      ]
    },
    {
      "cell_type": "markdown",
      "metadata": {
        "id": "GkjGmtWoM_zR"
      },
      "source": [
        "# Описание данных\n",
        "\n",
        "Данные можно [скачать с гугл-диска.](https://drive.google.com/drive/folders/11oCcLplWtp_qm-WuEbfCFP_Mz5K_z3ps?usp=sharing) Если вы делаете задание в колабе, то строчки ниже сами скачают вам данные.\n",
        "\n"
      ]
    },
    {
      "cell_type": "code",
      "source": [
        "import gdown\n",
        "\n",
        "url = \"https://drive.google.com/drive/folders/1S3dlobf92c_qEp23VAV6WKUJrvoUeRHo?usp=sharing\"\n",
        "gdown.download_folder(url, quiet=True, use_cookies=False)"
      ],
      "metadata": {
        "colab": {
          "base_uri": "https://localhost:8080/"
        },
        "id": "e78uct9mO6ik",
        "outputId": "0c2ebe94-3422-4d16-c6f9-0601b2486e70"
      },
      "execution_count": 5,
      "outputs": [
        {
          "output_type": "execute_result",
          "data": {
            "text/plain": [
              "['/content/news_data/ria_news.tsv',\n",
              " '/content/news_data/vk_comments.tsv',\n",
              " '/content/news_data/vk_news.tsv']"
            ]
          },
          "metadata": {},
          "execution_count": 5
        }
      ]
    },
    {
      "cell_type": "markdown",
      "metadata": {
        "id": "fNAzGcglM_zS"
      },
      "source": [
        "В таблице `ria_news.tsv`  лежат данные о новостях, вышедших на сайте РИА-НОВОСТИ с 15 марта 2018 года по 31 декабря 2018 года.\n",
        "\n",
        "- `href` - уникальный идентификатор новости (ссылка на неё)\n",
        "- `date` - дата публикации новости\n",
        "- `time` - время публикации новости\n",
        "- `title` - заголовок новости\n",
        "- `snippet` - краткое описание новости\n",
        "- `text` - текст новости\n",
        "- `category` - категория новости\n",
        "- `keywords` - ключевые слова (подкатегории новости)\n",
        "- `shows` - счётчик с числом просмотров новости на сайте (на момент парсинга)"
      ]
    },
    {
      "cell_type": "code",
      "execution_count": 6,
      "metadata": {
        "colab": {
          "base_uri": "https://localhost:8080/",
          "height": 624
        },
        "id": "U0-iSeRLM_zS",
        "outputId": "d912b47e-7182-46ab-f509-56479b7b6d27"
      },
      "outputs": [
        {
          "output_type": "stream",
          "name": "stdout",
          "text": [
            "(201708, 9)\n"
          ]
        },
        {
          "output_type": "execute_result",
          "data": {
            "text/plain": [
              "                        href        date                    time  \\\n",
              "0  /20181231/1548961410.html  2018-12-31  31 декабря 2018, 23:52   \n",
              "1  /20181231/1548961364.html  2018-12-31  31 декабря 2018, 23:19   \n",
              "2  /20181231/1548961337.html  2018-12-31  31 декабря 2018, 23:12   \n",
              "3  /20181231/1548961304.html  2018-12-31  31 декабря 2018, 23:09   \n",
              "4  /20181231/1548961265.html  2018-12-31  31 декабря 2018, 23:07   \n",
              "\n",
              "                                               title  \\\n",
              "0  Нетаньяху не собирается в отставку в случае пр...   \n",
              "1  Макрон в новогоднем обращении затронул тему ре...   \n",
              "2  Аарон Рэмзи проведет переговоры с пятью топ-кл...   \n",
              "3  Гол Азмуна принес сборной Ирана победу над кат...   \n",
              "4  Пятая ракетка мира дель Потро пропустит Открыт...   \n",
              "\n",
              "                                             snippet  \\\n",
              "0  Премьер-министр Израиля Биньямин Нетаньяху не ...   \n",
              "1  Результат реформ не может быть мгновенным, зая...   \n",
              "2  Полузащитник лондонского \"Арсенала\" Аарон Рэмз...   \n",
              "3  Футболисты сборной Ирана одержали победу над к...   \n",
              "4  Аргентинский теннисист Хуан Мартин дель Потро ...   \n",
              "\n",
              "                                                text category  \\\n",
              "0  МОСКВА, 31 дек - РИА Новости. Премьер-министр ...   В мире   \n",
              "1  ПАРИЖ, 31 дек – РИА Новости. Результат реформ ...   В мире   \n",
              "2  МОСКВА, 31 дек - РИА Новости. Полузащитник лон...      NaN   \n",
              "3  МОСКВА, 31 дек - РИА Новости. Футболисты сборн...      NaN   \n",
              "4  МОСКВА, 31 дек - РИА Новости. Аргентинский тен...      NaN   \n",
              "\n",
              "                                     tags   shows  \n",
              "0     Биньямин Нетаньяху, Израиль, В мире   728.0  \n",
              "1       Эммануэль Макрон, Франция, В мире  3086.0  \n",
              "2                     ФК Арсенал (Лондон)   183.0  \n",
              "3  Сердар Азмун, Сборная Ирана по футболу    78.0  \n",
              "4                                  Теннис    79.0  "
            ],
            "text/html": [
              "\n",
              "  <div id=\"df-f3b5fca8-630b-49b0-a6f8-b0cb54c21e12\" class=\"colab-df-container\">\n",
              "    <div>\n",
              "<style scoped>\n",
              "    .dataframe tbody tr th:only-of-type {\n",
              "        vertical-align: middle;\n",
              "    }\n",
              "\n",
              "    .dataframe tbody tr th {\n",
              "        vertical-align: top;\n",
              "    }\n",
              "\n",
              "    .dataframe thead th {\n",
              "        text-align: right;\n",
              "    }\n",
              "</style>\n",
              "<table border=\"1\" class=\"dataframe\">\n",
              "  <thead>\n",
              "    <tr style=\"text-align: right;\">\n",
              "      <th></th>\n",
              "      <th>href</th>\n",
              "      <th>date</th>\n",
              "      <th>time</th>\n",
              "      <th>title</th>\n",
              "      <th>snippet</th>\n",
              "      <th>text</th>\n",
              "      <th>category</th>\n",
              "      <th>tags</th>\n",
              "      <th>shows</th>\n",
              "    </tr>\n",
              "  </thead>\n",
              "  <tbody>\n",
              "    <tr>\n",
              "      <th>0</th>\n",
              "      <td>/20181231/1548961410.html</td>\n",
              "      <td>2018-12-31</td>\n",
              "      <td>31 декабря 2018, 23:52</td>\n",
              "      <td>Нетаньяху не собирается в отставку в случае пр...</td>\n",
              "      <td>Премьер-министр Израиля Биньямин Нетаньяху не ...</td>\n",
              "      <td>МОСКВА, 31 дек - РИА Новости. Премьер-министр ...</td>\n",
              "      <td>В мире</td>\n",
              "      <td>Биньямин Нетаньяху, Израиль, В мире</td>\n",
              "      <td>728.0</td>\n",
              "    </tr>\n",
              "    <tr>\n",
              "      <th>1</th>\n",
              "      <td>/20181231/1548961364.html</td>\n",
              "      <td>2018-12-31</td>\n",
              "      <td>31 декабря 2018, 23:19</td>\n",
              "      <td>Макрон в новогоднем обращении затронул тему ре...</td>\n",
              "      <td>Результат реформ не может быть мгновенным, зая...</td>\n",
              "      <td>ПАРИЖ, 31 дек – РИА Новости. Результат реформ ...</td>\n",
              "      <td>В мире</td>\n",
              "      <td>Эммануэль Макрон, Франция, В мире</td>\n",
              "      <td>3086.0</td>\n",
              "    </tr>\n",
              "    <tr>\n",
              "      <th>2</th>\n",
              "      <td>/20181231/1548961337.html</td>\n",
              "      <td>2018-12-31</td>\n",
              "      <td>31 декабря 2018, 23:12</td>\n",
              "      <td>Аарон Рэмзи проведет переговоры с пятью топ-кл...</td>\n",
              "      <td>Полузащитник лондонского \"Арсенала\" Аарон Рэмз...</td>\n",
              "      <td>МОСКВА, 31 дек - РИА Новости. Полузащитник лон...</td>\n",
              "      <td>NaN</td>\n",
              "      <td>ФК Арсенал (Лондон)</td>\n",
              "      <td>183.0</td>\n",
              "    </tr>\n",
              "    <tr>\n",
              "      <th>3</th>\n",
              "      <td>/20181231/1548961304.html</td>\n",
              "      <td>2018-12-31</td>\n",
              "      <td>31 декабря 2018, 23:09</td>\n",
              "      <td>Гол Азмуна принес сборной Ирана победу над кат...</td>\n",
              "      <td>Футболисты сборной Ирана одержали победу над к...</td>\n",
              "      <td>МОСКВА, 31 дек - РИА Новости. Футболисты сборн...</td>\n",
              "      <td>NaN</td>\n",
              "      <td>Сердар Азмун, Сборная Ирана по футболу</td>\n",
              "      <td>78.0</td>\n",
              "    </tr>\n",
              "    <tr>\n",
              "      <th>4</th>\n",
              "      <td>/20181231/1548961265.html</td>\n",
              "      <td>2018-12-31</td>\n",
              "      <td>31 декабря 2018, 23:07</td>\n",
              "      <td>Пятая ракетка мира дель Потро пропустит Открыт...</td>\n",
              "      <td>Аргентинский теннисист Хуан Мартин дель Потро ...</td>\n",
              "      <td>МОСКВА, 31 дек - РИА Новости. Аргентинский тен...</td>\n",
              "      <td>NaN</td>\n",
              "      <td>Теннис</td>\n",
              "      <td>79.0</td>\n",
              "    </tr>\n",
              "  </tbody>\n",
              "</table>\n",
              "</div>\n",
              "    <div class=\"colab-df-buttons\">\n",
              "\n",
              "  <div class=\"colab-df-container\">\n",
              "    <button class=\"colab-df-convert\" onclick=\"convertToInteractive('df-f3b5fca8-630b-49b0-a6f8-b0cb54c21e12')\"\n",
              "            title=\"Convert this dataframe to an interactive table.\"\n",
              "            style=\"display:none;\">\n",
              "\n",
              "  <svg xmlns=\"http://www.w3.org/2000/svg\" height=\"24px\" viewBox=\"0 -960 960 960\">\n",
              "    <path d=\"M120-120v-720h720v720H120Zm60-500h600v-160H180v160Zm220 220h160v-160H400v160Zm0 220h160v-160H400v160ZM180-400h160v-160H180v160Zm440 0h160v-160H620v160ZM180-180h160v-160H180v160Zm440 0h160v-160H620v160Z\"/>\n",
              "  </svg>\n",
              "    </button>\n",
              "\n",
              "  <style>\n",
              "    .colab-df-container {\n",
              "      display:flex;\n",
              "      gap: 12px;\n",
              "    }\n",
              "\n",
              "    .colab-df-convert {\n",
              "      background-color: #E8F0FE;\n",
              "      border: none;\n",
              "      border-radius: 50%;\n",
              "      cursor: pointer;\n",
              "      display: none;\n",
              "      fill: #1967D2;\n",
              "      height: 32px;\n",
              "      padding: 0 0 0 0;\n",
              "      width: 32px;\n",
              "    }\n",
              "\n",
              "    .colab-df-convert:hover {\n",
              "      background-color: #E2EBFA;\n",
              "      box-shadow: 0px 1px 2px rgba(60, 64, 67, 0.3), 0px 1px 3px 1px rgba(60, 64, 67, 0.15);\n",
              "      fill: #174EA6;\n",
              "    }\n",
              "\n",
              "    .colab-df-buttons div {\n",
              "      margin-bottom: 4px;\n",
              "    }\n",
              "\n",
              "    [theme=dark] .colab-df-convert {\n",
              "      background-color: #3B4455;\n",
              "      fill: #D2E3FC;\n",
              "    }\n",
              "\n",
              "    [theme=dark] .colab-df-convert:hover {\n",
              "      background-color: #434B5C;\n",
              "      box-shadow: 0px 1px 3px 1px rgba(0, 0, 0, 0.15);\n",
              "      filter: drop-shadow(0px 1px 2px rgba(0, 0, 0, 0.3));\n",
              "      fill: #FFFFFF;\n",
              "    }\n",
              "  </style>\n",
              "\n",
              "    <script>\n",
              "      const buttonEl =\n",
              "        document.querySelector('#df-f3b5fca8-630b-49b0-a6f8-b0cb54c21e12 button.colab-df-convert');\n",
              "      buttonEl.style.display =\n",
              "        google.colab.kernel.accessAllowed ? 'block' : 'none';\n",
              "\n",
              "      async function convertToInteractive(key) {\n",
              "        const element = document.querySelector('#df-f3b5fca8-630b-49b0-a6f8-b0cb54c21e12');\n",
              "        const dataTable =\n",
              "          await google.colab.kernel.invokeFunction('convertToInteractive',\n",
              "                                                    [key], {});\n",
              "        if (!dataTable) return;\n",
              "\n",
              "        const docLinkHtml = 'Like what you see? Visit the ' +\n",
              "          '<a target=\"_blank\" href=https://colab.research.google.com/notebooks/data_table.ipynb>data table notebook</a>'\n",
              "          + ' to learn more about interactive tables.';\n",
              "        element.innerHTML = '';\n",
              "        dataTable['output_type'] = 'display_data';\n",
              "        await google.colab.output.renderOutput(dataTable, element);\n",
              "        const docLink = document.createElement('div');\n",
              "        docLink.innerHTML = docLinkHtml;\n",
              "        element.appendChild(docLink);\n",
              "      }\n",
              "    </script>\n",
              "  </div>\n",
              "\n",
              "\n",
              "<div id=\"df-5fc89b58-9c9a-46e1-b373-0ece8e94fef6\">\n",
              "  <button class=\"colab-df-quickchart\" onclick=\"quickchart('df-5fc89b58-9c9a-46e1-b373-0ece8e94fef6')\"\n",
              "            title=\"Suggest charts\"\n",
              "            style=\"display:none;\">\n",
              "\n",
              "<svg xmlns=\"http://www.w3.org/2000/svg\" height=\"24px\"viewBox=\"0 0 24 24\"\n",
              "     width=\"24px\">\n",
              "    <g>\n",
              "        <path d=\"M19 3H5c-1.1 0-2 .9-2 2v14c0 1.1.9 2 2 2h14c1.1 0 2-.9 2-2V5c0-1.1-.9-2-2-2zM9 17H7v-7h2v7zm4 0h-2V7h2v10zm4 0h-2v-4h2v4z\"/>\n",
              "    </g>\n",
              "</svg>\n",
              "  </button>\n",
              "\n",
              "<style>\n",
              "  .colab-df-quickchart {\n",
              "      --bg-color: #E8F0FE;\n",
              "      --fill-color: #1967D2;\n",
              "      --hover-bg-color: #E2EBFA;\n",
              "      --hover-fill-color: #174EA6;\n",
              "      --disabled-fill-color: #AAA;\n",
              "      --disabled-bg-color: #DDD;\n",
              "  }\n",
              "\n",
              "  [theme=dark] .colab-df-quickchart {\n",
              "      --bg-color: #3B4455;\n",
              "      --fill-color: #D2E3FC;\n",
              "      --hover-bg-color: #434B5C;\n",
              "      --hover-fill-color: #FFFFFF;\n",
              "      --disabled-bg-color: #3B4455;\n",
              "      --disabled-fill-color: #666;\n",
              "  }\n",
              "\n",
              "  .colab-df-quickchart {\n",
              "    background-color: var(--bg-color);\n",
              "    border: none;\n",
              "    border-radius: 50%;\n",
              "    cursor: pointer;\n",
              "    display: none;\n",
              "    fill: var(--fill-color);\n",
              "    height: 32px;\n",
              "    padding: 0;\n",
              "    width: 32px;\n",
              "  }\n",
              "\n",
              "  .colab-df-quickchart:hover {\n",
              "    background-color: var(--hover-bg-color);\n",
              "    box-shadow: 0 1px 2px rgba(60, 64, 67, 0.3), 0 1px 3px 1px rgba(60, 64, 67, 0.15);\n",
              "    fill: var(--button-hover-fill-color);\n",
              "  }\n",
              "\n",
              "  .colab-df-quickchart-complete:disabled,\n",
              "  .colab-df-quickchart-complete:disabled:hover {\n",
              "    background-color: var(--disabled-bg-color);\n",
              "    fill: var(--disabled-fill-color);\n",
              "    box-shadow: none;\n",
              "  }\n",
              "\n",
              "  .colab-df-spinner {\n",
              "    border: 2px solid var(--fill-color);\n",
              "    border-color: transparent;\n",
              "    border-bottom-color: var(--fill-color);\n",
              "    animation:\n",
              "      spin 1s steps(1) infinite;\n",
              "  }\n",
              "\n",
              "  @keyframes spin {\n",
              "    0% {\n",
              "      border-color: transparent;\n",
              "      border-bottom-color: var(--fill-color);\n",
              "      border-left-color: var(--fill-color);\n",
              "    }\n",
              "    20% {\n",
              "      border-color: transparent;\n",
              "      border-left-color: var(--fill-color);\n",
              "      border-top-color: var(--fill-color);\n",
              "    }\n",
              "    30% {\n",
              "      border-color: transparent;\n",
              "      border-left-color: var(--fill-color);\n",
              "      border-top-color: var(--fill-color);\n",
              "      border-right-color: var(--fill-color);\n",
              "    }\n",
              "    40% {\n",
              "      border-color: transparent;\n",
              "      border-right-color: var(--fill-color);\n",
              "      border-top-color: var(--fill-color);\n",
              "    }\n",
              "    60% {\n",
              "      border-color: transparent;\n",
              "      border-right-color: var(--fill-color);\n",
              "    }\n",
              "    80% {\n",
              "      border-color: transparent;\n",
              "      border-right-color: var(--fill-color);\n",
              "      border-bottom-color: var(--fill-color);\n",
              "    }\n",
              "    90% {\n",
              "      border-color: transparent;\n",
              "      border-bottom-color: var(--fill-color);\n",
              "    }\n",
              "  }\n",
              "</style>\n",
              "\n",
              "  <script>\n",
              "    async function quickchart(key) {\n",
              "      const quickchartButtonEl =\n",
              "        document.querySelector('#' + key + ' button');\n",
              "      quickchartButtonEl.disabled = true;  // To prevent multiple clicks.\n",
              "      quickchartButtonEl.classList.add('colab-df-spinner');\n",
              "      try {\n",
              "        const charts = await google.colab.kernel.invokeFunction(\n",
              "            'suggestCharts', [key], {});\n",
              "      } catch (error) {\n",
              "        console.error('Error during call to suggestCharts:', error);\n",
              "      }\n",
              "      quickchartButtonEl.classList.remove('colab-df-spinner');\n",
              "      quickchartButtonEl.classList.add('colab-df-quickchart-complete');\n",
              "    }\n",
              "    (() => {\n",
              "      let quickchartButtonEl =\n",
              "        document.querySelector('#df-5fc89b58-9c9a-46e1-b373-0ece8e94fef6 button');\n",
              "      quickchartButtonEl.style.display =\n",
              "        google.colab.kernel.accessAllowed ? 'block' : 'none';\n",
              "    })();\n",
              "  </script>\n",
              "</div>\n",
              "    </div>\n",
              "  </div>\n"
            ]
          },
          "metadata": {},
          "execution_count": 6
        }
      ],
      "source": [
        "df_ria = pd.read_csv('news_data/ria_news.tsv', sep='\\t')\n",
        "df_ria = df_ria[~df_ria.tags.isnull()]\n",
        "print(df_ria.shape)\n",
        "df_ria.head()"
      ]
    },
    {
      "cell_type": "markdown",
      "metadata": {
        "id": "smOrAVujM_zS"
      },
      "source": [
        "Многие новостные агенства поддерживают странички в социальных сетях. Они постят туда самые сочные сюжеты. В таблице `vk_news.tsv` лежат данные о новостях, которые РИА запостили ВКонтакте в период времени с  `2017-09-29 01:28:55` по `2019-02-01 23:13:17`.\n",
        "\n",
        "- `id` - уникальный идентификатор поста\n",
        "- `href` - ссылка на сайт (если она была указана в посте)\n",
        "- `datetime` - дата и время публикации новости\n",
        "- `title` - заголовок новости\n",
        "- `text` - текст новости в социальной сети\n",
        "- `likes` - число лайков под постом\n",
        "- `comments` - число комментариев под постом"
      ]
    },
    {
      "cell_type": "code",
      "execution_count": 7,
      "metadata": {
        "colab": {
          "base_uri": "https://localhost:8080/",
          "height": 312
        },
        "id": "FFZHXKukM_zS",
        "outputId": "3a28eaae-1967-471b-cbdc-74bcd3174349"
      },
      "outputs": [
        {
          "output_type": "stream",
          "name": "stdout",
          "text": [
            "(19928, 7)\n"
          ]
        },
        {
          "output_type": "execute_result",
          "data": {
            "text/plain": [
              "         id                       href             datetime  \\\n",
              "0  24006362  /20190201/1550280358.html  2019-02-01 23:13:17   \n",
              "1  24006240  /20190201/1550268781.html  2019-02-01 22:38:41   \n",
              "2  24006100  /20190201/1550282212.html  2019-02-01 21:58:52   \n",
              "3  24005972  /20190202/1550283179.html  2019-02-01 21:27:06   \n",
              "4  24005764  /20190201/1550262848.html  2019-02-01 20:55:54   \n",
              "\n",
              "                                               title  likes  comments snippet  \n",
              "0  В ДНР заявили о задержании диверсантов, причас...     15        28     NaN  \n",
              "1  Житель Урала \"заминировал\" ТЦ из-за снятия  со...     32        42     NaN  \n",
              "2      В Черном море нашли \"потерянный флот Гитлера\"     84        23     NaN  \n",
              "3  В США освободили задержанную российскую актрис...     58        35     NaN  \n",
              "4  Толкнувший Скабееву депутат Рады заявил о гроз...     45       145     NaN  "
            ],
            "text/html": [
              "\n",
              "  <div id=\"df-e009e267-5924-4055-af9f-e1d9c4e16ce8\" class=\"colab-df-container\">\n",
              "    <div>\n",
              "<style scoped>\n",
              "    .dataframe tbody tr th:only-of-type {\n",
              "        vertical-align: middle;\n",
              "    }\n",
              "\n",
              "    .dataframe tbody tr th {\n",
              "        vertical-align: top;\n",
              "    }\n",
              "\n",
              "    .dataframe thead th {\n",
              "        text-align: right;\n",
              "    }\n",
              "</style>\n",
              "<table border=\"1\" class=\"dataframe\">\n",
              "  <thead>\n",
              "    <tr style=\"text-align: right;\">\n",
              "      <th></th>\n",
              "      <th>id</th>\n",
              "      <th>href</th>\n",
              "      <th>datetime</th>\n",
              "      <th>title</th>\n",
              "      <th>likes</th>\n",
              "      <th>comments</th>\n",
              "      <th>snippet</th>\n",
              "    </tr>\n",
              "  </thead>\n",
              "  <tbody>\n",
              "    <tr>\n",
              "      <th>0</th>\n",
              "      <td>24006362</td>\n",
              "      <td>/20190201/1550280358.html</td>\n",
              "      <td>2019-02-01 23:13:17</td>\n",
              "      <td>В ДНР заявили о задержании диверсантов, причас...</td>\n",
              "      <td>15</td>\n",
              "      <td>28</td>\n",
              "      <td>NaN</td>\n",
              "    </tr>\n",
              "    <tr>\n",
              "      <th>1</th>\n",
              "      <td>24006240</td>\n",
              "      <td>/20190201/1550268781.html</td>\n",
              "      <td>2019-02-01 22:38:41</td>\n",
              "      <td>Житель Урала \"заминировал\" ТЦ из-за снятия  со...</td>\n",
              "      <td>32</td>\n",
              "      <td>42</td>\n",
              "      <td>NaN</td>\n",
              "    </tr>\n",
              "    <tr>\n",
              "      <th>2</th>\n",
              "      <td>24006100</td>\n",
              "      <td>/20190201/1550282212.html</td>\n",
              "      <td>2019-02-01 21:58:52</td>\n",
              "      <td>В Черном море нашли \"потерянный флот Гитлера\"</td>\n",
              "      <td>84</td>\n",
              "      <td>23</td>\n",
              "      <td>NaN</td>\n",
              "    </tr>\n",
              "    <tr>\n",
              "      <th>3</th>\n",
              "      <td>24005972</td>\n",
              "      <td>/20190202/1550283179.html</td>\n",
              "      <td>2019-02-01 21:27:06</td>\n",
              "      <td>В США освободили задержанную российскую актрис...</td>\n",
              "      <td>58</td>\n",
              "      <td>35</td>\n",
              "      <td>NaN</td>\n",
              "    </tr>\n",
              "    <tr>\n",
              "      <th>4</th>\n",
              "      <td>24005764</td>\n",
              "      <td>/20190201/1550262848.html</td>\n",
              "      <td>2019-02-01 20:55:54</td>\n",
              "      <td>Толкнувший Скабееву депутат Рады заявил о гроз...</td>\n",
              "      <td>45</td>\n",
              "      <td>145</td>\n",
              "      <td>NaN</td>\n",
              "    </tr>\n",
              "  </tbody>\n",
              "</table>\n",
              "</div>\n",
              "    <div class=\"colab-df-buttons\">\n",
              "\n",
              "  <div class=\"colab-df-container\">\n",
              "    <button class=\"colab-df-convert\" onclick=\"convertToInteractive('df-e009e267-5924-4055-af9f-e1d9c4e16ce8')\"\n",
              "            title=\"Convert this dataframe to an interactive table.\"\n",
              "            style=\"display:none;\">\n",
              "\n",
              "  <svg xmlns=\"http://www.w3.org/2000/svg\" height=\"24px\" viewBox=\"0 -960 960 960\">\n",
              "    <path d=\"M120-120v-720h720v720H120Zm60-500h600v-160H180v160Zm220 220h160v-160H400v160Zm0 220h160v-160H400v160ZM180-400h160v-160H180v160Zm440 0h160v-160H620v160ZM180-180h160v-160H180v160Zm440 0h160v-160H620v160Z\"/>\n",
              "  </svg>\n",
              "    </button>\n",
              "\n",
              "  <style>\n",
              "    .colab-df-container {\n",
              "      display:flex;\n",
              "      gap: 12px;\n",
              "    }\n",
              "\n",
              "    .colab-df-convert {\n",
              "      background-color: #E8F0FE;\n",
              "      border: none;\n",
              "      border-radius: 50%;\n",
              "      cursor: pointer;\n",
              "      display: none;\n",
              "      fill: #1967D2;\n",
              "      height: 32px;\n",
              "      padding: 0 0 0 0;\n",
              "      width: 32px;\n",
              "    }\n",
              "\n",
              "    .colab-df-convert:hover {\n",
              "      background-color: #E2EBFA;\n",
              "      box-shadow: 0px 1px 2px rgba(60, 64, 67, 0.3), 0px 1px 3px 1px rgba(60, 64, 67, 0.15);\n",
              "      fill: #174EA6;\n",
              "    }\n",
              "\n",
              "    .colab-df-buttons div {\n",
              "      margin-bottom: 4px;\n",
              "    }\n",
              "\n",
              "    [theme=dark] .colab-df-convert {\n",
              "      background-color: #3B4455;\n",
              "      fill: #D2E3FC;\n",
              "    }\n",
              "\n",
              "    [theme=dark] .colab-df-convert:hover {\n",
              "      background-color: #434B5C;\n",
              "      box-shadow: 0px 1px 3px 1px rgba(0, 0, 0, 0.15);\n",
              "      filter: drop-shadow(0px 1px 2px rgba(0, 0, 0, 0.3));\n",
              "      fill: #FFFFFF;\n",
              "    }\n",
              "  </style>\n",
              "\n",
              "    <script>\n",
              "      const buttonEl =\n",
              "        document.querySelector('#df-e009e267-5924-4055-af9f-e1d9c4e16ce8 button.colab-df-convert');\n",
              "      buttonEl.style.display =\n",
              "        google.colab.kernel.accessAllowed ? 'block' : 'none';\n",
              "\n",
              "      async function convertToInteractive(key) {\n",
              "        const element = document.querySelector('#df-e009e267-5924-4055-af9f-e1d9c4e16ce8');\n",
              "        const dataTable =\n",
              "          await google.colab.kernel.invokeFunction('convertToInteractive',\n",
              "                                                    [key], {});\n",
              "        if (!dataTable) return;\n",
              "\n",
              "        const docLinkHtml = 'Like what you see? Visit the ' +\n",
              "          '<a target=\"_blank\" href=https://colab.research.google.com/notebooks/data_table.ipynb>data table notebook</a>'\n",
              "          + ' to learn more about interactive tables.';\n",
              "        element.innerHTML = '';\n",
              "        dataTable['output_type'] = 'display_data';\n",
              "        await google.colab.output.renderOutput(dataTable, element);\n",
              "        const docLink = document.createElement('div');\n",
              "        docLink.innerHTML = docLinkHtml;\n",
              "        element.appendChild(docLink);\n",
              "      }\n",
              "    </script>\n",
              "  </div>\n",
              "\n",
              "\n",
              "<div id=\"df-0e4cad83-acad-459f-8816-ddf5a3d46269\">\n",
              "  <button class=\"colab-df-quickchart\" onclick=\"quickchart('df-0e4cad83-acad-459f-8816-ddf5a3d46269')\"\n",
              "            title=\"Suggest charts\"\n",
              "            style=\"display:none;\">\n",
              "\n",
              "<svg xmlns=\"http://www.w3.org/2000/svg\" height=\"24px\"viewBox=\"0 0 24 24\"\n",
              "     width=\"24px\">\n",
              "    <g>\n",
              "        <path d=\"M19 3H5c-1.1 0-2 .9-2 2v14c0 1.1.9 2 2 2h14c1.1 0 2-.9 2-2V5c0-1.1-.9-2-2-2zM9 17H7v-7h2v7zm4 0h-2V7h2v10zm4 0h-2v-4h2v4z\"/>\n",
              "    </g>\n",
              "</svg>\n",
              "  </button>\n",
              "\n",
              "<style>\n",
              "  .colab-df-quickchart {\n",
              "      --bg-color: #E8F0FE;\n",
              "      --fill-color: #1967D2;\n",
              "      --hover-bg-color: #E2EBFA;\n",
              "      --hover-fill-color: #174EA6;\n",
              "      --disabled-fill-color: #AAA;\n",
              "      --disabled-bg-color: #DDD;\n",
              "  }\n",
              "\n",
              "  [theme=dark] .colab-df-quickchart {\n",
              "      --bg-color: #3B4455;\n",
              "      --fill-color: #D2E3FC;\n",
              "      --hover-bg-color: #434B5C;\n",
              "      --hover-fill-color: #FFFFFF;\n",
              "      --disabled-bg-color: #3B4455;\n",
              "      --disabled-fill-color: #666;\n",
              "  }\n",
              "\n",
              "  .colab-df-quickchart {\n",
              "    background-color: var(--bg-color);\n",
              "    border: none;\n",
              "    border-radius: 50%;\n",
              "    cursor: pointer;\n",
              "    display: none;\n",
              "    fill: var(--fill-color);\n",
              "    height: 32px;\n",
              "    padding: 0;\n",
              "    width: 32px;\n",
              "  }\n",
              "\n",
              "  .colab-df-quickchart:hover {\n",
              "    background-color: var(--hover-bg-color);\n",
              "    box-shadow: 0 1px 2px rgba(60, 64, 67, 0.3), 0 1px 3px 1px rgba(60, 64, 67, 0.15);\n",
              "    fill: var(--button-hover-fill-color);\n",
              "  }\n",
              "\n",
              "  .colab-df-quickchart-complete:disabled,\n",
              "  .colab-df-quickchart-complete:disabled:hover {\n",
              "    background-color: var(--disabled-bg-color);\n",
              "    fill: var(--disabled-fill-color);\n",
              "    box-shadow: none;\n",
              "  }\n",
              "\n",
              "  .colab-df-spinner {\n",
              "    border: 2px solid var(--fill-color);\n",
              "    border-color: transparent;\n",
              "    border-bottom-color: var(--fill-color);\n",
              "    animation:\n",
              "      spin 1s steps(1) infinite;\n",
              "  }\n",
              "\n",
              "  @keyframes spin {\n",
              "    0% {\n",
              "      border-color: transparent;\n",
              "      border-bottom-color: var(--fill-color);\n",
              "      border-left-color: var(--fill-color);\n",
              "    }\n",
              "    20% {\n",
              "      border-color: transparent;\n",
              "      border-left-color: var(--fill-color);\n",
              "      border-top-color: var(--fill-color);\n",
              "    }\n",
              "    30% {\n",
              "      border-color: transparent;\n",
              "      border-left-color: var(--fill-color);\n",
              "      border-top-color: var(--fill-color);\n",
              "      border-right-color: var(--fill-color);\n",
              "    }\n",
              "    40% {\n",
              "      border-color: transparent;\n",
              "      border-right-color: var(--fill-color);\n",
              "      border-top-color: var(--fill-color);\n",
              "    }\n",
              "    60% {\n",
              "      border-color: transparent;\n",
              "      border-right-color: var(--fill-color);\n",
              "    }\n",
              "    80% {\n",
              "      border-color: transparent;\n",
              "      border-right-color: var(--fill-color);\n",
              "      border-bottom-color: var(--fill-color);\n",
              "    }\n",
              "    90% {\n",
              "      border-color: transparent;\n",
              "      border-bottom-color: var(--fill-color);\n",
              "    }\n",
              "  }\n",
              "</style>\n",
              "\n",
              "  <script>\n",
              "    async function quickchart(key) {\n",
              "      const quickchartButtonEl =\n",
              "        document.querySelector('#' + key + ' button');\n",
              "      quickchartButtonEl.disabled = true;  // To prevent multiple clicks.\n",
              "      quickchartButtonEl.classList.add('colab-df-spinner');\n",
              "      try {\n",
              "        const charts = await google.colab.kernel.invokeFunction(\n",
              "            'suggestCharts', [key], {});\n",
              "      } catch (error) {\n",
              "        console.error('Error during call to suggestCharts:', error);\n",
              "      }\n",
              "      quickchartButtonEl.classList.remove('colab-df-spinner');\n",
              "      quickchartButtonEl.classList.add('colab-df-quickchart-complete');\n",
              "    }\n",
              "    (() => {\n",
              "      let quickchartButtonEl =\n",
              "        document.querySelector('#df-0e4cad83-acad-459f-8816-ddf5a3d46269 button');\n",
              "      quickchartButtonEl.style.display =\n",
              "        google.colab.kernel.accessAllowed ? 'block' : 'none';\n",
              "    })();\n",
              "  </script>\n",
              "</div>\n",
              "    </div>\n",
              "  </div>\n"
            ]
          },
          "metadata": {},
          "execution_count": 7
        }
      ],
      "source": [
        "df_vk = pd.read_csv('news_data/vk_news.tsv', sep='\\t')\n",
        "df_vk['snippet'] = df_vk['text']\n",
        "df_vk.drop('text', axis=1, inplace=True)\n",
        "print(df_vk.shape)\n",
        "df_vk.head()"
      ]
    },
    {
      "cell_type": "markdown",
      "metadata": {
        "id": "HFaQtcOVM_zT"
      },
      "source": [
        "В таблице `vk_comments.tsv` лежат комментарии к новостям.\n",
        "\n",
        "- `id` - уникальный идентификатор комментария\n",
        "- `post_id` - идентификатор новости, под которой был оставлен комментарий\n",
        "- `datetime` - дата и время, когда был оставлен комментарий\n",
        "- `text` - текст комментария\n",
        "- `likes` - число лайков под комментарием"
      ]
    },
    {
      "cell_type": "code",
      "execution_count": 8,
      "metadata": {
        "colab": {
          "base_uri": "https://localhost:8080/",
          "height": 283
        },
        "id": "HBJvrG6wM_zT",
        "outputId": "c93957e4-24da-4b68-871f-c24ea7484b8b"
      },
      "outputs": [
        {
          "output_type": "stream",
          "name": "stderr",
          "text": [
            "<ipython-input-8-9f937a17e540>:1: DtypeWarning: Columns (0) have mixed types. Specify dtype option on import or set low_memory=False.\n",
            "  df_comments = pd.read_csv('news_data/vk_comments.tsv', sep='\\t')\n"
          ]
        },
        {
          "output_type": "stream",
          "name": "stdout",
          "text": [
            "(2612629, 5)\n"
          ]
        },
        {
          "output_type": "execute_result",
          "data": {
            "text/plain": [
              "           id     post_id             datetime  \\\n",
              "0  24006366.0  24006362.0  2019-02-01 23:14:14   \n",
              "1  24006370.0  24006362.0  2019-02-01 23:15:23   \n",
              "2  24006371.0  24006362.0  2019-02-01 23:16:21   \n",
              "3  24006374.0  24006362.0  2019-02-01 23:16:38   \n",
              "4  24006375.0  24006362.0  2019-02-01 23:16:40   \n",
              "\n",
              "                                                text  likes  \n",
              "0                                       ЧВК Вагнера?    5.0  \n",
              "1                [id4710641|Евгений], выздоравливай.    3.0  \n",
              "2  [id442655034|Андрей], искренне желаю этого все...    4.0  \n",
              "3                         Опять про Украину новости?    1.0  \n",
              "4                                      Че такое ДНР?    2.0  "
            ],
            "text/html": [
              "\n",
              "  <div id=\"df-b991327f-44cc-4a2d-a992-fc3f2e68875d\" class=\"colab-df-container\">\n",
              "    <div>\n",
              "<style scoped>\n",
              "    .dataframe tbody tr th:only-of-type {\n",
              "        vertical-align: middle;\n",
              "    }\n",
              "\n",
              "    .dataframe tbody tr th {\n",
              "        vertical-align: top;\n",
              "    }\n",
              "\n",
              "    .dataframe thead th {\n",
              "        text-align: right;\n",
              "    }\n",
              "</style>\n",
              "<table border=\"1\" class=\"dataframe\">\n",
              "  <thead>\n",
              "    <tr style=\"text-align: right;\">\n",
              "      <th></th>\n",
              "      <th>id</th>\n",
              "      <th>post_id</th>\n",
              "      <th>datetime</th>\n",
              "      <th>text</th>\n",
              "      <th>likes</th>\n",
              "    </tr>\n",
              "  </thead>\n",
              "  <tbody>\n",
              "    <tr>\n",
              "      <th>0</th>\n",
              "      <td>24006366.0</td>\n",
              "      <td>24006362.0</td>\n",
              "      <td>2019-02-01 23:14:14</td>\n",
              "      <td>ЧВК Вагнера?</td>\n",
              "      <td>5.0</td>\n",
              "    </tr>\n",
              "    <tr>\n",
              "      <th>1</th>\n",
              "      <td>24006370.0</td>\n",
              "      <td>24006362.0</td>\n",
              "      <td>2019-02-01 23:15:23</td>\n",
              "      <td>[id4710641|Евгений], выздоравливай.</td>\n",
              "      <td>3.0</td>\n",
              "    </tr>\n",
              "    <tr>\n",
              "      <th>2</th>\n",
              "      <td>24006371.0</td>\n",
              "      <td>24006362.0</td>\n",
              "      <td>2019-02-01 23:16:21</td>\n",
              "      <td>[id442655034|Андрей], искренне желаю этого все...</td>\n",
              "      <td>4.0</td>\n",
              "    </tr>\n",
              "    <tr>\n",
              "      <th>3</th>\n",
              "      <td>24006374.0</td>\n",
              "      <td>24006362.0</td>\n",
              "      <td>2019-02-01 23:16:38</td>\n",
              "      <td>Опять про Украину новости?</td>\n",
              "      <td>1.0</td>\n",
              "    </tr>\n",
              "    <tr>\n",
              "      <th>4</th>\n",
              "      <td>24006375.0</td>\n",
              "      <td>24006362.0</td>\n",
              "      <td>2019-02-01 23:16:40</td>\n",
              "      <td>Че такое ДНР?</td>\n",
              "      <td>2.0</td>\n",
              "    </tr>\n",
              "  </tbody>\n",
              "</table>\n",
              "</div>\n",
              "    <div class=\"colab-df-buttons\">\n",
              "\n",
              "  <div class=\"colab-df-container\">\n",
              "    <button class=\"colab-df-convert\" onclick=\"convertToInteractive('df-b991327f-44cc-4a2d-a992-fc3f2e68875d')\"\n",
              "            title=\"Convert this dataframe to an interactive table.\"\n",
              "            style=\"display:none;\">\n",
              "\n",
              "  <svg xmlns=\"http://www.w3.org/2000/svg\" height=\"24px\" viewBox=\"0 -960 960 960\">\n",
              "    <path d=\"M120-120v-720h720v720H120Zm60-500h600v-160H180v160Zm220 220h160v-160H400v160Zm0 220h160v-160H400v160ZM180-400h160v-160H180v160Zm440 0h160v-160H620v160ZM180-180h160v-160H180v160Zm440 0h160v-160H620v160Z\"/>\n",
              "  </svg>\n",
              "    </button>\n",
              "\n",
              "  <style>\n",
              "    .colab-df-container {\n",
              "      display:flex;\n",
              "      gap: 12px;\n",
              "    }\n",
              "\n",
              "    .colab-df-convert {\n",
              "      background-color: #E8F0FE;\n",
              "      border: none;\n",
              "      border-radius: 50%;\n",
              "      cursor: pointer;\n",
              "      display: none;\n",
              "      fill: #1967D2;\n",
              "      height: 32px;\n",
              "      padding: 0 0 0 0;\n",
              "      width: 32px;\n",
              "    }\n",
              "\n",
              "    .colab-df-convert:hover {\n",
              "      background-color: #E2EBFA;\n",
              "      box-shadow: 0px 1px 2px rgba(60, 64, 67, 0.3), 0px 1px 3px 1px rgba(60, 64, 67, 0.15);\n",
              "      fill: #174EA6;\n",
              "    }\n",
              "\n",
              "    .colab-df-buttons div {\n",
              "      margin-bottom: 4px;\n",
              "    }\n",
              "\n",
              "    [theme=dark] .colab-df-convert {\n",
              "      background-color: #3B4455;\n",
              "      fill: #D2E3FC;\n",
              "    }\n",
              "\n",
              "    [theme=dark] .colab-df-convert:hover {\n",
              "      background-color: #434B5C;\n",
              "      box-shadow: 0px 1px 3px 1px rgba(0, 0, 0, 0.15);\n",
              "      filter: drop-shadow(0px 1px 2px rgba(0, 0, 0, 0.3));\n",
              "      fill: #FFFFFF;\n",
              "    }\n",
              "  </style>\n",
              "\n",
              "    <script>\n",
              "      const buttonEl =\n",
              "        document.querySelector('#df-b991327f-44cc-4a2d-a992-fc3f2e68875d button.colab-df-convert');\n",
              "      buttonEl.style.display =\n",
              "        google.colab.kernel.accessAllowed ? 'block' : 'none';\n",
              "\n",
              "      async function convertToInteractive(key) {\n",
              "        const element = document.querySelector('#df-b991327f-44cc-4a2d-a992-fc3f2e68875d');\n",
              "        const dataTable =\n",
              "          await google.colab.kernel.invokeFunction('convertToInteractive',\n",
              "                                                    [key], {});\n",
              "        if (!dataTable) return;\n",
              "\n",
              "        const docLinkHtml = 'Like what you see? Visit the ' +\n",
              "          '<a target=\"_blank\" href=https://colab.research.google.com/notebooks/data_table.ipynb>data table notebook</a>'\n",
              "          + ' to learn more about interactive tables.';\n",
              "        element.innerHTML = '';\n",
              "        dataTable['output_type'] = 'display_data';\n",
              "        await google.colab.output.renderOutput(dataTable, element);\n",
              "        const docLink = document.createElement('div');\n",
              "        docLink.innerHTML = docLinkHtml;\n",
              "        element.appendChild(docLink);\n",
              "      }\n",
              "    </script>\n",
              "  </div>\n",
              "\n",
              "\n",
              "<div id=\"df-ff5f84f2-770c-445b-919d-232a43f61993\">\n",
              "  <button class=\"colab-df-quickchart\" onclick=\"quickchart('df-ff5f84f2-770c-445b-919d-232a43f61993')\"\n",
              "            title=\"Suggest charts\"\n",
              "            style=\"display:none;\">\n",
              "\n",
              "<svg xmlns=\"http://www.w3.org/2000/svg\" height=\"24px\"viewBox=\"0 0 24 24\"\n",
              "     width=\"24px\">\n",
              "    <g>\n",
              "        <path d=\"M19 3H5c-1.1 0-2 .9-2 2v14c0 1.1.9 2 2 2h14c1.1 0 2-.9 2-2V5c0-1.1-.9-2-2-2zM9 17H7v-7h2v7zm4 0h-2V7h2v10zm4 0h-2v-4h2v4z\"/>\n",
              "    </g>\n",
              "</svg>\n",
              "  </button>\n",
              "\n",
              "<style>\n",
              "  .colab-df-quickchart {\n",
              "      --bg-color: #E8F0FE;\n",
              "      --fill-color: #1967D2;\n",
              "      --hover-bg-color: #E2EBFA;\n",
              "      --hover-fill-color: #174EA6;\n",
              "      --disabled-fill-color: #AAA;\n",
              "      --disabled-bg-color: #DDD;\n",
              "  }\n",
              "\n",
              "  [theme=dark] .colab-df-quickchart {\n",
              "      --bg-color: #3B4455;\n",
              "      --fill-color: #D2E3FC;\n",
              "      --hover-bg-color: #434B5C;\n",
              "      --hover-fill-color: #FFFFFF;\n",
              "      --disabled-bg-color: #3B4455;\n",
              "      --disabled-fill-color: #666;\n",
              "  }\n",
              "\n",
              "  .colab-df-quickchart {\n",
              "    background-color: var(--bg-color);\n",
              "    border: none;\n",
              "    border-radius: 50%;\n",
              "    cursor: pointer;\n",
              "    display: none;\n",
              "    fill: var(--fill-color);\n",
              "    height: 32px;\n",
              "    padding: 0;\n",
              "    width: 32px;\n",
              "  }\n",
              "\n",
              "  .colab-df-quickchart:hover {\n",
              "    background-color: var(--hover-bg-color);\n",
              "    box-shadow: 0 1px 2px rgba(60, 64, 67, 0.3), 0 1px 3px 1px rgba(60, 64, 67, 0.15);\n",
              "    fill: var(--button-hover-fill-color);\n",
              "  }\n",
              "\n",
              "  .colab-df-quickchart-complete:disabled,\n",
              "  .colab-df-quickchart-complete:disabled:hover {\n",
              "    background-color: var(--disabled-bg-color);\n",
              "    fill: var(--disabled-fill-color);\n",
              "    box-shadow: none;\n",
              "  }\n",
              "\n",
              "  .colab-df-spinner {\n",
              "    border: 2px solid var(--fill-color);\n",
              "    border-color: transparent;\n",
              "    border-bottom-color: var(--fill-color);\n",
              "    animation:\n",
              "      spin 1s steps(1) infinite;\n",
              "  }\n",
              "\n",
              "  @keyframes spin {\n",
              "    0% {\n",
              "      border-color: transparent;\n",
              "      border-bottom-color: var(--fill-color);\n",
              "      border-left-color: var(--fill-color);\n",
              "    }\n",
              "    20% {\n",
              "      border-color: transparent;\n",
              "      border-left-color: var(--fill-color);\n",
              "      border-top-color: var(--fill-color);\n",
              "    }\n",
              "    30% {\n",
              "      border-color: transparent;\n",
              "      border-left-color: var(--fill-color);\n",
              "      border-top-color: var(--fill-color);\n",
              "      border-right-color: var(--fill-color);\n",
              "    }\n",
              "    40% {\n",
              "      border-color: transparent;\n",
              "      border-right-color: var(--fill-color);\n",
              "      border-top-color: var(--fill-color);\n",
              "    }\n",
              "    60% {\n",
              "      border-color: transparent;\n",
              "      border-right-color: var(--fill-color);\n",
              "    }\n",
              "    80% {\n",
              "      border-color: transparent;\n",
              "      border-right-color: var(--fill-color);\n",
              "      border-bottom-color: var(--fill-color);\n",
              "    }\n",
              "    90% {\n",
              "      border-color: transparent;\n",
              "      border-bottom-color: var(--fill-color);\n",
              "    }\n",
              "  }\n",
              "</style>\n",
              "\n",
              "  <script>\n",
              "    async function quickchart(key) {\n",
              "      const quickchartButtonEl =\n",
              "        document.querySelector('#' + key + ' button');\n",
              "      quickchartButtonEl.disabled = true;  // To prevent multiple clicks.\n",
              "      quickchartButtonEl.classList.add('colab-df-spinner');\n",
              "      try {\n",
              "        const charts = await google.colab.kernel.invokeFunction(\n",
              "            'suggestCharts', [key], {});\n",
              "      } catch (error) {\n",
              "        console.error('Error during call to suggestCharts:', error);\n",
              "      }\n",
              "      quickchartButtonEl.classList.remove('colab-df-spinner');\n",
              "      quickchartButtonEl.classList.add('colab-df-quickchart-complete');\n",
              "    }\n",
              "    (() => {\n",
              "      let quickchartButtonEl =\n",
              "        document.querySelector('#df-ff5f84f2-770c-445b-919d-232a43f61993 button');\n",
              "      quickchartButtonEl.style.display =\n",
              "        google.colab.kernel.accessAllowed ? 'block' : 'none';\n",
              "    })();\n",
              "  </script>\n",
              "</div>\n",
              "    </div>\n",
              "  </div>\n"
            ]
          },
          "metadata": {},
          "execution_count": 8
        }
      ],
      "source": [
        "df_comments = pd.read_csv('news_data/vk_comments.tsv', sep='\\t')\n",
        "df_comments = df_comments[~df_comments.text.isnull()]\n",
        "print(df_comments.shape)\n",
        "df_comments.head()"
      ]
    },
    {
      "cell_type": "markdown",
      "metadata": {
        "id": "58hpgVLvM_zT"
      },
      "source": [
        "# А что надо сделать то?\n",
        "\n",
        "В тетрадке вам предстоит сделать следующие шаги:\n",
        "\n",
        "1. Вы обучите нейросеть предсказывать категорию новости\n",
        "2. Вы построите предсказания для тех новостей, где мы ничего не знаем о категории\n",
        "3. Вы используете уже обученный для сентимент-анализа классификатор из библиотеки `hugging face` чтобы предсказать эмоциональную окраску каждого комментария\n",
        "4. Вы проведёте аналитику по новостям, а именно построите топы из самых позитивных и негативных категорий и новостей\n",
        "\n",
        "Для первого шага вам будет дан бэйзлайн. Если вы его прогоните, у вас получится базовая модель, которая даст некоторое качество решения задачи. Вам надо будет выяснить, насколько это качество оказалось хорошим, а затем внести в код некоторые улучшения.\n",
        "\n"
      ]
    },
    {
      "cell_type": "markdown",
      "metadata": {
        "id": "hdb5XYa_M_zT"
      },
      "source": [
        "## Часть 1: категоризация новостей (1.2 + 2 бонусных балла)\n",
        "\n",
        "Каждой новости в соотвествие поставлены ключевые слова. Будем считать, что эти ключевые слова — тематики новости. Нужно научиться предсказывать тематики по тексту новости. Готовые тематики у нас есть только по новостям с сайта. Они за 2018 год. По новостям из ВКонтакте у нас тематик нет. Мы собираемся их предсказать.\n",
        "\n",
        "Новости, опубликованные ВКонтакте, отличаются от новостей с сайта тем, что у них есть только титул и короткое описание. Странно будет обучать нейросеть на длинных текстах, а потом использовать её на коротких описаниях. Мы не будем так делать. Мы попробуем обучить базовый вариант нейронной сети только на заголовках новостей. Все, кто захочет получить бонусные баллы, смогут попробовать добавить в нейросеть сниппеты (так назыают короткие описания новостей)."
      ]
    },
    {
      "cell_type": "markdown",
      "metadata": {
        "id": "NmGxSLP-M_zT"
      },
      "source": [
        "## 1.1 Подготовка таргета\n",
        "\n",
        "Поработаем с таргетом. Мы будем предсказывать переменную `tags`. Давайте выясним скоько уникальных тегов существует."
      ]
    },
    {
      "cell_type": "code",
      "execution_count": 9,
      "metadata": {
        "colab": {
          "base_uri": "https://localhost:8080/"
        },
        "id": "NZDxrSvkM_zT",
        "outputId": "71474404-7367-4e24-9212-d9ee98bc95b0"
      },
      "outputs": [
        {
          "output_type": "stream",
          "name": "stdout",
          "text": [
            "13344\n"
          ]
        },
        {
          "output_type": "execute_result",
          "data": {
            "text/plain": [
              "[('блог анны завершинской об автоспорте - блоги', 1),\n",
              " ('министерство транспорта рб', 1),\n",
              " ('министерство здравоохранения грузии', 1),\n",
              " ('палех', 1),\n",
              " ('юрий посохов (хореограф)', 1),\n",
              " ('мария александрова', 1),\n",
              " ('том бенсон', 1),\n",
              " ('абдул каюм кочай', 1),\n",
              " ('нуман куртулмуш', 1),\n",
              " ('mipim', 1),\n",
              " ('владимир попов', 1),\n",
              " ('брюно женезио', 1),\n",
              " ('роберт фицо', 1),\n",
              " ('сергей пашинский', 1),\n",
              " ('валерия гонтарева', 1),\n",
              " ('нововоронеж', 1),\n",
              " ('императорское православное палестинское общество', 1),\n",
              " ('event_poslanie_prezidenta_rf_federalnomu_sobraniju', 1),\n",
              " ('фхтр', 1),\n",
              " ('игорь честин', 1)]"
            ]
          },
          "metadata": {},
          "execution_count": 9
        }
      ],
      "source": [
        "from collections import Counter\n",
        "\n",
        "# удалим все лишние пробелы и сделаем lowercase\n",
        "df_ria['tags'] = (\n",
        "    df_ria.tags.\n",
        "    apply(lambda w: ','.join([item.strip() for item in  w.lower().split(',')]))\n",
        ")\n",
        "\n",
        "tags = ','.join(list(df_ria.tags.values))\n",
        "tags_cnt = Counter(tags.split(','))\n",
        "\n",
        "print(len(tags_cnt))\n",
        "tags_cnt.most_common()[-20:]"
      ]
    },
    {
      "cell_type": "markdown",
      "metadata": {
        "id": "5Wv68z36M_zT"
      },
      "source": [
        "Всего в выборке есть порядка 13 000 тэгов. Многие встречаются всего по разу. Давайте оставим в выборке только те тэги, которые встречаются более 30 раз."
      ]
    },
    {
      "cell_type": "code",
      "execution_count": 10,
      "metadata": {
        "colab": {
          "base_uri": "https://localhost:8080/"
        },
        "id": "eA6H34iKM_zU",
        "outputId": "df281a3f-3d60-449c-986a-48cc10e75499"
      },
      "outputs": [
        {
          "output_type": "execute_result",
          "data": {
            "text/plain": [
              "1583"
            ]
          },
          "metadata": {},
          "execution_count": 10
        }
      ],
      "source": [
        "target_tags = {tag for tag,cnt in tags_cnt.most_common() if cnt > 30}\n",
        "len(target_tags)"
      ]
    },
    {
      "cell_type": "markdown",
      "metadata": {
        "id": "RLrQSyCDM_zU"
      },
      "source": [
        "Закодируем теги для OHE."
      ]
    },
    {
      "cell_type": "code",
      "execution_count": 11,
      "metadata": {
        "id": "J2fKnLmTM_zU"
      },
      "outputs": [],
      "source": [
        "tag2idx = dict(zip(target_tags, range(len(target_tags))))\n",
        "idx2tag = {jtem: item for item,jtem in tag2idx.items()}"
      ]
    },
    {
      "cell_type": "markdown",
      "metadata": {
        "id": "8QDNftQqM_zU"
      },
      "source": [
        "Почистим таргет от лишних тэгов."
      ]
    },
    {
      "cell_type": "code",
      "execution_count": 12,
      "metadata": {
        "colab": {
          "base_uri": "https://localhost:8080/"
        },
        "id": "9pqA60YiM_zU",
        "outputId": "3c154c8e-ddec-456e-f434-74b9b1995c60"
      },
      "outputs": [
        {
          "output_type": "execute_result",
          "data": {
            "text/plain": [
              "(201437, 10)"
            ]
          },
          "metadata": {},
          "execution_count": 12
        }
      ],
      "source": [
        "df_ria['target_tags'] = (\n",
        "    df_ria.tags.\n",
        "    apply(lambda w: [tag2idx.get(item) for item in w.split(',') if item in target_tags])\n",
        ")\n",
        "\n",
        "df_ria = df_ria[df_ria.target_tags.apply(len) > 0]\n",
        "df_ria.shape"
      ]
    },
    {
      "cell_type": "code",
      "execution_count": 13,
      "metadata": {
        "colab": {
          "base_uri": "https://localhost:8080/"
        },
        "id": "y0KaYfuQM_zU",
        "outputId": "27911a7c-b132-4aa8-a7d5-07c8f50f4c23"
      },
      "outputs": [
        {
          "output_type": "execute_result",
          "data": {
            "text/plain": [
              "array([list([77, 1250, 443]), list([1308, 1543, 443]), list([169])],\n",
              "      dtype=object)"
            ]
          },
          "metadata": {},
          "execution_count": 13
        }
      ],
      "source": [
        "df_ria.target_tags.values[:3]"
      ]
    },
    {
      "cell_type": "markdown",
      "metadata": {
        "id": "Y-hjLFKRM_zU"
      },
      "source": [
        "## 1.2 Подготовка текстов\n",
        "\n",
        "Теперь займёмся предобработкой текстов. Приведём все слова к маленькому регистру и выбросим мусорные символы. В качестве токенов будем рассматривать отдельные слова.\n",
        "\n",
        "Напомню, что мы пока что решили работать только с названиями статей. Поэтому вся предобработка применяется исключительно к ним. **Спойлер:** предобработку для сниппетов вы сделаете сами в первом же задании."
      ]
    },
    {
      "cell_type": "code",
      "source": [
        "import nltk\n",
        "nltk.download('punkt')\n",
        "nltk.download('stopwords')"
      ],
      "metadata": {
        "colab": {
          "base_uri": "https://localhost:8080/"
        },
        "id": "DUEWRZWTQsHy",
        "outputId": "6e84ce3a-a00a-490b-d7c4-3b499e105388"
      },
      "execution_count": 14,
      "outputs": [
        {
          "output_type": "stream",
          "name": "stderr",
          "text": [
            "[nltk_data] Downloading package punkt to /root/nltk_data...\n",
            "[nltk_data]   Package punkt is already up-to-date!\n",
            "[nltk_data] Downloading package stopwords to /root/nltk_data...\n",
            "[nltk_data]   Package stopwords is already up-to-date!\n"
          ]
        },
        {
          "output_type": "execute_result",
          "data": {
            "text/plain": [
              "True"
            ]
          },
          "metadata": {},
          "execution_count": 14
        }
      ]
    },
    {
      "cell_type": "code",
      "execution_count": 15,
      "metadata": {
        "colab": {
          "base_uri": "https://localhost:8080/"
        },
        "id": "bLHWjtkoM_zU",
        "outputId": "34e00c7a-e117-4a9f-e76c-dbda7aab4edf"
      },
      "outputs": [
        {
          "output_type": "execute_result",
          "data": {
            "text/plain": [
              "112178"
            ]
          },
          "metadata": {},
          "execution_count": 15
        }
      ],
      "source": [
        "import re\n",
        "from nltk.tokenize import word_tokenize\n",
        "\n",
        "def normalise_text(text):\n",
        "    text = text.lower()\n",
        "\n",
        "    # сурово регулярками выкидываем мусорные символы\n",
        "    text = re.sub('[^а-яa-z0-9 ]', '', text)\n",
        "    return text.strip()\n",
        "\n",
        "df_ria['title_clean'] = df_ria.title.apply(normalise_text)\n",
        "\n",
        "word_cnt = Counter(word_tokenize(' '.join(df_ria.title_clean.values)))\n",
        "len(word_cnt)"
      ]
    },
    {
      "cell_type": "code",
      "execution_count": 16,
      "metadata": {
        "colab": {
          "base_uri": "https://localhost:8080/"
        },
        "id": "-OGzgIx-M_zV",
        "outputId": "b5e2d8b9-32a3-418f-b469-96f19cafff5d"
      },
      "outputs": [
        {
          "output_type": "execute_result",
          "data": {
            "text/plain": [
              "[('в', 127323),\n",
              " ('на', 44386),\n",
              " ('с', 26150),\n",
              " ('и', 21771),\n",
              " ('о', 19948),\n",
              " ('по', 17014),\n",
              " ('россии', 13494),\n",
              " ('не', 13483),\n",
              " ('сша', 9942),\n",
              " ('за', 9881)]"
            ]
          },
          "metadata": {},
          "execution_count": 16
        }
      ],
      "source": [
        "word_cnt.most_common()[:10]"
      ]
    },
    {
      "cell_type": "markdown",
      "metadata": {
        "id": "ydRq2i-fM_zV"
      },
      "source": [
        "Давайте почистим словарь от стоп-слов и подготовим его к использованию внутри датасета. Мы будем с помощью словаря заменять слова на индексы. Добавим в словарь несколько специальных токенов для неизвестных слов и паддингов."
      ]
    },
    {
      "cell_type": "code",
      "execution_count": 17,
      "metadata": {
        "colab": {
          "base_uri": "https://localhost:8080/"
        },
        "id": "7W5X3hM2M_zV",
        "outputId": "0cb8200a-68a1-4dfb-c18f-7846a92b28aa"
      },
      "outputs": [
        {
          "output_type": "execute_result",
          "data": {
            "text/plain": [
              "151"
            ]
          },
          "metadata": {},
          "execution_count": 17
        }
      ],
      "source": [
        "from nltk.corpus import stopwords\n",
        "\n",
        "stops_ru = set(stopwords.words('russian'))\n",
        "len(stops_ru)"
      ]
    },
    {
      "cell_type": "code",
      "execution_count": 18,
      "metadata": {
        "id": "0h0Eq-fkM_zV"
      },
      "outputs": [],
      "source": [
        "vocabulary = {\n",
        "    \"#PAD#\": 0, \"#UNK#\": 1\n",
        "}\n",
        "\n",
        "k = 2\n",
        "for word, _ in word_cnt.most_common():\n",
        "    if word not in stops_ru:\n",
        "        vocabulary[word] = k\n",
        "        k += 1"
      ]
    },
    {
      "cell_type": "code",
      "execution_count": 19,
      "metadata": {
        "colab": {
          "base_uri": "https://localhost:8080/"
        },
        "id": "xL0VgZT6M_zV",
        "outputId": "0cc89a7b-068b-41e7-977e-b2736a95312a"
      },
      "outputs": [
        {
          "output_type": "execute_result",
          "data": {
            "text/plain": [
              "112030"
            ]
          },
          "metadata": {},
          "execution_count": 19
        }
      ],
      "source": [
        "len(vocabulary)"
      ]
    },
    {
      "cell_type": "markdown",
      "metadata": {
        "id": "U9NQcllLM_zV"
      },
      "source": [
        "Завернём код для создания словаря в функцию."
      ]
    },
    {
      "cell_type": "code",
      "execution_count": 20,
      "metadata": {
        "id": "VAMLLbXxM_zV"
      },
      "outputs": [],
      "source": [
        "def create_vocab(text, stops_ru=stops_ru):\n",
        "\n",
        "    word_cnt = Counter(word_tokenize(text))\n",
        "    vocabulary = {\n",
        "        \"#PAD#\": 0, \"#UNK#\": 1\n",
        "    }\n",
        "\n",
        "    k = 2\n",
        "    for word, _ in word_cnt.most_common():\n",
        "        if word not in stops_ru:\n",
        "            vocabulary[word] = k\n",
        "            k += 1\n",
        "    return vocabulary"
      ]
    },
    {
      "cell_type": "markdown",
      "metadata": {
        "id": "lnYJT9BXM_zV"
      },
      "source": [
        "__[0.2 балла] Задание 1:__\n",
        "\n",
        "- Cделайте аналогичную предобработку титулов из таблички `df_vk`. Запишите получившийся результат в столбец `title_clean` по аналогии с таблицей `df_ria`.\n",
        "- Сделайте для обеих таблиц предобработку колонок со сниппетами `snippet` и запишите получившийся результат в столбец `snippet_clean`. Все пропуски заполните токеном `\"#UNKN\"`."
      ]
    },
    {
      "cell_type": "code",
      "execution_count": 21,
      "metadata": {
        "id": "FTlZA9amM_zV",
        "outputId": "c06eab06-6857-4f1e-fd5c-48f1e5d8a604",
        "colab": {
          "base_uri": "https://localhost:8080/",
          "height": 432
        }
      },
      "outputs": [
        {
          "output_type": "execute_result",
          "data": {
            "text/plain": [
              "         id                       href             datetime  \\\n",
              "0  24006362  /20190201/1550280358.html  2019-02-01 23:13:17   \n",
              "1  24006240  /20190201/1550268781.html  2019-02-01 22:38:41   \n",
              "2  24006100  /20190201/1550282212.html  2019-02-01 21:58:52   \n",
              "3  24005972  /20190202/1550283179.html  2019-02-01 21:27:06   \n",
              "4  24005764  /20190201/1550262848.html  2019-02-01 20:55:54   \n",
              "\n",
              "                                               title  likes  comments snippet  \\\n",
              "0  В ДНР заявили о задержании диверсантов, причас...     15        28     NaN   \n",
              "1  Житель Урала \"заминировал\" ТЦ из-за снятия  со...     32        42     NaN   \n",
              "2      В Черном море нашли \"потерянный флот Гитлера\"     84        23     NaN   \n",
              "3  В США освободили задержанную российскую актрис...     58        35     NaN   \n",
              "4  Толкнувший Скабееву депутат Рады заявил о гроз...     45       145     NaN   \n",
              "\n",
              "                                         title_clean  \n",
              "0  в днр заявили о задержании диверсантов причаст...  \n",
              "1  житель урала заминировал тц изза снятия  сотов...  \n",
              "2        в черном море нашли потерянный флот гитлера  \n",
              "3  в сша освободили задержанную российскую актрис...  \n",
              "4  толкнувший скабееву депутат рады заявил о гроз...  "
            ],
            "text/html": [
              "\n",
              "  <div id=\"df-91803070-77b3-4db8-8f50-42a9ba2224cd\" class=\"colab-df-container\">\n",
              "    <div>\n",
              "<style scoped>\n",
              "    .dataframe tbody tr th:only-of-type {\n",
              "        vertical-align: middle;\n",
              "    }\n",
              "\n",
              "    .dataframe tbody tr th {\n",
              "        vertical-align: top;\n",
              "    }\n",
              "\n",
              "    .dataframe thead th {\n",
              "        text-align: right;\n",
              "    }\n",
              "</style>\n",
              "<table border=\"1\" class=\"dataframe\">\n",
              "  <thead>\n",
              "    <tr style=\"text-align: right;\">\n",
              "      <th></th>\n",
              "      <th>id</th>\n",
              "      <th>href</th>\n",
              "      <th>datetime</th>\n",
              "      <th>title</th>\n",
              "      <th>likes</th>\n",
              "      <th>comments</th>\n",
              "      <th>snippet</th>\n",
              "      <th>title_clean</th>\n",
              "    </tr>\n",
              "  </thead>\n",
              "  <tbody>\n",
              "    <tr>\n",
              "      <th>0</th>\n",
              "      <td>24006362</td>\n",
              "      <td>/20190201/1550280358.html</td>\n",
              "      <td>2019-02-01 23:13:17</td>\n",
              "      <td>В ДНР заявили о задержании диверсантов, причас...</td>\n",
              "      <td>15</td>\n",
              "      <td>28</td>\n",
              "      <td>NaN</td>\n",
              "      <td>в днр заявили о задержании диверсантов причаст...</td>\n",
              "    </tr>\n",
              "    <tr>\n",
              "      <th>1</th>\n",
              "      <td>24006240</td>\n",
              "      <td>/20190201/1550268781.html</td>\n",
              "      <td>2019-02-01 22:38:41</td>\n",
              "      <td>Житель Урала \"заминировал\" ТЦ из-за снятия  со...</td>\n",
              "      <td>32</td>\n",
              "      <td>42</td>\n",
              "      <td>NaN</td>\n",
              "      <td>житель урала заминировал тц изза снятия  сотов...</td>\n",
              "    </tr>\n",
              "    <tr>\n",
              "      <th>2</th>\n",
              "      <td>24006100</td>\n",
              "      <td>/20190201/1550282212.html</td>\n",
              "      <td>2019-02-01 21:58:52</td>\n",
              "      <td>В Черном море нашли \"потерянный флот Гитлера\"</td>\n",
              "      <td>84</td>\n",
              "      <td>23</td>\n",
              "      <td>NaN</td>\n",
              "      <td>в черном море нашли потерянный флот гитлера</td>\n",
              "    </tr>\n",
              "    <tr>\n",
              "      <th>3</th>\n",
              "      <td>24005972</td>\n",
              "      <td>/20190202/1550283179.html</td>\n",
              "      <td>2019-02-01 21:27:06</td>\n",
              "      <td>В США освободили задержанную российскую актрис...</td>\n",
              "      <td>58</td>\n",
              "      <td>35</td>\n",
              "      <td>NaN</td>\n",
              "      <td>в сша освободили задержанную российскую актрис...</td>\n",
              "    </tr>\n",
              "    <tr>\n",
              "      <th>4</th>\n",
              "      <td>24005764</td>\n",
              "      <td>/20190201/1550262848.html</td>\n",
              "      <td>2019-02-01 20:55:54</td>\n",
              "      <td>Толкнувший Скабееву депутат Рады заявил о гроз...</td>\n",
              "      <td>45</td>\n",
              "      <td>145</td>\n",
              "      <td>NaN</td>\n",
              "      <td>толкнувший скабееву депутат рады заявил о гроз...</td>\n",
              "    </tr>\n",
              "  </tbody>\n",
              "</table>\n",
              "</div>\n",
              "    <div class=\"colab-df-buttons\">\n",
              "\n",
              "  <div class=\"colab-df-container\">\n",
              "    <button class=\"colab-df-convert\" onclick=\"convertToInteractive('df-91803070-77b3-4db8-8f50-42a9ba2224cd')\"\n",
              "            title=\"Convert this dataframe to an interactive table.\"\n",
              "            style=\"display:none;\">\n",
              "\n",
              "  <svg xmlns=\"http://www.w3.org/2000/svg\" height=\"24px\" viewBox=\"0 -960 960 960\">\n",
              "    <path d=\"M120-120v-720h720v720H120Zm60-500h600v-160H180v160Zm220 220h160v-160H400v160Zm0 220h160v-160H400v160ZM180-400h160v-160H180v160Zm440 0h160v-160H620v160ZM180-180h160v-160H180v160Zm440 0h160v-160H620v160Z\"/>\n",
              "  </svg>\n",
              "    </button>\n",
              "\n",
              "  <style>\n",
              "    .colab-df-container {\n",
              "      display:flex;\n",
              "      gap: 12px;\n",
              "    }\n",
              "\n",
              "    .colab-df-convert {\n",
              "      background-color: #E8F0FE;\n",
              "      border: none;\n",
              "      border-radius: 50%;\n",
              "      cursor: pointer;\n",
              "      display: none;\n",
              "      fill: #1967D2;\n",
              "      height: 32px;\n",
              "      padding: 0 0 0 0;\n",
              "      width: 32px;\n",
              "    }\n",
              "\n",
              "    .colab-df-convert:hover {\n",
              "      background-color: #E2EBFA;\n",
              "      box-shadow: 0px 1px 2px rgba(60, 64, 67, 0.3), 0px 1px 3px 1px rgba(60, 64, 67, 0.15);\n",
              "      fill: #174EA6;\n",
              "    }\n",
              "\n",
              "    .colab-df-buttons div {\n",
              "      margin-bottom: 4px;\n",
              "    }\n",
              "\n",
              "    [theme=dark] .colab-df-convert {\n",
              "      background-color: #3B4455;\n",
              "      fill: #D2E3FC;\n",
              "    }\n",
              "\n",
              "    [theme=dark] .colab-df-convert:hover {\n",
              "      background-color: #434B5C;\n",
              "      box-shadow: 0px 1px 3px 1px rgba(0, 0, 0, 0.15);\n",
              "      filter: drop-shadow(0px 1px 2px rgba(0, 0, 0, 0.3));\n",
              "      fill: #FFFFFF;\n",
              "    }\n",
              "  </style>\n",
              "\n",
              "    <script>\n",
              "      const buttonEl =\n",
              "        document.querySelector('#df-91803070-77b3-4db8-8f50-42a9ba2224cd button.colab-df-convert');\n",
              "      buttonEl.style.display =\n",
              "        google.colab.kernel.accessAllowed ? 'block' : 'none';\n",
              "\n",
              "      async function convertToInteractive(key) {\n",
              "        const element = document.querySelector('#df-91803070-77b3-4db8-8f50-42a9ba2224cd');\n",
              "        const dataTable =\n",
              "          await google.colab.kernel.invokeFunction('convertToInteractive',\n",
              "                                                    [key], {});\n",
              "        if (!dataTable) return;\n",
              "\n",
              "        const docLinkHtml = 'Like what you see? Visit the ' +\n",
              "          '<a target=\"_blank\" href=https://colab.research.google.com/notebooks/data_table.ipynb>data table notebook</a>'\n",
              "          + ' to learn more about interactive tables.';\n",
              "        element.innerHTML = '';\n",
              "        dataTable['output_type'] = 'display_data';\n",
              "        await google.colab.output.renderOutput(dataTable, element);\n",
              "        const docLink = document.createElement('div');\n",
              "        docLink.innerHTML = docLinkHtml;\n",
              "        element.appendChild(docLink);\n",
              "      }\n",
              "    </script>\n",
              "  </div>\n",
              "\n",
              "\n",
              "<div id=\"df-3de43e4e-3586-4ac9-b5d6-389fe5ce2c4b\">\n",
              "  <button class=\"colab-df-quickchart\" onclick=\"quickchart('df-3de43e4e-3586-4ac9-b5d6-389fe5ce2c4b')\"\n",
              "            title=\"Suggest charts\"\n",
              "            style=\"display:none;\">\n",
              "\n",
              "<svg xmlns=\"http://www.w3.org/2000/svg\" height=\"24px\"viewBox=\"0 0 24 24\"\n",
              "     width=\"24px\">\n",
              "    <g>\n",
              "        <path d=\"M19 3H5c-1.1 0-2 .9-2 2v14c0 1.1.9 2 2 2h14c1.1 0 2-.9 2-2V5c0-1.1-.9-2-2-2zM9 17H7v-7h2v7zm4 0h-2V7h2v10zm4 0h-2v-4h2v4z\"/>\n",
              "    </g>\n",
              "</svg>\n",
              "  </button>\n",
              "\n",
              "<style>\n",
              "  .colab-df-quickchart {\n",
              "      --bg-color: #E8F0FE;\n",
              "      --fill-color: #1967D2;\n",
              "      --hover-bg-color: #E2EBFA;\n",
              "      --hover-fill-color: #174EA6;\n",
              "      --disabled-fill-color: #AAA;\n",
              "      --disabled-bg-color: #DDD;\n",
              "  }\n",
              "\n",
              "  [theme=dark] .colab-df-quickchart {\n",
              "      --bg-color: #3B4455;\n",
              "      --fill-color: #D2E3FC;\n",
              "      --hover-bg-color: #434B5C;\n",
              "      --hover-fill-color: #FFFFFF;\n",
              "      --disabled-bg-color: #3B4455;\n",
              "      --disabled-fill-color: #666;\n",
              "  }\n",
              "\n",
              "  .colab-df-quickchart {\n",
              "    background-color: var(--bg-color);\n",
              "    border: none;\n",
              "    border-radius: 50%;\n",
              "    cursor: pointer;\n",
              "    display: none;\n",
              "    fill: var(--fill-color);\n",
              "    height: 32px;\n",
              "    padding: 0;\n",
              "    width: 32px;\n",
              "  }\n",
              "\n",
              "  .colab-df-quickchart:hover {\n",
              "    background-color: var(--hover-bg-color);\n",
              "    box-shadow: 0 1px 2px rgba(60, 64, 67, 0.3), 0 1px 3px 1px rgba(60, 64, 67, 0.15);\n",
              "    fill: var(--button-hover-fill-color);\n",
              "  }\n",
              "\n",
              "  .colab-df-quickchart-complete:disabled,\n",
              "  .colab-df-quickchart-complete:disabled:hover {\n",
              "    background-color: var(--disabled-bg-color);\n",
              "    fill: var(--disabled-fill-color);\n",
              "    box-shadow: none;\n",
              "  }\n",
              "\n",
              "  .colab-df-spinner {\n",
              "    border: 2px solid var(--fill-color);\n",
              "    border-color: transparent;\n",
              "    border-bottom-color: var(--fill-color);\n",
              "    animation:\n",
              "      spin 1s steps(1) infinite;\n",
              "  }\n",
              "\n",
              "  @keyframes spin {\n",
              "    0% {\n",
              "      border-color: transparent;\n",
              "      border-bottom-color: var(--fill-color);\n",
              "      border-left-color: var(--fill-color);\n",
              "    }\n",
              "    20% {\n",
              "      border-color: transparent;\n",
              "      border-left-color: var(--fill-color);\n",
              "      border-top-color: var(--fill-color);\n",
              "    }\n",
              "    30% {\n",
              "      border-color: transparent;\n",
              "      border-left-color: var(--fill-color);\n",
              "      border-top-color: var(--fill-color);\n",
              "      border-right-color: var(--fill-color);\n",
              "    }\n",
              "    40% {\n",
              "      border-color: transparent;\n",
              "      border-right-color: var(--fill-color);\n",
              "      border-top-color: var(--fill-color);\n",
              "    }\n",
              "    60% {\n",
              "      border-color: transparent;\n",
              "      border-right-color: var(--fill-color);\n",
              "    }\n",
              "    80% {\n",
              "      border-color: transparent;\n",
              "      border-right-color: var(--fill-color);\n",
              "      border-bottom-color: var(--fill-color);\n",
              "    }\n",
              "    90% {\n",
              "      border-color: transparent;\n",
              "      border-bottom-color: var(--fill-color);\n",
              "    }\n",
              "  }\n",
              "</style>\n",
              "\n",
              "  <script>\n",
              "    async function quickchart(key) {\n",
              "      const quickchartButtonEl =\n",
              "        document.querySelector('#' + key + ' button');\n",
              "      quickchartButtonEl.disabled = true;  // To prevent multiple clicks.\n",
              "      quickchartButtonEl.classList.add('colab-df-spinner');\n",
              "      try {\n",
              "        const charts = await google.colab.kernel.invokeFunction(\n",
              "            'suggestCharts', [key], {});\n",
              "      } catch (error) {\n",
              "        console.error('Error during call to suggestCharts:', error);\n",
              "      }\n",
              "      quickchartButtonEl.classList.remove('colab-df-spinner');\n",
              "      quickchartButtonEl.classList.add('colab-df-quickchart-complete');\n",
              "    }\n",
              "    (() => {\n",
              "      let quickchartButtonEl =\n",
              "        document.querySelector('#df-3de43e4e-3586-4ac9-b5d6-389fe5ce2c4b button');\n",
              "      quickchartButtonEl.style.display =\n",
              "        google.colab.kernel.accessAllowed ? 'block' : 'none';\n",
              "    })();\n",
              "  </script>\n",
              "</div>\n",
              "    </div>\n",
              "  </div>\n"
            ]
          },
          "metadata": {},
          "execution_count": 21
        }
      ],
      "source": [
        "def normalise_text(text):\n",
        "    text = text.lower()\n",
        "\n",
        "    # сурово регулярками выкидываем мусорные символы\n",
        "    text = re.sub('[^а-яa-z0-9 ]', '', text)\n",
        "    return text.strip()\n",
        "\n",
        "df_vk['title_clean'] = df_vk.title.apply(normalise_text)\n",
        "df_vk.head()"
      ]
    },
    {
      "cell_type": "code",
      "source": [
        "df_ria['snippet_clean'] = df_ria[~df_ria.snippet.isna()].snippet.apply(normalise_text)\n",
        "df_ria.fillna({'snippet_clean': \"#UNK#\"}, inplace=True)\n",
        "\n",
        "df_vk['snippet_clean'] = df_vk[~df_vk.snippet.isna()].snippet.apply(normalise_text)\n",
        "df_vk.fillna({'snippet_clean': \"#UNK#\"}, inplace=True)"
      ],
      "metadata": {
        "id": "JJrBRxqcQ5IX"
      },
      "execution_count": 22,
      "outputs": []
    },
    {
      "cell_type": "code",
      "source": [
        "df_vk.shape"
      ],
      "metadata": {
        "id": "dkET6fXzTDUE",
        "outputId": "9e8db45e-9d8a-415c-ec05-d868eea6d16e",
        "colab": {
          "base_uri": "https://localhost:8080/"
        }
      },
      "execution_count": 23,
      "outputs": [
        {
          "output_type": "execute_result",
          "data": {
            "text/plain": [
              "(19928, 9)"
            ]
          },
          "metadata": {},
          "execution_count": 23
        }
      ]
    },
    {
      "cell_type": "markdown",
      "metadata": {
        "id": "WrRKg_QHM_zV"
      },
      "source": [
        "## 1.3 Поставка данных"
      ]
    },
    {
      "cell_type": "markdown",
      "metadata": {
        "id": "S2vPPWsEM_zV"
      },
      "source": [
        "Пересечение сайта и ВК по опубликованным новостям довольно маленькое. Мы обучаем модель на данных с сайта. Предсказания мы будем строить на данных из ВК. У этих данных разная природа. В ВК описание статей и заголовки короче. Модель может хорошо показать себя на данных с новостного сайта, но сильно просесть в качестве на данных из ВК.\n",
        "\n",
        "Давайте сохраним пересечение в отдельную табличку, чтобы на нём можно было понять, насколько сильно деградирует модель."
      ]
    },
    {
      "cell_type": "code",
      "execution_count": 24,
      "metadata": {
        "colab": {
          "base_uri": "https://localhost:8080/"
        },
        "id": "8KjCNaTLM_zW",
        "outputId": "d5500966-d0bd-4e27-c40b-5fb38186dfbf"
      },
      "outputs": [
        {
          "output_type": "stream",
          "name": "stdout",
          "text": [
            "Размер отложенной выборки: 1128\n"
          ]
        }
      ],
      "source": [
        "ria_hrefs = set(df_ria.href.values)\n",
        "vk_hrefs = set(df_vk.href.values)\n",
        "test_hrefs = (vk_hrefs & ria_hrefs)\n",
        "\n",
        "print('Размер отложенной выборки:', len(test_hrefs))\n",
        "\n",
        "df = df_ria[~df_ria.href.isin(test_hrefs)]"
      ]
    },
    {
      "cell_type": "markdown",
      "metadata": {
        "id": "FVutzHbPM_zg"
      },
      "source": [
        "По странному совпадению (я правда не знаю почему) пересечение лежит в декабре. Мы будем его использовать как тестовую выборку."
      ]
    },
    {
      "cell_type": "code",
      "execution_count": 25,
      "metadata": {
        "colab": {
          "base_uri": "https://localhost:8080/"
        },
        "id": "1fGs6y6PM_zg",
        "outputId": "88338e08-bd03-4de7-fa40-02cb2bbfb432"
      },
      "outputs": [
        {
          "output_type": "execute_result",
          "data": {
            "text/plain": [
              "('2018-12-06', '2018-12-31')"
            ]
          },
          "metadata": {},
          "execution_count": 25
        }
      ],
      "source": [
        "df_ria[df_ria.href.isin(test_hrefs)].date.min(), df_ria[df_ria.href.isin(test_hrefs)].date.max()"
      ]
    },
    {
      "cell_type": "markdown",
      "metadata": {
        "id": "VJ_7VGvnM_zg"
      },
      "source": [
        "Предположим, что мы делим выборку на обучающую и тестовую случайно. За один и тот же промежуток времени может выйти довольно большое число новостей с одинаковым заголовком. Давайте представим себе, что в тесте и трэйне есть много статей про одно и то же событие. Модель научилась на обучающей выборке хорошо его тегировать. Остальные события модель тегирует намного хуже. Метрики на тестовой выборке высокие. В следующем месяце СМИ перестают освещать это событие, в потоке новостей совершенно другие новости. Качество модели резко проседает.\n",
        "\n",
        "Чтобы не напороться на завышенные метрики, обычно выборку дробят на обучающую и тестовую по времени. Тогда статьи из теста будут имитировать поток новых новостей, освещающих новые события."
      ]
    },
    {
      "cell_type": "code",
      "execution_count": 26,
      "metadata": {
        "colab": {
          "base_uri": "https://localhost:8080/"
        },
        "id": "WscwQXAuM_zg",
        "outputId": "be20f6a4-ddfb-41a6-f863-b94722a04e3a"
      },
      "outputs": [
        {
          "output_type": "execute_result",
          "data": {
            "text/plain": [
              "('2018-03-15', '2018-12-31')"
            ]
          },
          "metadata": {},
          "execution_count": 26
        }
      ],
      "source": [
        "df.date.min(), df.date.max()"
      ]
    },
    {
      "cell_type": "markdown",
      "metadata": {
        "id": "bzM_6-ntM_zg"
      },
      "source": [
        "__[0.2 балла] Задание 2:__ Разбейте выборку на обучающую, валидационную и тестовую. В тест возьмите весь декабрь. В валидацию октябрь и ноябрь."
      ]
    },
    {
      "cell_type": "code",
      "execution_count": 27,
      "metadata": {
        "id": "Yzr5nNIvM_zg"
      },
      "outputs": [],
      "source": [
        "# your code here\n",
        "# ♡ (´｡• ω •｡`)\n",
        "\n",
        "df_test = df[(df.date >= '2018-12-01') & (df.date <= '2018-12-31')]\n",
        "df_val = df[(df.date >= '2018-10-01') & (df.date < '2018-12-01')]\n",
        "df_train = df[(df.date < '2018-10-01') | (df.date > '2018-12-31')]"
      ]
    },
    {
      "cell_type": "markdown",
      "metadata": {
        "id": "AlG-87v8M_zh"
      },
      "source": [
        "Сформируем отложенную выборку (пересечение ВКонтакте и РИА)."
      ]
    },
    {
      "cell_type": "code",
      "execution_count": 28,
      "metadata": {
        "colab": {
          "base_uri": "https://localhost:8080/",
          "height": 206
        },
        "id": "KmBZjIx4M_zh",
        "outputId": "6ec13bc5-1cd3-447e-997c-19c4460ed7c0"
      },
      "outputs": [
        {
          "output_type": "execute_result",
          "data": {
            "text/plain": [
              "                        href  \\\n",
              "0  /20181206/1547493936.html   \n",
              "1  /20181206/1547516457.html   \n",
              "2  /20181206/1547520788.html   \n",
              "3  /20181206/1547521406.html   \n",
              "4  /20181206/1547522342.html   \n",
              "\n",
              "                                         title_clean  target_tags  \n",
              "0  эксперты определили самые бюджетные экзотическ...  [1524, 651]  \n",
              "1  рада приняла закон расширяющий контролируемую ...   [986, 443]  \n",
              "2  россия оказалась родиной древнейших титанозавр...   [476, 240]  \n",
              "3  школа в красноярске превратилась в хогвартс из...        [724]  \n",
              "4  рада решила не продлевать договор о дружбе и с...   [537, 443]  "
            ],
            "text/html": [
              "\n",
              "  <div id=\"df-04769260-42dc-4d93-9eac-600e61111eab\" class=\"colab-df-container\">\n",
              "    <div>\n",
              "<style scoped>\n",
              "    .dataframe tbody tr th:only-of-type {\n",
              "        vertical-align: middle;\n",
              "    }\n",
              "\n",
              "    .dataframe tbody tr th {\n",
              "        vertical-align: top;\n",
              "    }\n",
              "\n",
              "    .dataframe thead th {\n",
              "        text-align: right;\n",
              "    }\n",
              "</style>\n",
              "<table border=\"1\" class=\"dataframe\">\n",
              "  <thead>\n",
              "    <tr style=\"text-align: right;\">\n",
              "      <th></th>\n",
              "      <th>href</th>\n",
              "      <th>title_clean</th>\n",
              "      <th>target_tags</th>\n",
              "    </tr>\n",
              "  </thead>\n",
              "  <tbody>\n",
              "    <tr>\n",
              "      <th>0</th>\n",
              "      <td>/20181206/1547493936.html</td>\n",
              "      <td>эксперты определили самые бюджетные экзотическ...</td>\n",
              "      <td>[1524, 651]</td>\n",
              "    </tr>\n",
              "    <tr>\n",
              "      <th>1</th>\n",
              "      <td>/20181206/1547516457.html</td>\n",
              "      <td>рада приняла закон расширяющий контролируемую ...</td>\n",
              "      <td>[986, 443]</td>\n",
              "    </tr>\n",
              "    <tr>\n",
              "      <th>2</th>\n",
              "      <td>/20181206/1547520788.html</td>\n",
              "      <td>россия оказалась родиной древнейших титанозавр...</td>\n",
              "      <td>[476, 240]</td>\n",
              "    </tr>\n",
              "    <tr>\n",
              "      <th>3</th>\n",
              "      <td>/20181206/1547521406.html</td>\n",
              "      <td>школа в красноярске превратилась в хогвартс из...</td>\n",
              "      <td>[724]</td>\n",
              "    </tr>\n",
              "    <tr>\n",
              "      <th>4</th>\n",
              "      <td>/20181206/1547522342.html</td>\n",
              "      <td>рада решила не продлевать договор о дружбе и с...</td>\n",
              "      <td>[537, 443]</td>\n",
              "    </tr>\n",
              "  </tbody>\n",
              "</table>\n",
              "</div>\n",
              "    <div class=\"colab-df-buttons\">\n",
              "\n",
              "  <div class=\"colab-df-container\">\n",
              "    <button class=\"colab-df-convert\" onclick=\"convertToInteractive('df-04769260-42dc-4d93-9eac-600e61111eab')\"\n",
              "            title=\"Convert this dataframe to an interactive table.\"\n",
              "            style=\"display:none;\">\n",
              "\n",
              "  <svg xmlns=\"http://www.w3.org/2000/svg\" height=\"24px\" viewBox=\"0 -960 960 960\">\n",
              "    <path d=\"M120-120v-720h720v720H120Zm60-500h600v-160H180v160Zm220 220h160v-160H400v160Zm0 220h160v-160H400v160ZM180-400h160v-160H180v160Zm440 0h160v-160H620v160ZM180-180h160v-160H180v160Zm440 0h160v-160H620v160Z\"/>\n",
              "  </svg>\n",
              "    </button>\n",
              "\n",
              "  <style>\n",
              "    .colab-df-container {\n",
              "      display:flex;\n",
              "      gap: 12px;\n",
              "    }\n",
              "\n",
              "    .colab-df-convert {\n",
              "      background-color: #E8F0FE;\n",
              "      border: none;\n",
              "      border-radius: 50%;\n",
              "      cursor: pointer;\n",
              "      display: none;\n",
              "      fill: #1967D2;\n",
              "      height: 32px;\n",
              "      padding: 0 0 0 0;\n",
              "      width: 32px;\n",
              "    }\n",
              "\n",
              "    .colab-df-convert:hover {\n",
              "      background-color: #E2EBFA;\n",
              "      box-shadow: 0px 1px 2px rgba(60, 64, 67, 0.3), 0px 1px 3px 1px rgba(60, 64, 67, 0.15);\n",
              "      fill: #174EA6;\n",
              "    }\n",
              "\n",
              "    .colab-df-buttons div {\n",
              "      margin-bottom: 4px;\n",
              "    }\n",
              "\n",
              "    [theme=dark] .colab-df-convert {\n",
              "      background-color: #3B4455;\n",
              "      fill: #D2E3FC;\n",
              "    }\n",
              "\n",
              "    [theme=dark] .colab-df-convert:hover {\n",
              "      background-color: #434B5C;\n",
              "      box-shadow: 0px 1px 3px 1px rgba(0, 0, 0, 0.15);\n",
              "      filter: drop-shadow(0px 1px 2px rgba(0, 0, 0, 0.3));\n",
              "      fill: #FFFFFF;\n",
              "    }\n",
              "  </style>\n",
              "\n",
              "    <script>\n",
              "      const buttonEl =\n",
              "        document.querySelector('#df-04769260-42dc-4d93-9eac-600e61111eab button.colab-df-convert');\n",
              "      buttonEl.style.display =\n",
              "        google.colab.kernel.accessAllowed ? 'block' : 'none';\n",
              "\n",
              "      async function convertToInteractive(key) {\n",
              "        const element = document.querySelector('#df-04769260-42dc-4d93-9eac-600e61111eab');\n",
              "        const dataTable =\n",
              "          await google.colab.kernel.invokeFunction('convertToInteractive',\n",
              "                                                    [key], {});\n",
              "        if (!dataTable) return;\n",
              "\n",
              "        const docLinkHtml = 'Like what you see? Visit the ' +\n",
              "          '<a target=\"_blank\" href=https://colab.research.google.com/notebooks/data_table.ipynb>data table notebook</a>'\n",
              "          + ' to learn more about interactive tables.';\n",
              "        element.innerHTML = '';\n",
              "        dataTable['output_type'] = 'display_data';\n",
              "        await google.colab.output.renderOutput(dataTable, element);\n",
              "        const docLink = document.createElement('div');\n",
              "        docLink.innerHTML = docLinkHtml;\n",
              "        element.appendChild(docLink);\n",
              "      }\n",
              "    </script>\n",
              "  </div>\n",
              "\n",
              "\n",
              "<div id=\"df-7cfe738e-abf4-49b3-8ada-6f8f1c06f038\">\n",
              "  <button class=\"colab-df-quickchart\" onclick=\"quickchart('df-7cfe738e-abf4-49b3-8ada-6f8f1c06f038')\"\n",
              "            title=\"Suggest charts\"\n",
              "            style=\"display:none;\">\n",
              "\n",
              "<svg xmlns=\"http://www.w3.org/2000/svg\" height=\"24px\"viewBox=\"0 0 24 24\"\n",
              "     width=\"24px\">\n",
              "    <g>\n",
              "        <path d=\"M19 3H5c-1.1 0-2 .9-2 2v14c0 1.1.9 2 2 2h14c1.1 0 2-.9 2-2V5c0-1.1-.9-2-2-2zM9 17H7v-7h2v7zm4 0h-2V7h2v10zm4 0h-2v-4h2v4z\"/>\n",
              "    </g>\n",
              "</svg>\n",
              "  </button>\n",
              "\n",
              "<style>\n",
              "  .colab-df-quickchart {\n",
              "      --bg-color: #E8F0FE;\n",
              "      --fill-color: #1967D2;\n",
              "      --hover-bg-color: #E2EBFA;\n",
              "      --hover-fill-color: #174EA6;\n",
              "      --disabled-fill-color: #AAA;\n",
              "      --disabled-bg-color: #DDD;\n",
              "  }\n",
              "\n",
              "  [theme=dark] .colab-df-quickchart {\n",
              "      --bg-color: #3B4455;\n",
              "      --fill-color: #D2E3FC;\n",
              "      --hover-bg-color: #434B5C;\n",
              "      --hover-fill-color: #FFFFFF;\n",
              "      --disabled-bg-color: #3B4455;\n",
              "      --disabled-fill-color: #666;\n",
              "  }\n",
              "\n",
              "  .colab-df-quickchart {\n",
              "    background-color: var(--bg-color);\n",
              "    border: none;\n",
              "    border-radius: 50%;\n",
              "    cursor: pointer;\n",
              "    display: none;\n",
              "    fill: var(--fill-color);\n",
              "    height: 32px;\n",
              "    padding: 0;\n",
              "    width: 32px;\n",
              "  }\n",
              "\n",
              "  .colab-df-quickchart:hover {\n",
              "    background-color: var(--hover-bg-color);\n",
              "    box-shadow: 0 1px 2px rgba(60, 64, 67, 0.3), 0 1px 3px 1px rgba(60, 64, 67, 0.15);\n",
              "    fill: var(--button-hover-fill-color);\n",
              "  }\n",
              "\n",
              "  .colab-df-quickchart-complete:disabled,\n",
              "  .colab-df-quickchart-complete:disabled:hover {\n",
              "    background-color: var(--disabled-bg-color);\n",
              "    fill: var(--disabled-fill-color);\n",
              "    box-shadow: none;\n",
              "  }\n",
              "\n",
              "  .colab-df-spinner {\n",
              "    border: 2px solid var(--fill-color);\n",
              "    border-color: transparent;\n",
              "    border-bottom-color: var(--fill-color);\n",
              "    animation:\n",
              "      spin 1s steps(1) infinite;\n",
              "  }\n",
              "\n",
              "  @keyframes spin {\n",
              "    0% {\n",
              "      border-color: transparent;\n",
              "      border-bottom-color: var(--fill-color);\n",
              "      border-left-color: var(--fill-color);\n",
              "    }\n",
              "    20% {\n",
              "      border-color: transparent;\n",
              "      border-left-color: var(--fill-color);\n",
              "      border-top-color: var(--fill-color);\n",
              "    }\n",
              "    30% {\n",
              "      border-color: transparent;\n",
              "      border-left-color: var(--fill-color);\n",
              "      border-top-color: var(--fill-color);\n",
              "      border-right-color: var(--fill-color);\n",
              "    }\n",
              "    40% {\n",
              "      border-color: transparent;\n",
              "      border-right-color: var(--fill-color);\n",
              "      border-top-color: var(--fill-color);\n",
              "    }\n",
              "    60% {\n",
              "      border-color: transparent;\n",
              "      border-right-color: var(--fill-color);\n",
              "    }\n",
              "    80% {\n",
              "      border-color: transparent;\n",
              "      border-right-color: var(--fill-color);\n",
              "      border-bottom-color: var(--fill-color);\n",
              "    }\n",
              "    90% {\n",
              "      border-color: transparent;\n",
              "      border-bottom-color: var(--fill-color);\n",
              "    }\n",
              "  }\n",
              "</style>\n",
              "\n",
              "  <script>\n",
              "    async function quickchart(key) {\n",
              "      const quickchartButtonEl =\n",
              "        document.querySelector('#' + key + ' button');\n",
              "      quickchartButtonEl.disabled = true;  // To prevent multiple clicks.\n",
              "      quickchartButtonEl.classList.add('colab-df-spinner');\n",
              "      try {\n",
              "        const charts = await google.colab.kernel.invokeFunction(\n",
              "            'suggestCharts', [key], {});\n",
              "      } catch (error) {\n",
              "        console.error('Error during call to suggestCharts:', error);\n",
              "      }\n",
              "      quickchartButtonEl.classList.remove('colab-df-spinner');\n",
              "      quickchartButtonEl.classList.add('colab-df-quickchart-complete');\n",
              "    }\n",
              "    (() => {\n",
              "      let quickchartButtonEl =\n",
              "        document.querySelector('#df-7cfe738e-abf4-49b3-8ada-6f8f1c06f038 button');\n",
              "      quickchartButtonEl.style.display =\n",
              "        google.colab.kernel.accessAllowed ? 'block' : 'none';\n",
              "    })();\n",
              "  </script>\n",
              "</div>\n",
              "    </div>\n",
              "  </div>\n"
            ]
          },
          "metadata": {},
          "execution_count": 28
        }
      ],
      "source": [
        "df_oob = df_vk[df_vk.href.isin(test_hrefs)][['href', 'title_clean']]\n",
        "\n",
        "df_ria_oob = df_ria[df_ria.href.isin(test_hrefs)][['href', 'target_tags']]\n",
        "df_oob = df_oob.set_index('href').join(df_ria_oob.set_index('href')).reset_index()\n",
        "df_oob.head()"
      ]
    },
    {
      "cell_type": "markdown",
      "metadata": {
        "id": "laZ8tkFjM_zh"
      },
      "source": [
        "Напишем датасет для поставки данных в нейросеть.\n"
      ]
    },
    {
      "cell_type": "code",
      "execution_count": 29,
      "metadata": {
        "id": "0if_RkA_M_zh"
      },
      "outputs": [],
      "source": [
        "from torch.utils.data import Dataset\n",
        "from torch.utils.data import DataLoader\n",
        "\n",
        "class NewsDataset(Dataset):\n",
        "\n",
        "    def __init__(self, target, title, vocab, vocab_size, max_title_len, max_classes, snippet=None, max_snippet_len=None):\n",
        "\n",
        "       self.vocab = {word: idx  for word,idx in vocab.items() if idx < vocab_size}\n",
        "       self.max_classes = max_classes\n",
        "       self.y=self.target_ohe(target)\n",
        "       self.X_title = self.create_text(title, max_title_len)\n",
        "       self.X_snippet = None if snippet is None else self.create_text(snippet, max_snippet_len)\n",
        "\n",
        "    def target_ohe(self, target):\n",
        "        y = torch.zeros((len(target), self.max_classes))\n",
        "        for i, t in enumerate(target):\n",
        "            y[[i]*len(t), t] = 1.0\n",
        "        return y\n",
        "\n",
        "    def create_text(self, texts, max_len):\n",
        "        result = [ ]\n",
        "        for sent in texts:\n",
        "            # {#PAD: 0, #UNKN: 1}\n",
        "            sent_tokenize = [self.vocab.get(item, 1) for item in word_tokenize(sent)]\n",
        "\n",
        "            # приводим все тексты к max_len\n",
        "            if len(sent_tokenize) >= max_len:\n",
        "                sent_tokenize = sent_tokenize[:max_len]\n",
        "            else:\n",
        "                sent_tokenize += [0] * (max_len - len(sent_tokenize))\n",
        "            result.append(sent_tokenize)\n",
        "        return torch.tensor(result, dtype=torch.int)\n",
        "\n",
        "    def __len__(self):\n",
        "        return len(self.X_title)\n",
        "\n",
        "    def __getitem__(self, idx):\n",
        "        if self.X_snippet is not None:\n",
        "          return (self.X_title[idx, :], self.X_snippet[idx, :], self.y[idx])\n",
        "        return (self.X_title[idx, :], self.y[idx])\n"
      ]
    },
    {
      "cell_type": "markdown",
      "metadata": {
        "id": "xQMfQ1ZkM_zh"
      },
      "source": [
        "__[0.2 балла] Задание 3:__ Сейчас датасет умеет работать только с полем `title_clean`. Давайте сделаем этот датасет более многофукнциональным и добавим в него возможность добавить в обработку данных сниппет.\n",
        "\n",
        "1. Внутри датасета `snippet` надо обработать точно также как и `title`.\n",
        "2. Если `snippet=None`, датасет должен вернуть два объекта: `X_title, y`. В обратном случае датасет должен вернуть три объекта.\n",
        "\n",
        "**Важно:** Весь код ниже работает сейчас без сниппета. Он не должен развалиться от того, что сниппет в нём нигде не указан."
      ]
    },
    {
      "cell_type": "code",
      "execution_count": 30,
      "metadata": {
        "id": "1ekPnlTlM_zh"
      },
      "outputs": [],
      "source": [
        "### ╰( ͡° ͜ʖ ͡° )つ▬▬ι═══════  bzzzzzzzzzz\n",
        "# will the code be with you\n",
        "\n",
        "# Внесите в код датасета выше свои правки"
      ]
    },
    {
      "cell_type": "markdown",
      "metadata": {
        "id": "1v_Rgi_DM_zh"
      },
      "source": [
        "Объявим датасеты, оставим в словаре 30 000 самых частотных слов. Будем смотреть на титулы максимальной длины 20."
      ]
    },
    {
      "cell_type": "code",
      "execution_count": 34,
      "metadata": {
        "id": "2zjgEiWWM_zh"
      },
      "outputs": [],
      "source": [
        "CLASSES_NUM = len(idx2tag)\n",
        "VOCAB_SIZE = 10000\n",
        "MAX_TITLE_LEN = 20\n",
        "MAX_SNIPPET_LEN = 40\n",
        "USE_SNIPPET = True\n",
        "\n",
        "\n",
        "# словарь создаем по всей выборке\n",
        "vocabulary = create_vocab(' '.join(df_ria.title_clean.values)) #np.concatenate((df_ria.title_clean.values, df_ria.snippet.values)\n",
        "# объявляем датасеты\n",
        "if USE_SNIPPET:\n",
        "  train_dataset = NewsDataset(df_train.target_tags.values, df_train.title_clean.values, vocabulary, VOCAB_SIZE, MAX_TITLE_LEN, CLASSES_NUM, df_train.snippet_clean.values, MAX_SNIPPET_LEN)\n",
        "  val_dataset = NewsDataset(df_val.target_tags.values, df_val.title_clean.values, vocabulary, VOCAB_SIZE, MAX_TITLE_LEN, CLASSES_NUM, df_val.snippet_clean.values, MAX_SNIPPET_LEN)\n",
        "  test_dataset = NewsDataset(df_test.target_tags.values, df_test.title_clean.values, vocabulary, VOCAB_SIZE, MAX_TITLE_LEN, CLASSES_NUM, df_test.snippet_clean.values, MAX_SNIPPET_LEN)\n",
        "else:\n",
        "  train_dataset = NewsDataset(df_train.target_tags.values, df_train.title_clean.values, vocabulary, VOCAB_SIZE, MAX_TITLE_LEN, CLASSES_NUM)\n",
        "  val_dataset = NewsDataset(df_val.target_tags.values, df_val.title_clean.values, vocabulary, VOCAB_SIZE, MAX_TITLE_LEN, CLASSES_NUM)\n",
        "  test_dataset = NewsDataset(df_test.target_tags.values, df_test.title_clean.values, vocabulary, VOCAB_SIZE, MAX_TITLE_LEN, CLASSES_NUM)\n"
      ]
    },
    {
      "cell_type": "code",
      "execution_count": 35,
      "metadata": {
        "id": "kNdo56v0M_zh"
      },
      "outputs": [],
      "source": [
        "train_dataloader = DataLoader(train_dataset, shuffle=True, batch_size=64, num_workers=2)\n",
        "val_dataloader = DataLoader(val_dataset, shuffle=False, batch_size=4096, num_workers=2)"
      ]
    },
    {
      "cell_type": "markdown",
      "metadata": {
        "id": "WvQXMtISM_zh"
      },
      "source": [
        "## 1.4 Архитектуры\n",
        "\n",
        "Соберём базовую архитектуру для обучения."
      ]
    },
    {
      "cell_type": "code",
      "execution_count": 36,
      "metadata": {
        "id": "dN8DAIIkM_zh"
      },
      "outputs": [],
      "source": [
        "from torch import nn\n",
        "import torch.nn.functional as F\n",
        "\n",
        "class SimpleClassifier(nn.Module):\n",
        "\n",
        "    def __init__(self, vocab_size, embedding_dim, output_dim, num_texts=1):\n",
        "        super().__init__()\n",
        "        self.embedding = nn.Embedding(vocab_size, embedding_dim)\n",
        "        self.fc = nn.Linear(embedding_dim * num_texts, output_dim)\n",
        "\n",
        "    def forward(self, title, snippet=None):\n",
        "        embedded = self.embedding(title)\n",
        "        embedded = embedded.mean(dim=1)\n",
        "\n",
        "        if snippet is not None:\n",
        "          embedded_snippet = self.embedding(snippet)\n",
        "          embedded_snippet = embedded_snippet.mean(dim=1)\n",
        "          embedded = torch.cat((embedded, embedded_snippet), dim=1)\n",
        "\n",
        "        assert self.fc.in_features == embedded.shape[1]\n",
        "        return self.fc(embedded)"
      ]
    },
    {
      "cell_type": "markdown",
      "metadata": {
        "id": "slQEltBQM_zh"
      },
      "source": [
        "Соберём в `pytorch_lightning` модуль для обучения нейронки."
      ]
    },
    {
      "cell_type": "code",
      "execution_count": 37,
      "metadata": {
        "id": "5E6J3of9M_zi"
      },
      "outputs": [],
      "source": [
        "import pytorch_lightning as pl\n",
        "\n",
        "class TrainLightningModule(pl.LightningModule):\n",
        "    def __init__(self, model, learning_rate, criterion):\n",
        "        super().__init__()\n",
        "        self.model = model\n",
        "        self.criterion = criterion\n",
        "        self.learning_rate = learning_rate\n",
        "\n",
        "    def forward(self, title, snippet=None):\n",
        "        result = self.model(title, snippet)\n",
        "        return result\n",
        "\n",
        "    def configure_optimizers(self):\n",
        "        optimizer = torch.optim.Adam(self.parameters(), lr=self.learning_rate)\n",
        "        return optimizer\n",
        "\n",
        "    def training_step(self, train_batch, batch_idx):\n",
        "        data = train_batch\n",
        "        logits = self.model(*data[:-1])\n",
        "        loss = self.criterion(logits, data[-1])\n",
        "        self.log(\n",
        "            \"train_loss\", loss, prog_bar=True\n",
        "        )\n",
        "        return loss\n",
        "\n",
        "    def validation_step(self, val_batch, batch_idx):\n",
        "        data = val_batch\n",
        "        logits = self.model(*data[:-1])\n",
        "        loss = self.criterion(logits, data[-1])\n",
        "        self.log(\n",
        "            \"val_loss\", loss, prog_bar=True\n",
        "        )\n",
        "        return loss"
      ]
    },
    {
      "cell_type": "markdown",
      "metadata": {
        "id": "6BirneLfM_zi"
      },
      "source": [
        "Обучим модель."
      ]
    },
    {
      "cell_type": "code",
      "execution_count": null,
      "metadata": {
        "colab": {
          "base_uri": "https://localhost:8080/",
          "height": 459,
          "referenced_widgets": [
            "1092a625c99a45a7accc84781187ba25",
            "e2c6262e76554c87b540b9a1350de338",
            "4a2b084f6a1e4ca79c33ac4bc1098bdd",
            "c6fd8e5abef0404fbc1f4d6f0f91f9bf",
            "d86b2c3a5289453e9c5adc8824680d1a",
            "455def948dce469291bbac8f0ab7fc96",
            "0b884a593cd34c51adff76dbfd536f8e",
            "c6987680ef3e4e78bdcc1c8d242b1cb9",
            "175bec7e65c24a169a108832bff3e2d7",
            "e9f0668833d9449ea7136c18e7d93860",
            "0d759fc0ddcf41b1b85227ae521e17a3",
            "2c8632a88cf14a05baee68927feace21",
            "3f3b14580ab04fe4b155377b748419c1",
            "50d2544568864c949228e10b95aae67f",
            "90a10b01007746dfbb90af4274cc4f94",
            "de158a30cd09444a814aa28f8104417a",
            "f7fdd918f3a44c4abefc20890668ca10",
            "1075a85abb3542e4ae81d8ba81b149f4",
            "b10b5ddf40994fc0879235fa797fcfd3",
            "bb658c2675df47339c669d9c17c7bde4",
            "e32b9d8c8c624eb7a832df70b0730851",
            "1cb02967560745f6893241b564d7f95c",
            "b1a520fbd6184d418d9f076ce062beea",
            "e9ec7c9e7d414063846bd804ae1b8433",
            "9fd29bc8bfdc48dbad5ed1492427ed81",
            "2cb93731738e4b559870ca9dfefa759f",
            "935d77cb120f4a11a7c56da2d8bbff68",
            "9c1cc5c15beb4c1d9f11e55e1b2e1791",
            "8e90539cc95048969d248c5faed3677b",
            "dc32e994726d4eefa04b27a339650f6f",
            "2b2962743c67489fb484042df2351fca",
            "e1c0cab37e134ddcab996e4e94fa2fb0",
            "a31eaf62b02a403cbadb7a6bc7d45596",
            "9c6efe73d4a9491fb463caf4a92f0ac7",
            "41562d6cfab44bf2ab20ff41c0893f11",
            "ffb6acc31ab9440d8de3dedbde060d06",
            "f422910b540442b88e00412291dbc62f",
            "29fca0d7161a4a8c9283e941753a0398",
            "54dfbdd4c44347868ca79257908b913b",
            "bf62d15cc3dc4352916e96a8067baf22",
            "0f21955bb2394b1da39c3fee01348401",
            "15dc33fd1f43400dbe381903390ae576",
            "4396f539065e4be1a59bd6f2e59739ef",
            "ee30ea0515784b05a5e5807fde2ef513",
            "2135d6f387344957b5744168d26645dd",
            "6f04655805ee4d3c8fa61d4ff728d9a7",
            "93e0e15611c747d3890419f05ff0b98a",
            "69bb005b0bfe475d8a3ee09ce1e46140",
            "1e183b7bb96c482fb2899e988536c695",
            "1f8a69d017b4435b9291061548d16da2",
            "60c977ee3dd2489386b24cc02b9e132d",
            "5a48494419764f579b7ac18008611cb3",
            "e74156f5f0794e58b3e69654c50171f6",
            "8bbb85d7178e4925a9423b98cd61e521",
            "a19d1e7f1dfd4e75acca2424cfdfbcf0",
            "8cbdf59a3ed74d0cae911625e984c85e",
            "c00fe0479ad24163b85e38b2dd3341cc",
            "77542ffc9e354dca97e11d3db8954549",
            "c8dd8859ae6e4d6fb0d75ac404f21032",
            "cefb77ad290a4160a472fd1a95c850ee",
            "20601b44cc434cc7b78578b1b195e3f2",
            "8402aa502a11497ab39df2b0f19bdcfc",
            "d3d2b32f55c6423db1751b17a3a15a76",
            "d015362867fa4345855f1edb17582f24",
            "faa2f4b57751424da8f1ce24ab734b8a",
            "96531695adc740f186daf3b76f4b7945"
          ]
        },
        "id": "5ShTLAStM_zi",
        "outputId": "a69f8341-8808-4170-b0f1-618609d981e2"
      },
      "outputs": [
        {
          "output_type": "display_data",
          "data": {
            "text/plain": [
              "<IPython.core.display.HTML object>"
            ],
            "text/html": [
              "Tracking run with wandb version 0.16.1"
            ]
          },
          "metadata": {}
        },
        {
          "output_type": "display_data",
          "data": {
            "text/plain": [
              "<IPython.core.display.HTML object>"
            ],
            "text/html": [
              "Run data is saved locally in <code>/content/wandb/run-20231218_081923-717umlri</code>"
            ]
          },
          "metadata": {}
        },
        {
          "output_type": "display_data",
          "data": {
            "text/plain": [
              "<IPython.core.display.HTML object>"
            ],
            "text/html": [
              "Syncing run <strong><a href='https://wandb.ai/ruslan_iad/hw_04_task_01_snippet/runs/717umlri' target=\"_blank\">electric-morning-18</a></strong> to <a href='https://wandb.ai/ruslan_iad/hw_04_task_01_snippet' target=\"_blank\">Weights & Biases</a> (<a href='https://wandb.me/run' target=\"_blank\">docs</a>)<br/>"
            ]
          },
          "metadata": {}
        },
        {
          "output_type": "display_data",
          "data": {
            "text/plain": [
              "<IPython.core.display.HTML object>"
            ],
            "text/html": [
              " View project at <a href='https://wandb.ai/ruslan_iad/hw_04_task_01_snippet' target=\"_blank\">https://wandb.ai/ruslan_iad/hw_04_task_01_snippet</a>"
            ]
          },
          "metadata": {}
        },
        {
          "output_type": "display_data",
          "data": {
            "text/plain": [
              "<IPython.core.display.HTML object>"
            ],
            "text/html": [
              " View run at <a href='https://wandb.ai/ruslan_iad/hw_04_task_01_snippet/runs/717umlri' target=\"_blank\">https://wandb.ai/ruslan_iad/hw_04_task_01_snippet/runs/717umlri</a>"
            ]
          },
          "metadata": {}
        },
        {
          "output_type": "stream",
          "name": "stderr",
          "text": [
            "INFO:pytorch_lightning.utilities.rank_zero:GPU available: True (cuda), used: True\n",
            "INFO:pytorch_lightning.utilities.rank_zero:TPU available: False, using: 0 TPU cores\n",
            "INFO:pytorch_lightning.utilities.rank_zero:IPU available: False, using: 0 IPUs\n",
            "INFO:pytorch_lightning.utilities.rank_zero:HPU available: False, using: 0 HPUs\n",
            "/usr/local/lib/python3.10/dist-packages/pytorch_lightning/loggers/wandb.py:389: There is a wandb run already in progress and newly created instances of `WandbLogger` will reuse this run. If this is not desired, call `wandb.finish()` before instantiating `WandbLogger`.\n",
            "INFO:pytorch_lightning.accelerators.cuda:LOCAL_RANK: 0 - CUDA_VISIBLE_DEVICES: [0]\n",
            "INFO:pytorch_lightning.callbacks.model_summary:\n",
            "  | Name      | Type             | Params\n",
            "-----------------------------------------------\n",
            "0 | model     | SimpleClassifier | 4.0 M \n",
            "1 | criterion | CrossEntropyLoss | 0     \n",
            "-----------------------------------------------\n",
            "4.0 M     Trainable params\n",
            "0         Non-trainable params\n",
            "4.0 M     Total params\n",
            "15.806    Total estimated model params size (MB)\n"
          ]
        },
        {
          "output_type": "display_data",
          "data": {
            "text/plain": [
              "Sanity Checking: |          | 0/? [00:00<?, ?it/s]"
            ],
            "application/vnd.jupyter.widget-view+json": {
              "version_major": 2,
              "version_minor": 0,
              "model_id": "1092a625c99a45a7accc84781187ba25"
            }
          },
          "metadata": {}
        },
        {
          "output_type": "display_data",
          "data": {
            "text/plain": [
              "Training: |          | 0/? [00:00<?, ?it/s]"
            ],
            "application/vnd.jupyter.widget-view+json": {
              "version_major": 2,
              "version_minor": 0,
              "model_id": "2c8632a88cf14a05baee68927feace21"
            }
          },
          "metadata": {}
        },
        {
          "output_type": "display_data",
          "data": {
            "text/plain": [
              "Validation: |          | 0/? [00:00<?, ?it/s]"
            ],
            "application/vnd.jupyter.widget-view+json": {
              "version_major": 2,
              "version_minor": 0,
              "model_id": "b1a520fbd6184d418d9f076ce062beea"
            }
          },
          "metadata": {}
        },
        {
          "output_type": "display_data",
          "data": {
            "text/plain": [
              "Validation: |          | 0/? [00:00<?, ?it/s]"
            ],
            "application/vnd.jupyter.widget-view+json": {
              "version_major": 2,
              "version_minor": 0,
              "model_id": "9c6efe73d4a9491fb463caf4a92f0ac7"
            }
          },
          "metadata": {}
        },
        {
          "output_type": "display_data",
          "data": {
            "text/plain": [
              "Validation: |          | 0/? [00:00<?, ?it/s]"
            ],
            "application/vnd.jupyter.widget-view+json": {
              "version_major": 2,
              "version_minor": 0,
              "model_id": "2135d6f387344957b5744168d26645dd"
            }
          },
          "metadata": {}
        },
        {
          "output_type": "display_data",
          "data": {
            "text/plain": [
              "Validation: |          | 0/? [00:00<?, ?it/s]"
            ],
            "application/vnd.jupyter.widget-view+json": {
              "version_major": 2,
              "version_minor": 0,
              "model_id": "8cbdf59a3ed74d0cae911625e984c85e"
            }
          },
          "metadata": {}
        }
      ],
      "source": [
        "EMBEDDING_DIM = 300\n",
        "EPOCHS = 5\n",
        "LR = 1e-3\n",
        "\n",
        "wandb_logger = WandbLogger(log_model='all')\n",
        "project = \"hw_04_task_01\"\n",
        "if USE_SNIPPET:\n",
        "  project += \"_snippet\"\n",
        "wandb.init(project=project)\n",
        "\n",
        "model_baseline = SimpleClassifier(VOCAB_SIZE, EMBEDDING_DIM, CLASSES_NUM, 2 if USE_SNIPPET else 1).to(device)\n",
        "criterion = torch.nn.CrossEntropyLoss()\n",
        "\n",
        "train_module = TrainLightningModule(model_baseline, LR, criterion)\n",
        "\n",
        "trainer = pl.Trainer(accelerator=\"gpu\", logger=wandb_logger, max_epochs=EPOCHS)\n",
        "trainer.fit(train_module, train_dataloader, val_dataloader)\n",
        "model_baseline = model_baseline.to(device)"
      ]
    },
    {
      "cell_type": "markdown",
      "metadata": {
        "id": "Qj9QJ-xEM_zi"
      },
      "source": [
        "__[0.2 балла] Задание 4:__  Модель выше работает только с титулом.\n",
        "\n",
        "- Залоггируйте её обучение на [WandB](https://wandb.ai/).\n",
        "- Соберите архитектуру, которая будет принимать на вход не только титул, но ещё и сниппет. В этой архитектуре должно происходить следующее:\n",
        "\n",
        "1. Общий слой `nn.Embedding` применяется к сниппету и титулу параллельно.\n",
        "2. Происходит усреднее по текстам.\n",
        "3. Вектора конкатятся в один длины 600\n",
        "4. Линейный слой делает классификацию\n",
        "\n",
        "Обучите эту модель. Сравните траектории обучения на WandB. Прикрепите ссылку на дашборд либо скришот к тетрадке.\n",
        "\n",
        "Даталоадеры придётся объявить заново с учётом сниппетов. Правда ли, что она бьёт на валидационной выборке модель, обученную только на титулах статей?"
      ]
    },
    {
      "cell_type": "markdown",
      "source": [
        "[Запуск без сниппетов](https://wandb.ai/ruslan_iad/hw_04_task_01/runs/ph74zfqw)\n",
        "\n",
        "[Запуск со сниппетами](https://wandb.ai/ruslan_iad/hw_04_task_01_snippet/runs/emlpy43l)"
      ],
      "metadata": {
        "id": "JaBtluFjGSi_"
      }
    },
    {
      "cell_type": "markdown",
      "source": [
        "Правда ли, что она бьёт на валидационной выборке модель, обученную только на титулах статей?\n",
        "Немного лучше 10.4 против 10.7"
      ],
      "metadata": {
        "id": "GBEzO-konxZt"
      }
    },
    {
      "cell_type": "markdown",
      "metadata": {
        "id": "qKdBptFbM_zi"
      },
      "source": [
        "## 1.5 Инференс и оценка качества моделей\n",
        "\n",
        "Для каждой новости нам надо предсказывать несколько тэгов. То есть в нашем случае настоящее значение таргета это множество из тэгов $y_i = [tag1, tag2, tag3]$. Прогноз модели также множество из тэгов $\\hat y_i = [tag1, tag4]$.\n",
        "\n",
        "Будем считать метрики качества следующим образом (под $|A|$ имеется в виду мощность множества, то есть число элементов в нём):\n",
        "\n",
        "$$\n",
        "Precision = \\frac{1}{n} \\sum_{i = 1}^n \\frac{|y_i \\cap \\hat{y}_i|}{|\\hat{y}_i|}\n",
        "$$\n",
        "\n",
        "$$\n",
        "Recall = \\frac{1}{n} \\sum_{i = 1}^n \\frac{|y_i \\cap \\hat{y}_i|}{|y_i|}\n",
        "$$\n",
        "\n",
        "Также можно считать аналог Accuracy, но это не самая удачная идея, так как у нас в выборке огромное число нулей и эта метрика при любом разумном пороге для принятия решения будет очень высокой.\n",
        "\n",
        "$$\n",
        "Exact Match = \\frac{1}{n} \\cdot \\frac{1}{k} \\sum_{i = 1}^n \\sum_{k=1}^K [y_{ij} = \\hat{y}_{ij}]\n",
        "$$"
      ]
    },
    {
      "cell_type": "code",
      "execution_count": null,
      "metadata": {
        "id": "tgBsB48FM_zi"
      },
      "outputs": [],
      "source": [
        "def precision(target, y_pred):\n",
        "    num = ((y_pred == 1) & (target == 1)).sum(dim=1)\n",
        "    denum = (y_pred == 1).sum(dim=1)\n",
        "    return (num/(denum + 1e-5)).mean().item()\n",
        "\n",
        "def recall(target, y_pred):\n",
        "    num = ((y_pred == 1) & (target == 1)).sum(dim=1)\n",
        "    denum = (target == 1).sum(dim=1)\n",
        "    return (num/(denum + 1e-5)).mean().item()\n",
        "\n",
        "def exact_match(target, y_pred):\n",
        "    return (1.*(y_pred == target)).mean().item()"
      ]
    },
    {
      "cell_type": "markdown",
      "metadata": {
        "id": "eD9UeFECM_zi"
      },
      "source": [
        "Построим прогноз на тестовой выборке."
      ]
    },
    {
      "cell_type": "code",
      "execution_count": null,
      "metadata": {
        "id": "JHHDcGUDM_zi"
      },
      "outputs": [],
      "source": [
        "test_dataloader = DataLoader(test_dataset, shuffle=False, batch_size=test_dataset.__len__())\n",
        "\n",
        "for title, target in test_dataloader:\n",
        "    title, target = title.to(device), target.to(device)\n",
        "    logit = model_baseline(title)\n",
        "    pred_prob = F.softmax(logit, dim=1)\n",
        "\n",
        "assert pred_prob.shape[0] == test_dataset.__len__()"
      ]
    },
    {
      "cell_type": "markdown",
      "metadata": {
        "id": "mzbiK9llM_zi"
      },
      "source": [
        "Теперь выбирая различное значение порога, мы можем получать разные предсказания. Если взять очень большое значение порога, то метрики сильно просядут, так как во многих документах никакого прогноза не будет построено вообще."
      ]
    },
    {
      "cell_type": "code",
      "execution_count": null,
      "metadata": {
        "id": "v2UI7GKqM_zj"
      },
      "outputs": [],
      "source": [
        "TRESHOLD = 0.01\n",
        "y_pred = 1*(pred_prob > TRESHOLD)\n",
        "\n",
        "print('Exact Match:', exact_match(target, y_pred))\n",
        "print('Precision:', precision(target, y_pred))\n",
        "print('Recall:', recall(target, y_pred))"
      ]
    },
    {
      "cell_type": "code",
      "execution_count": null,
      "metadata": {
        "id": "6v3CTYheM_zj"
      },
      "outputs": [],
      "source": [
        "TRESHOLD = 0.05\n",
        "y_pred = 1*(pred_prob > TRESHOLD)\n",
        "print('Exact Match:', exact_match(target, y_pred))\n",
        "print('Precision:', precision(target, y_pred))\n",
        "print('Recall:', recall(target, y_pred))"
      ]
    },
    {
      "cell_type": "code",
      "execution_count": null,
      "metadata": {
        "id": "7mokX9IVM_zj"
      },
      "outputs": [],
      "source": [
        "TRESHOLD = 0.9\n",
        "y_pred = 1*(pred_prob > TRESHOLD)\n",
        "\n",
        "print('Exact Match:', exact_match(target, y_pred))\n",
        "print('Precision:', precision(target, y_pred))\n",
        "print('Recall:', recall(target, y_pred))"
      ]
    },
    {
      "cell_type": "markdown",
      "metadata": {
        "id": "IUWFt7jjM_zj"
      },
      "source": [
        "Дальше мы будем строить довольно много прогнозов. Давайте напишем код для их строительства в виде функции. Обратите внимание, что на модели со снипетом она упадёт. Когда вы доберётесь до строительства прогнозов, функцию придётся немного модернизировать."
      ]
    },
    {
      "cell_type": "code",
      "execution_count": null,
      "metadata": {
        "id": "B3YFX4d2M_zk"
      },
      "outputs": [],
      "source": [
        "def get_predict(model, dataset):\n",
        "    dataloader = DataLoader(dataset, shuffle=False, batch_size=dataset.__len__())\n",
        "\n",
        "    for data in dataloader:\n",
        "        data[0], data[1] = data[0].to(device), data[1].to(device)\n",
        "        if len(data) == 3:\n",
        "            data[2] = data[2].to(device)\n",
        "        logit = model(*data[:-1])\n",
        "        pred_prob = F.softmax(logit, dim=1)\n",
        "\n",
        "    assert pred_prob.shape[0] == dataset.__len__()\n",
        "    return pred_prob, data[-1]"
      ]
    },
    {
      "cell_type": "markdown",
      "metadata": {
        "id": "g0n493n_M_zk"
      },
      "source": [
        "__[0.2 балла] Задание 5:__ Какая метрика для нас в этой задаче важнее? Точность или полнота? Почему?\n",
        "\n",
        "__ваш ответ:__ полнота, если человек захочит узнать новости по спорту, то важно, чтобы он получил все известные новости из мира спорта, даже если там иногда будет попадать политика. Потому что люди быстро пролестнут новость не про спорт, но обидно будет не увидеть новость о смерти пеле, когда все его друзья увидели. Но при этом я не хочу брать тупо везде все новости, поэтому точность должа быть на нормальном уровне, типо в чем смысл тегов, если там тупо все новости. Возьмем, чтобы пресижн был хотя бы 0.6"
      ]
    },
    {
      "cell_type": "markdown",
      "metadata": {
        "id": "6TFEvxI6M_zk"
      },
      "source": [
        "- Напишите функцию, которая будет подбирать оптимальное значение порога, оптимизирующее выбранную вами метрику.\n",
        "- Подберите значение порога на валидационной выборке.\n",
        "- Сравните модель со сниппетами и без сниппетов, используя выбранную вами метрику при оптимальном значении порога на тестовой выборке.\n",
        "- Какая из них оказалась лучше?"
      ]
    },
    {
      "cell_type": "code",
      "execution_count": null,
      "metadata": {
        "id": "BCq67JmUM_zl"
      },
      "outputs": [],
      "source": [
        "def find_best_treshold(model, dataset, step=0.001, precision_bound=0.6):\n",
        "  pred_prob, target = get_predict(model, dataset)\n",
        "  max_recall = -1\n",
        "  chosen_precision = 0\n",
        "  best_treshold = 0\n",
        "  for treshold in range(1, 800):\n",
        "    treshold *= step\n",
        "    y_pred = 1*(pred_prob > treshold)\n",
        "    precision_val = precision(target, y_pred)\n",
        "    if precision_val > precision_bound:\n",
        "      chosen_precision = precision_val\n",
        "      max_recall = recall(target, y_pred)\n",
        "      best_treshold = treshold\n",
        "      break\n",
        "  return max_recall, chosen_precision, best_treshold\n",
        "\n",
        "max_recall, chosen_precision, best_treshold = find_best_treshold(model_baseline, val_dataset)"
      ]
    },
    {
      "cell_type": "code",
      "source": [
        "max_recall, chosen_precision, best_treshold"
      ],
      "metadata": {
        "id": "MK59Covl7aln"
      },
      "execution_count": null,
      "outputs": []
    },
    {
      "cell_type": "markdown",
      "source": [],
      "metadata": {
        "id": "FiR-ouqG7aeD"
      }
    },
    {
      "cell_type": "markdown",
      "metadata": {
        "id": "o-QRc-UXM_zl"
      },
      "source": [
        "__[0.2 балла] Задание 6:__  Постройте прогнозы для отложенной выборки, которая представляет из себя пересечение сайта РИА-новостей и ВКонтакте. Проседает ли на ней качество модели? Насколько сильно?"
      ]
    },
    {
      "cell_type": "code",
      "execution_count": null,
      "metadata": {
        "id": "3Tc02SgLM_zl"
      },
      "outputs": [],
      "source": [
        "df_oob.head()"
      ]
    },
    {
      "cell_type": "code",
      "execution_count": null,
      "metadata": {
        "id": "1Z5AvLtcM_zl"
      },
      "outputs": [],
      "source": [
        "oob_dataset = NewsDataset(df_oob.target_tags.values, df_oob.title_clean.values, vocabulary, VOCAB_SIZE, MAX_TITLE_LEN, CLASSES_NUM)\n",
        "pred_prob, target = get_predict(model_baseline, oob_dataset)\n",
        "\n",
        "TRESHOLD = best_treshold\n",
        "y_pred = 1*(pred_prob > TRESHOLD)\n",
        "print('Exact Match:', exact_match(target, y_pred))\n",
        "print('Precision:', precision(target, y_pred))\n",
        "print('Recall:', recall(target, y_pred))"
      ]
    },
    {
      "cell_type": "markdown",
      "source": [
        "Без сниппетов: полнота просела на 0.5, точность заметно сильнее: 0.6 против 0.456"
      ],
      "metadata": {
        "id": "B9dAJIqa9S_l"
      }
    },
    {
      "cell_type": "markdown",
      "metadata": {
        "id": "EmFzWAHtM_zl"
      },
      "source": [
        "## 1.6 Бонусное задание\n",
        "\n",
        "Давайте модернизируем наши архитектуры настолько, насколько это возможно.\n",
        "\n",
        "__[0.5 балла]__ Попробуйте собрать более большую архитектуру. Например, сразу после слоя эмбеддингов вы можете попробовать добавить свёрточные слои (`Conv1D` свёртки). Поиграйте с оптимизатором и тп.\n",
        "\n",
        "Опишите результаты своих экспериментов ниже. Расскажите, что конкретно вы делали и удалось ли вам улучшить качество модели. Все траектории обучения залоггируйте на WandB.   "
      ]
    },
    {
      "cell_type": "markdown",
      "metadata": {
        "id": "obvk588CM_zl"
      },
      "source": [
        "__Ваш лог экспериментов:__\n",
        "\n",
        "-\n",
        "-\n",
        "-"
      ]
    },
    {
      "cell_type": "code",
      "execution_count": null,
      "metadata": {
        "id": "mII3wWHOM_zl"
      },
      "outputs": [],
      "source": [
        "# your code here\n",
        "# (⊙_⊙)"
      ]
    },
    {
      "cell_type": "markdown",
      "metadata": {
        "id": "7kMKmn72M_zl"
      },
      "source": [
        "__[0.5]__ Скачайте с сайта [Rusvectores](https://rusvectores.org/ru/models/) любые новостные word2vec эмбединги. Возьмите из модели эмбеддинги для всех слов, которые встречаются вв вашем словаре и добавьте их в модель первым слоем. Заморозьте этот слой и не обновляйте в нём веса. Если у вас в словаре есть слово, но его нет среди предобученных эмбеддингов, замените его на токен `#UNKN`."
      ]
    },
    {
      "cell_type": "markdown",
      "metadata": {
        "id": "k9ldlZ5gM_zl"
      },
      "source": [
        "__Ваш лог экспериментов:__\n",
        "\n",
        "-\n",
        "-\n",
        "-"
      ]
    },
    {
      "cell_type": "code",
      "execution_count": null,
      "metadata": {
        "id": "XoIlDPe0M_zl"
      },
      "outputs": [],
      "source": [
        "# your code here\n",
        "# =^･ｪ･^="
      ]
    },
    {
      "cell_type": "markdown",
      "metadata": {
        "id": "w8ziz2ATM_zl"
      },
      "source": [
        "__[1 балл]__ Зафайнтьюньте трансформер для решения задачи с помощью библиотеки `hugging face`. Выбор предобученной модели кратко обоснуйте."
      ]
    },
    {
      "cell_type": "markdown",
      "metadata": {
        "id": "GoVv-AS4M_zl"
      },
      "source": [
        "__Ваш лог экспериментов:__\n",
        "\n",
        "-\n",
        "-\n",
        "-"
      ]
    },
    {
      "cell_type": "code",
      "execution_count": null,
      "metadata": {
        "id": "Dg02xRLrM_zl"
      },
      "outputs": [],
      "source": [
        "# your code here\n",
        "# ٩(ˊ〇ˋ*)و\n"
      ]
    },
    {
      "cell_type": "markdown",
      "source": [
        "Сравните все обученные модели между собой на тестовой выборке."
      ],
      "metadata": {
        "id": "vt8mcUllUmM8"
      }
    },
    {
      "cell_type": "code",
      "source": [
        "# your code here\n",
        "# (⌐■_■)"
      ],
      "metadata": {
        "id": "Kq-sVD7HUkz3"
      },
      "execution_count": null,
      "outputs": []
    },
    {
      "cell_type": "markdown",
      "metadata": {
        "id": "SoCALHfJM_zm"
      },
      "source": [
        "## Часть 2: предсказание категорий (0.3 балла)\n",
        "\n",
        "Возьмите датасет `df_vk` и для всех новостей из него предскажите категории с помощью лучшей, получившейся у вас модели."
      ]
    },
    {
      "cell_type": "code",
      "execution_count": null,
      "metadata": {
        "id": "99fmOzZUM_zm"
      },
      "outputs": [],
      "source": [
        "df_vk['target_tags'] = [[0]]*df_vk.shape[0]\n",
        "\n",
        "# your code here\n",
        "# (っ˘ڡ˘ς)"
      ]
    },
    {
      "cell_type": "markdown",
      "metadata": {
        "id": "qpw07S0UM_zm"
      },
      "source": [
        "На всякий случай сохраните табличку с получившимися у вас предсказаниями. Мало ли, вы не доделаете последнее задание, а потом захотите вернуться к нему. Не прогонять же обучение нейросети и инференс по второму кругу..."
      ]
    },
    {
      "cell_type": "code",
      "execution_count": null,
      "metadata": {
        "id": "alIF9U2tM_zm"
      },
      "outputs": [],
      "source": [
        "# Ваш код с сохранением данных\n",
        "\n",
        "# your code here\n",
        "# ¯\\_(ツ)_/¯"
      ]
    },
    {
      "cell_type": "markdown",
      "metadata": {
        "id": "H_jo72yzM_zm"
      },
      "source": [
        "## Часть 3: сентимент-классификатор (0.5 балла)"
      ]
    },
    {
      "cell_type": "markdown",
      "metadata": {
        "id": "uI33vB5bM_zm"
      },
      "source": [
        "В этой части тетрадки нам предстоит прогнать все комментарии из ВК через сентимент-классификатор. Мы будем делать это с помощью библиотеки HuggingFace. В ней есть удобная [функциональность pipline,](https://huggingface.co/docs/transformers/pipeline_tutorial) чтобы прогонять на своих данных уже обученные модели. 🤗🤗🤗"
      ]
    },
    {
      "cell_type": "code",
      "execution_count": null,
      "metadata": {
        "id": "4VEwMUYxM_zm"
      },
      "outputs": [],
      "source": [
        "df_comments.head()"
      ]
    },
    {
      "cell_type": "markdown",
      "metadata": {
        "id": "3gVL29D3M_zm"
      },
      "source": [
        "Для классификации комментариев на позитивные, негативные и нейтральные будем использовать [модель, о которой можно почитать по ссылке](https://huggingface.co/seara/rubert-tiny2-russian-sentiment)\n",
        "\n",
        "Ответьте на следующие вопросы:\n",
        "\n",
        "1. Как зовут автора модели?\n",
        "2. Как выглядит архитектура модели? Насколько модель большая?\n",
        "3. На каких данных обучена модель? Адекватно ли использовать её для классификации комментариев ВК?"
      ]
    },
    {
      "cell_type": "markdown",
      "metadata": {
        "id": "hedd3_EAM_zm"
      },
      "source": [
        "Установим библиотеку. 🤗🤗🤗"
      ]
    },
    {
      "cell_type": "code",
      "execution_count": null,
      "metadata": {
        "id": "-ZCfZ0ZfM_zm"
      },
      "outputs": [],
      "source": [
        "!pip3 install transformers"
      ]
    },
    {
      "cell_type": "markdown",
      "metadata": {
        "id": "4cDtjMFaM_zm"
      },
      "source": [
        "Разберитесь как можно прогнать модель на корпусе комментариев и сделайте это. Да, с помощью pipeline можно запустить довольно сложные модели, обученные другими людьми в пару строчек. При объявлении модели не забудьте положить её на нужный `device` 🤗🤗🤗"
      ]
    },
    {
      "cell_type": "code",
      "execution_count": null,
      "metadata": {
        "id": "sEfhf12pM_zm"
      },
      "outputs": [],
      "source": [
        "from transformers import pipeline\n",
        "model = pipeline(model=\"seara/rubert-tiny2-russian-sentiment\", device_map=\"auto\", device=device)\n",
        "model(\"Привет, ты мне нравишься!\")"
      ]
    },
    {
      "cell_type": "markdown",
      "metadata": {
        "id": "5XmrUVvhM_zm"
      },
      "source": [
        "Цикл для сентимент-анализа комментариев может работать довольно долго. Я крайне рекомендую вам переодически сохранять к себе на компьютер промежуточные результаты. Итоговый результат я рекомендую записать отдельным столбиком в таблицу с комментариями, а затем сохранить полученные результаты. 🤗🤗🤗"
      ]
    },
    {
      "cell_type": "code",
      "source": [
        "from google.colab import drive\n",
        "drive.mount('drive')"
      ],
      "metadata": {
        "id": "aoUWheTj_-hc"
      },
      "execution_count": null,
      "outputs": []
    },
    {
      "cell_type": "code",
      "execution_count": null,
      "metadata": {
        "id": "jYpqlGahM_zm"
      },
      "outputs": [],
      "source": [
        "df_vk['sentiment_verdict'] = ...\n",
        "df_vk['sentiment_score'] = ...\n",
        "\n",
        "df_vk.to_csv('df_vk.csv')\n",
        "!cp df_vk.csv \"iad/data\"\n",
        "\n",
        "# your code here\n",
        "# ¯\\_(ツ)_/¯\n",
        "\n",
        "# P.S. Код для скоринга комментариев работает довольно долго. Первый, кто проскорит всю базу, может поделиться ей в общем чате с однокурсниками\n",
        "# Если вы используете эту базу, просто продемонстрируйте при решении этого пункта, что ваш код работает"
      ]
    },
    {
      "cell_type": "markdown",
      "metadata": {
        "id": "smRVE1hVM_zn"
      },
      "source": [
        "## Часть 4: аналитика (1 балл + 0.2 бонусных)\n",
        "\n",
        "Мы с вами огромные молодцы. Мы обучили модель для категоризации новостей, построили с её помощью прогнозы. Мы проскорили комментарии на их сентимент-окрас. Теперь давайте проанализируем новости. Описывайте полученные результаты таким образом, чтобы не получить уголовку на 5 лет за дискредитацию чего-нибудь или оскорбление чувств кого-нибудь 💜"
      ]
    },
    {
      "cell_type": "markdown",
      "metadata": {
        "id": "7z-jdjgeM_zn"
      },
      "source": [
        "__[0.2 балла]__ Какая доля комментариев позитивная? Какая доля комментариев негативная? Выведите 10 самых позитивных комментариев.\n",
        "\n",
        "Выведите 10 самых негативных комментариев, поугарайте с них. Удалите их вывод из тетрадки. Никто не должен их видеть, это должно остаться только между нами. Поззитивные не удаляйте. Они пусть останутся."
      ]
    },
    {
      "cell_type": "code",
      "execution_count": null,
      "metadata": {
        "id": "EqOwlAusM_zn"
      },
      "outputs": [],
      "source": [
        "# your code here\n",
        "# ʕ•ᴥ•ʔ"
      ]
    },
    {
      "cell_type": "markdown",
      "metadata": {
        "id": "SGfBQto1M_zn"
      },
      "source": [
        "__[0.2 балла]__ Для каждой новости из датасета посчитайте количество негативных и позитивных комментариев под ней. Сохраните эти количества в виде новых колонок."
      ]
    },
    {
      "cell_type": "code",
      "execution_count": null,
      "metadata": {
        "id": "WNySt0w7M_zn"
      },
      "outputs": [],
      "source": [
        "# your code here\n",
        "# [✖‿✖]"
      ]
    },
    {
      "cell_type": "markdown",
      "metadata": {
        "id": "jBOzB5yBM_zn"
      },
      "source": [
        "__[0.2 балл]__ Правда ли, что новости с большим количеством лайков получают больше негативных комментариев? А позитивных? Правда ли, что чем больше лайков, тем под новостью больше комментариев?\n",
        "\n",
        "Постройте визуализацию, которая могла бы это проиллюстрировать."
      ]
    },
    {
      "cell_type": "code",
      "execution_count": null,
      "metadata": {
        "id": "UjI74lt5M_zn"
      },
      "outputs": [],
      "source": [
        "# your code here\n",
        "# ┌(ಠ_ಠ)┘"
      ]
    },
    {
      "cell_type": "markdown",
      "metadata": {
        "id": "3wN5AFrAM_zn"
      },
      "source": [
        "__[0.2]__  Давайте построим по сентимент-окрасу комментариев топ позитивных новостей.\n",
        "\n",
        "- Если под новостью оставлено 100 комментариев, из которых 80 позитивные, мы можем быть уверены в том, что новость была хорошо воспринята людьми.\n",
        "- Если под новостью всего один комментарий и он оказался позитивным, то у нас 100% позитивных комментариев, но это вовсе не означает, что новость была воспринята хорошо.\n",
        "\n",
        "Получается, что сортировать по доле позитивных комментариев нельзя. Давайте поступим умнее. Доля позитивных комментариев под постом -- это случайная величина. Её довольно часто моделируют с помощью бета-распределения. Если это случайная величина, мы можем построить для неё предиктивный интервал. Пусть $u$ - число позитивных комментариев, а $d$ - нейтральных и негативных.  Пусть\n",
        "\n",
        "$$\n",
        "a = 1 + u \\qquad b = 1 + d.\n",
        "$$\n",
        "\n",
        "Тогда нижняя граница $95\\%$ предиктивного интервала для доли будет вычисляться по такой формуле:\n",
        "\n",
        "$$\n",
        "\\frac{a}{a + b} - 1.65 \\cdot \\sqrt{\\frac{a \\cdot b}{(a + b)^2 \\cdot (a + b + 1)}}\n",
        "$$\n",
        "\n",
        "Если под новостью был всего один комментарий, у такой случайной величины будет высокая дисперсия. Это означаen, что штука, которую мы вычитаем из доли, окажется высокой. Левая граница интервала окажется маленькой и мы не поднимем комментарий в нашем топе наверх. Фактически мы делаем сортировку по квантилю уровня $0.05$ вместо среднего.\n",
        "\n",
        "От вас требуется вбить эту формулу, сделать сортировку и вывести на экран топ позитивных новостей. Подробнее про то, откуда берётся эта формула можно почитать [в этой книге.](https://disk.yandex.ru/i/Ctd08bTwC9eI3g) Ищите 4 главу, страницу 140."
      ]
    },
    {
      "cell_type": "code",
      "execution_count": null,
      "metadata": {
        "id": "ToygzCZwM_zn"
      },
      "outputs": [],
      "source": [
        "# your code here\n",
        "# ฅ^•ﻌ•^ฅ"
      ]
    },
    {
      "cell_type": "markdown",
      "metadata": {
        "id": "8CuDk6kbM_zn"
      },
      "source": [
        "Построили? Срочно пришлите свою любимую позитивную  новость в общий чат!!!\n",
        "\n",
        "Топ негативных новостей строить не будем. Вокруг итак слишком много негатива 😻😻😻"
      ]
    },
    {
      "cell_type": "markdown",
      "metadata": {
        "id": "Gg_wCzsBM_zn"
      },
      "source": [
        "__[0.2]__ Какие категории новостей оказались самыми позитивными? Придумайте способ найти такие категории и опишите его тут.\n",
        "\n",
        "__Ответ:__"
      ]
    },
    {
      "cell_type": "code",
      "execution_count": null,
      "metadata": {
        "id": "SNEWqGVpM_zn"
      },
      "outputs": [],
      "source": [
        "# your code here\n",
        "# ٩(⁎❛ᴗ❛⁎)۶"
      ]
    },
    {
      "cell_type": "markdown",
      "metadata": {
        "id": "gDFw6uQeM_zn"
      },
      "source": [
        "__[0.2 бонусных]__ Проанализируйте, как температура комментария (вероятность того, что он негативный) зависит от длины трэда (число комментариев под новостью)? Значима ли эта взаимосвязь? Если вам для проверки этого хочется построить линейную регрессию, не сдерживайтесь."
      ]
    },
    {
      "cell_type": "code",
      "execution_count": null,
      "metadata": {
        "id": "usdYfPV0M_zn"
      },
      "outputs": [],
      "source": [
        "# your code here\n",
        "# ヾ(๑╹◡╹)ﾉ"
      ]
    }
  ],
  "metadata": {
    "colab": {
      "provenance": [],
      "gpuType": "T4"
    },
    "kernelspec": {
      "display_name": "Python 3",
      "name": "python3"
    },
    "language_info": {
      "codemirror_mode": {
        "name": "ipython",
        "version": 3
      },
      "file_extension": ".py",
      "mimetype": "text/x-python",
      "name": "python",
      "nbconvert_exporter": "python",
      "pygments_lexer": "ipython3",
      "version": "3.11.6"
    },
    "accelerator": "GPU",
    "widgets": {
      "application/vnd.jupyter.widget-state+json": {
        "1092a625c99a45a7accc84781187ba25": {
          "model_module": "@jupyter-widgets/controls",
          "model_name": "HBoxModel",
          "model_module_version": "1.5.0",
          "state": {
            "_dom_classes": [],
            "_model_module": "@jupyter-widgets/controls",
            "_model_module_version": "1.5.0",
            "_model_name": "HBoxModel",
            "_view_count": null,
            "_view_module": "@jupyter-widgets/controls",
            "_view_module_version": "1.5.0",
            "_view_name": "HBoxView",
            "box_style": "",
            "children": [
              "IPY_MODEL_e2c6262e76554c87b540b9a1350de338",
              "IPY_MODEL_4a2b084f6a1e4ca79c33ac4bc1098bdd",
              "IPY_MODEL_c6fd8e5abef0404fbc1f4d6f0f91f9bf"
            ],
            "layout": "IPY_MODEL_d86b2c3a5289453e9c5adc8824680d1a"
          }
        },
        "e2c6262e76554c87b540b9a1350de338": {
          "model_module": "@jupyter-widgets/controls",
          "model_name": "HTMLModel",
          "model_module_version": "1.5.0",
          "state": {
            "_dom_classes": [],
            "_model_module": "@jupyter-widgets/controls",
            "_model_module_version": "1.5.0",
            "_model_name": "HTMLModel",
            "_view_count": null,
            "_view_module": "@jupyter-widgets/controls",
            "_view_module_version": "1.5.0",
            "_view_name": "HTMLView",
            "description": "",
            "description_tooltip": null,
            "layout": "IPY_MODEL_455def948dce469291bbac8f0ab7fc96",
            "placeholder": "​",
            "style": "IPY_MODEL_0b884a593cd34c51adff76dbfd536f8e",
            "value": "Sanity Checking DataLoader 0: 100%"
          }
        },
        "4a2b084f6a1e4ca79c33ac4bc1098bdd": {
          "model_module": "@jupyter-widgets/controls",
          "model_name": "FloatProgressModel",
          "model_module_version": "1.5.0",
          "state": {
            "_dom_classes": [],
            "_model_module": "@jupyter-widgets/controls",
            "_model_module_version": "1.5.0",
            "_model_name": "FloatProgressModel",
            "_view_count": null,
            "_view_module": "@jupyter-widgets/controls",
            "_view_module_version": "1.5.0",
            "_view_name": "ProgressView",
            "bar_style": "",
            "description": "",
            "description_tooltip": null,
            "layout": "IPY_MODEL_c6987680ef3e4e78bdcc1c8d242b1cb9",
            "max": 2,
            "min": 0,
            "orientation": "horizontal",
            "style": "IPY_MODEL_175bec7e65c24a169a108832bff3e2d7",
            "value": 2
          }
        },
        "c6fd8e5abef0404fbc1f4d6f0f91f9bf": {
          "model_module": "@jupyter-widgets/controls",
          "model_name": "HTMLModel",
          "model_module_version": "1.5.0",
          "state": {
            "_dom_classes": [],
            "_model_module": "@jupyter-widgets/controls",
            "_model_module_version": "1.5.0",
            "_model_name": "HTMLModel",
            "_view_count": null,
            "_view_module": "@jupyter-widgets/controls",
            "_view_module_version": "1.5.0",
            "_view_name": "HTMLView",
            "description": "",
            "description_tooltip": null,
            "layout": "IPY_MODEL_e9f0668833d9449ea7136c18e7d93860",
            "placeholder": "​",
            "style": "IPY_MODEL_0d759fc0ddcf41b1b85227ae521e17a3",
            "value": " 2/2 [00:01&lt;00:00,  1.65it/s]"
          }
        },
        "d86b2c3a5289453e9c5adc8824680d1a": {
          "model_module": "@jupyter-widgets/base",
          "model_name": "LayoutModel",
          "model_module_version": "1.2.0",
          "state": {
            "_model_module": "@jupyter-widgets/base",
            "_model_module_version": "1.2.0",
            "_model_name": "LayoutModel",
            "_view_count": null,
            "_view_module": "@jupyter-widgets/base",
            "_view_module_version": "1.2.0",
            "_view_name": "LayoutView",
            "align_content": null,
            "align_items": null,
            "align_self": null,
            "border": null,
            "bottom": null,
            "display": "inline-flex",
            "flex": null,
            "flex_flow": "row wrap",
            "grid_area": null,
            "grid_auto_columns": null,
            "grid_auto_flow": null,
            "grid_auto_rows": null,
            "grid_column": null,
            "grid_gap": null,
            "grid_row": null,
            "grid_template_areas": null,
            "grid_template_columns": null,
            "grid_template_rows": null,
            "height": null,
            "justify_content": null,
            "justify_items": null,
            "left": null,
            "margin": null,
            "max_height": null,
            "max_width": null,
            "min_height": null,
            "min_width": null,
            "object_fit": null,
            "object_position": null,
            "order": null,
            "overflow": null,
            "overflow_x": null,
            "overflow_y": null,
            "padding": null,
            "right": null,
            "top": null,
            "visibility": "hidden",
            "width": "100%"
          }
        },
        "455def948dce469291bbac8f0ab7fc96": {
          "model_module": "@jupyter-widgets/base",
          "model_name": "LayoutModel",
          "model_module_version": "1.2.0",
          "state": {
            "_model_module": "@jupyter-widgets/base",
            "_model_module_version": "1.2.0",
            "_model_name": "LayoutModel",
            "_view_count": null,
            "_view_module": "@jupyter-widgets/base",
            "_view_module_version": "1.2.0",
            "_view_name": "LayoutView",
            "align_content": null,
            "align_items": null,
            "align_self": null,
            "border": null,
            "bottom": null,
            "display": null,
            "flex": null,
            "flex_flow": null,
            "grid_area": null,
            "grid_auto_columns": null,
            "grid_auto_flow": null,
            "grid_auto_rows": null,
            "grid_column": null,
            "grid_gap": null,
            "grid_row": null,
            "grid_template_areas": null,
            "grid_template_columns": null,
            "grid_template_rows": null,
            "height": null,
            "justify_content": null,
            "justify_items": null,
            "left": null,
            "margin": null,
            "max_height": null,
            "max_width": null,
            "min_height": null,
            "min_width": null,
            "object_fit": null,
            "object_position": null,
            "order": null,
            "overflow": null,
            "overflow_x": null,
            "overflow_y": null,
            "padding": null,
            "right": null,
            "top": null,
            "visibility": null,
            "width": null
          }
        },
        "0b884a593cd34c51adff76dbfd536f8e": {
          "model_module": "@jupyter-widgets/controls",
          "model_name": "DescriptionStyleModel",
          "model_module_version": "1.5.0",
          "state": {
            "_model_module": "@jupyter-widgets/controls",
            "_model_module_version": "1.5.0",
            "_model_name": "DescriptionStyleModel",
            "_view_count": null,
            "_view_module": "@jupyter-widgets/base",
            "_view_module_version": "1.2.0",
            "_view_name": "StyleView",
            "description_width": ""
          }
        },
        "c6987680ef3e4e78bdcc1c8d242b1cb9": {
          "model_module": "@jupyter-widgets/base",
          "model_name": "LayoutModel",
          "model_module_version": "1.2.0",
          "state": {
            "_model_module": "@jupyter-widgets/base",
            "_model_module_version": "1.2.0",
            "_model_name": "LayoutModel",
            "_view_count": null,
            "_view_module": "@jupyter-widgets/base",
            "_view_module_version": "1.2.0",
            "_view_name": "LayoutView",
            "align_content": null,
            "align_items": null,
            "align_self": null,
            "border": null,
            "bottom": null,
            "display": null,
            "flex": "2",
            "flex_flow": null,
            "grid_area": null,
            "grid_auto_columns": null,
            "grid_auto_flow": null,
            "grid_auto_rows": null,
            "grid_column": null,
            "grid_gap": null,
            "grid_row": null,
            "grid_template_areas": null,
            "grid_template_columns": null,
            "grid_template_rows": null,
            "height": null,
            "justify_content": null,
            "justify_items": null,
            "left": null,
            "margin": null,
            "max_height": null,
            "max_width": null,
            "min_height": null,
            "min_width": null,
            "object_fit": null,
            "object_position": null,
            "order": null,
            "overflow": null,
            "overflow_x": null,
            "overflow_y": null,
            "padding": null,
            "right": null,
            "top": null,
            "visibility": null,
            "width": null
          }
        },
        "175bec7e65c24a169a108832bff3e2d7": {
          "model_module": "@jupyter-widgets/controls",
          "model_name": "ProgressStyleModel",
          "model_module_version": "1.5.0",
          "state": {
            "_model_module": "@jupyter-widgets/controls",
            "_model_module_version": "1.5.0",
            "_model_name": "ProgressStyleModel",
            "_view_count": null,
            "_view_module": "@jupyter-widgets/base",
            "_view_module_version": "1.2.0",
            "_view_name": "StyleView",
            "bar_color": null,
            "description_width": ""
          }
        },
        "e9f0668833d9449ea7136c18e7d93860": {
          "model_module": "@jupyter-widgets/base",
          "model_name": "LayoutModel",
          "model_module_version": "1.2.0",
          "state": {
            "_model_module": "@jupyter-widgets/base",
            "_model_module_version": "1.2.0",
            "_model_name": "LayoutModel",
            "_view_count": null,
            "_view_module": "@jupyter-widgets/base",
            "_view_module_version": "1.2.0",
            "_view_name": "LayoutView",
            "align_content": null,
            "align_items": null,
            "align_self": null,
            "border": null,
            "bottom": null,
            "display": null,
            "flex": null,
            "flex_flow": null,
            "grid_area": null,
            "grid_auto_columns": null,
            "grid_auto_flow": null,
            "grid_auto_rows": null,
            "grid_column": null,
            "grid_gap": null,
            "grid_row": null,
            "grid_template_areas": null,
            "grid_template_columns": null,
            "grid_template_rows": null,
            "height": null,
            "justify_content": null,
            "justify_items": null,
            "left": null,
            "margin": null,
            "max_height": null,
            "max_width": null,
            "min_height": null,
            "min_width": null,
            "object_fit": null,
            "object_position": null,
            "order": null,
            "overflow": null,
            "overflow_x": null,
            "overflow_y": null,
            "padding": null,
            "right": null,
            "top": null,
            "visibility": null,
            "width": null
          }
        },
        "0d759fc0ddcf41b1b85227ae521e17a3": {
          "model_module": "@jupyter-widgets/controls",
          "model_name": "DescriptionStyleModel",
          "model_module_version": "1.5.0",
          "state": {
            "_model_module": "@jupyter-widgets/controls",
            "_model_module_version": "1.5.0",
            "_model_name": "DescriptionStyleModel",
            "_view_count": null,
            "_view_module": "@jupyter-widgets/base",
            "_view_module_version": "1.2.0",
            "_view_name": "StyleView",
            "description_width": ""
          }
        },
        "2c8632a88cf14a05baee68927feace21": {
          "model_module": "@jupyter-widgets/controls",
          "model_name": "HBoxModel",
          "model_module_version": "1.5.0",
          "state": {
            "_dom_classes": [],
            "_model_module": "@jupyter-widgets/controls",
            "_model_module_version": "1.5.0",
            "_model_name": "HBoxModel",
            "_view_count": null,
            "_view_module": "@jupyter-widgets/controls",
            "_view_module_version": "1.5.0",
            "_view_name": "HBoxView",
            "box_style": "",
            "children": [
              "IPY_MODEL_3f3b14580ab04fe4b155377b748419c1",
              "IPY_MODEL_50d2544568864c949228e10b95aae67f",
              "IPY_MODEL_90a10b01007746dfbb90af4274cc4f94"
            ],
            "layout": "IPY_MODEL_de158a30cd09444a814aa28f8104417a"
          }
        },
        "3f3b14580ab04fe4b155377b748419c1": {
          "model_module": "@jupyter-widgets/controls",
          "model_name": "HTMLModel",
          "model_module_version": "1.5.0",
          "state": {
            "_dom_classes": [],
            "_model_module": "@jupyter-widgets/controls",
            "_model_module_version": "1.5.0",
            "_model_name": "HTMLModel",
            "_view_count": null,
            "_view_module": "@jupyter-widgets/controls",
            "_view_module_version": "1.5.0",
            "_view_name": "HTMLView",
            "description": "",
            "description_tooltip": null,
            "layout": "IPY_MODEL_f7fdd918f3a44c4abefc20890668ca10",
            "placeholder": "​",
            "style": "IPY_MODEL_1075a85abb3542e4ae81d8ba81b149f4",
            "value": "Epoch 4:  73%"
          }
        },
        "50d2544568864c949228e10b95aae67f": {
          "model_module": "@jupyter-widgets/controls",
          "model_name": "FloatProgressModel",
          "model_module_version": "1.5.0",
          "state": {
            "_dom_classes": [],
            "_model_module": "@jupyter-widgets/controls",
            "_model_module_version": "1.5.0",
            "_model_name": "FloatProgressModel",
            "_view_count": null,
            "_view_module": "@jupyter-widgets/controls",
            "_view_module_version": "1.5.0",
            "_view_name": "ProgressView",
            "bar_style": "",
            "description": "",
            "description_tooltip": null,
            "layout": "IPY_MODEL_b10b5ddf40994fc0879235fa797fcfd3",
            "max": 2139,
            "min": 0,
            "orientation": "horizontal",
            "style": "IPY_MODEL_bb658c2675df47339c669d9c17c7bde4",
            "value": 1560
          }
        },
        "90a10b01007746dfbb90af4274cc4f94": {
          "model_module": "@jupyter-widgets/controls",
          "model_name": "HTMLModel",
          "model_module_version": "1.5.0",
          "state": {
            "_dom_classes": [],
            "_model_module": "@jupyter-widgets/controls",
            "_model_module_version": "1.5.0",
            "_model_name": "HTMLModel",
            "_view_count": null,
            "_view_module": "@jupyter-widgets/controls",
            "_view_module_version": "1.5.0",
            "_view_name": "HTMLView",
            "description": "",
            "description_tooltip": null,
            "layout": "IPY_MODEL_e32b9d8c8c624eb7a832df70b0730851",
            "placeholder": "​",
            "style": "IPY_MODEL_1cb02967560745f6893241b564d7f95c",
            "value": " 1560/2139 [00:14&lt;00:05, 109.46it/s, v_num=mlri, train_loss=8.050, val_loss=10.80]"
          }
        },
        "de158a30cd09444a814aa28f8104417a": {
          "model_module": "@jupyter-widgets/base",
          "model_name": "LayoutModel",
          "model_module_version": "1.2.0",
          "state": {
            "_model_module": "@jupyter-widgets/base",
            "_model_module_version": "1.2.0",
            "_model_name": "LayoutModel",
            "_view_count": null,
            "_view_module": "@jupyter-widgets/base",
            "_view_module_version": "1.2.0",
            "_view_name": "LayoutView",
            "align_content": null,
            "align_items": null,
            "align_self": null,
            "border": null,
            "bottom": null,
            "display": "inline-flex",
            "flex": null,
            "flex_flow": "row wrap",
            "grid_area": null,
            "grid_auto_columns": null,
            "grid_auto_flow": null,
            "grid_auto_rows": null,
            "grid_column": null,
            "grid_gap": null,
            "grid_row": null,
            "grid_template_areas": null,
            "grid_template_columns": null,
            "grid_template_rows": null,
            "height": null,
            "justify_content": null,
            "justify_items": null,
            "left": null,
            "margin": null,
            "max_height": null,
            "max_width": null,
            "min_height": null,
            "min_width": null,
            "object_fit": null,
            "object_position": null,
            "order": null,
            "overflow": null,
            "overflow_x": null,
            "overflow_y": null,
            "padding": null,
            "right": null,
            "top": null,
            "visibility": null,
            "width": "100%"
          }
        },
        "f7fdd918f3a44c4abefc20890668ca10": {
          "model_module": "@jupyter-widgets/base",
          "model_name": "LayoutModel",
          "model_module_version": "1.2.0",
          "state": {
            "_model_module": "@jupyter-widgets/base",
            "_model_module_version": "1.2.0",
            "_model_name": "LayoutModel",
            "_view_count": null,
            "_view_module": "@jupyter-widgets/base",
            "_view_module_version": "1.2.0",
            "_view_name": "LayoutView",
            "align_content": null,
            "align_items": null,
            "align_self": null,
            "border": null,
            "bottom": null,
            "display": null,
            "flex": null,
            "flex_flow": null,
            "grid_area": null,
            "grid_auto_columns": null,
            "grid_auto_flow": null,
            "grid_auto_rows": null,
            "grid_column": null,
            "grid_gap": null,
            "grid_row": null,
            "grid_template_areas": null,
            "grid_template_columns": null,
            "grid_template_rows": null,
            "height": null,
            "justify_content": null,
            "justify_items": null,
            "left": null,
            "margin": null,
            "max_height": null,
            "max_width": null,
            "min_height": null,
            "min_width": null,
            "object_fit": null,
            "object_position": null,
            "order": null,
            "overflow": null,
            "overflow_x": null,
            "overflow_y": null,
            "padding": null,
            "right": null,
            "top": null,
            "visibility": null,
            "width": null
          }
        },
        "1075a85abb3542e4ae81d8ba81b149f4": {
          "model_module": "@jupyter-widgets/controls",
          "model_name": "DescriptionStyleModel",
          "model_module_version": "1.5.0",
          "state": {
            "_model_module": "@jupyter-widgets/controls",
            "_model_module_version": "1.5.0",
            "_model_name": "DescriptionStyleModel",
            "_view_count": null,
            "_view_module": "@jupyter-widgets/base",
            "_view_module_version": "1.2.0",
            "_view_name": "StyleView",
            "description_width": ""
          }
        },
        "b10b5ddf40994fc0879235fa797fcfd3": {
          "model_module": "@jupyter-widgets/base",
          "model_name": "LayoutModel",
          "model_module_version": "1.2.0",
          "state": {
            "_model_module": "@jupyter-widgets/base",
            "_model_module_version": "1.2.0",
            "_model_name": "LayoutModel",
            "_view_count": null,
            "_view_module": "@jupyter-widgets/base",
            "_view_module_version": "1.2.0",
            "_view_name": "LayoutView",
            "align_content": null,
            "align_items": null,
            "align_self": null,
            "border": null,
            "bottom": null,
            "display": null,
            "flex": "2",
            "flex_flow": null,
            "grid_area": null,
            "grid_auto_columns": null,
            "grid_auto_flow": null,
            "grid_auto_rows": null,
            "grid_column": null,
            "grid_gap": null,
            "grid_row": null,
            "grid_template_areas": null,
            "grid_template_columns": null,
            "grid_template_rows": null,
            "height": null,
            "justify_content": null,
            "justify_items": null,
            "left": null,
            "margin": null,
            "max_height": null,
            "max_width": null,
            "min_height": null,
            "min_width": null,
            "object_fit": null,
            "object_position": null,
            "order": null,
            "overflow": null,
            "overflow_x": null,
            "overflow_y": null,
            "padding": null,
            "right": null,
            "top": null,
            "visibility": null,
            "width": null
          }
        },
        "bb658c2675df47339c669d9c17c7bde4": {
          "model_module": "@jupyter-widgets/controls",
          "model_name": "ProgressStyleModel",
          "model_module_version": "1.5.0",
          "state": {
            "_model_module": "@jupyter-widgets/controls",
            "_model_module_version": "1.5.0",
            "_model_name": "ProgressStyleModel",
            "_view_count": null,
            "_view_module": "@jupyter-widgets/base",
            "_view_module_version": "1.2.0",
            "_view_name": "StyleView",
            "bar_color": null,
            "description_width": ""
          }
        },
        "e32b9d8c8c624eb7a832df70b0730851": {
          "model_module": "@jupyter-widgets/base",
          "model_name": "LayoutModel",
          "model_module_version": "1.2.0",
          "state": {
            "_model_module": "@jupyter-widgets/base",
            "_model_module_version": "1.2.0",
            "_model_name": "LayoutModel",
            "_view_count": null,
            "_view_module": "@jupyter-widgets/base",
            "_view_module_version": "1.2.0",
            "_view_name": "LayoutView",
            "align_content": null,
            "align_items": null,
            "align_self": null,
            "border": null,
            "bottom": null,
            "display": null,
            "flex": null,
            "flex_flow": null,
            "grid_area": null,
            "grid_auto_columns": null,
            "grid_auto_flow": null,
            "grid_auto_rows": null,
            "grid_column": null,
            "grid_gap": null,
            "grid_row": null,
            "grid_template_areas": null,
            "grid_template_columns": null,
            "grid_template_rows": null,
            "height": null,
            "justify_content": null,
            "justify_items": null,
            "left": null,
            "margin": null,
            "max_height": null,
            "max_width": null,
            "min_height": null,
            "min_width": null,
            "object_fit": null,
            "object_position": null,
            "order": null,
            "overflow": null,
            "overflow_x": null,
            "overflow_y": null,
            "padding": null,
            "right": null,
            "top": null,
            "visibility": null,
            "width": null
          }
        },
        "1cb02967560745f6893241b564d7f95c": {
          "model_module": "@jupyter-widgets/controls",
          "model_name": "DescriptionStyleModel",
          "model_module_version": "1.5.0",
          "state": {
            "_model_module": "@jupyter-widgets/controls",
            "_model_module_version": "1.5.0",
            "_model_name": "DescriptionStyleModel",
            "_view_count": null,
            "_view_module": "@jupyter-widgets/base",
            "_view_module_version": "1.2.0",
            "_view_name": "StyleView",
            "description_width": ""
          }
        },
        "b1a520fbd6184d418d9f076ce062beea": {
          "model_module": "@jupyter-widgets/controls",
          "model_name": "HBoxModel",
          "model_module_version": "1.5.0",
          "state": {
            "_dom_classes": [],
            "_model_module": "@jupyter-widgets/controls",
            "_model_module_version": "1.5.0",
            "_model_name": "HBoxModel",
            "_view_count": null,
            "_view_module": "@jupyter-widgets/controls",
            "_view_module_version": "1.5.0",
            "_view_name": "HBoxView",
            "box_style": "",
            "children": [
              "IPY_MODEL_e9ec7c9e7d414063846bd804ae1b8433",
              "IPY_MODEL_9fd29bc8bfdc48dbad5ed1492427ed81",
              "IPY_MODEL_2cb93731738e4b559870ca9dfefa759f"
            ],
            "layout": "IPY_MODEL_935d77cb120f4a11a7c56da2d8bbff68"
          }
        },
        "e9ec7c9e7d414063846bd804ae1b8433": {
          "model_module": "@jupyter-widgets/controls",
          "model_name": "HTMLModel",
          "model_module_version": "1.5.0",
          "state": {
            "_dom_classes": [],
            "_model_module": "@jupyter-widgets/controls",
            "_model_module_version": "1.5.0",
            "_model_name": "HTMLModel",
            "_view_count": null,
            "_view_module": "@jupyter-widgets/controls",
            "_view_module_version": "1.5.0",
            "_view_name": "HTMLView",
            "description": "",
            "description_tooltip": null,
            "layout": "IPY_MODEL_9c1cc5c15beb4c1d9f11e55e1b2e1791",
            "placeholder": "​",
            "style": "IPY_MODEL_8e90539cc95048969d248c5faed3677b",
            "value": "Validation DataLoader 0: 100%"
          }
        },
        "9fd29bc8bfdc48dbad5ed1492427ed81": {
          "model_module": "@jupyter-widgets/controls",
          "model_name": "FloatProgressModel",
          "model_module_version": "1.5.0",
          "state": {
            "_dom_classes": [],
            "_model_module": "@jupyter-widgets/controls",
            "_model_module_version": "1.5.0",
            "_model_name": "FloatProgressModel",
            "_view_count": null,
            "_view_module": "@jupyter-widgets/controls",
            "_view_module_version": "1.5.0",
            "_view_name": "ProgressView",
            "bar_style": "",
            "description": "",
            "description_tooltip": null,
            "layout": "IPY_MODEL_dc32e994726d4eefa04b27a339650f6f",
            "max": 11,
            "min": 0,
            "orientation": "horizontal",
            "style": "IPY_MODEL_2b2962743c67489fb484042df2351fca",
            "value": 11
          }
        },
        "2cb93731738e4b559870ca9dfefa759f": {
          "model_module": "@jupyter-widgets/controls",
          "model_name": "HTMLModel",
          "model_module_version": "1.5.0",
          "state": {
            "_dom_classes": [],
            "_model_module": "@jupyter-widgets/controls",
            "_model_module_version": "1.5.0",
            "_model_name": "HTMLModel",
            "_view_count": null,
            "_view_module": "@jupyter-widgets/controls",
            "_view_module_version": "1.5.0",
            "_view_name": "HTMLView",
            "description": "",
            "description_tooltip": null,
            "layout": "IPY_MODEL_e1c0cab37e134ddcab996e4e94fa2fb0",
            "placeholder": "​",
            "style": "IPY_MODEL_a31eaf62b02a403cbadb7a6bc7d45596",
            "value": " 11/11 [00:00&lt;00:00, 13.13it/s]"
          }
        },
        "935d77cb120f4a11a7c56da2d8bbff68": {
          "model_module": "@jupyter-widgets/base",
          "model_name": "LayoutModel",
          "model_module_version": "1.2.0",
          "state": {
            "_model_module": "@jupyter-widgets/base",
            "_model_module_version": "1.2.0",
            "_model_name": "LayoutModel",
            "_view_count": null,
            "_view_module": "@jupyter-widgets/base",
            "_view_module_version": "1.2.0",
            "_view_name": "LayoutView",
            "align_content": null,
            "align_items": null,
            "align_self": null,
            "border": null,
            "bottom": null,
            "display": "inline-flex",
            "flex": null,
            "flex_flow": "row wrap",
            "grid_area": null,
            "grid_auto_columns": null,
            "grid_auto_flow": null,
            "grid_auto_rows": null,
            "grid_column": null,
            "grid_gap": null,
            "grid_row": null,
            "grid_template_areas": null,
            "grid_template_columns": null,
            "grid_template_rows": null,
            "height": null,
            "justify_content": null,
            "justify_items": null,
            "left": null,
            "margin": null,
            "max_height": null,
            "max_width": null,
            "min_height": null,
            "min_width": null,
            "object_fit": null,
            "object_position": null,
            "order": null,
            "overflow": null,
            "overflow_x": null,
            "overflow_y": null,
            "padding": null,
            "right": null,
            "top": null,
            "visibility": "hidden",
            "width": "100%"
          }
        },
        "9c1cc5c15beb4c1d9f11e55e1b2e1791": {
          "model_module": "@jupyter-widgets/base",
          "model_name": "LayoutModel",
          "model_module_version": "1.2.0",
          "state": {
            "_model_module": "@jupyter-widgets/base",
            "_model_module_version": "1.2.0",
            "_model_name": "LayoutModel",
            "_view_count": null,
            "_view_module": "@jupyter-widgets/base",
            "_view_module_version": "1.2.0",
            "_view_name": "LayoutView",
            "align_content": null,
            "align_items": null,
            "align_self": null,
            "border": null,
            "bottom": null,
            "display": null,
            "flex": null,
            "flex_flow": null,
            "grid_area": null,
            "grid_auto_columns": null,
            "grid_auto_flow": null,
            "grid_auto_rows": null,
            "grid_column": null,
            "grid_gap": null,
            "grid_row": null,
            "grid_template_areas": null,
            "grid_template_columns": null,
            "grid_template_rows": null,
            "height": null,
            "justify_content": null,
            "justify_items": null,
            "left": null,
            "margin": null,
            "max_height": null,
            "max_width": null,
            "min_height": null,
            "min_width": null,
            "object_fit": null,
            "object_position": null,
            "order": null,
            "overflow": null,
            "overflow_x": null,
            "overflow_y": null,
            "padding": null,
            "right": null,
            "top": null,
            "visibility": null,
            "width": null
          }
        },
        "8e90539cc95048969d248c5faed3677b": {
          "model_module": "@jupyter-widgets/controls",
          "model_name": "DescriptionStyleModel",
          "model_module_version": "1.5.0",
          "state": {
            "_model_module": "@jupyter-widgets/controls",
            "_model_module_version": "1.5.0",
            "_model_name": "DescriptionStyleModel",
            "_view_count": null,
            "_view_module": "@jupyter-widgets/base",
            "_view_module_version": "1.2.0",
            "_view_name": "StyleView",
            "description_width": ""
          }
        },
        "dc32e994726d4eefa04b27a339650f6f": {
          "model_module": "@jupyter-widgets/base",
          "model_name": "LayoutModel",
          "model_module_version": "1.2.0",
          "state": {
            "_model_module": "@jupyter-widgets/base",
            "_model_module_version": "1.2.0",
            "_model_name": "LayoutModel",
            "_view_count": null,
            "_view_module": "@jupyter-widgets/base",
            "_view_module_version": "1.2.0",
            "_view_name": "LayoutView",
            "align_content": null,
            "align_items": null,
            "align_self": null,
            "border": null,
            "bottom": null,
            "display": null,
            "flex": "2",
            "flex_flow": null,
            "grid_area": null,
            "grid_auto_columns": null,
            "grid_auto_flow": null,
            "grid_auto_rows": null,
            "grid_column": null,
            "grid_gap": null,
            "grid_row": null,
            "grid_template_areas": null,
            "grid_template_columns": null,
            "grid_template_rows": null,
            "height": null,
            "justify_content": null,
            "justify_items": null,
            "left": null,
            "margin": null,
            "max_height": null,
            "max_width": null,
            "min_height": null,
            "min_width": null,
            "object_fit": null,
            "object_position": null,
            "order": null,
            "overflow": null,
            "overflow_x": null,
            "overflow_y": null,
            "padding": null,
            "right": null,
            "top": null,
            "visibility": null,
            "width": null
          }
        },
        "2b2962743c67489fb484042df2351fca": {
          "model_module": "@jupyter-widgets/controls",
          "model_name": "ProgressStyleModel",
          "model_module_version": "1.5.0",
          "state": {
            "_model_module": "@jupyter-widgets/controls",
            "_model_module_version": "1.5.0",
            "_model_name": "ProgressStyleModel",
            "_view_count": null,
            "_view_module": "@jupyter-widgets/base",
            "_view_module_version": "1.2.0",
            "_view_name": "StyleView",
            "bar_color": null,
            "description_width": ""
          }
        },
        "e1c0cab37e134ddcab996e4e94fa2fb0": {
          "model_module": "@jupyter-widgets/base",
          "model_name": "LayoutModel",
          "model_module_version": "1.2.0",
          "state": {
            "_model_module": "@jupyter-widgets/base",
            "_model_module_version": "1.2.0",
            "_model_name": "LayoutModel",
            "_view_count": null,
            "_view_module": "@jupyter-widgets/base",
            "_view_module_version": "1.2.0",
            "_view_name": "LayoutView",
            "align_content": null,
            "align_items": null,
            "align_self": null,
            "border": null,
            "bottom": null,
            "display": null,
            "flex": null,
            "flex_flow": null,
            "grid_area": null,
            "grid_auto_columns": null,
            "grid_auto_flow": null,
            "grid_auto_rows": null,
            "grid_column": null,
            "grid_gap": null,
            "grid_row": null,
            "grid_template_areas": null,
            "grid_template_columns": null,
            "grid_template_rows": null,
            "height": null,
            "justify_content": null,
            "justify_items": null,
            "left": null,
            "margin": null,
            "max_height": null,
            "max_width": null,
            "min_height": null,
            "min_width": null,
            "object_fit": null,
            "object_position": null,
            "order": null,
            "overflow": null,
            "overflow_x": null,
            "overflow_y": null,
            "padding": null,
            "right": null,
            "top": null,
            "visibility": null,
            "width": null
          }
        },
        "a31eaf62b02a403cbadb7a6bc7d45596": {
          "model_module": "@jupyter-widgets/controls",
          "model_name": "DescriptionStyleModel",
          "model_module_version": "1.5.0",
          "state": {
            "_model_module": "@jupyter-widgets/controls",
            "_model_module_version": "1.5.0",
            "_model_name": "DescriptionStyleModel",
            "_view_count": null,
            "_view_module": "@jupyter-widgets/base",
            "_view_module_version": "1.2.0",
            "_view_name": "StyleView",
            "description_width": ""
          }
        },
        "9c6efe73d4a9491fb463caf4a92f0ac7": {
          "model_module": "@jupyter-widgets/controls",
          "model_name": "HBoxModel",
          "model_module_version": "1.5.0",
          "state": {
            "_dom_classes": [],
            "_model_module": "@jupyter-widgets/controls",
            "_model_module_version": "1.5.0",
            "_model_name": "HBoxModel",
            "_view_count": null,
            "_view_module": "@jupyter-widgets/controls",
            "_view_module_version": "1.5.0",
            "_view_name": "HBoxView",
            "box_style": "",
            "children": [
              "IPY_MODEL_41562d6cfab44bf2ab20ff41c0893f11",
              "IPY_MODEL_ffb6acc31ab9440d8de3dedbde060d06",
              "IPY_MODEL_f422910b540442b88e00412291dbc62f"
            ],
            "layout": "IPY_MODEL_29fca0d7161a4a8c9283e941753a0398"
          }
        },
        "41562d6cfab44bf2ab20ff41c0893f11": {
          "model_module": "@jupyter-widgets/controls",
          "model_name": "HTMLModel",
          "model_module_version": "1.5.0",
          "state": {
            "_dom_classes": [],
            "_model_module": "@jupyter-widgets/controls",
            "_model_module_version": "1.5.0",
            "_model_name": "HTMLModel",
            "_view_count": null,
            "_view_module": "@jupyter-widgets/controls",
            "_view_module_version": "1.5.0",
            "_view_name": "HTMLView",
            "description": "",
            "description_tooltip": null,
            "layout": "IPY_MODEL_54dfbdd4c44347868ca79257908b913b",
            "placeholder": "​",
            "style": "IPY_MODEL_bf62d15cc3dc4352916e96a8067baf22",
            "value": "Validation DataLoader 0: 100%"
          }
        },
        "ffb6acc31ab9440d8de3dedbde060d06": {
          "model_module": "@jupyter-widgets/controls",
          "model_name": "FloatProgressModel",
          "model_module_version": "1.5.0",
          "state": {
            "_dom_classes": [],
            "_model_module": "@jupyter-widgets/controls",
            "_model_module_version": "1.5.0",
            "_model_name": "FloatProgressModel",
            "_view_count": null,
            "_view_module": "@jupyter-widgets/controls",
            "_view_module_version": "1.5.0",
            "_view_name": "ProgressView",
            "bar_style": "",
            "description": "",
            "description_tooltip": null,
            "layout": "IPY_MODEL_0f21955bb2394b1da39c3fee01348401",
            "max": 11,
            "min": 0,
            "orientation": "horizontal",
            "style": "IPY_MODEL_15dc33fd1f43400dbe381903390ae576",
            "value": 11
          }
        },
        "f422910b540442b88e00412291dbc62f": {
          "model_module": "@jupyter-widgets/controls",
          "model_name": "HTMLModel",
          "model_module_version": "1.5.0",
          "state": {
            "_dom_classes": [],
            "_model_module": "@jupyter-widgets/controls",
            "_model_module_version": "1.5.0",
            "_model_name": "HTMLModel",
            "_view_count": null,
            "_view_module": "@jupyter-widgets/controls",
            "_view_module_version": "1.5.0",
            "_view_name": "HTMLView",
            "description": "",
            "description_tooltip": null,
            "layout": "IPY_MODEL_4396f539065e4be1a59bd6f2e59739ef",
            "placeholder": "​",
            "style": "IPY_MODEL_ee30ea0515784b05a5e5807fde2ef513",
            "value": " 11/11 [00:00&lt;00:00, 11.82it/s]"
          }
        },
        "29fca0d7161a4a8c9283e941753a0398": {
          "model_module": "@jupyter-widgets/base",
          "model_name": "LayoutModel",
          "model_module_version": "1.2.0",
          "state": {
            "_model_module": "@jupyter-widgets/base",
            "_model_module_version": "1.2.0",
            "_model_name": "LayoutModel",
            "_view_count": null,
            "_view_module": "@jupyter-widgets/base",
            "_view_module_version": "1.2.0",
            "_view_name": "LayoutView",
            "align_content": null,
            "align_items": null,
            "align_self": null,
            "border": null,
            "bottom": null,
            "display": "inline-flex",
            "flex": null,
            "flex_flow": "row wrap",
            "grid_area": null,
            "grid_auto_columns": null,
            "grid_auto_flow": null,
            "grid_auto_rows": null,
            "grid_column": null,
            "grid_gap": null,
            "grid_row": null,
            "grid_template_areas": null,
            "grid_template_columns": null,
            "grid_template_rows": null,
            "height": null,
            "justify_content": null,
            "justify_items": null,
            "left": null,
            "margin": null,
            "max_height": null,
            "max_width": null,
            "min_height": null,
            "min_width": null,
            "object_fit": null,
            "object_position": null,
            "order": null,
            "overflow": null,
            "overflow_x": null,
            "overflow_y": null,
            "padding": null,
            "right": null,
            "top": null,
            "visibility": "hidden",
            "width": "100%"
          }
        },
        "54dfbdd4c44347868ca79257908b913b": {
          "model_module": "@jupyter-widgets/base",
          "model_name": "LayoutModel",
          "model_module_version": "1.2.0",
          "state": {
            "_model_module": "@jupyter-widgets/base",
            "_model_module_version": "1.2.0",
            "_model_name": "LayoutModel",
            "_view_count": null,
            "_view_module": "@jupyter-widgets/base",
            "_view_module_version": "1.2.0",
            "_view_name": "LayoutView",
            "align_content": null,
            "align_items": null,
            "align_self": null,
            "border": null,
            "bottom": null,
            "display": null,
            "flex": null,
            "flex_flow": null,
            "grid_area": null,
            "grid_auto_columns": null,
            "grid_auto_flow": null,
            "grid_auto_rows": null,
            "grid_column": null,
            "grid_gap": null,
            "grid_row": null,
            "grid_template_areas": null,
            "grid_template_columns": null,
            "grid_template_rows": null,
            "height": null,
            "justify_content": null,
            "justify_items": null,
            "left": null,
            "margin": null,
            "max_height": null,
            "max_width": null,
            "min_height": null,
            "min_width": null,
            "object_fit": null,
            "object_position": null,
            "order": null,
            "overflow": null,
            "overflow_x": null,
            "overflow_y": null,
            "padding": null,
            "right": null,
            "top": null,
            "visibility": null,
            "width": null
          }
        },
        "bf62d15cc3dc4352916e96a8067baf22": {
          "model_module": "@jupyter-widgets/controls",
          "model_name": "DescriptionStyleModel",
          "model_module_version": "1.5.0",
          "state": {
            "_model_module": "@jupyter-widgets/controls",
            "_model_module_version": "1.5.0",
            "_model_name": "DescriptionStyleModel",
            "_view_count": null,
            "_view_module": "@jupyter-widgets/base",
            "_view_module_version": "1.2.0",
            "_view_name": "StyleView",
            "description_width": ""
          }
        },
        "0f21955bb2394b1da39c3fee01348401": {
          "model_module": "@jupyter-widgets/base",
          "model_name": "LayoutModel",
          "model_module_version": "1.2.0",
          "state": {
            "_model_module": "@jupyter-widgets/base",
            "_model_module_version": "1.2.0",
            "_model_name": "LayoutModel",
            "_view_count": null,
            "_view_module": "@jupyter-widgets/base",
            "_view_module_version": "1.2.0",
            "_view_name": "LayoutView",
            "align_content": null,
            "align_items": null,
            "align_self": null,
            "border": null,
            "bottom": null,
            "display": null,
            "flex": "2",
            "flex_flow": null,
            "grid_area": null,
            "grid_auto_columns": null,
            "grid_auto_flow": null,
            "grid_auto_rows": null,
            "grid_column": null,
            "grid_gap": null,
            "grid_row": null,
            "grid_template_areas": null,
            "grid_template_columns": null,
            "grid_template_rows": null,
            "height": null,
            "justify_content": null,
            "justify_items": null,
            "left": null,
            "margin": null,
            "max_height": null,
            "max_width": null,
            "min_height": null,
            "min_width": null,
            "object_fit": null,
            "object_position": null,
            "order": null,
            "overflow": null,
            "overflow_x": null,
            "overflow_y": null,
            "padding": null,
            "right": null,
            "top": null,
            "visibility": null,
            "width": null
          }
        },
        "15dc33fd1f43400dbe381903390ae576": {
          "model_module": "@jupyter-widgets/controls",
          "model_name": "ProgressStyleModel",
          "model_module_version": "1.5.0",
          "state": {
            "_model_module": "@jupyter-widgets/controls",
            "_model_module_version": "1.5.0",
            "_model_name": "ProgressStyleModel",
            "_view_count": null,
            "_view_module": "@jupyter-widgets/base",
            "_view_module_version": "1.2.0",
            "_view_name": "StyleView",
            "bar_color": null,
            "description_width": ""
          }
        },
        "4396f539065e4be1a59bd6f2e59739ef": {
          "model_module": "@jupyter-widgets/base",
          "model_name": "LayoutModel",
          "model_module_version": "1.2.0",
          "state": {
            "_model_module": "@jupyter-widgets/base",
            "_model_module_version": "1.2.0",
            "_model_name": "LayoutModel",
            "_view_count": null,
            "_view_module": "@jupyter-widgets/base",
            "_view_module_version": "1.2.0",
            "_view_name": "LayoutView",
            "align_content": null,
            "align_items": null,
            "align_self": null,
            "border": null,
            "bottom": null,
            "display": null,
            "flex": null,
            "flex_flow": null,
            "grid_area": null,
            "grid_auto_columns": null,
            "grid_auto_flow": null,
            "grid_auto_rows": null,
            "grid_column": null,
            "grid_gap": null,
            "grid_row": null,
            "grid_template_areas": null,
            "grid_template_columns": null,
            "grid_template_rows": null,
            "height": null,
            "justify_content": null,
            "justify_items": null,
            "left": null,
            "margin": null,
            "max_height": null,
            "max_width": null,
            "min_height": null,
            "min_width": null,
            "object_fit": null,
            "object_position": null,
            "order": null,
            "overflow": null,
            "overflow_x": null,
            "overflow_y": null,
            "padding": null,
            "right": null,
            "top": null,
            "visibility": null,
            "width": null
          }
        },
        "ee30ea0515784b05a5e5807fde2ef513": {
          "model_module": "@jupyter-widgets/controls",
          "model_name": "DescriptionStyleModel",
          "model_module_version": "1.5.0",
          "state": {
            "_model_module": "@jupyter-widgets/controls",
            "_model_module_version": "1.5.0",
            "_model_name": "DescriptionStyleModel",
            "_view_count": null,
            "_view_module": "@jupyter-widgets/base",
            "_view_module_version": "1.2.0",
            "_view_name": "StyleView",
            "description_width": ""
          }
        },
        "2135d6f387344957b5744168d26645dd": {
          "model_module": "@jupyter-widgets/controls",
          "model_name": "HBoxModel",
          "model_module_version": "1.5.0",
          "state": {
            "_dom_classes": [],
            "_model_module": "@jupyter-widgets/controls",
            "_model_module_version": "1.5.0",
            "_model_name": "HBoxModel",
            "_view_count": null,
            "_view_module": "@jupyter-widgets/controls",
            "_view_module_version": "1.5.0",
            "_view_name": "HBoxView",
            "box_style": "",
            "children": [
              "IPY_MODEL_6f04655805ee4d3c8fa61d4ff728d9a7",
              "IPY_MODEL_93e0e15611c747d3890419f05ff0b98a",
              "IPY_MODEL_69bb005b0bfe475d8a3ee09ce1e46140"
            ],
            "layout": "IPY_MODEL_1e183b7bb96c482fb2899e988536c695"
          }
        },
        "6f04655805ee4d3c8fa61d4ff728d9a7": {
          "model_module": "@jupyter-widgets/controls",
          "model_name": "HTMLModel",
          "model_module_version": "1.5.0",
          "state": {
            "_dom_classes": [],
            "_model_module": "@jupyter-widgets/controls",
            "_model_module_version": "1.5.0",
            "_model_name": "HTMLModel",
            "_view_count": null,
            "_view_module": "@jupyter-widgets/controls",
            "_view_module_version": "1.5.0",
            "_view_name": "HTMLView",
            "description": "",
            "description_tooltip": null,
            "layout": "IPY_MODEL_1f8a69d017b4435b9291061548d16da2",
            "placeholder": "​",
            "style": "IPY_MODEL_60c977ee3dd2489386b24cc02b9e132d",
            "value": "Validation DataLoader 0: 100%"
          }
        },
        "93e0e15611c747d3890419f05ff0b98a": {
          "model_module": "@jupyter-widgets/controls",
          "model_name": "FloatProgressModel",
          "model_module_version": "1.5.0",
          "state": {
            "_dom_classes": [],
            "_model_module": "@jupyter-widgets/controls",
            "_model_module_version": "1.5.0",
            "_model_name": "FloatProgressModel",
            "_view_count": null,
            "_view_module": "@jupyter-widgets/controls",
            "_view_module_version": "1.5.0",
            "_view_name": "ProgressView",
            "bar_style": "",
            "description": "",
            "description_tooltip": null,
            "layout": "IPY_MODEL_5a48494419764f579b7ac18008611cb3",
            "max": 11,
            "min": 0,
            "orientation": "horizontal",
            "style": "IPY_MODEL_e74156f5f0794e58b3e69654c50171f6",
            "value": 11
          }
        },
        "69bb005b0bfe475d8a3ee09ce1e46140": {
          "model_module": "@jupyter-widgets/controls",
          "model_name": "HTMLModel",
          "model_module_version": "1.5.0",
          "state": {
            "_dom_classes": [],
            "_model_module": "@jupyter-widgets/controls",
            "_model_module_version": "1.5.0",
            "_model_name": "HTMLModel",
            "_view_count": null,
            "_view_module": "@jupyter-widgets/controls",
            "_view_module_version": "1.5.0",
            "_view_name": "HTMLView",
            "description": "",
            "description_tooltip": null,
            "layout": "IPY_MODEL_8bbb85d7178e4925a9423b98cd61e521",
            "placeholder": "​",
            "style": "IPY_MODEL_a19d1e7f1dfd4e75acca2424cfdfbcf0",
            "value": " 11/11 [00:01&lt;00:00, 10.33it/s]"
          }
        },
        "1e183b7bb96c482fb2899e988536c695": {
          "model_module": "@jupyter-widgets/base",
          "model_name": "LayoutModel",
          "model_module_version": "1.2.0",
          "state": {
            "_model_module": "@jupyter-widgets/base",
            "_model_module_version": "1.2.0",
            "_model_name": "LayoutModel",
            "_view_count": null,
            "_view_module": "@jupyter-widgets/base",
            "_view_module_version": "1.2.0",
            "_view_name": "LayoutView",
            "align_content": null,
            "align_items": null,
            "align_self": null,
            "border": null,
            "bottom": null,
            "display": "inline-flex",
            "flex": null,
            "flex_flow": "row wrap",
            "grid_area": null,
            "grid_auto_columns": null,
            "grid_auto_flow": null,
            "grid_auto_rows": null,
            "grid_column": null,
            "grid_gap": null,
            "grid_row": null,
            "grid_template_areas": null,
            "grid_template_columns": null,
            "grid_template_rows": null,
            "height": null,
            "justify_content": null,
            "justify_items": null,
            "left": null,
            "margin": null,
            "max_height": null,
            "max_width": null,
            "min_height": null,
            "min_width": null,
            "object_fit": null,
            "object_position": null,
            "order": null,
            "overflow": null,
            "overflow_x": null,
            "overflow_y": null,
            "padding": null,
            "right": null,
            "top": null,
            "visibility": "hidden",
            "width": "100%"
          }
        },
        "1f8a69d017b4435b9291061548d16da2": {
          "model_module": "@jupyter-widgets/base",
          "model_name": "LayoutModel",
          "model_module_version": "1.2.0",
          "state": {
            "_model_module": "@jupyter-widgets/base",
            "_model_module_version": "1.2.0",
            "_model_name": "LayoutModel",
            "_view_count": null,
            "_view_module": "@jupyter-widgets/base",
            "_view_module_version": "1.2.0",
            "_view_name": "LayoutView",
            "align_content": null,
            "align_items": null,
            "align_self": null,
            "border": null,
            "bottom": null,
            "display": null,
            "flex": null,
            "flex_flow": null,
            "grid_area": null,
            "grid_auto_columns": null,
            "grid_auto_flow": null,
            "grid_auto_rows": null,
            "grid_column": null,
            "grid_gap": null,
            "grid_row": null,
            "grid_template_areas": null,
            "grid_template_columns": null,
            "grid_template_rows": null,
            "height": null,
            "justify_content": null,
            "justify_items": null,
            "left": null,
            "margin": null,
            "max_height": null,
            "max_width": null,
            "min_height": null,
            "min_width": null,
            "object_fit": null,
            "object_position": null,
            "order": null,
            "overflow": null,
            "overflow_x": null,
            "overflow_y": null,
            "padding": null,
            "right": null,
            "top": null,
            "visibility": null,
            "width": null
          }
        },
        "60c977ee3dd2489386b24cc02b9e132d": {
          "model_module": "@jupyter-widgets/controls",
          "model_name": "DescriptionStyleModel",
          "model_module_version": "1.5.0",
          "state": {
            "_model_module": "@jupyter-widgets/controls",
            "_model_module_version": "1.5.0",
            "_model_name": "DescriptionStyleModel",
            "_view_count": null,
            "_view_module": "@jupyter-widgets/base",
            "_view_module_version": "1.2.0",
            "_view_name": "StyleView",
            "description_width": ""
          }
        },
        "5a48494419764f579b7ac18008611cb3": {
          "model_module": "@jupyter-widgets/base",
          "model_name": "LayoutModel",
          "model_module_version": "1.2.0",
          "state": {
            "_model_module": "@jupyter-widgets/base",
            "_model_module_version": "1.2.0",
            "_model_name": "LayoutModel",
            "_view_count": null,
            "_view_module": "@jupyter-widgets/base",
            "_view_module_version": "1.2.0",
            "_view_name": "LayoutView",
            "align_content": null,
            "align_items": null,
            "align_self": null,
            "border": null,
            "bottom": null,
            "display": null,
            "flex": "2",
            "flex_flow": null,
            "grid_area": null,
            "grid_auto_columns": null,
            "grid_auto_flow": null,
            "grid_auto_rows": null,
            "grid_column": null,
            "grid_gap": null,
            "grid_row": null,
            "grid_template_areas": null,
            "grid_template_columns": null,
            "grid_template_rows": null,
            "height": null,
            "justify_content": null,
            "justify_items": null,
            "left": null,
            "margin": null,
            "max_height": null,
            "max_width": null,
            "min_height": null,
            "min_width": null,
            "object_fit": null,
            "object_position": null,
            "order": null,
            "overflow": null,
            "overflow_x": null,
            "overflow_y": null,
            "padding": null,
            "right": null,
            "top": null,
            "visibility": null,
            "width": null
          }
        },
        "e74156f5f0794e58b3e69654c50171f6": {
          "model_module": "@jupyter-widgets/controls",
          "model_name": "ProgressStyleModel",
          "model_module_version": "1.5.0",
          "state": {
            "_model_module": "@jupyter-widgets/controls",
            "_model_module_version": "1.5.0",
            "_model_name": "ProgressStyleModel",
            "_view_count": null,
            "_view_module": "@jupyter-widgets/base",
            "_view_module_version": "1.2.0",
            "_view_name": "StyleView",
            "bar_color": null,
            "description_width": ""
          }
        },
        "8bbb85d7178e4925a9423b98cd61e521": {
          "model_module": "@jupyter-widgets/base",
          "model_name": "LayoutModel",
          "model_module_version": "1.2.0",
          "state": {
            "_model_module": "@jupyter-widgets/base",
            "_model_module_version": "1.2.0",
            "_model_name": "LayoutModel",
            "_view_count": null,
            "_view_module": "@jupyter-widgets/base",
            "_view_module_version": "1.2.0",
            "_view_name": "LayoutView",
            "align_content": null,
            "align_items": null,
            "align_self": null,
            "border": null,
            "bottom": null,
            "display": null,
            "flex": null,
            "flex_flow": null,
            "grid_area": null,
            "grid_auto_columns": null,
            "grid_auto_flow": null,
            "grid_auto_rows": null,
            "grid_column": null,
            "grid_gap": null,
            "grid_row": null,
            "grid_template_areas": null,
            "grid_template_columns": null,
            "grid_template_rows": null,
            "height": null,
            "justify_content": null,
            "justify_items": null,
            "left": null,
            "margin": null,
            "max_height": null,
            "max_width": null,
            "min_height": null,
            "min_width": null,
            "object_fit": null,
            "object_position": null,
            "order": null,
            "overflow": null,
            "overflow_x": null,
            "overflow_y": null,
            "padding": null,
            "right": null,
            "top": null,
            "visibility": null,
            "width": null
          }
        },
        "a19d1e7f1dfd4e75acca2424cfdfbcf0": {
          "model_module": "@jupyter-widgets/controls",
          "model_name": "DescriptionStyleModel",
          "model_module_version": "1.5.0",
          "state": {
            "_model_module": "@jupyter-widgets/controls",
            "_model_module_version": "1.5.0",
            "_model_name": "DescriptionStyleModel",
            "_view_count": null,
            "_view_module": "@jupyter-widgets/base",
            "_view_module_version": "1.2.0",
            "_view_name": "StyleView",
            "description_width": ""
          }
        },
        "8cbdf59a3ed74d0cae911625e984c85e": {
          "model_module": "@jupyter-widgets/controls",
          "model_name": "HBoxModel",
          "model_module_version": "1.5.0",
          "state": {
            "_dom_classes": [],
            "_model_module": "@jupyter-widgets/controls",
            "_model_module_version": "1.5.0",
            "_model_name": "HBoxModel",
            "_view_count": null,
            "_view_module": "@jupyter-widgets/controls",
            "_view_module_version": "1.5.0",
            "_view_name": "HBoxView",
            "box_style": "",
            "children": [
              "IPY_MODEL_c00fe0479ad24163b85e38b2dd3341cc",
              "IPY_MODEL_77542ffc9e354dca97e11d3db8954549",
              "IPY_MODEL_c8dd8859ae6e4d6fb0d75ac404f21032"
            ],
            "layout": "IPY_MODEL_cefb77ad290a4160a472fd1a95c850ee"
          }
        },
        "c00fe0479ad24163b85e38b2dd3341cc": {
          "model_module": "@jupyter-widgets/controls",
          "model_name": "HTMLModel",
          "model_module_version": "1.5.0",
          "state": {
            "_dom_classes": [],
            "_model_module": "@jupyter-widgets/controls",
            "_model_module_version": "1.5.0",
            "_model_name": "HTMLModel",
            "_view_count": null,
            "_view_module": "@jupyter-widgets/controls",
            "_view_module_version": "1.5.0",
            "_view_name": "HTMLView",
            "description": "",
            "description_tooltip": null,
            "layout": "IPY_MODEL_20601b44cc434cc7b78578b1b195e3f2",
            "placeholder": "​",
            "style": "IPY_MODEL_8402aa502a11497ab39df2b0f19bdcfc",
            "value": "Validation DataLoader 0: 100%"
          }
        },
        "77542ffc9e354dca97e11d3db8954549": {
          "model_module": "@jupyter-widgets/controls",
          "model_name": "FloatProgressModel",
          "model_module_version": "1.5.0",
          "state": {
            "_dom_classes": [],
            "_model_module": "@jupyter-widgets/controls",
            "_model_module_version": "1.5.0",
            "_model_name": "FloatProgressModel",
            "_view_count": null,
            "_view_module": "@jupyter-widgets/controls",
            "_view_module_version": "1.5.0",
            "_view_name": "ProgressView",
            "bar_style": "",
            "description": "",
            "description_tooltip": null,
            "layout": "IPY_MODEL_d3d2b32f55c6423db1751b17a3a15a76",
            "max": 11,
            "min": 0,
            "orientation": "horizontal",
            "style": "IPY_MODEL_d015362867fa4345855f1edb17582f24",
            "value": 11
          }
        },
        "c8dd8859ae6e4d6fb0d75ac404f21032": {
          "model_module": "@jupyter-widgets/controls",
          "model_name": "HTMLModel",
          "model_module_version": "1.5.0",
          "state": {
            "_dom_classes": [],
            "_model_module": "@jupyter-widgets/controls",
            "_model_module_version": "1.5.0",
            "_model_name": "HTMLModel",
            "_view_count": null,
            "_view_module": "@jupyter-widgets/controls",
            "_view_module_version": "1.5.0",
            "_view_name": "HTMLView",
            "description": "",
            "description_tooltip": null,
            "layout": "IPY_MODEL_faa2f4b57751424da8f1ce24ab734b8a",
            "placeholder": "​",
            "style": "IPY_MODEL_96531695adc740f186daf3b76f4b7945",
            "value": " 11/11 [00:00&lt;00:00, 12.58it/s]"
          }
        },
        "cefb77ad290a4160a472fd1a95c850ee": {
          "model_module": "@jupyter-widgets/base",
          "model_name": "LayoutModel",
          "model_module_version": "1.2.0",
          "state": {
            "_model_module": "@jupyter-widgets/base",
            "_model_module_version": "1.2.0",
            "_model_name": "LayoutModel",
            "_view_count": null,
            "_view_module": "@jupyter-widgets/base",
            "_view_module_version": "1.2.0",
            "_view_name": "LayoutView",
            "align_content": null,
            "align_items": null,
            "align_self": null,
            "border": null,
            "bottom": null,
            "display": "inline-flex",
            "flex": null,
            "flex_flow": "row wrap",
            "grid_area": null,
            "grid_auto_columns": null,
            "grid_auto_flow": null,
            "grid_auto_rows": null,
            "grid_column": null,
            "grid_gap": null,
            "grid_row": null,
            "grid_template_areas": null,
            "grid_template_columns": null,
            "grid_template_rows": null,
            "height": null,
            "justify_content": null,
            "justify_items": null,
            "left": null,
            "margin": null,
            "max_height": null,
            "max_width": null,
            "min_height": null,
            "min_width": null,
            "object_fit": null,
            "object_position": null,
            "order": null,
            "overflow": null,
            "overflow_x": null,
            "overflow_y": null,
            "padding": null,
            "right": null,
            "top": null,
            "visibility": "hidden",
            "width": "100%"
          }
        },
        "20601b44cc434cc7b78578b1b195e3f2": {
          "model_module": "@jupyter-widgets/base",
          "model_name": "LayoutModel",
          "model_module_version": "1.2.0",
          "state": {
            "_model_module": "@jupyter-widgets/base",
            "_model_module_version": "1.2.0",
            "_model_name": "LayoutModel",
            "_view_count": null,
            "_view_module": "@jupyter-widgets/base",
            "_view_module_version": "1.2.0",
            "_view_name": "LayoutView",
            "align_content": null,
            "align_items": null,
            "align_self": null,
            "border": null,
            "bottom": null,
            "display": null,
            "flex": null,
            "flex_flow": null,
            "grid_area": null,
            "grid_auto_columns": null,
            "grid_auto_flow": null,
            "grid_auto_rows": null,
            "grid_column": null,
            "grid_gap": null,
            "grid_row": null,
            "grid_template_areas": null,
            "grid_template_columns": null,
            "grid_template_rows": null,
            "height": null,
            "justify_content": null,
            "justify_items": null,
            "left": null,
            "margin": null,
            "max_height": null,
            "max_width": null,
            "min_height": null,
            "min_width": null,
            "object_fit": null,
            "object_position": null,
            "order": null,
            "overflow": null,
            "overflow_x": null,
            "overflow_y": null,
            "padding": null,
            "right": null,
            "top": null,
            "visibility": null,
            "width": null
          }
        },
        "8402aa502a11497ab39df2b0f19bdcfc": {
          "model_module": "@jupyter-widgets/controls",
          "model_name": "DescriptionStyleModel",
          "model_module_version": "1.5.0",
          "state": {
            "_model_module": "@jupyter-widgets/controls",
            "_model_module_version": "1.5.0",
            "_model_name": "DescriptionStyleModel",
            "_view_count": null,
            "_view_module": "@jupyter-widgets/base",
            "_view_module_version": "1.2.0",
            "_view_name": "StyleView",
            "description_width": ""
          }
        },
        "d3d2b32f55c6423db1751b17a3a15a76": {
          "model_module": "@jupyter-widgets/base",
          "model_name": "LayoutModel",
          "model_module_version": "1.2.0",
          "state": {
            "_model_module": "@jupyter-widgets/base",
            "_model_module_version": "1.2.0",
            "_model_name": "LayoutModel",
            "_view_count": null,
            "_view_module": "@jupyter-widgets/base",
            "_view_module_version": "1.2.0",
            "_view_name": "LayoutView",
            "align_content": null,
            "align_items": null,
            "align_self": null,
            "border": null,
            "bottom": null,
            "display": null,
            "flex": "2",
            "flex_flow": null,
            "grid_area": null,
            "grid_auto_columns": null,
            "grid_auto_flow": null,
            "grid_auto_rows": null,
            "grid_column": null,
            "grid_gap": null,
            "grid_row": null,
            "grid_template_areas": null,
            "grid_template_columns": null,
            "grid_template_rows": null,
            "height": null,
            "justify_content": null,
            "justify_items": null,
            "left": null,
            "margin": null,
            "max_height": null,
            "max_width": null,
            "min_height": null,
            "min_width": null,
            "object_fit": null,
            "object_position": null,
            "order": null,
            "overflow": null,
            "overflow_x": null,
            "overflow_y": null,
            "padding": null,
            "right": null,
            "top": null,
            "visibility": null,
            "width": null
          }
        },
        "d015362867fa4345855f1edb17582f24": {
          "model_module": "@jupyter-widgets/controls",
          "model_name": "ProgressStyleModel",
          "model_module_version": "1.5.0",
          "state": {
            "_model_module": "@jupyter-widgets/controls",
            "_model_module_version": "1.5.0",
            "_model_name": "ProgressStyleModel",
            "_view_count": null,
            "_view_module": "@jupyter-widgets/base",
            "_view_module_version": "1.2.0",
            "_view_name": "StyleView",
            "bar_color": null,
            "description_width": ""
          }
        },
        "faa2f4b57751424da8f1ce24ab734b8a": {
          "model_module": "@jupyter-widgets/base",
          "model_name": "LayoutModel",
          "model_module_version": "1.2.0",
          "state": {
            "_model_module": "@jupyter-widgets/base",
            "_model_module_version": "1.2.0",
            "_model_name": "LayoutModel",
            "_view_count": null,
            "_view_module": "@jupyter-widgets/base",
            "_view_module_version": "1.2.0",
            "_view_name": "LayoutView",
            "align_content": null,
            "align_items": null,
            "align_self": null,
            "border": null,
            "bottom": null,
            "display": null,
            "flex": null,
            "flex_flow": null,
            "grid_area": null,
            "grid_auto_columns": null,
            "grid_auto_flow": null,
            "grid_auto_rows": null,
            "grid_column": null,
            "grid_gap": null,
            "grid_row": null,
            "grid_template_areas": null,
            "grid_template_columns": null,
            "grid_template_rows": null,
            "height": null,
            "justify_content": null,
            "justify_items": null,
            "left": null,
            "margin": null,
            "max_height": null,
            "max_width": null,
            "min_height": null,
            "min_width": null,
            "object_fit": null,
            "object_position": null,
            "order": null,
            "overflow": null,
            "overflow_x": null,
            "overflow_y": null,
            "padding": null,
            "right": null,
            "top": null,
            "visibility": null,
            "width": null
          }
        },
        "96531695adc740f186daf3b76f4b7945": {
          "model_module": "@jupyter-widgets/controls",
          "model_name": "DescriptionStyleModel",
          "model_module_version": "1.5.0",
          "state": {
            "_model_module": "@jupyter-widgets/controls",
            "_model_module_version": "1.5.0",
            "_model_name": "DescriptionStyleModel",
            "_view_count": null,
            "_view_module": "@jupyter-widgets/base",
            "_view_module_version": "1.2.0",
            "_view_name": "StyleView",
            "description_width": ""
          }
        }
      }
    }
  },
  "nbformat": 4,
  "nbformat_minor": 0
}