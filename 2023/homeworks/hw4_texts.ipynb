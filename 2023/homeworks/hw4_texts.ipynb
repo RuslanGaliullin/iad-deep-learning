{
  "cells": [
    {
      "cell_type": "markdown",
      "metadata": {
        "id": "N0MMALtdLU6F"
      },
      "source": [
        "<center>\n",
        "<img src=\"https://raw.githubusercontent.com/dvgodoy/PyTorch101_ODSC_Europe2020/master/images/linear_dogs.jpg\" width=\"800\">\n",
        "\n",
        "# Основы глубинного обучения: домашнее задание 4\n",
        "</center>"
      ]
    },
    {
      "cell_type": "markdown",
      "metadata": {
        "id": "Lp2Uf8PGM_zP"
      },
      "source": [
        "**ФИО:**\n",
        "\n",
        "**Забавный факт о себе:**"
      ]
    },
    {
      "cell_type": "markdown",
      "metadata": {
        "id": "W2LjTioKM_zP"
      },
      "source": [
        "## Общая информация\n",
        "\n",
        "__Дата выдачи:__ 09.12.2023\n",
        "\n",
        "__Дедлайн:__ 23:59MSK 18.12.2023\n",
        "\n",
        "В случае этой домашки мягкий дедлан совпадает с жёстким."
      ]
    },
    {
      "cell_type": "markdown",
      "metadata": {
        "id": "pGGDD519LWaa"
      },
      "source": [
        "## Оценивание и штрафы\n",
        "\n",
        "Каждая из задач имеет определенную «стоимость» (указана в скобках около задачи). Максимально допустимая оценка за работу — 5.2 балла (3 основных балла и ещё 2.2 бонусных).\n",
        "\n",
        "Задание выполняется самостоятельно. «Похожие» решения считаются плагиатом и все задействованные студенты (в том числе те, у кого списали) не могут получить за него больше 0 баллов. Если вы нашли решение какого-то из заданий (или его часть) в открытом источнике, необходимо указать ссылку на этот источник (скорее всего вы будете не единственным, кто это нашел, поэтому чтобы исключить подозрение в плагиате, необходима ссылка на источник)."
      ]
    },
    {
      "cell_type": "code",
      "execution_count": 81,
      "metadata": {
        "id": "e88B7C_7M_zQ"
      },
      "outputs": [],
      "source": [
        "import pandas as pd\n",
        "import numpy as np\n",
        "\n",
        "import matplotlib.pyplot as plt\n",
        "import seaborn as sns\n",
        "\n",
        "from pytorch_lightning.loggers import WandbLogger\n",
        "from tqdm.notebook import tqdm"
      ]
    },
    {
      "cell_type": "code",
      "execution_count": 82,
      "metadata": {
        "colab": {
          "base_uri": "https://localhost:8080/"
        },
        "id": "nqB7HlFIM_zR",
        "outputId": "e4d84139-1eba-4e09-f123-e221d265fee1"
      },
      "outputs": [
        {
          "output_type": "execute_result",
          "data": {
            "text/plain": [
              "device(type='cuda', index=0)"
            ]
          },
          "metadata": {},
          "execution_count": 82
        }
      ],
      "source": [
        "import torch\n",
        "device = torch.device('cuda:0' if torch.cuda.is_available() else 'cpu')\n",
        "device"
      ]
    },
    {
      "cell_type": "code",
      "source": [
        "!pip install wandb -q\n",
        "import wandb\n",
        "\n",
        "wandb.login()"
      ],
      "metadata": {
        "colab": {
          "base_uri": "https://localhost:8080/"
        },
        "id": "WG7NGUDJFXsE",
        "outputId": "01ff5d0e-51a1-494a-b850-d651abfe3d4f"
      },
      "execution_count": 83,
      "outputs": [
        {
          "output_type": "stream",
          "name": "stderr",
          "text": [
            "\u001b[34m\u001b[1mwandb\u001b[0m: \u001b[33mWARNING\u001b[0m Calling wandb.login() after wandb.init() has no effect.\n"
          ]
        },
        {
          "output_type": "execute_result",
          "data": {
            "text/plain": [
              "True"
            ]
          },
          "metadata": {},
          "execution_count": 83
        }
      ]
    },
    {
      "cell_type": "markdown",
      "metadata": {
        "id": "GkjGmtWoM_zR"
      },
      "source": [
        "# Описание данных\n",
        "\n",
        "Данные можно [скачать с гугл-диска.](https://drive.google.com/drive/folders/11oCcLplWtp_qm-WuEbfCFP_Mz5K_z3ps?usp=sharing) Если вы делаете задание в колабе, то строчки ниже сами скачают вам данные.\n",
        "\n"
      ]
    },
    {
      "cell_type": "code",
      "source": [
        "import gdown\n",
        "\n",
        "url = \"https://drive.google.com/drive/folders/1S3dlobf92c_qEp23VAV6WKUJrvoUeRHo?usp=sharing\"\n",
        "gdown.download_folder(url, quiet=True, use_cookies=False)"
      ],
      "metadata": {
        "colab": {
          "base_uri": "https://localhost:8080/"
        },
        "id": "e78uct9mO6ik",
        "outputId": "04639b1a-3784-4b37-8e60-eb9c4f637783"
      },
      "execution_count": 84,
      "outputs": [
        {
          "output_type": "execute_result",
          "data": {
            "text/plain": [
              "['/content/news_data/ria_news.tsv',\n",
              " '/content/news_data/vk_comments.tsv',\n",
              " '/content/news_data/vk_news.tsv']"
            ]
          },
          "metadata": {},
          "execution_count": 84
        }
      ]
    },
    {
      "cell_type": "markdown",
      "metadata": {
        "id": "fNAzGcglM_zS"
      },
      "source": [
        "В таблице `ria_news.tsv`  лежат данные о новостях, вышедших на сайте РИА-НОВОСТИ с 15 марта 2018 года по 31 декабря 2018 года.\n",
        "\n",
        "- `href` - уникальный идентификатор новости (ссылка на неё)\n",
        "- `date` - дата публикации новости\n",
        "- `time` - время публикации новости\n",
        "- `title` - заголовок новости\n",
        "- `snippet` - краткое описание новости\n",
        "- `text` - текст новости\n",
        "- `category` - категория новости\n",
        "- `keywords` - ключевые слова (подкатегории новости)\n",
        "- `shows` - счётчик с числом просмотров новости на сайте (на момент парсинга)"
      ]
    },
    {
      "cell_type": "code",
      "execution_count": 85,
      "metadata": {
        "colab": {
          "base_uri": "https://localhost:8080/",
          "height": 476
        },
        "id": "U0-iSeRLM_zS",
        "outputId": "cbab73be-f031-4205-b470-85f4a933b56a"
      },
      "outputs": [
        {
          "output_type": "stream",
          "name": "stdout",
          "text": [
            "(201708, 9)\n"
          ]
        },
        {
          "output_type": "execute_result",
          "data": {
            "text/plain": [
              "                        href        date                    time  \\\n",
              "0  /20181231/1548961410.html  2018-12-31  31 декабря 2018, 23:52   \n",
              "1  /20181231/1548961364.html  2018-12-31  31 декабря 2018, 23:19   \n",
              "2  /20181231/1548961337.html  2018-12-31  31 декабря 2018, 23:12   \n",
              "3  /20181231/1548961304.html  2018-12-31  31 декабря 2018, 23:09   \n",
              "4  /20181231/1548961265.html  2018-12-31  31 декабря 2018, 23:07   \n",
              "\n",
              "                                               title  \\\n",
              "0  Нетаньяху не собирается в отставку в случае пр...   \n",
              "1  Макрон в новогоднем обращении затронул тему ре...   \n",
              "2  Аарон Рэмзи проведет переговоры с пятью топ-кл...   \n",
              "3  Гол Азмуна принес сборной Ирана победу над кат...   \n",
              "4  Пятая ракетка мира дель Потро пропустит Открыт...   \n",
              "\n",
              "                                             snippet  \\\n",
              "0  Премьер-министр Израиля Биньямин Нетаньяху не ...   \n",
              "1  Результат реформ не может быть мгновенным, зая...   \n",
              "2  Полузащитник лондонского \"Арсенала\" Аарон Рэмз...   \n",
              "3  Футболисты сборной Ирана одержали победу над к...   \n",
              "4  Аргентинский теннисист Хуан Мартин дель Потро ...   \n",
              "\n",
              "                                                text category  \\\n",
              "0  МОСКВА, 31 дек - РИА Новости. Премьер-министр ...   В мире   \n",
              "1  ПАРИЖ, 31 дек – РИА Новости. Результат реформ ...   В мире   \n",
              "2  МОСКВА, 31 дек - РИА Новости. Полузащитник лон...      NaN   \n",
              "3  МОСКВА, 31 дек - РИА Новости. Футболисты сборн...      NaN   \n",
              "4  МОСКВА, 31 дек - РИА Новости. Аргентинский тен...      NaN   \n",
              "\n",
              "                                     tags   shows  \n",
              "0     Биньямин Нетаньяху, Израиль, В мире   728.0  \n",
              "1       Эммануэль Макрон, Франция, В мире  3086.0  \n",
              "2                     ФК Арсенал (Лондон)   183.0  \n",
              "3  Сердар Азмун, Сборная Ирана по футболу    78.0  \n",
              "4                                  Теннис    79.0  "
            ],
            "text/html": [
              "\n",
              "  <div id=\"df-56064cba-731d-4c5d-903d-18d08ecc2731\" class=\"colab-df-container\">\n",
              "    <div>\n",
              "<style scoped>\n",
              "    .dataframe tbody tr th:only-of-type {\n",
              "        vertical-align: middle;\n",
              "    }\n",
              "\n",
              "    .dataframe tbody tr th {\n",
              "        vertical-align: top;\n",
              "    }\n",
              "\n",
              "    .dataframe thead th {\n",
              "        text-align: right;\n",
              "    }\n",
              "</style>\n",
              "<table border=\"1\" class=\"dataframe\">\n",
              "  <thead>\n",
              "    <tr style=\"text-align: right;\">\n",
              "      <th></th>\n",
              "      <th>href</th>\n",
              "      <th>date</th>\n",
              "      <th>time</th>\n",
              "      <th>title</th>\n",
              "      <th>snippet</th>\n",
              "      <th>text</th>\n",
              "      <th>category</th>\n",
              "      <th>tags</th>\n",
              "      <th>shows</th>\n",
              "    </tr>\n",
              "  </thead>\n",
              "  <tbody>\n",
              "    <tr>\n",
              "      <th>0</th>\n",
              "      <td>/20181231/1548961410.html</td>\n",
              "      <td>2018-12-31</td>\n",
              "      <td>31 декабря 2018, 23:52</td>\n",
              "      <td>Нетаньяху не собирается в отставку в случае пр...</td>\n",
              "      <td>Премьер-министр Израиля Биньямин Нетаньяху не ...</td>\n",
              "      <td>МОСКВА, 31 дек - РИА Новости. Премьер-министр ...</td>\n",
              "      <td>В мире</td>\n",
              "      <td>Биньямин Нетаньяху, Израиль, В мире</td>\n",
              "      <td>728.0</td>\n",
              "    </tr>\n",
              "    <tr>\n",
              "      <th>1</th>\n",
              "      <td>/20181231/1548961364.html</td>\n",
              "      <td>2018-12-31</td>\n",
              "      <td>31 декабря 2018, 23:19</td>\n",
              "      <td>Макрон в новогоднем обращении затронул тему ре...</td>\n",
              "      <td>Результат реформ не может быть мгновенным, зая...</td>\n",
              "      <td>ПАРИЖ, 31 дек – РИА Новости. Результат реформ ...</td>\n",
              "      <td>В мире</td>\n",
              "      <td>Эммануэль Макрон, Франция, В мире</td>\n",
              "      <td>3086.0</td>\n",
              "    </tr>\n",
              "    <tr>\n",
              "      <th>2</th>\n",
              "      <td>/20181231/1548961337.html</td>\n",
              "      <td>2018-12-31</td>\n",
              "      <td>31 декабря 2018, 23:12</td>\n",
              "      <td>Аарон Рэмзи проведет переговоры с пятью топ-кл...</td>\n",
              "      <td>Полузащитник лондонского \"Арсенала\" Аарон Рэмз...</td>\n",
              "      <td>МОСКВА, 31 дек - РИА Новости. Полузащитник лон...</td>\n",
              "      <td>NaN</td>\n",
              "      <td>ФК Арсенал (Лондон)</td>\n",
              "      <td>183.0</td>\n",
              "    </tr>\n",
              "    <tr>\n",
              "      <th>3</th>\n",
              "      <td>/20181231/1548961304.html</td>\n",
              "      <td>2018-12-31</td>\n",
              "      <td>31 декабря 2018, 23:09</td>\n",
              "      <td>Гол Азмуна принес сборной Ирана победу над кат...</td>\n",
              "      <td>Футболисты сборной Ирана одержали победу над к...</td>\n",
              "      <td>МОСКВА, 31 дек - РИА Новости. Футболисты сборн...</td>\n",
              "      <td>NaN</td>\n",
              "      <td>Сердар Азмун, Сборная Ирана по футболу</td>\n",
              "      <td>78.0</td>\n",
              "    </tr>\n",
              "    <tr>\n",
              "      <th>4</th>\n",
              "      <td>/20181231/1548961265.html</td>\n",
              "      <td>2018-12-31</td>\n",
              "      <td>31 декабря 2018, 23:07</td>\n",
              "      <td>Пятая ракетка мира дель Потро пропустит Открыт...</td>\n",
              "      <td>Аргентинский теннисист Хуан Мартин дель Потро ...</td>\n",
              "      <td>МОСКВА, 31 дек - РИА Новости. Аргентинский тен...</td>\n",
              "      <td>NaN</td>\n",
              "      <td>Теннис</td>\n",
              "      <td>79.0</td>\n",
              "    </tr>\n",
              "  </tbody>\n",
              "</table>\n",
              "</div>\n",
              "    <div class=\"colab-df-buttons\">\n",
              "\n",
              "  <div class=\"colab-df-container\">\n",
              "    <button class=\"colab-df-convert\" onclick=\"convertToInteractive('df-56064cba-731d-4c5d-903d-18d08ecc2731')\"\n",
              "            title=\"Convert this dataframe to an interactive table.\"\n",
              "            style=\"display:none;\">\n",
              "\n",
              "  <svg xmlns=\"http://www.w3.org/2000/svg\" height=\"24px\" viewBox=\"0 -960 960 960\">\n",
              "    <path d=\"M120-120v-720h720v720H120Zm60-500h600v-160H180v160Zm220 220h160v-160H400v160Zm0 220h160v-160H400v160ZM180-400h160v-160H180v160Zm440 0h160v-160H620v160ZM180-180h160v-160H180v160Zm440 0h160v-160H620v160Z\"/>\n",
              "  </svg>\n",
              "    </button>\n",
              "\n",
              "  <style>\n",
              "    .colab-df-container {\n",
              "      display:flex;\n",
              "      gap: 12px;\n",
              "    }\n",
              "\n",
              "    .colab-df-convert {\n",
              "      background-color: #E8F0FE;\n",
              "      border: none;\n",
              "      border-radius: 50%;\n",
              "      cursor: pointer;\n",
              "      display: none;\n",
              "      fill: #1967D2;\n",
              "      height: 32px;\n",
              "      padding: 0 0 0 0;\n",
              "      width: 32px;\n",
              "    }\n",
              "\n",
              "    .colab-df-convert:hover {\n",
              "      background-color: #E2EBFA;\n",
              "      box-shadow: 0px 1px 2px rgba(60, 64, 67, 0.3), 0px 1px 3px 1px rgba(60, 64, 67, 0.15);\n",
              "      fill: #174EA6;\n",
              "    }\n",
              "\n",
              "    .colab-df-buttons div {\n",
              "      margin-bottom: 4px;\n",
              "    }\n",
              "\n",
              "    [theme=dark] .colab-df-convert {\n",
              "      background-color: #3B4455;\n",
              "      fill: #D2E3FC;\n",
              "    }\n",
              "\n",
              "    [theme=dark] .colab-df-convert:hover {\n",
              "      background-color: #434B5C;\n",
              "      box-shadow: 0px 1px 3px 1px rgba(0, 0, 0, 0.15);\n",
              "      filter: drop-shadow(0px 1px 2px rgba(0, 0, 0, 0.3));\n",
              "      fill: #FFFFFF;\n",
              "    }\n",
              "  </style>\n",
              "\n",
              "    <script>\n",
              "      const buttonEl =\n",
              "        document.querySelector('#df-56064cba-731d-4c5d-903d-18d08ecc2731 button.colab-df-convert');\n",
              "      buttonEl.style.display =\n",
              "        google.colab.kernel.accessAllowed ? 'block' : 'none';\n",
              "\n",
              "      async function convertToInteractive(key) {\n",
              "        const element = document.querySelector('#df-56064cba-731d-4c5d-903d-18d08ecc2731');\n",
              "        const dataTable =\n",
              "          await google.colab.kernel.invokeFunction('convertToInteractive',\n",
              "                                                    [key], {});\n",
              "        if (!dataTable) return;\n",
              "\n",
              "        const docLinkHtml = 'Like what you see? Visit the ' +\n",
              "          '<a target=\"_blank\" href=https://colab.research.google.com/notebooks/data_table.ipynb>data table notebook</a>'\n",
              "          + ' to learn more about interactive tables.';\n",
              "        element.innerHTML = '';\n",
              "        dataTable['output_type'] = 'display_data';\n",
              "        await google.colab.output.renderOutput(dataTable, element);\n",
              "        const docLink = document.createElement('div');\n",
              "        docLink.innerHTML = docLinkHtml;\n",
              "        element.appendChild(docLink);\n",
              "      }\n",
              "    </script>\n",
              "  </div>\n",
              "\n",
              "\n",
              "<div id=\"df-1b605cf1-0194-4d6e-946a-854f9ebcd775\">\n",
              "  <button class=\"colab-df-quickchart\" onclick=\"quickchart('df-1b605cf1-0194-4d6e-946a-854f9ebcd775')\"\n",
              "            title=\"Suggest charts\"\n",
              "            style=\"display:none;\">\n",
              "\n",
              "<svg xmlns=\"http://www.w3.org/2000/svg\" height=\"24px\"viewBox=\"0 0 24 24\"\n",
              "     width=\"24px\">\n",
              "    <g>\n",
              "        <path d=\"M19 3H5c-1.1 0-2 .9-2 2v14c0 1.1.9 2 2 2h14c1.1 0 2-.9 2-2V5c0-1.1-.9-2-2-2zM9 17H7v-7h2v7zm4 0h-2V7h2v10zm4 0h-2v-4h2v4z\"/>\n",
              "    </g>\n",
              "</svg>\n",
              "  </button>\n",
              "\n",
              "<style>\n",
              "  .colab-df-quickchart {\n",
              "      --bg-color: #E8F0FE;\n",
              "      --fill-color: #1967D2;\n",
              "      --hover-bg-color: #E2EBFA;\n",
              "      --hover-fill-color: #174EA6;\n",
              "      --disabled-fill-color: #AAA;\n",
              "      --disabled-bg-color: #DDD;\n",
              "  }\n",
              "\n",
              "  [theme=dark] .colab-df-quickchart {\n",
              "      --bg-color: #3B4455;\n",
              "      --fill-color: #D2E3FC;\n",
              "      --hover-bg-color: #434B5C;\n",
              "      --hover-fill-color: #FFFFFF;\n",
              "      --disabled-bg-color: #3B4455;\n",
              "      --disabled-fill-color: #666;\n",
              "  }\n",
              "\n",
              "  .colab-df-quickchart {\n",
              "    background-color: var(--bg-color);\n",
              "    border: none;\n",
              "    border-radius: 50%;\n",
              "    cursor: pointer;\n",
              "    display: none;\n",
              "    fill: var(--fill-color);\n",
              "    height: 32px;\n",
              "    padding: 0;\n",
              "    width: 32px;\n",
              "  }\n",
              "\n",
              "  .colab-df-quickchart:hover {\n",
              "    background-color: var(--hover-bg-color);\n",
              "    box-shadow: 0 1px 2px rgba(60, 64, 67, 0.3), 0 1px 3px 1px rgba(60, 64, 67, 0.15);\n",
              "    fill: var(--button-hover-fill-color);\n",
              "  }\n",
              "\n",
              "  .colab-df-quickchart-complete:disabled,\n",
              "  .colab-df-quickchart-complete:disabled:hover {\n",
              "    background-color: var(--disabled-bg-color);\n",
              "    fill: var(--disabled-fill-color);\n",
              "    box-shadow: none;\n",
              "  }\n",
              "\n",
              "  .colab-df-spinner {\n",
              "    border: 2px solid var(--fill-color);\n",
              "    border-color: transparent;\n",
              "    border-bottom-color: var(--fill-color);\n",
              "    animation:\n",
              "      spin 1s steps(1) infinite;\n",
              "  }\n",
              "\n",
              "  @keyframes spin {\n",
              "    0% {\n",
              "      border-color: transparent;\n",
              "      border-bottom-color: var(--fill-color);\n",
              "      border-left-color: var(--fill-color);\n",
              "    }\n",
              "    20% {\n",
              "      border-color: transparent;\n",
              "      border-left-color: var(--fill-color);\n",
              "      border-top-color: var(--fill-color);\n",
              "    }\n",
              "    30% {\n",
              "      border-color: transparent;\n",
              "      border-left-color: var(--fill-color);\n",
              "      border-top-color: var(--fill-color);\n",
              "      border-right-color: var(--fill-color);\n",
              "    }\n",
              "    40% {\n",
              "      border-color: transparent;\n",
              "      border-right-color: var(--fill-color);\n",
              "      border-top-color: var(--fill-color);\n",
              "    }\n",
              "    60% {\n",
              "      border-color: transparent;\n",
              "      border-right-color: var(--fill-color);\n",
              "    }\n",
              "    80% {\n",
              "      border-color: transparent;\n",
              "      border-right-color: var(--fill-color);\n",
              "      border-bottom-color: var(--fill-color);\n",
              "    }\n",
              "    90% {\n",
              "      border-color: transparent;\n",
              "      border-bottom-color: var(--fill-color);\n",
              "    }\n",
              "  }\n",
              "</style>\n",
              "\n",
              "  <script>\n",
              "    async function quickchart(key) {\n",
              "      const quickchartButtonEl =\n",
              "        document.querySelector('#' + key + ' button');\n",
              "      quickchartButtonEl.disabled = true;  // To prevent multiple clicks.\n",
              "      quickchartButtonEl.classList.add('colab-df-spinner');\n",
              "      try {\n",
              "        const charts = await google.colab.kernel.invokeFunction(\n",
              "            'suggestCharts', [key], {});\n",
              "      } catch (error) {\n",
              "        console.error('Error during call to suggestCharts:', error);\n",
              "      }\n",
              "      quickchartButtonEl.classList.remove('colab-df-spinner');\n",
              "      quickchartButtonEl.classList.add('colab-df-quickchart-complete');\n",
              "    }\n",
              "    (() => {\n",
              "      let quickchartButtonEl =\n",
              "        document.querySelector('#df-1b605cf1-0194-4d6e-946a-854f9ebcd775 button');\n",
              "      quickchartButtonEl.style.display =\n",
              "        google.colab.kernel.accessAllowed ? 'block' : 'none';\n",
              "    })();\n",
              "  </script>\n",
              "</div>\n",
              "    </div>\n",
              "  </div>\n"
            ]
          },
          "metadata": {},
          "execution_count": 85
        }
      ],
      "source": [
        "df_ria = pd.read_csv('news_data/ria_news.tsv', sep='\\t')\n",
        "df_ria = df_ria[~df_ria.tags.isnull()]\n",
        "print(df_ria.shape)\n",
        "df_ria.head()"
      ]
    },
    {
      "cell_type": "markdown",
      "metadata": {
        "id": "smOrAVujM_zS"
      },
      "source": [
        "Многие новостные агенства поддерживают странички в социальных сетях. Они постят туда самые сочные сюжеты. В таблице `vk_news.tsv` лежат данные о новостях, которые РИА запостили ВКонтакте в период времени с  `2017-09-29 01:28:55` по `2019-02-01 23:13:17`.\n",
        "\n",
        "- `id` - уникальный идентификатор поста\n",
        "- `href` - ссылка на сайт (если она была указана в посте)\n",
        "- `datetime` - дата и время публикации новости\n",
        "- `title` - заголовок новости\n",
        "- `text` - текст новости в социальной сети\n",
        "- `likes` - число лайков под постом\n",
        "- `comments` - число комментариев под постом"
      ]
    },
    {
      "cell_type": "code",
      "execution_count": 86,
      "metadata": {
        "colab": {
          "base_uri": "https://localhost:8080/",
          "height": 221
        },
        "id": "FFZHXKukM_zS",
        "outputId": "29dfb02e-f313-4c88-a56c-a1f552119b82"
      },
      "outputs": [
        {
          "output_type": "stream",
          "name": "stdout",
          "text": [
            "(19928, 7)\n"
          ]
        },
        {
          "output_type": "execute_result",
          "data": {
            "text/plain": [
              "         id                       href             datetime  \\\n",
              "0  24006362  /20190201/1550280358.html  2019-02-01 23:13:17   \n",
              "1  24006240  /20190201/1550268781.html  2019-02-01 22:38:41   \n",
              "2  24006100  /20190201/1550282212.html  2019-02-01 21:58:52   \n",
              "3  24005972  /20190202/1550283179.html  2019-02-01 21:27:06   \n",
              "4  24005764  /20190201/1550262848.html  2019-02-01 20:55:54   \n",
              "\n",
              "                                               title  likes  comments snippet  \n",
              "0  В ДНР заявили о задержании диверсантов, причас...     15        28     NaN  \n",
              "1  Житель Урала \"заминировал\" ТЦ из-за снятия  со...     32        42     NaN  \n",
              "2      В Черном море нашли \"потерянный флот Гитлера\"     84        23     NaN  \n",
              "3  В США освободили задержанную российскую актрис...     58        35     NaN  \n",
              "4  Толкнувший Скабееву депутат Рады заявил о гроз...     45       145     NaN  "
            ],
            "text/html": [
              "\n",
              "  <div id=\"df-ee47572d-f95a-4419-800b-7a14fa7a264a\" class=\"colab-df-container\">\n",
              "    <div>\n",
              "<style scoped>\n",
              "    .dataframe tbody tr th:only-of-type {\n",
              "        vertical-align: middle;\n",
              "    }\n",
              "\n",
              "    .dataframe tbody tr th {\n",
              "        vertical-align: top;\n",
              "    }\n",
              "\n",
              "    .dataframe thead th {\n",
              "        text-align: right;\n",
              "    }\n",
              "</style>\n",
              "<table border=\"1\" class=\"dataframe\">\n",
              "  <thead>\n",
              "    <tr style=\"text-align: right;\">\n",
              "      <th></th>\n",
              "      <th>id</th>\n",
              "      <th>href</th>\n",
              "      <th>datetime</th>\n",
              "      <th>title</th>\n",
              "      <th>likes</th>\n",
              "      <th>comments</th>\n",
              "      <th>snippet</th>\n",
              "    </tr>\n",
              "  </thead>\n",
              "  <tbody>\n",
              "    <tr>\n",
              "      <th>0</th>\n",
              "      <td>24006362</td>\n",
              "      <td>/20190201/1550280358.html</td>\n",
              "      <td>2019-02-01 23:13:17</td>\n",
              "      <td>В ДНР заявили о задержании диверсантов, причас...</td>\n",
              "      <td>15</td>\n",
              "      <td>28</td>\n",
              "      <td>NaN</td>\n",
              "    </tr>\n",
              "    <tr>\n",
              "      <th>1</th>\n",
              "      <td>24006240</td>\n",
              "      <td>/20190201/1550268781.html</td>\n",
              "      <td>2019-02-01 22:38:41</td>\n",
              "      <td>Житель Урала \"заминировал\" ТЦ из-за снятия  со...</td>\n",
              "      <td>32</td>\n",
              "      <td>42</td>\n",
              "      <td>NaN</td>\n",
              "    </tr>\n",
              "    <tr>\n",
              "      <th>2</th>\n",
              "      <td>24006100</td>\n",
              "      <td>/20190201/1550282212.html</td>\n",
              "      <td>2019-02-01 21:58:52</td>\n",
              "      <td>В Черном море нашли \"потерянный флот Гитлера\"</td>\n",
              "      <td>84</td>\n",
              "      <td>23</td>\n",
              "      <td>NaN</td>\n",
              "    </tr>\n",
              "    <tr>\n",
              "      <th>3</th>\n",
              "      <td>24005972</td>\n",
              "      <td>/20190202/1550283179.html</td>\n",
              "      <td>2019-02-01 21:27:06</td>\n",
              "      <td>В США освободили задержанную российскую актрис...</td>\n",
              "      <td>58</td>\n",
              "      <td>35</td>\n",
              "      <td>NaN</td>\n",
              "    </tr>\n",
              "    <tr>\n",
              "      <th>4</th>\n",
              "      <td>24005764</td>\n",
              "      <td>/20190201/1550262848.html</td>\n",
              "      <td>2019-02-01 20:55:54</td>\n",
              "      <td>Толкнувший Скабееву депутат Рады заявил о гроз...</td>\n",
              "      <td>45</td>\n",
              "      <td>145</td>\n",
              "      <td>NaN</td>\n",
              "    </tr>\n",
              "  </tbody>\n",
              "</table>\n",
              "</div>\n",
              "    <div class=\"colab-df-buttons\">\n",
              "\n",
              "  <div class=\"colab-df-container\">\n",
              "    <button class=\"colab-df-convert\" onclick=\"convertToInteractive('df-ee47572d-f95a-4419-800b-7a14fa7a264a')\"\n",
              "            title=\"Convert this dataframe to an interactive table.\"\n",
              "            style=\"display:none;\">\n",
              "\n",
              "  <svg xmlns=\"http://www.w3.org/2000/svg\" height=\"24px\" viewBox=\"0 -960 960 960\">\n",
              "    <path d=\"M120-120v-720h720v720H120Zm60-500h600v-160H180v160Zm220 220h160v-160H400v160Zm0 220h160v-160H400v160ZM180-400h160v-160H180v160Zm440 0h160v-160H620v160ZM180-180h160v-160H180v160Zm440 0h160v-160H620v160Z\"/>\n",
              "  </svg>\n",
              "    </button>\n",
              "\n",
              "  <style>\n",
              "    .colab-df-container {\n",
              "      display:flex;\n",
              "      gap: 12px;\n",
              "    }\n",
              "\n",
              "    .colab-df-convert {\n",
              "      background-color: #E8F0FE;\n",
              "      border: none;\n",
              "      border-radius: 50%;\n",
              "      cursor: pointer;\n",
              "      display: none;\n",
              "      fill: #1967D2;\n",
              "      height: 32px;\n",
              "      padding: 0 0 0 0;\n",
              "      width: 32px;\n",
              "    }\n",
              "\n",
              "    .colab-df-convert:hover {\n",
              "      background-color: #E2EBFA;\n",
              "      box-shadow: 0px 1px 2px rgba(60, 64, 67, 0.3), 0px 1px 3px 1px rgba(60, 64, 67, 0.15);\n",
              "      fill: #174EA6;\n",
              "    }\n",
              "\n",
              "    .colab-df-buttons div {\n",
              "      margin-bottom: 4px;\n",
              "    }\n",
              "\n",
              "    [theme=dark] .colab-df-convert {\n",
              "      background-color: #3B4455;\n",
              "      fill: #D2E3FC;\n",
              "    }\n",
              "\n",
              "    [theme=dark] .colab-df-convert:hover {\n",
              "      background-color: #434B5C;\n",
              "      box-shadow: 0px 1px 3px 1px rgba(0, 0, 0, 0.15);\n",
              "      filter: drop-shadow(0px 1px 2px rgba(0, 0, 0, 0.3));\n",
              "      fill: #FFFFFF;\n",
              "    }\n",
              "  </style>\n",
              "\n",
              "    <script>\n",
              "      const buttonEl =\n",
              "        document.querySelector('#df-ee47572d-f95a-4419-800b-7a14fa7a264a button.colab-df-convert');\n",
              "      buttonEl.style.display =\n",
              "        google.colab.kernel.accessAllowed ? 'block' : 'none';\n",
              "\n",
              "      async function convertToInteractive(key) {\n",
              "        const element = document.querySelector('#df-ee47572d-f95a-4419-800b-7a14fa7a264a');\n",
              "        const dataTable =\n",
              "          await google.colab.kernel.invokeFunction('convertToInteractive',\n",
              "                                                    [key], {});\n",
              "        if (!dataTable) return;\n",
              "\n",
              "        const docLinkHtml = 'Like what you see? Visit the ' +\n",
              "          '<a target=\"_blank\" href=https://colab.research.google.com/notebooks/data_table.ipynb>data table notebook</a>'\n",
              "          + ' to learn more about interactive tables.';\n",
              "        element.innerHTML = '';\n",
              "        dataTable['output_type'] = 'display_data';\n",
              "        await google.colab.output.renderOutput(dataTable, element);\n",
              "        const docLink = document.createElement('div');\n",
              "        docLink.innerHTML = docLinkHtml;\n",
              "        element.appendChild(docLink);\n",
              "      }\n",
              "    </script>\n",
              "  </div>\n",
              "\n",
              "\n",
              "<div id=\"df-2af802a4-ec40-4544-a29a-e5be1d9e22f0\">\n",
              "  <button class=\"colab-df-quickchart\" onclick=\"quickchart('df-2af802a4-ec40-4544-a29a-e5be1d9e22f0')\"\n",
              "            title=\"Suggest charts\"\n",
              "            style=\"display:none;\">\n",
              "\n",
              "<svg xmlns=\"http://www.w3.org/2000/svg\" height=\"24px\"viewBox=\"0 0 24 24\"\n",
              "     width=\"24px\">\n",
              "    <g>\n",
              "        <path d=\"M19 3H5c-1.1 0-2 .9-2 2v14c0 1.1.9 2 2 2h14c1.1 0 2-.9 2-2V5c0-1.1-.9-2-2-2zM9 17H7v-7h2v7zm4 0h-2V7h2v10zm4 0h-2v-4h2v4z\"/>\n",
              "    </g>\n",
              "</svg>\n",
              "  </button>\n",
              "\n",
              "<style>\n",
              "  .colab-df-quickchart {\n",
              "      --bg-color: #E8F0FE;\n",
              "      --fill-color: #1967D2;\n",
              "      --hover-bg-color: #E2EBFA;\n",
              "      --hover-fill-color: #174EA6;\n",
              "      --disabled-fill-color: #AAA;\n",
              "      --disabled-bg-color: #DDD;\n",
              "  }\n",
              "\n",
              "  [theme=dark] .colab-df-quickchart {\n",
              "      --bg-color: #3B4455;\n",
              "      --fill-color: #D2E3FC;\n",
              "      --hover-bg-color: #434B5C;\n",
              "      --hover-fill-color: #FFFFFF;\n",
              "      --disabled-bg-color: #3B4455;\n",
              "      --disabled-fill-color: #666;\n",
              "  }\n",
              "\n",
              "  .colab-df-quickchart {\n",
              "    background-color: var(--bg-color);\n",
              "    border: none;\n",
              "    border-radius: 50%;\n",
              "    cursor: pointer;\n",
              "    display: none;\n",
              "    fill: var(--fill-color);\n",
              "    height: 32px;\n",
              "    padding: 0;\n",
              "    width: 32px;\n",
              "  }\n",
              "\n",
              "  .colab-df-quickchart:hover {\n",
              "    background-color: var(--hover-bg-color);\n",
              "    box-shadow: 0 1px 2px rgba(60, 64, 67, 0.3), 0 1px 3px 1px rgba(60, 64, 67, 0.15);\n",
              "    fill: var(--button-hover-fill-color);\n",
              "  }\n",
              "\n",
              "  .colab-df-quickchart-complete:disabled,\n",
              "  .colab-df-quickchart-complete:disabled:hover {\n",
              "    background-color: var(--disabled-bg-color);\n",
              "    fill: var(--disabled-fill-color);\n",
              "    box-shadow: none;\n",
              "  }\n",
              "\n",
              "  .colab-df-spinner {\n",
              "    border: 2px solid var(--fill-color);\n",
              "    border-color: transparent;\n",
              "    border-bottom-color: var(--fill-color);\n",
              "    animation:\n",
              "      spin 1s steps(1) infinite;\n",
              "  }\n",
              "\n",
              "  @keyframes spin {\n",
              "    0% {\n",
              "      border-color: transparent;\n",
              "      border-bottom-color: var(--fill-color);\n",
              "      border-left-color: var(--fill-color);\n",
              "    }\n",
              "    20% {\n",
              "      border-color: transparent;\n",
              "      border-left-color: var(--fill-color);\n",
              "      border-top-color: var(--fill-color);\n",
              "    }\n",
              "    30% {\n",
              "      border-color: transparent;\n",
              "      border-left-color: var(--fill-color);\n",
              "      border-top-color: var(--fill-color);\n",
              "      border-right-color: var(--fill-color);\n",
              "    }\n",
              "    40% {\n",
              "      border-color: transparent;\n",
              "      border-right-color: var(--fill-color);\n",
              "      border-top-color: var(--fill-color);\n",
              "    }\n",
              "    60% {\n",
              "      border-color: transparent;\n",
              "      border-right-color: var(--fill-color);\n",
              "    }\n",
              "    80% {\n",
              "      border-color: transparent;\n",
              "      border-right-color: var(--fill-color);\n",
              "      border-bottom-color: var(--fill-color);\n",
              "    }\n",
              "    90% {\n",
              "      border-color: transparent;\n",
              "      border-bottom-color: var(--fill-color);\n",
              "    }\n",
              "  }\n",
              "</style>\n",
              "\n",
              "  <script>\n",
              "    async function quickchart(key) {\n",
              "      const quickchartButtonEl =\n",
              "        document.querySelector('#' + key + ' button');\n",
              "      quickchartButtonEl.disabled = true;  // To prevent multiple clicks.\n",
              "      quickchartButtonEl.classList.add('colab-df-spinner');\n",
              "      try {\n",
              "        const charts = await google.colab.kernel.invokeFunction(\n",
              "            'suggestCharts', [key], {});\n",
              "      } catch (error) {\n",
              "        console.error('Error during call to suggestCharts:', error);\n",
              "      }\n",
              "      quickchartButtonEl.classList.remove('colab-df-spinner');\n",
              "      quickchartButtonEl.classList.add('colab-df-quickchart-complete');\n",
              "    }\n",
              "    (() => {\n",
              "      let quickchartButtonEl =\n",
              "        document.querySelector('#df-2af802a4-ec40-4544-a29a-e5be1d9e22f0 button');\n",
              "      quickchartButtonEl.style.display =\n",
              "        google.colab.kernel.accessAllowed ? 'block' : 'none';\n",
              "    })();\n",
              "  </script>\n",
              "</div>\n",
              "    </div>\n",
              "  </div>\n"
            ]
          },
          "metadata": {},
          "execution_count": 86
        }
      ],
      "source": [
        "df_vk = pd.read_csv('news_data/vk_news.tsv', sep='\\t')\n",
        "df_vk['snippet'] = df_vk['text']\n",
        "df_vk.drop('text', axis=1, inplace=True)\n",
        "print(df_vk.shape)\n",
        "df_vk.head()"
      ]
    },
    {
      "cell_type": "markdown",
      "metadata": {
        "id": "HFaQtcOVM_zT"
      },
      "source": [
        "В таблице `vk_comments.tsv` лежат комментарии к новостям.\n",
        "\n",
        "- `id` - уникальный идентификатор комментария\n",
        "- `post_id` - идентификатор новости, под которой был оставлен комментарий\n",
        "- `datetime` - дата и время, когда был оставлен комментарий\n",
        "- `text` - текст комментария\n",
        "- `likes` - число лайков под комментарием"
      ]
    },
    {
      "cell_type": "code",
      "execution_count": 87,
      "metadata": {
        "colab": {
          "base_uri": "https://localhost:8080/",
          "height": 255
        },
        "id": "HBJvrG6wM_zT",
        "outputId": "bde78d19-1f75-442d-b724-37e60c5083fe"
      },
      "outputs": [
        {
          "output_type": "stream",
          "name": "stderr",
          "text": [
            "<ipython-input-87-9f937a17e540>:1: DtypeWarning: Columns (0) have mixed types. Specify dtype option on import or set low_memory=False.\n",
            "  df_comments = pd.read_csv('news_data/vk_comments.tsv', sep='\\t')\n"
          ]
        },
        {
          "output_type": "stream",
          "name": "stdout",
          "text": [
            "(2612629, 5)\n"
          ]
        },
        {
          "output_type": "execute_result",
          "data": {
            "text/plain": [
              "           id     post_id             datetime  \\\n",
              "0  24006366.0  24006362.0  2019-02-01 23:14:14   \n",
              "1  24006370.0  24006362.0  2019-02-01 23:15:23   \n",
              "2  24006371.0  24006362.0  2019-02-01 23:16:21   \n",
              "3  24006374.0  24006362.0  2019-02-01 23:16:38   \n",
              "4  24006375.0  24006362.0  2019-02-01 23:16:40   \n",
              "\n",
              "                                                text  likes  \n",
              "0                                       ЧВК Вагнера?    5.0  \n",
              "1                [id4710641|Евгений], выздоравливай.    3.0  \n",
              "2  [id442655034|Андрей], искренне желаю этого все...    4.0  \n",
              "3                         Опять про Украину новости?    1.0  \n",
              "4                                      Че такое ДНР?    2.0  "
            ],
            "text/html": [
              "\n",
              "  <div id=\"df-d1406cd5-4113-4f87-bd49-2e4776933b95\" class=\"colab-df-container\">\n",
              "    <div>\n",
              "<style scoped>\n",
              "    .dataframe tbody tr th:only-of-type {\n",
              "        vertical-align: middle;\n",
              "    }\n",
              "\n",
              "    .dataframe tbody tr th {\n",
              "        vertical-align: top;\n",
              "    }\n",
              "\n",
              "    .dataframe thead th {\n",
              "        text-align: right;\n",
              "    }\n",
              "</style>\n",
              "<table border=\"1\" class=\"dataframe\">\n",
              "  <thead>\n",
              "    <tr style=\"text-align: right;\">\n",
              "      <th></th>\n",
              "      <th>id</th>\n",
              "      <th>post_id</th>\n",
              "      <th>datetime</th>\n",
              "      <th>text</th>\n",
              "      <th>likes</th>\n",
              "    </tr>\n",
              "  </thead>\n",
              "  <tbody>\n",
              "    <tr>\n",
              "      <th>0</th>\n",
              "      <td>24006366.0</td>\n",
              "      <td>24006362.0</td>\n",
              "      <td>2019-02-01 23:14:14</td>\n",
              "      <td>ЧВК Вагнера?</td>\n",
              "      <td>5.0</td>\n",
              "    </tr>\n",
              "    <tr>\n",
              "      <th>1</th>\n",
              "      <td>24006370.0</td>\n",
              "      <td>24006362.0</td>\n",
              "      <td>2019-02-01 23:15:23</td>\n",
              "      <td>[id4710641|Евгений], выздоравливай.</td>\n",
              "      <td>3.0</td>\n",
              "    </tr>\n",
              "    <tr>\n",
              "      <th>2</th>\n",
              "      <td>24006371.0</td>\n",
              "      <td>24006362.0</td>\n",
              "      <td>2019-02-01 23:16:21</td>\n",
              "      <td>[id442655034|Андрей], искренне желаю этого все...</td>\n",
              "      <td>4.0</td>\n",
              "    </tr>\n",
              "    <tr>\n",
              "      <th>3</th>\n",
              "      <td>24006374.0</td>\n",
              "      <td>24006362.0</td>\n",
              "      <td>2019-02-01 23:16:38</td>\n",
              "      <td>Опять про Украину новости?</td>\n",
              "      <td>1.0</td>\n",
              "    </tr>\n",
              "    <tr>\n",
              "      <th>4</th>\n",
              "      <td>24006375.0</td>\n",
              "      <td>24006362.0</td>\n",
              "      <td>2019-02-01 23:16:40</td>\n",
              "      <td>Че такое ДНР?</td>\n",
              "      <td>2.0</td>\n",
              "    </tr>\n",
              "  </tbody>\n",
              "</table>\n",
              "</div>\n",
              "    <div class=\"colab-df-buttons\">\n",
              "\n",
              "  <div class=\"colab-df-container\">\n",
              "    <button class=\"colab-df-convert\" onclick=\"convertToInteractive('df-d1406cd5-4113-4f87-bd49-2e4776933b95')\"\n",
              "            title=\"Convert this dataframe to an interactive table.\"\n",
              "            style=\"display:none;\">\n",
              "\n",
              "  <svg xmlns=\"http://www.w3.org/2000/svg\" height=\"24px\" viewBox=\"0 -960 960 960\">\n",
              "    <path d=\"M120-120v-720h720v720H120Zm60-500h600v-160H180v160Zm220 220h160v-160H400v160Zm0 220h160v-160H400v160ZM180-400h160v-160H180v160Zm440 0h160v-160H620v160ZM180-180h160v-160H180v160Zm440 0h160v-160H620v160Z\"/>\n",
              "  </svg>\n",
              "    </button>\n",
              "\n",
              "  <style>\n",
              "    .colab-df-container {\n",
              "      display:flex;\n",
              "      gap: 12px;\n",
              "    }\n",
              "\n",
              "    .colab-df-convert {\n",
              "      background-color: #E8F0FE;\n",
              "      border: none;\n",
              "      border-radius: 50%;\n",
              "      cursor: pointer;\n",
              "      display: none;\n",
              "      fill: #1967D2;\n",
              "      height: 32px;\n",
              "      padding: 0 0 0 0;\n",
              "      width: 32px;\n",
              "    }\n",
              "\n",
              "    .colab-df-convert:hover {\n",
              "      background-color: #E2EBFA;\n",
              "      box-shadow: 0px 1px 2px rgba(60, 64, 67, 0.3), 0px 1px 3px 1px rgba(60, 64, 67, 0.15);\n",
              "      fill: #174EA6;\n",
              "    }\n",
              "\n",
              "    .colab-df-buttons div {\n",
              "      margin-bottom: 4px;\n",
              "    }\n",
              "\n",
              "    [theme=dark] .colab-df-convert {\n",
              "      background-color: #3B4455;\n",
              "      fill: #D2E3FC;\n",
              "    }\n",
              "\n",
              "    [theme=dark] .colab-df-convert:hover {\n",
              "      background-color: #434B5C;\n",
              "      box-shadow: 0px 1px 3px 1px rgba(0, 0, 0, 0.15);\n",
              "      filter: drop-shadow(0px 1px 2px rgba(0, 0, 0, 0.3));\n",
              "      fill: #FFFFFF;\n",
              "    }\n",
              "  </style>\n",
              "\n",
              "    <script>\n",
              "      const buttonEl =\n",
              "        document.querySelector('#df-d1406cd5-4113-4f87-bd49-2e4776933b95 button.colab-df-convert');\n",
              "      buttonEl.style.display =\n",
              "        google.colab.kernel.accessAllowed ? 'block' : 'none';\n",
              "\n",
              "      async function convertToInteractive(key) {\n",
              "        const element = document.querySelector('#df-d1406cd5-4113-4f87-bd49-2e4776933b95');\n",
              "        const dataTable =\n",
              "          await google.colab.kernel.invokeFunction('convertToInteractive',\n",
              "                                                    [key], {});\n",
              "        if (!dataTable) return;\n",
              "\n",
              "        const docLinkHtml = 'Like what you see? Visit the ' +\n",
              "          '<a target=\"_blank\" href=https://colab.research.google.com/notebooks/data_table.ipynb>data table notebook</a>'\n",
              "          + ' to learn more about interactive tables.';\n",
              "        element.innerHTML = '';\n",
              "        dataTable['output_type'] = 'display_data';\n",
              "        await google.colab.output.renderOutput(dataTable, element);\n",
              "        const docLink = document.createElement('div');\n",
              "        docLink.innerHTML = docLinkHtml;\n",
              "        element.appendChild(docLink);\n",
              "      }\n",
              "    </script>\n",
              "  </div>\n",
              "\n",
              "\n",
              "<div id=\"df-44a55663-7245-4748-89e8-c75b4d32b14e\">\n",
              "  <button class=\"colab-df-quickchart\" onclick=\"quickchart('df-44a55663-7245-4748-89e8-c75b4d32b14e')\"\n",
              "            title=\"Suggest charts\"\n",
              "            style=\"display:none;\">\n",
              "\n",
              "<svg xmlns=\"http://www.w3.org/2000/svg\" height=\"24px\"viewBox=\"0 0 24 24\"\n",
              "     width=\"24px\">\n",
              "    <g>\n",
              "        <path d=\"M19 3H5c-1.1 0-2 .9-2 2v14c0 1.1.9 2 2 2h14c1.1 0 2-.9 2-2V5c0-1.1-.9-2-2-2zM9 17H7v-7h2v7zm4 0h-2V7h2v10zm4 0h-2v-4h2v4z\"/>\n",
              "    </g>\n",
              "</svg>\n",
              "  </button>\n",
              "\n",
              "<style>\n",
              "  .colab-df-quickchart {\n",
              "      --bg-color: #E8F0FE;\n",
              "      --fill-color: #1967D2;\n",
              "      --hover-bg-color: #E2EBFA;\n",
              "      --hover-fill-color: #174EA6;\n",
              "      --disabled-fill-color: #AAA;\n",
              "      --disabled-bg-color: #DDD;\n",
              "  }\n",
              "\n",
              "  [theme=dark] .colab-df-quickchart {\n",
              "      --bg-color: #3B4455;\n",
              "      --fill-color: #D2E3FC;\n",
              "      --hover-bg-color: #434B5C;\n",
              "      --hover-fill-color: #FFFFFF;\n",
              "      --disabled-bg-color: #3B4455;\n",
              "      --disabled-fill-color: #666;\n",
              "  }\n",
              "\n",
              "  .colab-df-quickchart {\n",
              "    background-color: var(--bg-color);\n",
              "    border: none;\n",
              "    border-radius: 50%;\n",
              "    cursor: pointer;\n",
              "    display: none;\n",
              "    fill: var(--fill-color);\n",
              "    height: 32px;\n",
              "    padding: 0;\n",
              "    width: 32px;\n",
              "  }\n",
              "\n",
              "  .colab-df-quickchart:hover {\n",
              "    background-color: var(--hover-bg-color);\n",
              "    box-shadow: 0 1px 2px rgba(60, 64, 67, 0.3), 0 1px 3px 1px rgba(60, 64, 67, 0.15);\n",
              "    fill: var(--button-hover-fill-color);\n",
              "  }\n",
              "\n",
              "  .colab-df-quickchart-complete:disabled,\n",
              "  .colab-df-quickchart-complete:disabled:hover {\n",
              "    background-color: var(--disabled-bg-color);\n",
              "    fill: var(--disabled-fill-color);\n",
              "    box-shadow: none;\n",
              "  }\n",
              "\n",
              "  .colab-df-spinner {\n",
              "    border: 2px solid var(--fill-color);\n",
              "    border-color: transparent;\n",
              "    border-bottom-color: var(--fill-color);\n",
              "    animation:\n",
              "      spin 1s steps(1) infinite;\n",
              "  }\n",
              "\n",
              "  @keyframes spin {\n",
              "    0% {\n",
              "      border-color: transparent;\n",
              "      border-bottom-color: var(--fill-color);\n",
              "      border-left-color: var(--fill-color);\n",
              "    }\n",
              "    20% {\n",
              "      border-color: transparent;\n",
              "      border-left-color: var(--fill-color);\n",
              "      border-top-color: var(--fill-color);\n",
              "    }\n",
              "    30% {\n",
              "      border-color: transparent;\n",
              "      border-left-color: var(--fill-color);\n",
              "      border-top-color: var(--fill-color);\n",
              "      border-right-color: var(--fill-color);\n",
              "    }\n",
              "    40% {\n",
              "      border-color: transparent;\n",
              "      border-right-color: var(--fill-color);\n",
              "      border-top-color: var(--fill-color);\n",
              "    }\n",
              "    60% {\n",
              "      border-color: transparent;\n",
              "      border-right-color: var(--fill-color);\n",
              "    }\n",
              "    80% {\n",
              "      border-color: transparent;\n",
              "      border-right-color: var(--fill-color);\n",
              "      border-bottom-color: var(--fill-color);\n",
              "    }\n",
              "    90% {\n",
              "      border-color: transparent;\n",
              "      border-bottom-color: var(--fill-color);\n",
              "    }\n",
              "  }\n",
              "</style>\n",
              "\n",
              "  <script>\n",
              "    async function quickchart(key) {\n",
              "      const quickchartButtonEl =\n",
              "        document.querySelector('#' + key + ' button');\n",
              "      quickchartButtonEl.disabled = true;  // To prevent multiple clicks.\n",
              "      quickchartButtonEl.classList.add('colab-df-spinner');\n",
              "      try {\n",
              "        const charts = await google.colab.kernel.invokeFunction(\n",
              "            'suggestCharts', [key], {});\n",
              "      } catch (error) {\n",
              "        console.error('Error during call to suggestCharts:', error);\n",
              "      }\n",
              "      quickchartButtonEl.classList.remove('colab-df-spinner');\n",
              "      quickchartButtonEl.classList.add('colab-df-quickchart-complete');\n",
              "    }\n",
              "    (() => {\n",
              "      let quickchartButtonEl =\n",
              "        document.querySelector('#df-44a55663-7245-4748-89e8-c75b4d32b14e button');\n",
              "      quickchartButtonEl.style.display =\n",
              "        google.colab.kernel.accessAllowed ? 'block' : 'none';\n",
              "    })();\n",
              "  </script>\n",
              "</div>\n",
              "    </div>\n",
              "  </div>\n"
            ]
          },
          "metadata": {},
          "execution_count": 87
        }
      ],
      "source": [
        "df_comments = pd.read_csv('news_data/vk_comments.tsv', sep='\\t')\n",
        "df_comments = df_comments[~df_comments.text.isnull()]\n",
        "print(df_comments.shape)\n",
        "df_comments.head()"
      ]
    },
    {
      "cell_type": "markdown",
      "metadata": {
        "id": "58hpgVLvM_zT"
      },
      "source": [
        "# А что надо сделать то?\n",
        "\n",
        "В тетрадке вам предстоит сделать следующие шаги:\n",
        "\n",
        "1. Вы обучите нейросеть предсказывать категорию новости\n",
        "2. Вы построите предсказания для тех новостей, где мы ничего не знаем о категории\n",
        "3. Вы используете уже обученный для сентимент-анализа классификатор из библиотеки `hugging face` чтобы предсказать эмоциональную окраску каждого комментария\n",
        "4. Вы проведёте аналитику по новостям, а именно построите топы из самых позитивных и негативных категорий и новостей\n",
        "\n",
        "Для первого шага вам будет дан бэйзлайн. Если вы его прогоните, у вас получится базовая модель, которая даст некоторое качество решения задачи. Вам надо будет выяснить, насколько это качество оказалось хорошим, а затем внести в код некоторые улучшения.\n",
        "\n"
      ]
    },
    {
      "cell_type": "markdown",
      "metadata": {
        "id": "hdb5XYa_M_zT"
      },
      "source": [
        "## Часть 1: категоризация новостей (1.2 + 2 бонусных балла)\n",
        "\n",
        "Каждой новости в соотвествие поставлены ключевые слова. Будем считать, что эти ключевые слова — тематики новости. Нужно научиться предсказывать тематики по тексту новости. Готовые тематики у нас есть только по новостям с сайта. Они за 2018 год. По новостям из ВКонтакте у нас тематик нет. Мы собираемся их предсказать.\n",
        "\n",
        "Новости, опубликованные ВКонтакте, отличаются от новостей с сайта тем, что у них есть только титул и короткое описание. Странно будет обучать нейросеть на длинных текстах, а потом использовать её на коротких описаниях. Мы не будем так делать. Мы попробуем обучить базовый вариант нейронной сети только на заголовках новостей. Все, кто захочет получить бонусные баллы, смогут попробовать добавить в нейросеть сниппеты (так назыают короткие описания новостей)."
      ]
    },
    {
      "cell_type": "markdown",
      "metadata": {
        "id": "NmGxSLP-M_zT"
      },
      "source": [
        "## 1.1 Подготовка таргета\n",
        "\n",
        "Поработаем с таргетом. Мы будем предсказывать переменную `tags`. Давайте выясним скоько уникальных тегов существует."
      ]
    },
    {
      "cell_type": "code",
      "execution_count": 88,
      "metadata": {
        "colab": {
          "base_uri": "https://localhost:8080/"
        },
        "id": "NZDxrSvkM_zT",
        "outputId": "9466c40b-8907-4a50-c47f-99a5e0d9bfd3"
      },
      "outputs": [
        {
          "output_type": "stream",
          "name": "stdout",
          "text": [
            "13344\n"
          ]
        },
        {
          "output_type": "execute_result",
          "data": {
            "text/plain": [
              "[('блог анны завершинской об автоспорте - блоги', 1),\n",
              " ('министерство транспорта рб', 1),\n",
              " ('министерство здравоохранения грузии', 1),\n",
              " ('палех', 1),\n",
              " ('юрий посохов (хореограф)', 1),\n",
              " ('мария александрова', 1),\n",
              " ('том бенсон', 1),\n",
              " ('абдул каюм кочай', 1),\n",
              " ('нуман куртулмуш', 1),\n",
              " ('mipim', 1),\n",
              " ('владимир попов', 1),\n",
              " ('брюно женезио', 1),\n",
              " ('роберт фицо', 1),\n",
              " ('сергей пашинский', 1),\n",
              " ('валерия гонтарева', 1),\n",
              " ('нововоронеж', 1),\n",
              " ('императорское православное палестинское общество', 1),\n",
              " ('event_poslanie_prezidenta_rf_federalnomu_sobraniju', 1),\n",
              " ('фхтр', 1),\n",
              " ('игорь честин', 1)]"
            ]
          },
          "metadata": {},
          "execution_count": 88
        }
      ],
      "source": [
        "from collections import Counter\n",
        "\n",
        "# удалим все лишние пробелы и сделаем lowercase\n",
        "df_ria['tags'] = (\n",
        "    df_ria.tags.\n",
        "    apply(lambda w: ','.join([item.strip() for item in  w.lower().split(',')]))\n",
        ")\n",
        "\n",
        "tags = ','.join(list(df_ria.tags.values))\n",
        "tags_cnt = Counter(tags.split(','))\n",
        "\n",
        "print(len(tags_cnt))\n",
        "tags_cnt.most_common()[-20:]"
      ]
    },
    {
      "cell_type": "markdown",
      "metadata": {
        "id": "5Wv68z36M_zT"
      },
      "source": [
        "Всего в выборке есть порядка 13 000 тэгов. Многие встречаются всего по разу. Давайте оставим в выборке только те тэги, которые встречаются более 30 раз."
      ]
    },
    {
      "cell_type": "code",
      "execution_count": 89,
      "metadata": {
        "colab": {
          "base_uri": "https://localhost:8080/"
        },
        "id": "eA6H34iKM_zU",
        "outputId": "845eeaad-bf6f-41a6-82ed-749572e94079"
      },
      "outputs": [
        {
          "output_type": "execute_result",
          "data": {
            "text/plain": [
              "1583"
            ]
          },
          "metadata": {},
          "execution_count": 89
        }
      ],
      "source": [
        "target_tags = {tag for tag,cnt in tags_cnt.most_common() if cnt > 30}\n",
        "len(target_tags)"
      ]
    },
    {
      "cell_type": "markdown",
      "metadata": {
        "id": "RLrQSyCDM_zU"
      },
      "source": [
        "Закодируем теги для OHE."
      ]
    },
    {
      "cell_type": "code",
      "execution_count": 90,
      "metadata": {
        "id": "J2fKnLmTM_zU"
      },
      "outputs": [],
      "source": [
        "tag2idx = dict(zip(target_tags, range(len(target_tags))))\n",
        "idx2tag = {jtem: item for item,jtem in tag2idx.items()}"
      ]
    },
    {
      "cell_type": "markdown",
      "metadata": {
        "id": "8QDNftQqM_zU"
      },
      "source": [
        "Почистим таргет от лишних тэгов."
      ]
    },
    {
      "cell_type": "code",
      "execution_count": 91,
      "metadata": {
        "colab": {
          "base_uri": "https://localhost:8080/"
        },
        "id": "9pqA60YiM_zU",
        "outputId": "f046b016-1ee8-4662-9bd8-175074e34454"
      },
      "outputs": [
        {
          "output_type": "execute_result",
          "data": {
            "text/plain": [
              "(201437, 10)"
            ]
          },
          "metadata": {},
          "execution_count": 91
        }
      ],
      "source": [
        "df_ria['target_tags'] = (\n",
        "    df_ria.tags.\n",
        "    apply(lambda w: [tag2idx.get(item) for item in w.split(',') if item in target_tags])\n",
        ")\n",
        "\n",
        "df_ria = df_ria[df_ria.target_tags.apply(len) > 0]\n",
        "df_ria.shape"
      ]
    },
    {
      "cell_type": "code",
      "execution_count": 92,
      "metadata": {
        "colab": {
          "base_uri": "https://localhost:8080/"
        },
        "id": "y0KaYfuQM_zU",
        "outputId": "43147ef6-2c0f-4cbe-89be-807c462a23f5"
      },
      "outputs": [
        {
          "output_type": "execute_result",
          "data": {
            "text/plain": [
              "array([list([1503, 524, 294]), list([939, 101, 294]), list([520])],\n",
              "      dtype=object)"
            ]
          },
          "metadata": {},
          "execution_count": 92
        }
      ],
      "source": [
        "df_ria.target_tags.values[:3]"
      ]
    },
    {
      "cell_type": "markdown",
      "metadata": {
        "id": "Y-hjLFKRM_zU"
      },
      "source": [
        "## 1.2 Подготовка текстов\n",
        "\n",
        "Теперь займёмся предобработкой текстов. Приведём все слова к маленькому регистру и выбросим мусорные символы. В качестве токенов будем рассматривать отдельные слова.\n",
        "\n",
        "Напомню, что мы пока что решили работать только с названиями статей. Поэтому вся предобработка применяется исключительно к ним. **Спойлер:** предобработку для сниппетов вы сделаете сами в первом же задании."
      ]
    },
    {
      "cell_type": "code",
      "source": [
        "import nltk\n",
        "nltk.download('punkt')\n",
        "nltk.download('stopwords')"
      ],
      "metadata": {
        "colab": {
          "base_uri": "https://localhost:8080/"
        },
        "id": "DUEWRZWTQsHy",
        "outputId": "48366e39-393a-4ab8-fab3-78f3bb73da77"
      },
      "execution_count": 93,
      "outputs": [
        {
          "output_type": "stream",
          "name": "stderr",
          "text": [
            "[nltk_data] Downloading package punkt to /root/nltk_data...\n",
            "[nltk_data]   Package punkt is already up-to-date!\n",
            "[nltk_data] Downloading package stopwords to /root/nltk_data...\n",
            "[nltk_data]   Package stopwords is already up-to-date!\n"
          ]
        },
        {
          "output_type": "execute_result",
          "data": {
            "text/plain": [
              "True"
            ]
          },
          "metadata": {},
          "execution_count": 93
        }
      ]
    },
    {
      "cell_type": "code",
      "execution_count": 94,
      "metadata": {
        "colab": {
          "base_uri": "https://localhost:8080/"
        },
        "id": "bLHWjtkoM_zU",
        "outputId": "f03a60e7-c259-493f-fe60-6fd7ddfd01f1"
      },
      "outputs": [
        {
          "output_type": "execute_result",
          "data": {
            "text/plain": [
              "112178"
            ]
          },
          "metadata": {},
          "execution_count": 94
        }
      ],
      "source": [
        "import re\n",
        "from nltk.tokenize import word_tokenize\n",
        "\n",
        "def normalise_text(text):\n",
        "    text = text.lower()\n",
        "\n",
        "    # сурово регулярками выкидываем мусорные символы\n",
        "    text = re.sub('[^а-яa-z0-9 ]', '', text)\n",
        "    return text.strip()\n",
        "\n",
        "df_ria['title_clean'] = df_ria.title.apply(normalise_text)\n",
        "\n",
        "word_cnt = Counter(word_tokenize(' '.join(df_ria.title_clean.values)))\n",
        "len(word_cnt)"
      ]
    },
    {
      "cell_type": "code",
      "execution_count": 95,
      "metadata": {
        "colab": {
          "base_uri": "https://localhost:8080/"
        },
        "id": "-OGzgIx-M_zV",
        "outputId": "b8838fa3-69a7-4a0f-d970-7668bd542a06"
      },
      "outputs": [
        {
          "output_type": "execute_result",
          "data": {
            "text/plain": [
              "[('в', 127323),\n",
              " ('на', 44386),\n",
              " ('с', 26150),\n",
              " ('и', 21771),\n",
              " ('о', 19948),\n",
              " ('по', 17014),\n",
              " ('россии', 13494),\n",
              " ('не', 13483),\n",
              " ('сша', 9942),\n",
              " ('за', 9881)]"
            ]
          },
          "metadata": {},
          "execution_count": 95
        }
      ],
      "source": [
        "word_cnt.most_common()[:10]"
      ]
    },
    {
      "cell_type": "markdown",
      "metadata": {
        "id": "ydRq2i-fM_zV"
      },
      "source": [
        "Давайте почистим словарь от стоп-слов и подготовим его к использованию внутри датасета. Мы будем с помощью словаря заменять слова на индексы. Добавим в словарь несколько специальных токенов для неизвестных слов и паддингов."
      ]
    },
    {
      "cell_type": "code",
      "execution_count": 96,
      "metadata": {
        "colab": {
          "base_uri": "https://localhost:8080/"
        },
        "id": "7W5X3hM2M_zV",
        "outputId": "59feff21-81b3-4c0f-ca6e-a04b6f17a4c1"
      },
      "outputs": [
        {
          "output_type": "execute_result",
          "data": {
            "text/plain": [
              "151"
            ]
          },
          "metadata": {},
          "execution_count": 96
        }
      ],
      "source": [
        "from nltk.corpus import stopwords\n",
        "\n",
        "stops_ru = set(stopwords.words('russian'))\n",
        "len(stops_ru)"
      ]
    },
    {
      "cell_type": "code",
      "execution_count": 97,
      "metadata": {
        "id": "0h0Eq-fkM_zV"
      },
      "outputs": [],
      "source": [
        "vocabulary = {\n",
        "    \"#PAD#\": 0, \"#UNK#\": 1\n",
        "}\n",
        "\n",
        "k = 2\n",
        "for word, _ in word_cnt.most_common():\n",
        "    if word not in stops_ru:\n",
        "        vocabulary[word] = k\n",
        "        k += 1"
      ]
    },
    {
      "cell_type": "code",
      "execution_count": 98,
      "metadata": {
        "colab": {
          "base_uri": "https://localhost:8080/"
        },
        "id": "xL0VgZT6M_zV",
        "outputId": "03abaa1f-bbb1-4f6f-e719-92bc0eb90915"
      },
      "outputs": [
        {
          "output_type": "execute_result",
          "data": {
            "text/plain": [
              "112030"
            ]
          },
          "metadata": {},
          "execution_count": 98
        }
      ],
      "source": [
        "len(vocabulary)"
      ]
    },
    {
      "cell_type": "markdown",
      "metadata": {
        "id": "U9NQcllLM_zV"
      },
      "source": [
        "Завернём код для создания словаря в функцию."
      ]
    },
    {
      "cell_type": "code",
      "execution_count": 99,
      "metadata": {
        "id": "VAMLLbXxM_zV"
      },
      "outputs": [],
      "source": [
        "def create_vocab(text, stops_ru=stops_ru):\n",
        "\n",
        "    word_cnt = Counter(word_tokenize(text))\n",
        "    vocabulary = {\n",
        "        \"#PAD#\": 0, \"#UNK#\": 1\n",
        "    }\n",
        "\n",
        "    k = 2\n",
        "    for word, _ in word_cnt.most_common():\n",
        "        if word not in stops_ru:\n",
        "            vocabulary[word] = k\n",
        "            k += 1\n",
        "    return vocabulary"
      ]
    },
    {
      "cell_type": "markdown",
      "metadata": {
        "id": "lnYJT9BXM_zV"
      },
      "source": [
        "__[0.2 балла] Задание 1:__\n",
        "\n",
        "- Cделайте аналогичную предобработку титулов из таблички `df_vk`. Запишите получившийся результат в столбец `title_clean` по аналогии с таблицей `df_ria`.\n",
        "- Сделайте для обеих таблиц предобработку колонок со сниппетами `snippet` и запишите получившийся результат в столбец `snippet_clean`. Все пропуски заполните токеном `\"#UNKN\"`."
      ]
    },
    {
      "cell_type": "code",
      "execution_count": 100,
      "metadata": {
        "id": "FTlZA9amM_zV",
        "outputId": "8f415d01-47ec-4ca8-9830-72f85b2a911f",
        "colab": {
          "base_uri": "https://localhost:8080/",
          "height": 289
        }
      },
      "outputs": [
        {
          "output_type": "execute_result",
          "data": {
            "text/plain": [
              "         id                       href             datetime  \\\n",
              "0  24006362  /20190201/1550280358.html  2019-02-01 23:13:17   \n",
              "1  24006240  /20190201/1550268781.html  2019-02-01 22:38:41   \n",
              "2  24006100  /20190201/1550282212.html  2019-02-01 21:58:52   \n",
              "3  24005972  /20190202/1550283179.html  2019-02-01 21:27:06   \n",
              "4  24005764  /20190201/1550262848.html  2019-02-01 20:55:54   \n",
              "\n",
              "                                               title  likes  comments snippet  \\\n",
              "0  В ДНР заявили о задержании диверсантов, причас...     15        28     NaN   \n",
              "1  Житель Урала \"заминировал\" ТЦ из-за снятия  со...     32        42     NaN   \n",
              "2      В Черном море нашли \"потерянный флот Гитлера\"     84        23     NaN   \n",
              "3  В США освободили задержанную российскую актрис...     58        35     NaN   \n",
              "4  Толкнувший Скабееву депутат Рады заявил о гроз...     45       145     NaN   \n",
              "\n",
              "                                         title_clean  \n",
              "0  в днр заявили о задержании диверсантов причаст...  \n",
              "1  житель урала заминировал тц изза снятия  сотов...  \n",
              "2        в черном море нашли потерянный флот гитлера  \n",
              "3  в сша освободили задержанную российскую актрис...  \n",
              "4  толкнувший скабееву депутат рады заявил о гроз...  "
            ],
            "text/html": [
              "\n",
              "  <div id=\"df-5d5e740d-2d69-4845-8117-fa7add86b60b\" class=\"colab-df-container\">\n",
              "    <div>\n",
              "<style scoped>\n",
              "    .dataframe tbody tr th:only-of-type {\n",
              "        vertical-align: middle;\n",
              "    }\n",
              "\n",
              "    .dataframe tbody tr th {\n",
              "        vertical-align: top;\n",
              "    }\n",
              "\n",
              "    .dataframe thead th {\n",
              "        text-align: right;\n",
              "    }\n",
              "</style>\n",
              "<table border=\"1\" class=\"dataframe\">\n",
              "  <thead>\n",
              "    <tr style=\"text-align: right;\">\n",
              "      <th></th>\n",
              "      <th>id</th>\n",
              "      <th>href</th>\n",
              "      <th>datetime</th>\n",
              "      <th>title</th>\n",
              "      <th>likes</th>\n",
              "      <th>comments</th>\n",
              "      <th>snippet</th>\n",
              "      <th>title_clean</th>\n",
              "    </tr>\n",
              "  </thead>\n",
              "  <tbody>\n",
              "    <tr>\n",
              "      <th>0</th>\n",
              "      <td>24006362</td>\n",
              "      <td>/20190201/1550280358.html</td>\n",
              "      <td>2019-02-01 23:13:17</td>\n",
              "      <td>В ДНР заявили о задержании диверсантов, причас...</td>\n",
              "      <td>15</td>\n",
              "      <td>28</td>\n",
              "      <td>NaN</td>\n",
              "      <td>в днр заявили о задержании диверсантов причаст...</td>\n",
              "    </tr>\n",
              "    <tr>\n",
              "      <th>1</th>\n",
              "      <td>24006240</td>\n",
              "      <td>/20190201/1550268781.html</td>\n",
              "      <td>2019-02-01 22:38:41</td>\n",
              "      <td>Житель Урала \"заминировал\" ТЦ из-за снятия  со...</td>\n",
              "      <td>32</td>\n",
              "      <td>42</td>\n",
              "      <td>NaN</td>\n",
              "      <td>житель урала заминировал тц изза снятия  сотов...</td>\n",
              "    </tr>\n",
              "    <tr>\n",
              "      <th>2</th>\n",
              "      <td>24006100</td>\n",
              "      <td>/20190201/1550282212.html</td>\n",
              "      <td>2019-02-01 21:58:52</td>\n",
              "      <td>В Черном море нашли \"потерянный флот Гитлера\"</td>\n",
              "      <td>84</td>\n",
              "      <td>23</td>\n",
              "      <td>NaN</td>\n",
              "      <td>в черном море нашли потерянный флот гитлера</td>\n",
              "    </tr>\n",
              "    <tr>\n",
              "      <th>3</th>\n",
              "      <td>24005972</td>\n",
              "      <td>/20190202/1550283179.html</td>\n",
              "      <td>2019-02-01 21:27:06</td>\n",
              "      <td>В США освободили задержанную российскую актрис...</td>\n",
              "      <td>58</td>\n",
              "      <td>35</td>\n",
              "      <td>NaN</td>\n",
              "      <td>в сша освободили задержанную российскую актрис...</td>\n",
              "    </tr>\n",
              "    <tr>\n",
              "      <th>4</th>\n",
              "      <td>24005764</td>\n",
              "      <td>/20190201/1550262848.html</td>\n",
              "      <td>2019-02-01 20:55:54</td>\n",
              "      <td>Толкнувший Скабееву депутат Рады заявил о гроз...</td>\n",
              "      <td>45</td>\n",
              "      <td>145</td>\n",
              "      <td>NaN</td>\n",
              "      <td>толкнувший скабееву депутат рады заявил о гроз...</td>\n",
              "    </tr>\n",
              "  </tbody>\n",
              "</table>\n",
              "</div>\n",
              "    <div class=\"colab-df-buttons\">\n",
              "\n",
              "  <div class=\"colab-df-container\">\n",
              "    <button class=\"colab-df-convert\" onclick=\"convertToInteractive('df-5d5e740d-2d69-4845-8117-fa7add86b60b')\"\n",
              "            title=\"Convert this dataframe to an interactive table.\"\n",
              "            style=\"display:none;\">\n",
              "\n",
              "  <svg xmlns=\"http://www.w3.org/2000/svg\" height=\"24px\" viewBox=\"0 -960 960 960\">\n",
              "    <path d=\"M120-120v-720h720v720H120Zm60-500h600v-160H180v160Zm220 220h160v-160H400v160Zm0 220h160v-160H400v160ZM180-400h160v-160H180v160Zm440 0h160v-160H620v160ZM180-180h160v-160H180v160Zm440 0h160v-160H620v160Z\"/>\n",
              "  </svg>\n",
              "    </button>\n",
              "\n",
              "  <style>\n",
              "    .colab-df-container {\n",
              "      display:flex;\n",
              "      gap: 12px;\n",
              "    }\n",
              "\n",
              "    .colab-df-convert {\n",
              "      background-color: #E8F0FE;\n",
              "      border: none;\n",
              "      border-radius: 50%;\n",
              "      cursor: pointer;\n",
              "      display: none;\n",
              "      fill: #1967D2;\n",
              "      height: 32px;\n",
              "      padding: 0 0 0 0;\n",
              "      width: 32px;\n",
              "    }\n",
              "\n",
              "    .colab-df-convert:hover {\n",
              "      background-color: #E2EBFA;\n",
              "      box-shadow: 0px 1px 2px rgba(60, 64, 67, 0.3), 0px 1px 3px 1px rgba(60, 64, 67, 0.15);\n",
              "      fill: #174EA6;\n",
              "    }\n",
              "\n",
              "    .colab-df-buttons div {\n",
              "      margin-bottom: 4px;\n",
              "    }\n",
              "\n",
              "    [theme=dark] .colab-df-convert {\n",
              "      background-color: #3B4455;\n",
              "      fill: #D2E3FC;\n",
              "    }\n",
              "\n",
              "    [theme=dark] .colab-df-convert:hover {\n",
              "      background-color: #434B5C;\n",
              "      box-shadow: 0px 1px 3px 1px rgba(0, 0, 0, 0.15);\n",
              "      filter: drop-shadow(0px 1px 2px rgba(0, 0, 0, 0.3));\n",
              "      fill: #FFFFFF;\n",
              "    }\n",
              "  </style>\n",
              "\n",
              "    <script>\n",
              "      const buttonEl =\n",
              "        document.querySelector('#df-5d5e740d-2d69-4845-8117-fa7add86b60b button.colab-df-convert');\n",
              "      buttonEl.style.display =\n",
              "        google.colab.kernel.accessAllowed ? 'block' : 'none';\n",
              "\n",
              "      async function convertToInteractive(key) {\n",
              "        const element = document.querySelector('#df-5d5e740d-2d69-4845-8117-fa7add86b60b');\n",
              "        const dataTable =\n",
              "          await google.colab.kernel.invokeFunction('convertToInteractive',\n",
              "                                                    [key], {});\n",
              "        if (!dataTable) return;\n",
              "\n",
              "        const docLinkHtml = 'Like what you see? Visit the ' +\n",
              "          '<a target=\"_blank\" href=https://colab.research.google.com/notebooks/data_table.ipynb>data table notebook</a>'\n",
              "          + ' to learn more about interactive tables.';\n",
              "        element.innerHTML = '';\n",
              "        dataTable['output_type'] = 'display_data';\n",
              "        await google.colab.output.renderOutput(dataTable, element);\n",
              "        const docLink = document.createElement('div');\n",
              "        docLink.innerHTML = docLinkHtml;\n",
              "        element.appendChild(docLink);\n",
              "      }\n",
              "    </script>\n",
              "  </div>\n",
              "\n",
              "\n",
              "<div id=\"df-9d6ea5dd-858c-4d67-9042-09e2f71af2b8\">\n",
              "  <button class=\"colab-df-quickchart\" onclick=\"quickchart('df-9d6ea5dd-858c-4d67-9042-09e2f71af2b8')\"\n",
              "            title=\"Suggest charts\"\n",
              "            style=\"display:none;\">\n",
              "\n",
              "<svg xmlns=\"http://www.w3.org/2000/svg\" height=\"24px\"viewBox=\"0 0 24 24\"\n",
              "     width=\"24px\">\n",
              "    <g>\n",
              "        <path d=\"M19 3H5c-1.1 0-2 .9-2 2v14c0 1.1.9 2 2 2h14c1.1 0 2-.9 2-2V5c0-1.1-.9-2-2-2zM9 17H7v-7h2v7zm4 0h-2V7h2v10zm4 0h-2v-4h2v4z\"/>\n",
              "    </g>\n",
              "</svg>\n",
              "  </button>\n",
              "\n",
              "<style>\n",
              "  .colab-df-quickchart {\n",
              "      --bg-color: #E8F0FE;\n",
              "      --fill-color: #1967D2;\n",
              "      --hover-bg-color: #E2EBFA;\n",
              "      --hover-fill-color: #174EA6;\n",
              "      --disabled-fill-color: #AAA;\n",
              "      --disabled-bg-color: #DDD;\n",
              "  }\n",
              "\n",
              "  [theme=dark] .colab-df-quickchart {\n",
              "      --bg-color: #3B4455;\n",
              "      --fill-color: #D2E3FC;\n",
              "      --hover-bg-color: #434B5C;\n",
              "      --hover-fill-color: #FFFFFF;\n",
              "      --disabled-bg-color: #3B4455;\n",
              "      --disabled-fill-color: #666;\n",
              "  }\n",
              "\n",
              "  .colab-df-quickchart {\n",
              "    background-color: var(--bg-color);\n",
              "    border: none;\n",
              "    border-radius: 50%;\n",
              "    cursor: pointer;\n",
              "    display: none;\n",
              "    fill: var(--fill-color);\n",
              "    height: 32px;\n",
              "    padding: 0;\n",
              "    width: 32px;\n",
              "  }\n",
              "\n",
              "  .colab-df-quickchart:hover {\n",
              "    background-color: var(--hover-bg-color);\n",
              "    box-shadow: 0 1px 2px rgba(60, 64, 67, 0.3), 0 1px 3px 1px rgba(60, 64, 67, 0.15);\n",
              "    fill: var(--button-hover-fill-color);\n",
              "  }\n",
              "\n",
              "  .colab-df-quickchart-complete:disabled,\n",
              "  .colab-df-quickchart-complete:disabled:hover {\n",
              "    background-color: var(--disabled-bg-color);\n",
              "    fill: var(--disabled-fill-color);\n",
              "    box-shadow: none;\n",
              "  }\n",
              "\n",
              "  .colab-df-spinner {\n",
              "    border: 2px solid var(--fill-color);\n",
              "    border-color: transparent;\n",
              "    border-bottom-color: var(--fill-color);\n",
              "    animation:\n",
              "      spin 1s steps(1) infinite;\n",
              "  }\n",
              "\n",
              "  @keyframes spin {\n",
              "    0% {\n",
              "      border-color: transparent;\n",
              "      border-bottom-color: var(--fill-color);\n",
              "      border-left-color: var(--fill-color);\n",
              "    }\n",
              "    20% {\n",
              "      border-color: transparent;\n",
              "      border-left-color: var(--fill-color);\n",
              "      border-top-color: var(--fill-color);\n",
              "    }\n",
              "    30% {\n",
              "      border-color: transparent;\n",
              "      border-left-color: var(--fill-color);\n",
              "      border-top-color: var(--fill-color);\n",
              "      border-right-color: var(--fill-color);\n",
              "    }\n",
              "    40% {\n",
              "      border-color: transparent;\n",
              "      border-right-color: var(--fill-color);\n",
              "      border-top-color: var(--fill-color);\n",
              "    }\n",
              "    60% {\n",
              "      border-color: transparent;\n",
              "      border-right-color: var(--fill-color);\n",
              "    }\n",
              "    80% {\n",
              "      border-color: transparent;\n",
              "      border-right-color: var(--fill-color);\n",
              "      border-bottom-color: var(--fill-color);\n",
              "    }\n",
              "    90% {\n",
              "      border-color: transparent;\n",
              "      border-bottom-color: var(--fill-color);\n",
              "    }\n",
              "  }\n",
              "</style>\n",
              "\n",
              "  <script>\n",
              "    async function quickchart(key) {\n",
              "      const quickchartButtonEl =\n",
              "        document.querySelector('#' + key + ' button');\n",
              "      quickchartButtonEl.disabled = true;  // To prevent multiple clicks.\n",
              "      quickchartButtonEl.classList.add('colab-df-spinner');\n",
              "      try {\n",
              "        const charts = await google.colab.kernel.invokeFunction(\n",
              "            'suggestCharts', [key], {});\n",
              "      } catch (error) {\n",
              "        console.error('Error during call to suggestCharts:', error);\n",
              "      }\n",
              "      quickchartButtonEl.classList.remove('colab-df-spinner');\n",
              "      quickchartButtonEl.classList.add('colab-df-quickchart-complete');\n",
              "    }\n",
              "    (() => {\n",
              "      let quickchartButtonEl =\n",
              "        document.querySelector('#df-9d6ea5dd-858c-4d67-9042-09e2f71af2b8 button');\n",
              "      quickchartButtonEl.style.display =\n",
              "        google.colab.kernel.accessAllowed ? 'block' : 'none';\n",
              "    })();\n",
              "  </script>\n",
              "</div>\n",
              "    </div>\n",
              "  </div>\n"
            ]
          },
          "metadata": {},
          "execution_count": 100
        }
      ],
      "source": [
        "def normalise_text(text):\n",
        "    text = text.lower()\n",
        "\n",
        "    # сурово регулярками выкидываем мусорные символы\n",
        "    text = re.sub('[^а-яa-z0-9 ]', '', text)\n",
        "    return text.strip()\n",
        "\n",
        "df_vk['title_clean'] = df_vk.title.apply(normalise_text)\n",
        "df_vk.head()"
      ]
    },
    {
      "cell_type": "code",
      "source": [
        "df_ria['snippet_clean'] = df_ria[~df_ria.snippet.isna()].snippet.apply(normalise_text)\n",
        "df_ria.fillna({'snippet_clean': \"#UNK#\"}, inplace=True)\n",
        "\n",
        "df_vk['snippet_clean'] = df_vk[~df_vk.snippet.isna()].snippet.apply(normalise_text)\n",
        "df_vk.fillna({'snippet_clean': \"#UNK#\"}, inplace=True)"
      ],
      "metadata": {
        "id": "JJrBRxqcQ5IX"
      },
      "execution_count": 101,
      "outputs": []
    },
    {
      "cell_type": "code",
      "source": [
        "df_vk.shape"
      ],
      "metadata": {
        "id": "dkET6fXzTDUE",
        "outputId": "3cfd4073-d3f0-43be-bf2c-ca0c9fbd8fb1",
        "colab": {
          "base_uri": "https://localhost:8080/"
        }
      },
      "execution_count": 102,
      "outputs": [
        {
          "output_type": "execute_result",
          "data": {
            "text/plain": [
              "(19928, 9)"
            ]
          },
          "metadata": {},
          "execution_count": 102
        }
      ]
    },
    {
      "cell_type": "markdown",
      "metadata": {
        "id": "WrRKg_QHM_zV"
      },
      "source": [
        "## 1.3 Поставка данных"
      ]
    },
    {
      "cell_type": "markdown",
      "metadata": {
        "id": "S2vPPWsEM_zV"
      },
      "source": [
        "Пересечение сайта и ВК по опубликованным новостям довольно маленькое. Мы обучаем модель на данных с сайта. Предсказания мы будем строить на данных из ВК. У этих данных разная природа. В ВК описание статей и заголовки короче. Модель может хорошо показать себя на данных с новостного сайта, но сильно просесть в качестве на данных из ВК.\n",
        "\n",
        "Давайте сохраним пересечение в отдельную табличку, чтобы на нём можно было понять, насколько сильно деградирует модель."
      ]
    },
    {
      "cell_type": "code",
      "execution_count": 103,
      "metadata": {
        "colab": {
          "base_uri": "https://localhost:8080/"
        },
        "id": "8KjCNaTLM_zW",
        "outputId": "c4268ced-f1ad-4f4e-b9b6-cb61e3bdd257"
      },
      "outputs": [
        {
          "output_type": "stream",
          "name": "stdout",
          "text": [
            "Размер отложенной выборки: 1128\n"
          ]
        }
      ],
      "source": [
        "ria_hrefs = set(df_ria.href.values)\n",
        "vk_hrefs = set(df_vk.href.values)\n",
        "test_hrefs = (vk_hrefs & ria_hrefs)\n",
        "\n",
        "print('Размер отложенной выборки:', len(test_hrefs))\n",
        "\n",
        "df = df_ria[~df_ria.href.isin(test_hrefs)]"
      ]
    },
    {
      "cell_type": "markdown",
      "metadata": {
        "id": "FVutzHbPM_zg"
      },
      "source": [
        "По странному совпадению (я правда не знаю почему) пересечение лежит в декабре. Мы будем его использовать как тестовую выборку."
      ]
    },
    {
      "cell_type": "code",
      "execution_count": 104,
      "metadata": {
        "colab": {
          "base_uri": "https://localhost:8080/"
        },
        "id": "1fGs6y6PM_zg",
        "outputId": "c4704768-5a15-4d8d-9e8d-e8f36c9357c5"
      },
      "outputs": [
        {
          "output_type": "execute_result",
          "data": {
            "text/plain": [
              "('2018-12-06', '2018-12-31')"
            ]
          },
          "metadata": {},
          "execution_count": 104
        }
      ],
      "source": [
        "df_ria[df_ria.href.isin(test_hrefs)].date.min(), df_ria[df_ria.href.isin(test_hrefs)].date.max()"
      ]
    },
    {
      "cell_type": "markdown",
      "metadata": {
        "id": "VJ_7VGvnM_zg"
      },
      "source": [
        "Предположим, что мы делим выборку на обучающую и тестовую случайно. За один и тот же промежуток времени может выйти довольно большое число новостей с одинаковым заголовком. Давайте представим себе, что в тесте и трэйне есть много статей про одно и то же событие. Модель научилась на обучающей выборке хорошо его тегировать. Остальные события модель тегирует намного хуже. Метрики на тестовой выборке высокие. В следующем месяце СМИ перестают освещать это событие, в потоке новостей совершенно другие новости. Качество модели резко проседает.\n",
        "\n",
        "Чтобы не напороться на завышенные метрики, обычно выборку дробят на обучающую и тестовую по времени. Тогда статьи из теста будут имитировать поток новых новостей, освещающих новые события."
      ]
    },
    {
      "cell_type": "code",
      "execution_count": 105,
      "metadata": {
        "colab": {
          "base_uri": "https://localhost:8080/"
        },
        "id": "WscwQXAuM_zg",
        "outputId": "bd25b078-a13c-466f-b795-ec296cf75e3f"
      },
      "outputs": [
        {
          "output_type": "execute_result",
          "data": {
            "text/plain": [
              "('2018-03-15', '2018-12-31')"
            ]
          },
          "metadata": {},
          "execution_count": 105
        }
      ],
      "source": [
        "df.date.min(), df.date.max()"
      ]
    },
    {
      "cell_type": "markdown",
      "metadata": {
        "id": "bzM_6-ntM_zg"
      },
      "source": [
        "__[0.2 балла] Задание 2:__ Разбейте выборку на обучающую, валидационную и тестовую. В тест возьмите весь декабрь. В валидацию октябрь и ноябрь."
      ]
    },
    {
      "cell_type": "code",
      "execution_count": 106,
      "metadata": {
        "id": "Yzr5nNIvM_zg"
      },
      "outputs": [],
      "source": [
        "# your code here\n",
        "# ♡ (´｡• ω •｡`)\n",
        "\n",
        "df_test = df[(df.date >= '2018-12-01') & (df.date <= '2018-12-31')]\n",
        "df_val = df[(df.date >= '2018-10-01') & (df.date < '2018-12-01')]\n",
        "df_train = df[(df.date < '2018-10-01') | (df.date > '2018-12-31')]"
      ]
    },
    {
      "cell_type": "markdown",
      "metadata": {
        "id": "AlG-87v8M_zh"
      },
      "source": [
        "Сформируем отложенную выборку (пересечение ВКонтакте и РИА)."
      ]
    },
    {
      "cell_type": "code",
      "execution_count": 107,
      "metadata": {
        "colab": {
          "base_uri": "https://localhost:8080/",
          "height": 204
        },
        "id": "KmBZjIx4M_zh",
        "outputId": "d8d4af2e-68cc-4166-c91c-937b9901cb4c"
      },
      "outputs": [
        {
          "output_type": "execute_result",
          "data": {
            "text/plain": [
              "                        href  \\\n",
              "0  /20181206/1547493936.html   \n",
              "1  /20181206/1547516457.html   \n",
              "2  /20181206/1547520788.html   \n",
              "3  /20181206/1547521406.html   \n",
              "4  /20181206/1547522342.html   \n",
              "\n",
              "                                         title_clean  target_tags  \n",
              "0  эксперты определили самые бюджетные экзотическ...   [413, 311]  \n",
              "1  рада приняла закон расширяющий контролируемую ...  [1214, 294]  \n",
              "2  россия оказалась родиной древнейших титанозавр...   [1316, 86]  \n",
              "3  школа в красноярске превратилась в хогвартс из...       [1169]  \n",
              "4  рада решила не продлевать договор о дружбе и с...  [1397, 294]  "
            ],
            "text/html": [
              "\n",
              "  <div id=\"df-a0f56da0-415c-4d73-b9d2-69ece360315c\" class=\"colab-df-container\">\n",
              "    <div>\n",
              "<style scoped>\n",
              "    .dataframe tbody tr th:only-of-type {\n",
              "        vertical-align: middle;\n",
              "    }\n",
              "\n",
              "    .dataframe tbody tr th {\n",
              "        vertical-align: top;\n",
              "    }\n",
              "\n",
              "    .dataframe thead th {\n",
              "        text-align: right;\n",
              "    }\n",
              "</style>\n",
              "<table border=\"1\" class=\"dataframe\">\n",
              "  <thead>\n",
              "    <tr style=\"text-align: right;\">\n",
              "      <th></th>\n",
              "      <th>href</th>\n",
              "      <th>title_clean</th>\n",
              "      <th>target_tags</th>\n",
              "    </tr>\n",
              "  </thead>\n",
              "  <tbody>\n",
              "    <tr>\n",
              "      <th>0</th>\n",
              "      <td>/20181206/1547493936.html</td>\n",
              "      <td>эксперты определили самые бюджетные экзотическ...</td>\n",
              "      <td>[413, 311]</td>\n",
              "    </tr>\n",
              "    <tr>\n",
              "      <th>1</th>\n",
              "      <td>/20181206/1547516457.html</td>\n",
              "      <td>рада приняла закон расширяющий контролируемую ...</td>\n",
              "      <td>[1214, 294]</td>\n",
              "    </tr>\n",
              "    <tr>\n",
              "      <th>2</th>\n",
              "      <td>/20181206/1547520788.html</td>\n",
              "      <td>россия оказалась родиной древнейших титанозавр...</td>\n",
              "      <td>[1316, 86]</td>\n",
              "    </tr>\n",
              "    <tr>\n",
              "      <th>3</th>\n",
              "      <td>/20181206/1547521406.html</td>\n",
              "      <td>школа в красноярске превратилась в хогвартс из...</td>\n",
              "      <td>[1169]</td>\n",
              "    </tr>\n",
              "    <tr>\n",
              "      <th>4</th>\n",
              "      <td>/20181206/1547522342.html</td>\n",
              "      <td>рада решила не продлевать договор о дружбе и с...</td>\n",
              "      <td>[1397, 294]</td>\n",
              "    </tr>\n",
              "  </tbody>\n",
              "</table>\n",
              "</div>\n",
              "    <div class=\"colab-df-buttons\">\n",
              "\n",
              "  <div class=\"colab-df-container\">\n",
              "    <button class=\"colab-df-convert\" onclick=\"convertToInteractive('df-a0f56da0-415c-4d73-b9d2-69ece360315c')\"\n",
              "            title=\"Convert this dataframe to an interactive table.\"\n",
              "            style=\"display:none;\">\n",
              "\n",
              "  <svg xmlns=\"http://www.w3.org/2000/svg\" height=\"24px\" viewBox=\"0 -960 960 960\">\n",
              "    <path d=\"M120-120v-720h720v720H120Zm60-500h600v-160H180v160Zm220 220h160v-160H400v160Zm0 220h160v-160H400v160ZM180-400h160v-160H180v160Zm440 0h160v-160H620v160ZM180-180h160v-160H180v160Zm440 0h160v-160H620v160Z\"/>\n",
              "  </svg>\n",
              "    </button>\n",
              "\n",
              "  <style>\n",
              "    .colab-df-container {\n",
              "      display:flex;\n",
              "      gap: 12px;\n",
              "    }\n",
              "\n",
              "    .colab-df-convert {\n",
              "      background-color: #E8F0FE;\n",
              "      border: none;\n",
              "      border-radius: 50%;\n",
              "      cursor: pointer;\n",
              "      display: none;\n",
              "      fill: #1967D2;\n",
              "      height: 32px;\n",
              "      padding: 0 0 0 0;\n",
              "      width: 32px;\n",
              "    }\n",
              "\n",
              "    .colab-df-convert:hover {\n",
              "      background-color: #E2EBFA;\n",
              "      box-shadow: 0px 1px 2px rgba(60, 64, 67, 0.3), 0px 1px 3px 1px rgba(60, 64, 67, 0.15);\n",
              "      fill: #174EA6;\n",
              "    }\n",
              "\n",
              "    .colab-df-buttons div {\n",
              "      margin-bottom: 4px;\n",
              "    }\n",
              "\n",
              "    [theme=dark] .colab-df-convert {\n",
              "      background-color: #3B4455;\n",
              "      fill: #D2E3FC;\n",
              "    }\n",
              "\n",
              "    [theme=dark] .colab-df-convert:hover {\n",
              "      background-color: #434B5C;\n",
              "      box-shadow: 0px 1px 3px 1px rgba(0, 0, 0, 0.15);\n",
              "      filter: drop-shadow(0px 1px 2px rgba(0, 0, 0, 0.3));\n",
              "      fill: #FFFFFF;\n",
              "    }\n",
              "  </style>\n",
              "\n",
              "    <script>\n",
              "      const buttonEl =\n",
              "        document.querySelector('#df-a0f56da0-415c-4d73-b9d2-69ece360315c button.colab-df-convert');\n",
              "      buttonEl.style.display =\n",
              "        google.colab.kernel.accessAllowed ? 'block' : 'none';\n",
              "\n",
              "      async function convertToInteractive(key) {\n",
              "        const element = document.querySelector('#df-a0f56da0-415c-4d73-b9d2-69ece360315c');\n",
              "        const dataTable =\n",
              "          await google.colab.kernel.invokeFunction('convertToInteractive',\n",
              "                                                    [key], {});\n",
              "        if (!dataTable) return;\n",
              "\n",
              "        const docLinkHtml = 'Like what you see? Visit the ' +\n",
              "          '<a target=\"_blank\" href=https://colab.research.google.com/notebooks/data_table.ipynb>data table notebook</a>'\n",
              "          + ' to learn more about interactive tables.';\n",
              "        element.innerHTML = '';\n",
              "        dataTable['output_type'] = 'display_data';\n",
              "        await google.colab.output.renderOutput(dataTable, element);\n",
              "        const docLink = document.createElement('div');\n",
              "        docLink.innerHTML = docLinkHtml;\n",
              "        element.appendChild(docLink);\n",
              "      }\n",
              "    </script>\n",
              "  </div>\n",
              "\n",
              "\n",
              "<div id=\"df-3da96c04-a861-4caf-8725-041a6a4a584e\">\n",
              "  <button class=\"colab-df-quickchart\" onclick=\"quickchart('df-3da96c04-a861-4caf-8725-041a6a4a584e')\"\n",
              "            title=\"Suggest charts\"\n",
              "            style=\"display:none;\">\n",
              "\n",
              "<svg xmlns=\"http://www.w3.org/2000/svg\" height=\"24px\"viewBox=\"0 0 24 24\"\n",
              "     width=\"24px\">\n",
              "    <g>\n",
              "        <path d=\"M19 3H5c-1.1 0-2 .9-2 2v14c0 1.1.9 2 2 2h14c1.1 0 2-.9 2-2V5c0-1.1-.9-2-2-2zM9 17H7v-7h2v7zm4 0h-2V7h2v10zm4 0h-2v-4h2v4z\"/>\n",
              "    </g>\n",
              "</svg>\n",
              "  </button>\n",
              "\n",
              "<style>\n",
              "  .colab-df-quickchart {\n",
              "      --bg-color: #E8F0FE;\n",
              "      --fill-color: #1967D2;\n",
              "      --hover-bg-color: #E2EBFA;\n",
              "      --hover-fill-color: #174EA6;\n",
              "      --disabled-fill-color: #AAA;\n",
              "      --disabled-bg-color: #DDD;\n",
              "  }\n",
              "\n",
              "  [theme=dark] .colab-df-quickchart {\n",
              "      --bg-color: #3B4455;\n",
              "      --fill-color: #D2E3FC;\n",
              "      --hover-bg-color: #434B5C;\n",
              "      --hover-fill-color: #FFFFFF;\n",
              "      --disabled-bg-color: #3B4455;\n",
              "      --disabled-fill-color: #666;\n",
              "  }\n",
              "\n",
              "  .colab-df-quickchart {\n",
              "    background-color: var(--bg-color);\n",
              "    border: none;\n",
              "    border-radius: 50%;\n",
              "    cursor: pointer;\n",
              "    display: none;\n",
              "    fill: var(--fill-color);\n",
              "    height: 32px;\n",
              "    padding: 0;\n",
              "    width: 32px;\n",
              "  }\n",
              "\n",
              "  .colab-df-quickchart:hover {\n",
              "    background-color: var(--hover-bg-color);\n",
              "    box-shadow: 0 1px 2px rgba(60, 64, 67, 0.3), 0 1px 3px 1px rgba(60, 64, 67, 0.15);\n",
              "    fill: var(--button-hover-fill-color);\n",
              "  }\n",
              "\n",
              "  .colab-df-quickchart-complete:disabled,\n",
              "  .colab-df-quickchart-complete:disabled:hover {\n",
              "    background-color: var(--disabled-bg-color);\n",
              "    fill: var(--disabled-fill-color);\n",
              "    box-shadow: none;\n",
              "  }\n",
              "\n",
              "  .colab-df-spinner {\n",
              "    border: 2px solid var(--fill-color);\n",
              "    border-color: transparent;\n",
              "    border-bottom-color: var(--fill-color);\n",
              "    animation:\n",
              "      spin 1s steps(1) infinite;\n",
              "  }\n",
              "\n",
              "  @keyframes spin {\n",
              "    0% {\n",
              "      border-color: transparent;\n",
              "      border-bottom-color: var(--fill-color);\n",
              "      border-left-color: var(--fill-color);\n",
              "    }\n",
              "    20% {\n",
              "      border-color: transparent;\n",
              "      border-left-color: var(--fill-color);\n",
              "      border-top-color: var(--fill-color);\n",
              "    }\n",
              "    30% {\n",
              "      border-color: transparent;\n",
              "      border-left-color: var(--fill-color);\n",
              "      border-top-color: var(--fill-color);\n",
              "      border-right-color: var(--fill-color);\n",
              "    }\n",
              "    40% {\n",
              "      border-color: transparent;\n",
              "      border-right-color: var(--fill-color);\n",
              "      border-top-color: var(--fill-color);\n",
              "    }\n",
              "    60% {\n",
              "      border-color: transparent;\n",
              "      border-right-color: var(--fill-color);\n",
              "    }\n",
              "    80% {\n",
              "      border-color: transparent;\n",
              "      border-right-color: var(--fill-color);\n",
              "      border-bottom-color: var(--fill-color);\n",
              "    }\n",
              "    90% {\n",
              "      border-color: transparent;\n",
              "      border-bottom-color: var(--fill-color);\n",
              "    }\n",
              "  }\n",
              "</style>\n",
              "\n",
              "  <script>\n",
              "    async function quickchart(key) {\n",
              "      const quickchartButtonEl =\n",
              "        document.querySelector('#' + key + ' button');\n",
              "      quickchartButtonEl.disabled = true;  // To prevent multiple clicks.\n",
              "      quickchartButtonEl.classList.add('colab-df-spinner');\n",
              "      try {\n",
              "        const charts = await google.colab.kernel.invokeFunction(\n",
              "            'suggestCharts', [key], {});\n",
              "      } catch (error) {\n",
              "        console.error('Error during call to suggestCharts:', error);\n",
              "      }\n",
              "      quickchartButtonEl.classList.remove('colab-df-spinner');\n",
              "      quickchartButtonEl.classList.add('colab-df-quickchart-complete');\n",
              "    }\n",
              "    (() => {\n",
              "      let quickchartButtonEl =\n",
              "        document.querySelector('#df-3da96c04-a861-4caf-8725-041a6a4a584e button');\n",
              "      quickchartButtonEl.style.display =\n",
              "        google.colab.kernel.accessAllowed ? 'block' : 'none';\n",
              "    })();\n",
              "  </script>\n",
              "</div>\n",
              "    </div>\n",
              "  </div>\n"
            ]
          },
          "metadata": {},
          "execution_count": 107
        }
      ],
      "source": [
        "df_oob = df_vk[df_vk.href.isin(test_hrefs)][['href', 'title_clean']]\n",
        "\n",
        "df_ria_oob = df_ria[df_ria.href.isin(test_hrefs)][['href', 'target_tags']]\n",
        "df_oob = df_oob.set_index('href').join(df_ria_oob.set_index('href')).reset_index()\n",
        "df_oob.head()"
      ]
    },
    {
      "cell_type": "markdown",
      "metadata": {
        "id": "laZ8tkFjM_zh"
      },
      "source": [
        "Напишем датасет для поставки данных в нейросеть.\n"
      ]
    },
    {
      "cell_type": "code",
      "execution_count": 108,
      "metadata": {
        "id": "0if_RkA_M_zh"
      },
      "outputs": [],
      "source": [
        "from torch.utils.data import Dataset\n",
        "from torch.utils.data import DataLoader\n",
        "\n",
        "class NewsDataset(Dataset):\n",
        "\n",
        "    def __init__(self, target, title, vocab, vocab_size, max_title_len, max_classes, snippet=None, max_snippet_len=None):\n",
        "\n",
        "       self.vocab = {word: idx  for word,idx in vocab.items() if idx < vocab_size}\n",
        "       self.max_classes = max_classes\n",
        "       self.y=self.target_ohe(target)\n",
        "       self.X_title = self.create_text(title, max_title_len)\n",
        "       self.X_snippet = None if snippet is None else self.create_text(snippet, max_snippet_len)\n",
        "\n",
        "    def target_ohe(self, target):\n",
        "        y = torch.zeros((len(target), self.max_classes))\n",
        "        for i, t in enumerate(target):\n",
        "            y[[i]*len(t), t] = 1.0\n",
        "        return y\n",
        "\n",
        "    def create_text(self, texts, max_len):\n",
        "        result = [ ]\n",
        "        for sent in texts:\n",
        "            # {#PAD: 0, #UNKN: 1}\n",
        "            sent_tokenize = [self.vocab.get(item, 1) for item in word_tokenize(sent)]\n",
        "\n",
        "            # приводим все тексты к max_len\n",
        "            if len(sent_tokenize) >= max_len:\n",
        "                sent_tokenize = sent_tokenize[:max_len]\n",
        "            else:\n",
        "                sent_tokenize += [0] * (max_len - len(sent_tokenize))\n",
        "            result.append(sent_tokenize)\n",
        "        return torch.tensor(result, dtype=torch.int)\n",
        "\n",
        "    def __len__(self):\n",
        "        return len(self.X_title)\n",
        "\n",
        "    def __getitem__(self, idx):\n",
        "        if self.X_snippet:\n",
        "          return (self.X_title[idx, :], self.X_snippet[idx, :], self.y[idx])\n",
        "        return (self.X_title[idx, :], self.y[idx])\n"
      ]
    },
    {
      "cell_type": "markdown",
      "metadata": {
        "id": "xQMfQ1ZkM_zh"
      },
      "source": [
        "__[0.2 балла] Задание 3:__ Сейчас датасет умеет работать только с полем `title_clean`. Давайте сделаем этот датасет более многофукнциональным и добавим в него возможность добавить в обработку данных сниппет.\n",
        "\n",
        "1. Внутри датасета `snippet` надо обработать точно также как и `title`.\n",
        "2. Если `snippet=None`, датасет должен вернуть два объекта: `X_title, y`. В обратном случае датасет должен вернуть три объекта.\n",
        "\n",
        "**Важно:** Весь код ниже работает сейчас без сниппета. Он не должен развалиться от того, что сниппет в нём нигде не указан."
      ]
    },
    {
      "cell_type": "code",
      "execution_count": 109,
      "metadata": {
        "id": "1ekPnlTlM_zh"
      },
      "outputs": [],
      "source": [
        "### ╰( ͡° ͜ʖ ͡° )つ▬▬ι═══════  bzzzzzzzzzz\n",
        "# will the code be with you\n",
        "\n",
        "# Внесите в код датасета выше свои правки"
      ]
    },
    {
      "cell_type": "markdown",
      "metadata": {
        "id": "1v_Rgi_DM_zh"
      },
      "source": [
        "Объявим датасеты, оставим в словаре 30 000 самых частотных слов. Будем смотреть на титулы максимальной длины 20."
      ]
    },
    {
      "cell_type": "code",
      "execution_count": 110,
      "metadata": {
        "id": "2zjgEiWWM_zh"
      },
      "outputs": [],
      "source": [
        "CLASSES_NUM = len(idx2tag)\n",
        "VOCAB_SIZE = 10000\n",
        "MAX_TITLE_LEN = 20\n",
        "MAX_SNIPPET_LEN = 60\n",
        "\n",
        "# словарь создаем по всей выборке\n",
        "vocabulary = create_vocab(' '.join(df_ria.title_clean.values))\n",
        "\n",
        "# объявляем датасеты\n",
        "train_dataset = NewsDataset(df_train.target_tags.values, df_train.title_clean.values, vocabulary, VOCAB_SIZE, MAX_TITLE_LEN, CLASSES_NUM )\n",
        "val_dataset = NewsDataset(df_val.target_tags.values, df_val.title_clean.values, vocabulary, VOCAB_SIZE, MAX_TITLE_LEN, CLASSES_NUM )\n",
        "test_dataset = NewsDataset(df_test.target_tags.values, df_test.title_clean.values, vocabulary, VOCAB_SIZE, MAX_TITLE_LEN, CLASSES_NUM )"
      ]
    },
    {
      "cell_type": "code",
      "execution_count": 111,
      "metadata": {
        "id": "kNdo56v0M_zh"
      },
      "outputs": [],
      "source": [
        "train_dataloader = DataLoader(train_dataset, shuffle=True, batch_size=64, num_workers=2)\n",
        "val_dataloader = DataLoader(val_dataset, shuffle=False, batch_size=4096, num_workers=2)"
      ]
    },
    {
      "cell_type": "markdown",
      "metadata": {
        "id": "WvQXMtISM_zh"
      },
      "source": [
        "## 1.4 Архитектуры\n",
        "\n",
        "Соберём базовую архитектуру для обучения."
      ]
    },
    {
      "cell_type": "code",
      "execution_count": 112,
      "metadata": {
        "id": "dN8DAIIkM_zh"
      },
      "outputs": [],
      "source": [
        "from torch import nn\n",
        "import torch.nn.functional as F\n",
        "\n",
        "class SimpleClassifier(nn.Module):\n",
        "\n",
        "    def __init__(self, vocab_size, embedding_dim, output_dim):\n",
        "        super().__init__()\n",
        "        self.embedding = nn.Embedding(vocab_size, embedding_dim)\n",
        "        self.fc = nn.Linear(embedding_dim, output_dim)\n",
        "\n",
        "    def forward(self, title):\n",
        "        embedded = self.embedding(title)\n",
        "        embedded = embedded.mean(dim=1)\n",
        "        return self.fc(embedded)"
      ]
    },
    {
      "cell_type": "markdown",
      "metadata": {
        "id": "slQEltBQM_zh"
      },
      "source": [
        "Соберём в `pytorch_lightning` модуль для обучения нейронки."
      ]
    },
    {
      "cell_type": "code",
      "execution_count": 113,
      "metadata": {
        "id": "GqKIxEyoM_zi",
        "outputId": "b2e7fe8f-c3e5-4665-f76d-7d4077227190",
        "colab": {
          "base_uri": "https://localhost:8080/"
        }
      },
      "outputs": [
        {
          "output_type": "stream",
          "name": "stdout",
          "text": [
            "Requirement already satisfied: pytorch_lightning in /usr/local/lib/python3.10/dist-packages (2.1.2)\n",
            "Requirement already satisfied: numpy>=1.17.2 in /usr/local/lib/python3.10/dist-packages (from pytorch_lightning) (1.23.5)\n",
            "Requirement already satisfied: torch>=1.12.0 in /usr/local/lib/python3.10/dist-packages (from pytorch_lightning) (2.1.0+cu121)\n",
            "Requirement already satisfied: tqdm>=4.57.0 in /usr/local/lib/python3.10/dist-packages (from pytorch_lightning) (4.66.1)\n",
            "Requirement already satisfied: PyYAML>=5.4 in /usr/local/lib/python3.10/dist-packages (from pytorch_lightning) (6.0.1)\n",
            "Requirement already satisfied: fsspec[http]>2021.06.0 in /usr/local/lib/python3.10/dist-packages (from pytorch_lightning) (2023.6.0)\n",
            "Requirement already satisfied: torchmetrics>=0.7.0 in /usr/local/lib/python3.10/dist-packages (from pytorch_lightning) (1.2.1)\n",
            "Requirement already satisfied: packaging>=20.0 in /usr/local/lib/python3.10/dist-packages (from pytorch_lightning) (23.2)\n",
            "Requirement already satisfied: typing-extensions>=4.0.0 in /usr/local/lib/python3.10/dist-packages (from pytorch_lightning) (4.5.0)\n",
            "Requirement already satisfied: lightning-utilities>=0.8.0 in /usr/local/lib/python3.10/dist-packages (from pytorch_lightning) (0.10.0)\n",
            "Requirement already satisfied: requests in /usr/local/lib/python3.10/dist-packages (from fsspec[http]>2021.06.0->pytorch_lightning) (2.31.0)\n",
            "Requirement already satisfied: aiohttp!=4.0.0a0,!=4.0.0a1 in /usr/local/lib/python3.10/dist-packages (from fsspec[http]>2021.06.0->pytorch_lightning) (3.9.1)\n",
            "Requirement already satisfied: setuptools in /usr/local/lib/python3.10/dist-packages (from lightning-utilities>=0.8.0->pytorch_lightning) (67.7.2)\n",
            "Requirement already satisfied: filelock in /usr/local/lib/python3.10/dist-packages (from torch>=1.12.0->pytorch_lightning) (3.13.1)\n",
            "Requirement already satisfied: sympy in /usr/local/lib/python3.10/dist-packages (from torch>=1.12.0->pytorch_lightning) (1.12)\n",
            "Requirement already satisfied: networkx in /usr/local/lib/python3.10/dist-packages (from torch>=1.12.0->pytorch_lightning) (3.2.1)\n",
            "Requirement already satisfied: jinja2 in /usr/local/lib/python3.10/dist-packages (from torch>=1.12.0->pytorch_lightning) (3.1.2)\n",
            "Requirement already satisfied: triton==2.1.0 in /usr/local/lib/python3.10/dist-packages (from torch>=1.12.0->pytorch_lightning) (2.1.0)\n",
            "Requirement already satisfied: attrs>=17.3.0 in /usr/local/lib/python3.10/dist-packages (from aiohttp!=4.0.0a0,!=4.0.0a1->fsspec[http]>2021.06.0->pytorch_lightning) (23.1.0)\n",
            "Requirement already satisfied: multidict<7.0,>=4.5 in /usr/local/lib/python3.10/dist-packages (from aiohttp!=4.0.0a0,!=4.0.0a1->fsspec[http]>2021.06.0->pytorch_lightning) (6.0.4)\n",
            "Requirement already satisfied: yarl<2.0,>=1.0 in /usr/local/lib/python3.10/dist-packages (from aiohttp!=4.0.0a0,!=4.0.0a1->fsspec[http]>2021.06.0->pytorch_lightning) (1.9.4)\n",
            "Requirement already satisfied: frozenlist>=1.1.1 in /usr/local/lib/python3.10/dist-packages (from aiohttp!=4.0.0a0,!=4.0.0a1->fsspec[http]>2021.06.0->pytorch_lightning) (1.4.0)\n",
            "Requirement already satisfied: aiosignal>=1.1.2 in /usr/local/lib/python3.10/dist-packages (from aiohttp!=4.0.0a0,!=4.0.0a1->fsspec[http]>2021.06.0->pytorch_lightning) (1.3.1)\n",
            "Requirement already satisfied: async-timeout<5.0,>=4.0 in /usr/local/lib/python3.10/dist-packages (from aiohttp!=4.0.0a0,!=4.0.0a1->fsspec[http]>2021.06.0->pytorch_lightning) (4.0.3)\n",
            "Requirement already satisfied: MarkupSafe>=2.0 in /usr/local/lib/python3.10/dist-packages (from jinja2->torch>=1.12.0->pytorch_lightning) (2.1.3)\n",
            "Requirement already satisfied: charset-normalizer<4,>=2 in /usr/local/lib/python3.10/dist-packages (from requests->fsspec[http]>2021.06.0->pytorch_lightning) (3.3.2)\n",
            "Requirement already satisfied: idna<4,>=2.5 in /usr/local/lib/python3.10/dist-packages (from requests->fsspec[http]>2021.06.0->pytorch_lightning) (3.6)\n",
            "Requirement already satisfied: urllib3<3,>=1.21.1 in /usr/local/lib/python3.10/dist-packages (from requests->fsspec[http]>2021.06.0->pytorch_lightning) (2.0.7)\n",
            "Requirement already satisfied: certifi>=2017.4.17 in /usr/local/lib/python3.10/dist-packages (from requests->fsspec[http]>2021.06.0->pytorch_lightning) (2023.11.17)\n",
            "Requirement already satisfied: mpmath>=0.19 in /usr/local/lib/python3.10/dist-packages (from sympy->torch>=1.12.0->pytorch_lightning) (1.3.0)\n"
          ]
        }
      ],
      "source": [
        "!pip3 install pytorch_lightning"
      ]
    },
    {
      "cell_type": "code",
      "execution_count": 114,
      "metadata": {
        "id": "5E6J3of9M_zi"
      },
      "outputs": [],
      "source": [
        "import pytorch_lightning as pl\n",
        "\n",
        "class TrainLightningModule(pl.LightningModule):\n",
        "    def __init__(self, model, learning_rate, criterion):\n",
        "        super().__init__()\n",
        "        self.model = model\n",
        "        self.criterion = criterion\n",
        "        self.learning_rate = learning_rate\n",
        "\n",
        "    def forward(self, title):\n",
        "        result = self.model(title)\n",
        "        return result\n",
        "\n",
        "    def configure_optimizers(self):\n",
        "        optimizer = torch.optim.Adam(self.parameters(), lr=self.learning_rate)\n",
        "        return optimizer\n",
        "\n",
        "    def training_step(self, train_batch, batch_idx):\n",
        "        title, target = train_batch\n",
        "        logits = self.model(title)\n",
        "        loss = self.criterion(logits, target)\n",
        "        self.log(\n",
        "            \"train_loss\", loss, prog_bar=True\n",
        "        )\n",
        "        return loss\n",
        "\n",
        "    def validation_step(self, val_batch, batch_idx):\n",
        "        title, target = val_batch\n",
        "        logits = self.model(title)\n",
        "        loss = self.criterion(logits, target)\n",
        "        self.log(\n",
        "            \"val_loss\", loss, prog_bar=True\n",
        "        )\n",
        "        return loss"
      ]
    },
    {
      "cell_type": "markdown",
      "metadata": {
        "id": "6BirneLfM_zi"
      },
      "source": [
        "Обучим модель."
      ]
    },
    {
      "cell_type": "code",
      "execution_count": 115,
      "metadata": {
        "colab": {
          "base_uri": "https://localhost:8080/",
          "height": 1000,
          "referenced_widgets": [
            "1b9df1c624b24e43a615f4a933e2bc6a",
            "5a9623cf14284568b903c7bda525d9d3",
            "ba4ff486b56c422d969b6d2808620157",
            "5189885f757f447dbede1a8fa82db46f",
            "00cf25ba3ffc4963a9c2754336ded19d",
            "2882dad25c094f869416044e3ca24749",
            "4ffb1845cc9b435eb7c91f8942eaf96c",
            "c8fde39bae0247ac98008c5181680c7d",
            "dd8c40c73c91449981dd9709bcd7b372",
            "c78092e489004ed28d030b53c9e87967",
            "d79104067f4a446b9a6ac9539d3d8567",
            "10abf57235034e1aaaad34098587afc8",
            "ba230ad2ac0f40509ff3423dd75cde9d",
            "2961675a03c141a7b8b828c6b1c464de",
            "2a85dc23fb0748c69c97a91618865630",
            "b6aa9fc4c04b4dec866703f09c9adbb5",
            "e390b54016a7458bae065ee0c89c910e",
            "8728b4a1680941288c30aadc2a8c584c",
            "90e37c2f120c4a0eac0547d88dab8b6c",
            "9189cdb472524c408d1cea31c21e495c",
            "610179f7cf164a2caf007871a7b6c31b",
            "fb86299db9c541f3856f6c8b2ba8f24d",
            "cfc308dde58341129fd13e8ecfd559a2"
          ]
        },
        "id": "5ShTLAStM_zi",
        "outputId": "cfd51b29-2baf-4973-c44a-336e43594c9e"
      },
      "outputs": [
        {
          "output_type": "display_data",
          "data": {
            "text/plain": [
              "<IPython.core.display.HTML object>"
            ],
            "text/html": [
              "Finishing last run (ID:ph74zfqw) before initializing another..."
            ]
          },
          "metadata": {}
        },
        {
          "output_type": "display_data",
          "data": {
            "text/plain": [
              "VBox(children=(Label(value='198.957 MB of 198.957 MB uploaded\\r'), FloatProgress(value=1.0, max=1.0)))"
            ],
            "application/vnd.jupyter.widget-view+json": {
              "version_major": 2,
              "version_minor": 0,
              "model_id": "1b9df1c624b24e43a615f4a933e2bc6a"
            }
          },
          "metadata": {}
        },
        {
          "output_type": "display_data",
          "data": {
            "text/plain": [
              "<IPython.core.display.HTML object>"
            ],
            "text/html": [
              "<style>\n",
              "    table.wandb td:nth-child(1) { padding: 0 10px; text-align: left ; width: auto;} td:nth-child(2) {text-align: left ; width: 100%}\n",
              "    .wandb-row { display: flex; flex-direction: row; flex-wrap: wrap; justify-content: flex-start; width: 100% }\n",
              "    .wandb-col { display: flex; flex-direction: column; flex-basis: 100%; flex: 1; padding: 10px; }\n",
              "    </style>\n",
              "<div class=\"wandb-row\"><div class=\"wandb-col\"><h3>Run history:</h3><br/><table class=\"wandb\"><tr><td>epoch</td><td>▁▁▁▁▁▁▁▁▃▃▃▃▃▃▃▃▅▅▅▅▅▅▅▅▆▆▆▆▆▆▆▆████████</td></tr><tr><td>train_loss</td><td>█▇▆▅▅▅▄▅▃▄▄▃▂▄▄▄▂▂▃▃▃▃▂▂▁▂▂▂▂▃▂▂▁▁▁▂▂▂▁▁</td></tr><tr><td>trainer/global_step</td><td>▁▁▁▂▂▂▂▂▂▃▃▃▃▃▃▄▄▄▄▄▅▅▅▅▅▅▆▆▆▆▆▇▇▇▇▇▇███</td></tr><tr><td>val_loss</td><td>█▄▂▁▁</td></tr></table><br/></div><div class=\"wandb-col\"><h3>Run summary:</h3><br/><table class=\"wandb\"><tr><td>epoch</td><td>4</td></tr><tr><td>train_loss</td><td>7.46749</td></tr><tr><td>trainer/global_step</td><td>10694</td></tr><tr><td>val_loss</td><td>10.74666</td></tr></table><br/></div></div>"
            ]
          },
          "metadata": {}
        },
        {
          "output_type": "display_data",
          "data": {
            "text/plain": [
              "<IPython.core.display.HTML object>"
            ],
            "text/html": [
              " View run <strong style=\"color:#cdcd00\">curious-galaxy-3</strong> at: <a href='https://wandb.ai/ruslan_iad/hw_04_task_01/runs/ph74zfqw' target=\"_blank\">https://wandb.ai/ruslan_iad/hw_04_task_01/runs/ph74zfqw</a><br/>Synced 5 W&B file(s), 0 media file(s), 5 artifact file(s) and 0 other file(s)"
            ]
          },
          "metadata": {}
        },
        {
          "output_type": "display_data",
          "data": {
            "text/plain": [
              "<IPython.core.display.HTML object>"
            ],
            "text/html": [
              "Find logs at: <code>./wandb/run-20231217_183422-ph74zfqw/logs</code>"
            ]
          },
          "metadata": {}
        },
        {
          "output_type": "display_data",
          "data": {
            "text/plain": [
              "<IPython.core.display.HTML object>"
            ],
            "text/html": [
              "Successfully finished last run (ID:ph74zfqw). Initializing new run:<br/>"
            ]
          },
          "metadata": {}
        },
        {
          "output_type": "display_data",
          "data": {
            "text/plain": [
              "<IPython.core.display.HTML object>"
            ],
            "text/html": [
              "Tracking run with wandb version 0.16.1"
            ]
          },
          "metadata": {}
        },
        {
          "output_type": "display_data",
          "data": {
            "text/plain": [
              "<IPython.core.display.HTML object>"
            ],
            "text/html": [
              "Run data is saved locally in <code>/content/wandb/run-20231217_184510-947k4jve</code>"
            ]
          },
          "metadata": {}
        },
        {
          "output_type": "display_data",
          "data": {
            "text/plain": [
              "<IPython.core.display.HTML object>"
            ],
            "text/html": [
              "Syncing run <strong><a href='https://wandb.ai/ruslan_iad/hw_04_task_01/runs/947k4jve' target=\"_blank\">hardy-plant-4</a></strong> to <a href='https://wandb.ai/ruslan_iad/hw_04_task_01' target=\"_blank\">Weights & Biases</a> (<a href='https://wandb.me/run' target=\"_blank\">docs</a>)<br/>"
            ]
          },
          "metadata": {}
        },
        {
          "output_type": "display_data",
          "data": {
            "text/plain": [
              "<IPython.core.display.HTML object>"
            ],
            "text/html": [
              " View project at <a href='https://wandb.ai/ruslan_iad/hw_04_task_01' target=\"_blank\">https://wandb.ai/ruslan_iad/hw_04_task_01</a>"
            ]
          },
          "metadata": {}
        },
        {
          "output_type": "display_data",
          "data": {
            "text/plain": [
              "<IPython.core.display.HTML object>"
            ],
            "text/html": [
              " View run at <a href='https://wandb.ai/ruslan_iad/hw_04_task_01/runs/947k4jve' target=\"_blank\">https://wandb.ai/ruslan_iad/hw_04_task_01/runs/947k4jve</a>"
            ]
          },
          "metadata": {}
        },
        {
          "output_type": "stream",
          "name": "stderr",
          "text": [
            "INFO:pytorch_lightning.utilities.rank_zero:GPU available: True (cuda), used: True\n",
            "INFO:pytorch_lightning.utilities.rank_zero:TPU available: False, using: 0 TPU cores\n",
            "INFO:pytorch_lightning.utilities.rank_zero:IPU available: False, using: 0 IPUs\n",
            "INFO:pytorch_lightning.utilities.rank_zero:HPU available: False, using: 0 HPUs\n",
            "/usr/local/lib/python3.10/dist-packages/pytorch_lightning/loggers/wandb.py:389: There is a wandb run already in progress and newly created instances of `WandbLogger` will reuse this run. If this is not desired, call `wandb.finish()` before instantiating `WandbLogger`.\n",
            "INFO:pytorch_lightning.accelerators.cuda:LOCAL_RANK: 0 - CUDA_VISIBLE_DEVICES: [0]\n",
            "INFO:pytorch_lightning.callbacks.model_summary:\n",
            "  | Name      | Type             | Params\n",
            "-----------------------------------------------\n",
            "0 | model     | SimpleClassifier | 3.5 M \n",
            "1 | criterion | CrossEntropyLoss | 0     \n",
            "-----------------------------------------------\n",
            "3.5 M     Trainable params\n",
            "0         Non-trainable params\n",
            "3.5 M     Total params\n",
            "13.906    Total estimated model params size (MB)\n"
          ]
        },
        {
          "output_type": "display_data",
          "data": {
            "text/plain": [
              "Sanity Checking: |          | 0/? [00:00<?, ?it/s]"
            ],
            "application/vnd.jupyter.widget-view+json": {
              "version_major": 2,
              "version_minor": 0,
              "model_id": "5a9623cf14284568b903c7bda525d9d3"
            }
          },
          "metadata": {}
        },
        {
          "output_type": "stream",
          "name": "stdout",
          "text": [
            "tensor([[[-2.4675e+00,  6.7454e-01,  7.8473e-01,  ...,  6.8091e-01,\n",
            "          -1.8941e-01,  9.1368e-01],\n",
            "         [-1.2388e+00, -1.6528e+00,  6.1467e-01,  ...,  1.1694e+00,\n",
            "           2.6526e-01,  2.4841e+00],\n",
            "         [ 1.2065e+00,  5.7083e-01, -1.1366e+00,  ...,  2.6871e+00,\n",
            "           3.2376e-01, -1.0058e-02],\n",
            "         ...,\n",
            "         [-2.2587e-02, -1.0585e+00,  7.0269e-02,  ..., -5.5227e-03,\n",
            "           7.8901e-02,  1.3746e+00],\n",
            "         [-2.2587e-02, -1.0585e+00,  7.0269e-02,  ..., -5.5227e-03,\n",
            "           7.8901e-02,  1.3746e+00],\n",
            "         [-2.2587e-02, -1.0585e+00,  7.0269e-02,  ..., -5.5227e-03,\n",
            "           7.8901e-02,  1.3746e+00]],\n",
            "\n",
            "        [[-5.3045e-01, -1.7948e-02, -1.1099e-01,  ...,  8.0253e-01,\n",
            "          -1.9585e+00,  1.7743e+00],\n",
            "         [-5.3045e-01, -1.7948e-02, -1.1099e-01,  ...,  8.0253e-01,\n",
            "          -1.9585e+00,  1.7743e+00],\n",
            "         [-1.3652e+00,  8.5121e-01, -1.6199e+00,  ..., -1.4367e+00,\n",
            "          -9.6364e-01,  5.8585e-01],\n",
            "         ...,\n",
            "         [-2.2587e-02, -1.0585e+00,  7.0269e-02,  ..., -5.5227e-03,\n",
            "           7.8901e-02,  1.3746e+00],\n",
            "         [-2.2587e-02, -1.0585e+00,  7.0269e-02,  ..., -5.5227e-03,\n",
            "           7.8901e-02,  1.3746e+00],\n",
            "         [-2.2587e-02, -1.0585e+00,  7.0269e-02,  ..., -5.5227e-03,\n",
            "           7.8901e-02,  1.3746e+00]],\n",
            "\n",
            "        [[ 4.5756e-06,  1.1441e+00,  5.2790e-01,  ...,  1.4662e+00,\n",
            "          -1.4852e+00,  1.8541e-01],\n",
            "         [-5.3045e-01, -1.7948e-02, -1.1099e-01,  ...,  8.0253e-01,\n",
            "          -1.9585e+00,  1.7743e+00],\n",
            "         [-5.3045e-01, -1.7948e-02, -1.1099e-01,  ...,  8.0253e-01,\n",
            "          -1.9585e+00,  1.7743e+00],\n",
            "         ...,\n",
            "         [-2.2587e-02, -1.0585e+00,  7.0269e-02,  ..., -5.5227e-03,\n",
            "           7.8901e-02,  1.3746e+00],\n",
            "         [-2.2587e-02, -1.0585e+00,  7.0269e-02,  ..., -5.5227e-03,\n",
            "           7.8901e-02,  1.3746e+00],\n",
            "         [-2.2587e-02, -1.0585e+00,  7.0269e-02,  ..., -5.5227e-03,\n",
            "           7.8901e-02,  1.3746e+00]],\n",
            "\n",
            "        ...,\n",
            "\n",
            "        [[ 7.3518e-01,  3.7014e-01, -9.4924e-02,  ..., -1.4578e+00,\n",
            "           7.1011e-01, -1.8223e+00],\n",
            "         [-9.1439e-01,  8.3895e-02, -5.4807e-01,  ...,  3.2843e-01,\n",
            "          -1.6333e+00, -2.1051e-01],\n",
            "         [-5.3045e-01, -1.7948e-02, -1.1099e-01,  ...,  8.0253e-01,\n",
            "          -1.9585e+00,  1.7743e+00],\n",
            "         ...,\n",
            "         [-2.2587e-02, -1.0585e+00,  7.0269e-02,  ..., -5.5227e-03,\n",
            "           7.8901e-02,  1.3746e+00],\n",
            "         [-2.2587e-02, -1.0585e+00,  7.0269e-02,  ..., -5.5227e-03,\n",
            "           7.8901e-02,  1.3746e+00],\n",
            "         [-2.2587e-02, -1.0585e+00,  7.0269e-02,  ..., -5.5227e-03,\n",
            "           7.8901e-02,  1.3746e+00]],\n",
            "\n",
            "        [[ 1.4157e+00, -1.0298e+00,  1.2806e+00,  ...,  1.5766e-01,\n",
            "          -1.5712e+00, -2.7749e-01],\n",
            "         [-1.0203e+00, -1.3930e-01,  8.8745e-01,  ..., -1.4990e+00,\n",
            "           1.6006e+00,  6.2669e-01],\n",
            "         [-5.3045e-01, -1.7948e-02, -1.1099e-01,  ...,  8.0253e-01,\n",
            "          -1.9585e+00,  1.7743e+00],\n",
            "         ...,\n",
            "         [-2.2587e-02, -1.0585e+00,  7.0269e-02,  ..., -5.5227e-03,\n",
            "           7.8901e-02,  1.3746e+00],\n",
            "         [-2.2587e-02, -1.0585e+00,  7.0269e-02,  ..., -5.5227e-03,\n",
            "           7.8901e-02,  1.3746e+00],\n",
            "         [-2.2587e-02, -1.0585e+00,  7.0269e-02,  ..., -5.5227e-03,\n",
            "           7.8901e-02,  1.3746e+00]],\n",
            "\n",
            "        [[-1.1468e+00,  7.9532e-01, -4.1681e-01,  ..., -6.7373e-01,\n",
            "           5.1823e-01,  1.3060e+00],\n",
            "         [-1.2774e-01,  2.4868e-02, -5.9625e-01,  ..., -3.9475e-01,\n",
            "          -5.6785e-01,  2.0502e+00],\n",
            "         [-5.3045e-01, -1.7948e-02, -1.1099e-01,  ...,  8.0253e-01,\n",
            "          -1.9585e+00,  1.7743e+00],\n",
            "         ...,\n",
            "         [-2.2587e-02, -1.0585e+00,  7.0269e-02,  ..., -5.5227e-03,\n",
            "           7.8901e-02,  1.3746e+00],\n",
            "         [-2.2587e-02, -1.0585e+00,  7.0269e-02,  ..., -5.5227e-03,\n",
            "           7.8901e-02,  1.3746e+00],\n",
            "         [-2.2587e-02, -1.0585e+00,  7.0269e-02,  ..., -5.5227e-03,\n",
            "           7.8901e-02,  1.3746e+00]]], device='cuda:0')\n",
            "tensor([[[-0.5305, -0.0179, -0.1110,  ...,  0.8025, -1.9585,  1.7743],\n",
            "         [-0.5305, -0.0179, -0.1110,  ...,  0.8025, -1.9585,  1.7743],\n",
            "         [-0.5305, -0.0179, -0.1110,  ...,  0.8025, -1.9585,  1.7743],\n",
            "         ...,\n",
            "         [-0.0226, -1.0585,  0.0703,  ..., -0.0055,  0.0789,  1.3746],\n",
            "         [-0.0226, -1.0585,  0.0703,  ..., -0.0055,  0.0789,  1.3746],\n",
            "         [-0.0226, -1.0585,  0.0703,  ..., -0.0055,  0.0789,  1.3746]],\n",
            "\n",
            "        [[-2.0067,  0.5889, -1.0049,  ..., -1.1394,  1.2870, -0.9172],\n",
            "         [ 0.4600,  0.3138,  0.0843,  ...,  0.0422, -0.0866,  0.5425],\n",
            "         [-0.5305, -0.0179, -0.1110,  ...,  0.8025, -1.9585,  1.7743],\n",
            "         ...,\n",
            "         [-0.0226, -1.0585,  0.0703,  ..., -0.0055,  0.0789,  1.3746],\n",
            "         [-0.0226, -1.0585,  0.0703,  ..., -0.0055,  0.0789,  1.3746],\n",
            "         [-0.0226, -1.0585,  0.0703,  ..., -0.0055,  0.0789,  1.3746]],\n",
            "\n",
            "        [[ 0.2864,  0.8904, -0.3098,  ..., -0.1337, -0.1369, -1.0366],\n",
            "         [-0.7503, -0.0770, -0.2509,  ..., -1.3420,  0.4681, -1.8249],\n",
            "         [-1.0715, -0.3068,  0.8361,  ..., -1.2942, -0.2543,  1.6034],\n",
            "         ...,\n",
            "         [-0.0226, -1.0585,  0.0703,  ..., -0.0055,  0.0789,  1.3746],\n",
            "         [-0.0226, -1.0585,  0.0703,  ..., -0.0055,  0.0789,  1.3746],\n",
            "         [-0.0226, -1.0585,  0.0703,  ..., -0.0055,  0.0789,  1.3746]],\n",
            "\n",
            "        ...,\n",
            "\n",
            "        [[-0.5305, -0.0179, -0.1110,  ...,  0.8025, -1.9585,  1.7743],\n",
            "         [ 0.9101, -0.0655, -0.6327,  ...,  0.0865, -2.0071, -1.5041],\n",
            "         [ 1.1564, -0.2607, -1.7436,  ..., -0.4815, -1.0239, -0.6263],\n",
            "         ...,\n",
            "         [-0.0226, -1.0585,  0.0703,  ..., -0.0055,  0.0789,  1.3746],\n",
            "         [-0.0226, -1.0585,  0.0703,  ..., -0.0055,  0.0789,  1.3746],\n",
            "         [-0.0226, -1.0585,  0.0703,  ..., -0.0055,  0.0789,  1.3746]],\n",
            "\n",
            "        [[ 0.5963, -0.1358,  0.4058,  ..., -0.4664, -1.3110,  1.6574],\n",
            "         [-1.3318,  0.0708, -0.9845,  ..., -0.1709,  0.6991,  1.9969],\n",
            "         [-0.5305, -0.0179, -0.1110,  ...,  0.8025, -1.9585,  1.7743],\n",
            "         ...,\n",
            "         [-0.0226, -1.0585,  0.0703,  ..., -0.0055,  0.0789,  1.3746],\n",
            "         [-0.0226, -1.0585,  0.0703,  ..., -0.0055,  0.0789,  1.3746],\n",
            "         [-0.0226, -1.0585,  0.0703,  ..., -0.0055,  0.0789,  1.3746]],\n",
            "\n",
            "        [[-0.0301,  1.4710,  1.2800,  ..., -0.6817,  1.6193, -0.8478],\n",
            "         [-0.4750, -1.1835,  1.8553,  ..., -0.0708, -0.2304, -0.3744],\n",
            "         [-0.5305, -0.0179, -0.1110,  ...,  0.8025, -1.9585,  1.7743],\n",
            "         ...,\n",
            "         [-0.0226, -1.0585,  0.0703,  ..., -0.0055,  0.0789,  1.3746],\n",
            "         [-0.0226, -1.0585,  0.0703,  ..., -0.0055,  0.0789,  1.3746],\n",
            "         [-0.0226, -1.0585,  0.0703,  ..., -0.0055,  0.0789,  1.3746]]],\n",
            "       device='cuda:0')\n"
          ]
        },
        {
          "output_type": "display_data",
          "data": {
            "text/plain": [
              "Training: |          | 0/? [00:00<?, ?it/s]"
            ],
            "application/vnd.jupyter.widget-view+json": {
              "version_major": 2,
              "version_minor": 0,
              "model_id": "ba230ad2ac0f40509ff3423dd75cde9d"
            }
          },
          "metadata": {}
        },
        {
          "output_type": "stream",
          "name": "stdout",
          "text": [
            "tensor([[[-5.3045e-01, -1.7948e-02, -1.1099e-01,  ...,  8.0253e-01,\n",
            "          -1.9585e+00,  1.7743e+00],\n",
            "         [-5.3045e-01, -1.7948e-02, -1.1099e-01,  ...,  8.0253e-01,\n",
            "          -1.9585e+00,  1.7743e+00],\n",
            "         [ 9.4040e-01, -2.0258e-01, -2.7266e-01,  ..., -3.4297e-01,\n",
            "          -1.1613e+00,  4.7632e-01],\n",
            "         ...,\n",
            "         [-2.2587e-02, -1.0585e+00,  7.0269e-02,  ..., -5.5227e-03,\n",
            "           7.8901e-02,  1.3746e+00],\n",
            "         [-2.2587e-02, -1.0585e+00,  7.0269e-02,  ..., -5.5227e-03,\n",
            "           7.8901e-02,  1.3746e+00],\n",
            "         [-2.2587e-02, -1.0585e+00,  7.0269e-02,  ..., -5.5227e-03,\n",
            "           7.8901e-02,  1.3746e+00]],\n",
            "\n",
            "        [[-5.3045e-01, -1.7948e-02, -1.1099e-01,  ...,  8.0253e-01,\n",
            "          -1.9585e+00,  1.7743e+00],\n",
            "         [-5.3045e-01, -1.7948e-02, -1.1099e-01,  ...,  8.0253e-01,\n",
            "          -1.9585e+00,  1.7743e+00],\n",
            "         [-1.1598e+00, -2.0720e+00,  8.3235e-01,  ..., -6.3739e-01,\n",
            "           1.1929e+00,  8.5289e-01],\n",
            "         ...,\n",
            "         [-2.2587e-02, -1.0585e+00,  7.0269e-02,  ..., -5.5227e-03,\n",
            "           7.8901e-02,  1.3746e+00],\n",
            "         [-2.2587e-02, -1.0585e+00,  7.0269e-02,  ..., -5.5227e-03,\n",
            "           7.8901e-02,  1.3746e+00],\n",
            "         [-2.2587e-02, -1.0585e+00,  7.0269e-02,  ..., -5.5227e-03,\n",
            "           7.8901e-02,  1.3746e+00]],\n",
            "\n",
            "        [[ 1.5970e-01,  1.2881e-01, -3.1723e-01,  ...,  8.6281e-01,\n",
            "          -2.9039e-01, -1.2817e-01],\n",
            "         [-5.3045e-01, -1.7948e-02, -1.1099e-01,  ...,  8.0253e-01,\n",
            "          -1.9585e+00,  1.7743e+00],\n",
            "         [-4.3778e-02,  1.1986e-01, -1.1014e-01,  ...,  6.3402e-02,\n",
            "          -1.7920e+00, -1.0786e+00],\n",
            "         ...,\n",
            "         [-2.2587e-02, -1.0585e+00,  7.0269e-02,  ..., -5.5227e-03,\n",
            "           7.8901e-02,  1.3746e+00],\n",
            "         [-2.2587e-02, -1.0585e+00,  7.0269e-02,  ..., -5.5227e-03,\n",
            "           7.8901e-02,  1.3746e+00],\n",
            "         [-2.2587e-02, -1.0585e+00,  7.0269e-02,  ..., -5.5227e-03,\n",
            "           7.8901e-02,  1.3746e+00]],\n",
            "\n",
            "        ...,\n",
            "\n",
            "        [[-2.4675e+00,  6.7454e-01,  7.8473e-01,  ...,  6.8091e-01,\n",
            "          -1.8941e-01,  9.1368e-01],\n",
            "         [-1.9636e-02,  1.3376e+00, -1.9747e-01,  ...,  7.5530e-01,\n",
            "           9.3641e-01,  8.1087e-01],\n",
            "         [-2.3628e-03, -1.1858e+00,  9.2621e-01,  ...,  1.5027e+00,\n",
            "          -2.9887e-01,  1.0807e-01],\n",
            "         ...,\n",
            "         [-2.2587e-02, -1.0585e+00,  7.0269e-02,  ..., -5.5227e-03,\n",
            "           7.8901e-02,  1.3746e+00],\n",
            "         [-2.2587e-02, -1.0585e+00,  7.0269e-02,  ..., -5.5227e-03,\n",
            "           7.8901e-02,  1.3746e+00],\n",
            "         [-2.2587e-02, -1.0585e+00,  7.0269e-02,  ..., -5.5227e-03,\n",
            "           7.8901e-02,  1.3746e+00]],\n",
            "\n",
            "        [[ 1.1791e+00, -5.8496e-01,  1.9384e-01,  ...,  1.2772e+00,\n",
            "           1.6560e-01, -4.0293e-01],\n",
            "         [ 6.3011e-01, -9.6622e-01,  1.3258e+00,  ..., -5.1302e-01,\n",
            "           6.9033e-01, -1.4178e+00],\n",
            "         [-7.9166e-02,  1.5673e+00,  1.6342e-01,  ..., -6.3411e-01,\n",
            "          -1.2690e+00, -5.2049e-01],\n",
            "         ...,\n",
            "         [-2.2587e-02, -1.0585e+00,  7.0269e-02,  ..., -5.5227e-03,\n",
            "           7.8901e-02,  1.3746e+00],\n",
            "         [-2.2587e-02, -1.0585e+00,  7.0269e-02,  ..., -5.5227e-03,\n",
            "           7.8901e-02,  1.3746e+00],\n",
            "         [-2.2587e-02, -1.0585e+00,  7.0269e-02,  ..., -5.5227e-03,\n",
            "           7.8901e-02,  1.3746e+00]],\n",
            "\n",
            "        [[ 9.4171e-01,  8.3596e-01,  2.0226e+00,  ...,  1.6380e+00,\n",
            "          -5.6437e-01, -1.1577e+00],\n",
            "         [-6.6929e-02,  8.9259e-01,  4.1925e-01,  ..., -1.7448e+00,\n",
            "           5.2006e-01, -1.0102e+00],\n",
            "         [-3.7487e-01,  1.2511e-01, -1.0995e+00,  ...,  7.9444e-01,\n",
            "          -4.4667e-01, -1.8148e+00],\n",
            "         ...,\n",
            "         [-2.2587e-02, -1.0585e+00,  7.0269e-02,  ..., -5.5227e-03,\n",
            "           7.8901e-02,  1.3746e+00],\n",
            "         [-2.2587e-02, -1.0585e+00,  7.0269e-02,  ..., -5.5227e-03,\n",
            "           7.8901e-02,  1.3746e+00],\n",
            "         [-2.2587e-02, -1.0585e+00,  7.0269e-02,  ..., -5.5227e-03,\n",
            "           7.8901e-02,  1.3746e+00]]], device='cuda:0',\n",
            "       grad_fn=<EmbeddingBackward0>)\n",
            "tensor([[[-0.5295, -0.0169, -0.1100,  ...,  0.8035, -1.9595,  1.7733],\n",
            "         [ 0.5166, -2.1366, -0.7889,  ..., -0.3094, -2.3137,  1.3901],\n",
            "         [-0.0513, -1.8063,  1.1984,  ..., -0.1328,  0.7208, -1.1647],\n",
            "         ...,\n",
            "         [-0.0216, -1.0575,  0.0713,  ..., -0.0045,  0.0779,  1.3736],\n",
            "         [-0.0216, -1.0575,  0.0713,  ..., -0.0045,  0.0779,  1.3736],\n",
            "         [-0.0216, -1.0575,  0.0713,  ..., -0.0045,  0.0779,  1.3736]],\n",
            "\n",
            "        [[-0.6618, -2.1128,  0.5417,  ..., -1.9442,  0.2884, -1.7062],\n",
            "         [ 0.2579,  0.8666,  0.2076,  ..., -0.8247, -1.0107,  0.1563],\n",
            "         [-1.6520, -0.9303,  0.8779,  ...,  1.0117, -0.8523,  1.9997],\n",
            "         ...,\n",
            "         [-0.0216, -1.0575,  0.0713,  ..., -0.0045,  0.0779,  1.3736],\n",
            "         [-0.0216, -1.0575,  0.0713,  ..., -0.0045,  0.0779,  1.3736],\n",
            "         [-0.0216, -1.0575,  0.0713,  ..., -0.0045,  0.0779,  1.3736]],\n",
            "\n",
            "        [[-0.5295, -0.0169, -0.1100,  ...,  0.8035, -1.9595,  1.7733],\n",
            "         [-0.2769,  0.8594, -1.0646,  ...,  0.1654,  0.4821, -0.5779],\n",
            "         [ 0.1821,  0.6063,  0.2748,  ..., -2.1383, -0.1304,  1.8155],\n",
            "         ...,\n",
            "         [-0.0216, -1.0575,  0.0713,  ..., -0.0045,  0.0779,  1.3736],\n",
            "         [-0.0216, -1.0575,  0.0713,  ..., -0.0045,  0.0779,  1.3736],\n",
            "         [-0.0216, -1.0575,  0.0713,  ..., -0.0045,  0.0779,  1.3736]],\n",
            "\n",
            "        ...,\n",
            "\n",
            "        [[-0.5295, -0.0169, -0.1100,  ...,  0.8035, -1.9595,  1.7733],\n",
            "         [ 0.3975,  1.6117, -0.6376,  ..., -0.6008,  0.9710,  1.0029],\n",
            "         [-0.4852, -0.5009,  0.6325,  ...,  0.5305, -0.4240,  0.1355],\n",
            "         ...,\n",
            "         [-0.0216, -1.0575,  0.0713,  ..., -0.0045,  0.0779,  1.3736],\n",
            "         [-0.0216, -1.0575,  0.0713,  ..., -0.0045,  0.0779,  1.3736],\n",
            "         [-0.0216, -1.0575,  0.0713,  ..., -0.0045,  0.0779,  1.3736]],\n",
            "\n",
            "        [[ 0.3837,  0.8960,  1.3668,  ...,  0.7564,  0.4053, -0.1885],\n",
            "         [-0.5295, -0.0169, -0.1100,  ...,  0.8035, -1.9595,  1.7733],\n",
            "         [-0.0577, -0.2445,  0.1342,  ...,  0.2465,  0.7517,  0.1504],\n",
            "         ...,\n",
            "         [-0.0216, -1.0575,  0.0713,  ..., -0.0045,  0.0779,  1.3736],\n",
            "         [-0.0216, -1.0575,  0.0713,  ..., -0.0045,  0.0779,  1.3736],\n",
            "         [-0.0216, -1.0575,  0.0713,  ..., -0.0045,  0.0779,  1.3736]],\n",
            "\n",
            "        [[ 1.3894,  0.4521, -0.3632,  ..., -1.1824, -0.6723,  0.3509],\n",
            "         [-0.5295, -0.0169, -0.1100,  ...,  0.8035, -1.9595,  1.7733],\n",
            "         [-0.5295, -0.0169, -0.1100,  ...,  0.8035, -1.9595,  1.7733],\n",
            "         ...,\n",
            "         [-0.0216, -1.0575,  0.0713,  ..., -0.0045,  0.0779,  1.3736],\n",
            "         [-0.0216, -1.0575,  0.0713,  ..., -0.0045,  0.0779,  1.3736],\n",
            "         [-0.0216, -1.0575,  0.0713,  ..., -0.0045,  0.0779,  1.3736]]],\n",
            "       device='cuda:0', grad_fn=<EmbeddingBackward0>)\n",
            "tensor([[[-0.5288, -0.0160, -0.1092,  ...,  0.8045, -1.9598,  1.7724],\n",
            "         [-1.3296, -0.5164,  0.1784,  ...,  1.7742, -0.9534,  1.2501],\n",
            "         [-0.5288, -0.0160, -0.1092,  ...,  0.8045, -1.9598,  1.7724],\n",
            "         ...,\n",
            "         [-0.0207, -1.0565,  0.0721,  ..., -0.0036,  0.0772,  1.3731],\n",
            "         [-0.0207, -1.0565,  0.0721,  ..., -0.0036,  0.0772,  1.3731],\n",
            "         [-0.0207, -1.0565,  0.0721,  ..., -0.0036,  0.0772,  1.3731]],\n",
            "\n",
            "        [[-0.3194,  1.2613, -1.4594,  ..., -0.6920, -1.0624, -0.3441],\n",
            "         [ 0.8521,  0.0795,  1.0440,  ..., -0.3611, -0.3420, -0.1241],\n",
            "         [ 2.5990,  0.7303,  0.9187,  ...,  0.3792, -0.5424, -0.6272],\n",
            "         ...,\n",
            "         [-0.0207, -1.0565,  0.0721,  ..., -0.0036,  0.0772,  1.3731],\n",
            "         [-0.0207, -1.0565,  0.0721,  ..., -0.0036,  0.0772,  1.3731],\n",
            "         [-0.0207, -1.0565,  0.0721,  ..., -0.0036,  0.0772,  1.3731]],\n",
            "\n",
            "        [[-0.7808, -0.2930,  0.4091,  ..., -1.8293,  1.0317, -1.1776],\n",
            "         [-0.5288, -0.0160, -0.1092,  ...,  0.8045, -1.9598,  1.7724],\n",
            "         [-0.1799,  0.9700, -0.7667,  ..., -0.8368,  0.7347, -0.9737],\n",
            "         ...,\n",
            "         [-0.0207, -1.0565,  0.0721,  ..., -0.0036,  0.0772,  1.3731],\n",
            "         [-0.0207, -1.0565,  0.0721,  ..., -0.0036,  0.0772,  1.3731],\n",
            "         [-0.0207, -1.0565,  0.0721,  ..., -0.0036,  0.0772,  1.3731]],\n",
            "\n",
            "        ...,\n",
            "\n",
            "        [[ 0.1266,  0.0500,  0.7960,  ..., -0.9411, -0.9132, -1.1960],\n",
            "         [-0.3400, -1.0188,  1.3605,  ...,  1.2912, -0.4060,  1.0221],\n",
            "         [-0.5288, -0.0160, -0.1092,  ...,  0.8045, -1.9598,  1.7724],\n",
            "         ...,\n",
            "         [-0.0207, -1.0565,  0.0721,  ..., -0.0036,  0.0772,  1.3731],\n",
            "         [-0.0207, -1.0565,  0.0721,  ..., -0.0036,  0.0772,  1.3731],\n",
            "         [-0.0207, -1.0565,  0.0721,  ..., -0.0036,  0.0772,  1.3731]],\n",
            "\n",
            "        [[ 0.9143,  0.5798,  0.6463,  ...,  1.1880, -0.2935, -0.2120],\n",
            "         [-0.5288, -0.0160, -0.1092,  ...,  0.8045, -1.9598,  1.7724],\n",
            "         [ 0.0087, -1.6672, -1.0896,  ...,  0.5781, -1.4912,  0.1465],\n",
            "         ...,\n",
            "         [-0.0207, -1.0565,  0.0721,  ..., -0.0036,  0.0772,  1.3731],\n",
            "         [-0.0207, -1.0565,  0.0721,  ..., -0.0036,  0.0772,  1.3731],\n",
            "         [-0.0207, -1.0565,  0.0721,  ..., -0.0036,  0.0772,  1.3731]],\n",
            "\n",
            "        [[-0.5288, -0.0160, -0.1092,  ...,  0.8045, -1.9598,  1.7724],\n",
            "         [-1.3678, -0.6803,  1.2607,  ..., -0.1697,  0.0757,  0.7192],\n",
            "         [-0.4585,  1.0586, -0.4023,  ...,  0.9980, -1.1086,  0.2711],\n",
            "         ...,\n",
            "         [-0.0207, -1.0565,  0.0721,  ..., -0.0036,  0.0772,  1.3731],\n",
            "         [-0.0207, -1.0565,  0.0721,  ..., -0.0036,  0.0772,  1.3731],\n",
            "         [-0.0207, -1.0565,  0.0721,  ..., -0.0036,  0.0772,  1.3731]]],\n",
            "       device='cuda:0', grad_fn=<EmbeddingBackward0>)\n",
            "tensor([[[ 6.2283e-01,  1.8545e+00, -1.4495e+00,  ..., -8.2558e-01,\n",
            "          -1.2146e-01,  2.8034e-01],\n",
            "         [-2.7817e-01,  8.6076e-01, -1.0633e+00,  ...,  1.6667e-01,\n",
            "           4.8341e-01, -5.7921e-01],\n",
            "         [-2.9699e-01, -2.7061e-01, -1.6774e+00,  ...,  4.0218e-01,\n",
            "           5.0653e-01, -7.4952e-02],\n",
            "         ...,\n",
            "         [-2.1031e-02, -1.0556e+00,  7.3013e-02,  ..., -2.5665e-03,\n",
            "           7.6503e-02,  1.3725e+00],\n",
            "         [-2.1031e-02, -1.0556e+00,  7.3013e-02,  ..., -2.5665e-03,\n",
            "           7.6503e-02,  1.3725e+00],\n",
            "         [-2.1031e-02, -1.0556e+00,  7.3013e-02,  ..., -2.5665e-03,\n",
            "           7.6503e-02,  1.3725e+00]],\n",
            "\n",
            "        [[ 3.5270e-01, -3.2030e-01,  4.4015e-02,  ...,  7.7004e-01,\n",
            "           1.8831e+00, -1.4708e+00],\n",
            "         [-9.8335e-01,  1.0867e+00,  9.6079e-02,  ...,  7.6512e-01,\n",
            "          -2.5720e-01, -4.8890e-01],\n",
            "         [-5.2917e-01, -1.5056e-02, -1.0842e-01,  ...,  8.0542e-01,\n",
            "          -1.9599e+00,  1.7715e+00],\n",
            "         ...,\n",
            "         [-2.1031e-02, -1.0556e+00,  7.3013e-02,  ..., -2.5665e-03,\n",
            "           7.6503e-02,  1.3725e+00],\n",
            "         [-2.1031e-02, -1.0556e+00,  7.3013e-02,  ..., -2.5665e-03,\n",
            "           7.6503e-02,  1.3725e+00],\n",
            "         [-2.1031e-02, -1.0556e+00,  7.3013e-02,  ..., -2.5665e-03,\n",
            "           7.6503e-02,  1.3725e+00]],\n",
            "\n",
            "        [[-5.2917e-01, -1.5056e-02, -1.0842e-01,  ...,  8.0542e-01,\n",
            "          -1.9599e+00,  1.7715e+00],\n",
            "         [ 5.6515e-01, -4.0107e-01,  1.3029e+00,  ...,  3.0314e-01,\n",
            "           2.4639e+00,  4.7775e-02],\n",
            "         [ 1.4034e+00,  8.0335e-01, -1.0548e+00,  ...,  1.3009e+00,\n",
            "           7.0320e-01, -2.9811e-01],\n",
            "         ...,\n",
            "         [-2.1031e-02, -1.0556e+00,  7.3013e-02,  ..., -2.5665e-03,\n",
            "           7.6503e-02,  1.3725e+00],\n",
            "         [-2.1031e-02, -1.0556e+00,  7.3013e-02,  ..., -2.5665e-03,\n",
            "           7.6503e-02,  1.3725e+00],\n",
            "         [-2.1031e-02, -1.0556e+00,  7.3013e-02,  ..., -2.5665e-03,\n",
            "           7.6503e-02,  1.3725e+00]],\n",
            "\n",
            "        ...,\n",
            "\n",
            "        [[-5.7631e-02,  9.6022e-01,  1.5035e+00,  ...,  6.1745e-01,\n",
            "           2.5751e+00, -6.0171e-01],\n",
            "         [ 6.8184e-01,  1.8700e-01,  1.5951e-01,  ..., -1.2554e+00,\n",
            "          -4.5206e-01,  3.7670e-01],\n",
            "         [-5.2917e-01, -1.5056e-02, -1.0842e-01,  ...,  8.0542e-01,\n",
            "          -1.9599e+00,  1.7715e+00],\n",
            "         ...,\n",
            "         [-2.1031e-02, -1.0556e+00,  7.3013e-02,  ..., -2.5665e-03,\n",
            "           7.6503e-02,  1.3725e+00],\n",
            "         [-2.1031e-02, -1.0556e+00,  7.3013e-02,  ..., -2.5665e-03,\n",
            "           7.6503e-02,  1.3725e+00],\n",
            "         [-2.1031e-02, -1.0556e+00,  7.3013e-02,  ..., -2.5665e-03,\n",
            "           7.6503e-02,  1.3725e+00]],\n",
            "\n",
            "        [[-1.2961e-01,  6.3479e-01, -5.2993e-01,  ...,  7.3457e-01,\n",
            "           1.3116e-02, -1.1094e+00],\n",
            "         [-8.1299e-02,  1.5698e+00,  1.6559e-01,  ..., -6.3540e-01,\n",
            "          -1.2714e+00, -5.2193e-01],\n",
            "         [-5.2917e-01, -1.5056e-02, -1.0842e-01,  ...,  8.0542e-01,\n",
            "          -1.9599e+00,  1.7715e+00],\n",
            "         ...,\n",
            "         [-2.1031e-02, -1.0556e+00,  7.3013e-02,  ..., -2.5665e-03,\n",
            "           7.6503e-02,  1.3725e+00],\n",
            "         [-2.1031e-02, -1.0556e+00,  7.3013e-02,  ..., -2.5665e-03,\n",
            "           7.6503e-02,  1.3725e+00],\n",
            "         [-2.1031e-02, -1.0556e+00,  7.3013e-02,  ..., -2.5665e-03,\n",
            "           7.6503e-02,  1.3725e+00]],\n",
            "\n",
            "        [[-5.6802e-01,  7.5272e-01,  3.7295e-01,  ..., -2.8799e-01,\n",
            "           2.9766e+00, -1.3663e+00],\n",
            "         [ 1.3145e+00,  1.3843e+00,  1.7917e-01,  ...,  1.8251e+00,\n",
            "          -1.0619e+00,  2.7093e-01],\n",
            "         [-5.2917e-01, -1.5056e-02, -1.0842e-01,  ...,  8.0542e-01,\n",
            "          -1.9599e+00,  1.7715e+00],\n",
            "         ...,\n",
            "         [-2.1031e-02, -1.0556e+00,  7.3013e-02,  ..., -2.5665e-03,\n",
            "           7.6503e-02,  1.3725e+00],\n",
            "         [-2.1031e-02, -1.0556e+00,  7.3013e-02,  ..., -2.5665e-03,\n",
            "           7.6503e-02,  1.3725e+00],\n",
            "         [-2.1031e-02, -1.0556e+00,  7.3013e-02,  ..., -2.5665e-03,\n",
            "           7.6503e-02,  1.3725e+00]]], device='cuda:0',\n",
            "       grad_fn=<EmbeddingBackward0>)\n",
            "tensor([[[-4.9155e-01, -2.0633e-01, -1.5938e+00,  ...,  1.9293e-01,\n",
            "           4.9283e-01, -9.9356e-02],\n",
            "         [ 9.7840e-01, -1.8935e+00,  2.4046e+00,  ..., -2.0910e+00,\n",
            "           1.7527e+00,  1.7736e-02],\n",
            "         [-5.2960e-01, -1.4191e-02, -1.0753e-01,  ...,  8.0638e-01,\n",
            "          -1.9603e+00,  1.7709e+00],\n",
            "         ...,\n",
            "         [-2.1614e-02, -1.0547e+00,  7.3926e-02,  ..., -1.5731e-03,\n",
            "           7.5696e-02,  1.3719e+00],\n",
            "         [-2.1614e-02, -1.0547e+00,  7.3926e-02,  ..., -1.5731e-03,\n",
            "           7.5696e-02,  1.3719e+00],\n",
            "         [-2.1614e-02, -1.0547e+00,  7.3926e-02,  ..., -1.5731e-03,\n",
            "           7.5696e-02,  1.3719e+00]],\n",
            "\n",
            "        [[-7.2033e-01, -4.5009e-02, -7.1966e-01,  ..., -1.0730e+00,\n",
            "          -2.0188e-01,  3.8944e-01],\n",
            "         [-5.8642e-01,  6.3740e-01, -8.5047e-01,  ...,  6.4022e-01,\n",
            "          -8.1783e-01, -6.9172e-01],\n",
            "         [-2.6048e-01, -6.0552e-01,  8.4602e-01,  ...,  6.9101e-01,\n",
            "           1.0004e-01,  4.3279e-03],\n",
            "         ...,\n",
            "         [-2.1614e-02, -1.0547e+00,  7.3926e-02,  ..., -1.5731e-03,\n",
            "           7.5696e-02,  1.3719e+00],\n",
            "         [-2.1614e-02, -1.0547e+00,  7.3926e-02,  ..., -1.5731e-03,\n",
            "           7.5696e-02,  1.3719e+00],\n",
            "         [-2.1614e-02, -1.0547e+00,  7.3926e-02,  ..., -1.5731e-03,\n",
            "           7.5696e-02,  1.3719e+00]],\n",
            "\n",
            "        [[ 1.5204e+00,  1.0550e+00,  1.1355e+00,  ...,  1.2826e-01,\n",
            "           2.4523e-01,  1.2282e+00],\n",
            "         [ 4.8024e-01,  1.2570e+00,  5.6170e-01,  ..., -1.0966e+00,\n",
            "           1.4827e-02,  6.5425e-01],\n",
            "         [-5.2960e-01, -1.4191e-02, -1.0753e-01,  ...,  8.0638e-01,\n",
            "          -1.9603e+00,  1.7709e+00],\n",
            "         ...,\n",
            "         [-2.1614e-02, -1.0547e+00,  7.3926e-02,  ..., -1.5731e-03,\n",
            "           7.5696e-02,  1.3719e+00],\n",
            "         [-2.1614e-02, -1.0547e+00,  7.3926e-02,  ..., -1.5731e-03,\n",
            "           7.5696e-02,  1.3719e+00],\n",
            "         [-2.1614e-02, -1.0547e+00,  7.3926e-02,  ..., -1.5731e-03,\n",
            "           7.5696e-02,  1.3719e+00]],\n",
            "\n",
            "        ...,\n",
            "\n",
            "        [[-5.2960e-01, -1.4191e-02, -1.0753e-01,  ...,  8.0638e-01,\n",
            "          -1.9603e+00,  1.7709e+00],\n",
            "         [-1.0806e+00,  7.2969e-01,  2.2069e-01,  ...,  1.4296e+00,\n",
            "          -6.8652e-01, -6.3028e-01],\n",
            "         [-9.0601e-01,  1.0828e+00,  2.2091e-01,  ..., -6.6078e-01,\n",
            "          -2.2593e-01, -2.4309e-01],\n",
            "         ...,\n",
            "         [-2.1614e-02, -1.0547e+00,  7.3926e-02,  ..., -1.5731e-03,\n",
            "           7.5696e-02,  1.3719e+00],\n",
            "         [-2.1614e-02, -1.0547e+00,  7.3926e-02,  ..., -1.5731e-03,\n",
            "           7.5696e-02,  1.3719e+00],\n",
            "         [-2.1614e-02, -1.0547e+00,  7.3926e-02,  ..., -1.5731e-03,\n",
            "           7.5696e-02,  1.3719e+00]],\n",
            "\n",
            "        [[-5.2960e-01, -1.4191e-02, -1.0753e-01,  ...,  8.0638e-01,\n",
            "          -1.9603e+00,  1.7709e+00],\n",
            "         [-5.2960e-01, -1.4191e-02, -1.0753e-01,  ...,  8.0638e-01,\n",
            "          -1.9603e+00,  1.7709e+00],\n",
            "         [-1.5249e+00, -4.8684e-01,  4.7558e-01,  ..., -2.4095e-01,\n",
            "           4.7291e-01, -1.6226e+00],\n",
            "         ...,\n",
            "         [-2.1614e-02, -1.0547e+00,  7.3926e-02,  ..., -1.5731e-03,\n",
            "           7.5696e-02,  1.3719e+00],\n",
            "         [-2.1614e-02, -1.0547e+00,  7.3926e-02,  ..., -1.5731e-03,\n",
            "           7.5696e-02,  1.3719e+00],\n",
            "         [-2.1614e-02, -1.0547e+00,  7.3926e-02,  ..., -1.5731e-03,\n",
            "           7.5696e-02,  1.3719e+00]],\n",
            "\n",
            "        [[-5.2960e-01, -1.4191e-02, -1.0753e-01,  ...,  8.0638e-01,\n",
            "          -1.9603e+00,  1.7709e+00],\n",
            "         [-5.2960e-01, -1.4191e-02, -1.0753e-01,  ...,  8.0638e-01,\n",
            "          -1.9603e+00,  1.7709e+00],\n",
            "         [-5.2960e-01, -1.4191e-02, -1.0753e-01,  ...,  8.0638e-01,\n",
            "          -1.9603e+00,  1.7709e+00],\n",
            "         ...,\n",
            "         [-2.1614e-02, -1.0547e+00,  7.3926e-02,  ..., -1.5731e-03,\n",
            "           7.5696e-02,  1.3719e+00],\n",
            "         [-2.1614e-02, -1.0547e+00,  7.3926e-02,  ..., -1.5731e-03,\n",
            "           7.5696e-02,  1.3719e+00],\n",
            "         [-2.1614e-02, -1.0547e+00,  7.3926e-02,  ..., -1.5731e-03,\n",
            "           7.5696e-02,  1.3719e+00]]], device='cuda:0',\n",
            "       grad_fn=<EmbeddingBackward0>)\n",
            "tensor([[[-5.3020e-01, -1.3300e-02, -1.0675e-01,  ...,  8.0733e-01,\n",
            "          -1.9607e+00,  1.7702e+00],\n",
            "         [ 1.2835e-01, -9.7790e-01,  1.5172e+00,  ..., -8.5481e-01,\n",
            "          -7.3627e-01, -3.6055e-01],\n",
            "         [-5.3020e-01, -1.3300e-02, -1.0675e-01,  ...,  8.0733e-01,\n",
            "          -1.9607e+00,  1.7702e+00],\n",
            "         ...,\n",
            "         [-2.2349e-02, -1.0539e+00,  7.4719e-02,  ..., -5.9952e-04,\n",
            "           7.5268e-02,  1.3713e+00],\n",
            "         [-2.2349e-02, -1.0539e+00,  7.4719e-02,  ..., -5.9952e-04,\n",
            "           7.5268e-02,  1.3713e+00],\n",
            "         [-2.2349e-02, -1.0539e+00,  7.4719e-02,  ..., -5.9952e-04,\n",
            "           7.5268e-02,  1.3713e+00]],\n",
            "\n",
            "        [[ 2.0520e+00, -8.2782e-01,  2.4752e+00,  ..., -1.8407e+00,\n",
            "           1.2393e+00, -1.0832e-01],\n",
            "         [-5.3515e-01, -4.6612e-01, -1.1957e+00,  ...,  1.4749e+00,\n",
            "           5.0479e-01, -2.7576e-01],\n",
            "         [-5.2898e-01,  3.2327e-01, -4.2771e-01,  ..., -5.9642e-01,\n",
            "          -5.5828e-01, -3.0371e-01],\n",
            "         ...,\n",
            "         [-2.2349e-02, -1.0539e+00,  7.4719e-02,  ..., -5.9952e-04,\n",
            "           7.5268e-02,  1.3713e+00],\n",
            "         [-2.2349e-02, -1.0539e+00,  7.4719e-02,  ..., -5.9952e-04,\n",
            "           7.5268e-02,  1.3713e+00],\n",
            "         [-2.2349e-02, -1.0539e+00,  7.4719e-02,  ..., -5.9952e-04,\n",
            "           7.5268e-02,  1.3713e+00]],\n",
            "\n",
            "        [[-5.3020e-01, -1.3300e-02, -1.0675e-01,  ...,  8.0733e-01,\n",
            "          -1.9607e+00,  1.7702e+00],\n",
            "         [ 2.7604e+00,  8.7923e-01, -1.3397e+00,  ...,  2.8485e-01,\n",
            "           3.7000e-01, -7.6546e-01],\n",
            "         [-3.9750e-01,  1.6566e+00,  6.1537e-01,  ..., -3.5618e-01,\n",
            "           7.9387e-02, -5.5603e-01],\n",
            "         ...,\n",
            "         [-2.2349e-02, -1.0539e+00,  7.4719e-02,  ..., -5.9952e-04,\n",
            "           7.5268e-02,  1.3713e+00],\n",
            "         [-2.2349e-02, -1.0539e+00,  7.4719e-02,  ..., -5.9952e-04,\n",
            "           7.5268e-02,  1.3713e+00],\n",
            "         [-2.2349e-02, -1.0539e+00,  7.4719e-02,  ..., -5.9952e-04,\n",
            "           7.5268e-02,  1.3713e+00]],\n",
            "\n",
            "        ...,\n",
            "\n",
            "        [[ 7.8868e-01,  6.7181e-01,  1.5463e-01,  ..., -2.1047e+00,\n",
            "           4.9780e-01,  1.2488e+00],\n",
            "         [ 7.2807e-01,  5.4080e-01, -3.0072e-01,  ..., -3.8724e-01,\n",
            "           2.2030e+00,  2.8885e-01],\n",
            "         [-5.2056e-01,  5.1751e-01,  4.2822e-01,  ...,  7.3042e-01,\n",
            "          -1.1006e+00, -2.2590e+00],\n",
            "         ...,\n",
            "         [-2.2349e-02, -1.0539e+00,  7.4719e-02,  ..., -5.9952e-04,\n",
            "           7.5268e-02,  1.3713e+00],\n",
            "         [-2.2349e-02, -1.0539e+00,  7.4719e-02,  ..., -5.9952e-04,\n",
            "           7.5268e-02,  1.3713e+00],\n",
            "         [-2.2349e-02, -1.0539e+00,  7.4719e-02,  ..., -5.9952e-04,\n",
            "           7.5268e-02,  1.3713e+00]],\n",
            "\n",
            "        [[ 1.4525e-01,  1.4181e-01, -4.7761e-01,  ...,  9.1730e-02,\n",
            "          -1.6748e+00,  5.6152e-01],\n",
            "         [ 5.1651e-01, -2.1330e+00, -7.9220e-01,  ..., -3.0571e-01,\n",
            "          -2.3176e+00,  1.3897e+00],\n",
            "         [ 9.2165e-01,  4.4749e-01,  2.2476e+00,  ..., -6.9975e-01,\n",
            "           8.1905e-01,  1.5132e-01],\n",
            "         ...,\n",
            "         [-2.2349e-02, -1.0539e+00,  7.4719e-02,  ..., -5.9952e-04,\n",
            "           7.5268e-02,  1.3713e+00],\n",
            "         [-2.2349e-02, -1.0539e+00,  7.4719e-02,  ..., -5.9952e-04,\n",
            "           7.5268e-02,  1.3713e+00],\n",
            "         [-2.2349e-02, -1.0539e+00,  7.4719e-02,  ..., -5.9952e-04,\n",
            "           7.5268e-02,  1.3713e+00]],\n",
            "\n",
            "        [[ 1.5494e+00, -1.5733e-01, -1.9551e-01,  ...,  5.7332e-01,\n",
            "          -1.1964e+00,  4.7085e-01],\n",
            "         [-3.3319e-01,  4.0280e-01, -6.9362e-01,  ...,  2.8428e+00,\n",
            "          -1.8892e+00,  6.4000e-01],\n",
            "         [-1.8971e+00,  1.1575e-01,  9.1544e-01,  ...,  4.4345e-01,\n",
            "           2.6668e-01, -9.8514e-01],\n",
            "         ...,\n",
            "         [-2.2349e-02, -1.0539e+00,  7.4719e-02,  ..., -5.9952e-04,\n",
            "           7.5268e-02,  1.3713e+00],\n",
            "         [-2.2349e-02, -1.0539e+00,  7.4719e-02,  ..., -5.9952e-04,\n",
            "           7.5268e-02,  1.3713e+00],\n",
            "         [-2.2349e-02, -1.0539e+00,  7.4719e-02,  ..., -5.9952e-04,\n",
            "           7.5268e-02,  1.3713e+00]]], device='cuda:0',\n",
            "       grad_fn=<EmbeddingBackward0>)\n",
            "tensor([[[-1.0019e+00,  1.2656e-01,  8.5550e-01,  ..., -4.9703e-01,\n",
            "          -8.2594e-01,  2.7372e-01],\n",
            "         [-3.5147e-01,  5.9110e-01, -1.2816e+00,  ..., -5.3063e-01,\n",
            "           1.1183e+00,  1.3231e+00],\n",
            "         [-1.8512e+00,  3.8285e-01, -1.4667e+00,  ...,  2.1906e-01,\n",
            "           5.4400e-01, -2.1502e+00],\n",
            "         ...,\n",
            "         [-2.3074e-02, -1.0530e+00,  7.5484e-02,  ...,  3.8855e-04,\n",
            "           7.4652e-02,  1.3708e+00],\n",
            "         [-2.3074e-02, -1.0530e+00,  7.5484e-02,  ...,  3.8855e-04,\n",
            "           7.4652e-02,  1.3708e+00],\n",
            "         [-2.3074e-02, -1.0530e+00,  7.5484e-02,  ...,  3.8855e-04,\n",
            "           7.4652e-02,  1.3708e+00]],\n",
            "\n",
            "        [[-5.3091e-01, -1.2434e-02, -1.0595e-01,  ...,  8.0830e-01,\n",
            "          -1.9613e+00,  1.7700e+00],\n",
            "         [-6.8235e-01,  3.1278e-01, -3.5525e-01,  ...,  2.0484e-01,\n",
            "          -1.9286e+00, -1.6362e+00],\n",
            "         [-1.8334e-01, -4.0264e-01, -8.6680e-01,  ..., -8.3539e-02,\n",
            "          -1.2441e+00,  9.8817e-01],\n",
            "         ...,\n",
            "         [-2.3074e-02, -1.0530e+00,  7.5484e-02,  ...,  3.8855e-04,\n",
            "           7.4652e-02,  1.3708e+00],\n",
            "         [-2.3074e-02, -1.0530e+00,  7.5484e-02,  ...,  3.8855e-04,\n",
            "           7.4652e-02,  1.3708e+00],\n",
            "         [-2.3074e-02, -1.0530e+00,  7.5484e-02,  ...,  3.8855e-04,\n",
            "           7.4652e-02,  1.3708e+00]],\n",
            "\n",
            "        [[ 6.8909e-01, -2.4135e-01, -1.8740e-01,  ..., -7.9514e-01,\n",
            "          -5.3242e-01, -5.2285e-01],\n",
            "         [-3.3368e-01,  4.0253e-01, -6.9359e-01,  ...,  2.8432e+00,\n",
            "          -1.8898e+00,  6.3919e-01],\n",
            "         [-5.3091e-01, -1.2434e-02, -1.0595e-01,  ...,  8.0830e-01,\n",
            "          -1.9613e+00,  1.7700e+00],\n",
            "         ...,\n",
            "         [-2.3074e-02, -1.0530e+00,  7.5484e-02,  ...,  3.8855e-04,\n",
            "           7.4652e-02,  1.3708e+00],\n",
            "         [-2.3074e-02, -1.0530e+00,  7.5484e-02,  ...,  3.8855e-04,\n",
            "           7.4652e-02,  1.3708e+00],\n",
            "         [-2.3074e-02, -1.0530e+00,  7.5484e-02,  ...,  3.8855e-04,\n",
            "           7.4652e-02,  1.3708e+00]],\n",
            "\n",
            "        ...,\n",
            "\n",
            "        [[ 2.0511e+00,  2.9248e-01, -9.6291e-02,  ...,  2.0325e-02,\n",
            "          -8.4484e-01,  3.2769e-01],\n",
            "         [ 5.1652e-01, -2.1322e+00, -7.9304e-01,  ..., -3.0479e-01,\n",
            "          -2.3186e+00,  1.3893e+00],\n",
            "         [ 1.1101e+00,  1.8508e+00, -1.7353e+00,  ...,  1.0924e+00,\n",
            "           1.1083e+00, -1.1809e+00],\n",
            "         ...,\n",
            "         [-2.3074e-02, -1.0530e+00,  7.5484e-02,  ...,  3.8855e-04,\n",
            "           7.4652e-02,  1.3708e+00],\n",
            "         [-2.3074e-02, -1.0530e+00,  7.5484e-02,  ...,  3.8855e-04,\n",
            "           7.4652e-02,  1.3708e+00],\n",
            "         [-2.3074e-02, -1.0530e+00,  7.5484e-02,  ...,  3.8855e-04,\n",
            "           7.4652e-02,  1.3708e+00]],\n",
            "\n",
            "        [[ 5.1343e-01,  1.3967e+00,  8.6264e-01,  ..., -6.3637e-01,\n",
            "          -2.4551e+00, -8.6356e-01],\n",
            "         [-9.6310e-01, -1.5743e+00, -1.8146e+00,  ...,  1.7907e-01,\n",
            "           1.9185e+00,  2.1519e-01],\n",
            "         [ 1.8779e+00,  3.0319e+00, -7.4041e-01,  ..., -7.0607e-01,\n",
            "          -1.6707e+00,  8.3756e-01],\n",
            "         ...,\n",
            "         [-2.3074e-02, -1.0530e+00,  7.5484e-02,  ...,  3.8855e-04,\n",
            "           7.4652e-02,  1.3708e+00],\n",
            "         [-2.3074e-02, -1.0530e+00,  7.5484e-02,  ...,  3.8855e-04,\n",
            "           7.4652e-02,  1.3708e+00],\n",
            "         [-2.3074e-02, -1.0530e+00,  7.5484e-02,  ...,  3.8855e-04,\n",
            "           7.4652e-02,  1.3708e+00]],\n",
            "\n",
            "        [[ 7.7357e-01,  1.5317e+00,  2.3911e-01,  ..., -6.5408e-01,\n",
            "          -1.3216e+00, -1.0211e+00],\n",
            "         [-9.0900e-03,  7.5099e-01, -1.0121e+00,  ...,  5.4463e-01,\n",
            "          -8.5488e-01,  1.3841e+00],\n",
            "         [ 1.4316e+00,  5.3702e-01,  9.9757e-01,  ..., -1.4349e-01,\n",
            "          -1.2963e+00, -9.4684e-01],\n",
            "         ...,\n",
            "         [-2.3074e-02, -1.0530e+00,  7.5484e-02,  ...,  3.8855e-04,\n",
            "           7.4652e-02,  1.3708e+00],\n",
            "         [-2.3074e-02, -1.0530e+00,  7.5484e-02,  ...,  3.8855e-04,\n",
            "           7.4652e-02,  1.3708e+00],\n",
            "         [-2.3074e-02, -1.0530e+00,  7.5484e-02,  ...,  3.8855e-04,\n",
            "           7.4652e-02,  1.3708e+00]]], device='cuda:0',\n",
            "       grad_fn=<EmbeddingBackward0>)\n",
            "tensor([[[-2.5973e-01,  9.0961e-01, -9.2537e-01,  ...,  2.7202e-01,\n",
            "           4.7233e-01, -4.9391e-01],\n",
            "         [-6.4214e-01,  7.2730e-01, -6.1023e-01,  ...,  8.5151e-01,\n",
            "           6.9263e-01,  1.1868e+00],\n",
            "         [-5.3163e-01, -1.1596e-02, -1.0521e-01,  ...,  8.0928e-01,\n",
            "          -1.9620e+00,  1.7698e+00],\n",
            "         ...,\n",
            "         [-2.3819e-02, -1.0522e+00,  7.6234e-02,  ...,  1.3890e-03,\n",
            "           7.3915e-02,  1.3705e+00],\n",
            "         [-2.3819e-02, -1.0522e+00,  7.6234e-02,  ...,  1.3890e-03,\n",
            "           7.3915e-02,  1.3705e+00],\n",
            "         [-2.3819e-02, -1.0522e+00,  7.6234e-02,  ...,  1.3890e-03,\n",
            "           7.3915e-02,  1.3705e+00]],\n",
            "\n",
            "        [[ 1.2608e+00,  1.1391e-01, -9.2236e-02,  ...,  3.5726e-01,\n",
            "           1.1396e+00, -4.0350e-01],\n",
            "         [-1.0081e-01, -9.7050e-02,  1.2465e+00,  ..., -7.0970e-01,\n",
            "          -1.7425e+00,  1.8948e+00],\n",
            "         [ 1.4059e+00,  8.0537e-01, -1.0525e+00,  ...,  1.3035e+00,\n",
            "           7.0289e-01, -2.9640e-01],\n",
            "         ...,\n",
            "         [-2.3819e-02, -1.0522e+00,  7.6234e-02,  ...,  1.3890e-03,\n",
            "           7.3915e-02,  1.3705e+00],\n",
            "         [-2.3819e-02, -1.0522e+00,  7.6234e-02,  ...,  1.3890e-03,\n",
            "           7.3915e-02,  1.3705e+00],\n",
            "         [-2.3819e-02, -1.0522e+00,  7.6234e-02,  ...,  1.3890e-03,\n",
            "           7.3915e-02,  1.3705e+00]],\n",
            "\n",
            "        [[-1.5467e-01, -6.5554e-01,  3.3309e-01,  ..., -1.3060e-01,\n",
            "          -7.0859e-01,  6.4868e-01],\n",
            "         [-5.3163e-01, -1.1596e-02, -1.0521e-01,  ...,  8.0928e-01,\n",
            "          -1.9620e+00,  1.7698e+00],\n",
            "         [-6.4926e-01,  1.0822e+00, -5.7281e-01,  ..., -7.2844e-01,\n",
            "           4.1568e-01,  1.4993e+00],\n",
            "         ...,\n",
            "         [-2.3819e-02, -1.0522e+00,  7.6234e-02,  ...,  1.3890e-03,\n",
            "           7.3915e-02,  1.3705e+00],\n",
            "         [-2.3819e-02, -1.0522e+00,  7.6234e-02,  ...,  1.3890e-03,\n",
            "           7.3915e-02,  1.3705e+00],\n",
            "         [-2.3819e-02, -1.0522e+00,  7.6234e-02,  ...,  1.3890e-03,\n",
            "           7.3915e-02,  1.3705e+00]],\n",
            "\n",
            "        ...,\n",
            "\n",
            "        [[ 2.2352e-02,  8.2585e-01, -1.1257e+00,  ...,  1.6973e+00,\n",
            "          -7.2418e-01,  1.1768e+00],\n",
            "         [ 6.2407e-01,  1.8570e+00, -1.4485e+00,  ..., -8.2360e-01,\n",
            "          -1.2321e-01,  2.8214e-01],\n",
            "         [ 9.1925e-01,  1.2292e+00,  6.7051e-01,  ..., -3.1984e-02,\n",
            "          -1.1272e-01,  2.6067e-01],\n",
            "         ...,\n",
            "         [-2.3819e-02, -1.0522e+00,  7.6234e-02,  ...,  1.3890e-03,\n",
            "           7.3915e-02,  1.3705e+00],\n",
            "         [-2.3819e-02, -1.0522e+00,  7.6234e-02,  ...,  1.3890e-03,\n",
            "           7.3915e-02,  1.3705e+00],\n",
            "         [-2.3819e-02, -1.0522e+00,  7.6234e-02,  ...,  1.3890e-03,\n",
            "           7.3915e-02,  1.3705e+00]],\n",
            "\n",
            "        [[-5.3163e-01, -1.1596e-02, -1.0521e-01,  ...,  8.0928e-01,\n",
            "          -1.9620e+00,  1.7698e+00],\n",
            "         [-5.3163e-01, -1.1596e-02, -1.0521e-01,  ...,  8.0928e-01,\n",
            "          -1.9620e+00,  1.7698e+00],\n",
            "         [-7.6589e-01, -1.2308e+00,  1.0105e+00,  ...,  7.5165e-01,\n",
            "          -1.9852e+00,  2.0031e+00],\n",
            "         ...,\n",
            "         [-2.3819e-02, -1.0522e+00,  7.6234e-02,  ...,  1.3890e-03,\n",
            "           7.3915e-02,  1.3705e+00],\n",
            "         [-2.3819e-02, -1.0522e+00,  7.6234e-02,  ...,  1.3890e-03,\n",
            "           7.3915e-02,  1.3705e+00],\n",
            "         [-2.3819e-02, -1.0522e+00,  7.6234e-02,  ...,  1.3890e-03,\n",
            "           7.3915e-02,  1.3705e+00]],\n",
            "\n",
            "        [[-5.3163e-01, -1.1596e-02, -1.0521e-01,  ...,  8.0928e-01,\n",
            "          -1.9620e+00,  1.7698e+00],\n",
            "         [ 9.0812e-01,  5.1023e-01, -4.6956e-02,  ..., -2.6863e-01,\n",
            "           1.4416e+00, -3.0141e-01],\n",
            "         [-5.3163e-01, -1.1596e-02, -1.0521e-01,  ...,  8.0928e-01,\n",
            "          -1.9620e+00,  1.7698e+00],\n",
            "         ...,\n",
            "         [-2.3819e-02, -1.0522e+00,  7.6234e-02,  ...,  1.3890e-03,\n",
            "           7.3915e-02,  1.3705e+00],\n",
            "         [-2.3819e-02, -1.0522e+00,  7.6234e-02,  ...,  1.3890e-03,\n",
            "           7.3915e-02,  1.3705e+00],\n",
            "         [-2.3819e-02, -1.0522e+00,  7.6234e-02,  ...,  1.3890e-03,\n",
            "           7.3915e-02,  1.3705e+00]]], device='cuda:0',\n",
            "       grad_fn=<EmbeddingBackward0>)\n",
            "tensor([[[-5.3229e-01, -1.0794e-02, -1.0443e-01,  ...,  8.1028e-01,\n",
            "          -1.9628e+00,  1.7700e+00],\n",
            "         [ 9.7651e-02, -1.1391e+00,  6.1484e-02,  ...,  2.9093e+00,\n",
            "          -1.4736e+00, -1.3318e-01],\n",
            "         [-5.3229e-01, -1.0794e-02, -1.0443e-01,  ...,  8.1028e-01,\n",
            "          -1.9628e+00,  1.7700e+00],\n",
            "         ...,\n",
            "         [-2.4557e-02, -1.0514e+00,  7.7002e-02,  ...,  2.3936e-03,\n",
            "           7.3106e-02,  1.3703e+00],\n",
            "         [-2.4557e-02, -1.0514e+00,  7.7002e-02,  ...,  2.3936e-03,\n",
            "           7.3106e-02,  1.3703e+00],\n",
            "         [-2.4557e-02, -1.0514e+00,  7.7002e-02,  ...,  2.3936e-03,\n",
            "           7.3106e-02,  1.3703e+00]],\n",
            "\n",
            "        [[-5.3229e-01, -1.0794e-02, -1.0443e-01,  ...,  8.1028e-01,\n",
            "          -1.9628e+00,  1.7700e+00],\n",
            "         [-5.3229e-01, -1.0794e-02, -1.0443e-01,  ...,  8.1028e-01,\n",
            "          -1.9628e+00,  1.7700e+00],\n",
            "         [-5.3229e-01, -1.0794e-02, -1.0443e-01,  ...,  8.1028e-01,\n",
            "          -1.9628e+00,  1.7700e+00],\n",
            "         ...,\n",
            "         [-2.4557e-02, -1.0514e+00,  7.7002e-02,  ...,  2.3936e-03,\n",
            "           7.3106e-02,  1.3703e+00],\n",
            "         [-2.4557e-02, -1.0514e+00,  7.7002e-02,  ...,  2.3936e-03,\n",
            "           7.3106e-02,  1.3703e+00],\n",
            "         [-2.4557e-02, -1.0514e+00,  7.7002e-02,  ...,  2.3936e-03,\n",
            "           7.3106e-02,  1.3703e+00]],\n",
            "\n",
            "        [[-7.1968e-01, -4.8171e-02, -7.2043e-01,  ..., -1.0701e+00,\n",
            "          -2.0119e-01,  3.9162e-01],\n",
            "         [-5.3229e-01, -1.0794e-02, -1.0443e-01,  ...,  8.1028e-01,\n",
            "          -1.9628e+00,  1.7700e+00],\n",
            "         [ 2.8773e-01,  3.2005e-01, -1.2586e+00,  ...,  1.8046e+00,\n",
            "           6.8637e-01,  1.1898e+00],\n",
            "         ...,\n",
            "         [-2.4557e-02, -1.0514e+00,  7.7002e-02,  ...,  2.3936e-03,\n",
            "           7.3106e-02,  1.3703e+00],\n",
            "         [-2.4557e-02, -1.0514e+00,  7.7002e-02,  ...,  2.3936e-03,\n",
            "           7.3106e-02,  1.3703e+00],\n",
            "         [-2.4557e-02, -1.0514e+00,  7.7002e-02,  ...,  2.3936e-03,\n",
            "           7.3106e-02,  1.3703e+00]],\n",
            "\n",
            "        ...,\n",
            "\n",
            "        [[ 1.3578e+00,  5.0419e-01, -1.7022e+00,  ..., -5.4622e-01,\n",
            "           4.6083e-01, -4.9809e-01],\n",
            "         [-5.3229e-01, -1.0794e-02, -1.0443e-01,  ...,  8.1028e-01,\n",
            "          -1.9628e+00,  1.7700e+00],\n",
            "         [ 1.2880e+00, -1.8216e+00, -1.9134e-01,  ...,  1.2079e+00,\n",
            "          -8.0988e-01,  4.5603e-01],\n",
            "         ...,\n",
            "         [-2.4557e-02, -1.0514e+00,  7.7002e-02,  ...,  2.3936e-03,\n",
            "           7.3106e-02,  1.3703e+00],\n",
            "         [-2.4557e-02, -1.0514e+00,  7.7002e-02,  ...,  2.3936e-03,\n",
            "           7.3106e-02,  1.3703e+00],\n",
            "         [-2.4557e-02, -1.0514e+00,  7.7002e-02,  ...,  2.3936e-03,\n",
            "           7.3106e-02,  1.3703e+00]],\n",
            "\n",
            "        [[ 9.4464e-01, -6.0116e-01,  1.2362e+00,  ..., -1.8868e+00,\n",
            "          -6.6456e-01,  1.2820e+00],\n",
            "         [-2.5200e-01, -3.1488e-01,  1.4855e+00,  ..., -2.1531e-01,\n",
            "           3.1996e-01, -9.6709e-01],\n",
            "         [ 1.5002e+00,  2.5470e-01, -2.4330e-01,  ..., -6.0624e-01,\n",
            "          -1.9045e+00, -5.4611e-01],\n",
            "         ...,\n",
            "         [-2.4557e-02, -1.0514e+00,  7.7002e-02,  ...,  2.3936e-03,\n",
            "           7.3106e-02,  1.3703e+00],\n",
            "         [-2.4557e-02, -1.0514e+00,  7.7002e-02,  ...,  2.3936e-03,\n",
            "           7.3106e-02,  1.3703e+00],\n",
            "         [-2.4557e-02, -1.0514e+00,  7.7002e-02,  ...,  2.3936e-03,\n",
            "           7.3106e-02,  1.3703e+00]],\n",
            "\n",
            "        [[-5.3229e-01, -1.0794e-02, -1.0443e-01,  ...,  8.1028e-01,\n",
            "          -1.9628e+00,  1.7700e+00],\n",
            "         [ 7.8398e-01, -4.0056e-01, -2.1660e-01,  ..., -1.4103e+00,\n",
            "           1.0561e+00,  1.1634e+00],\n",
            "         [ 5.4370e-01,  1.7587e+00, -1.0380e-01,  ..., -1.2042e+00,\n",
            "           2.0640e+00, -8.5898e-01],\n",
            "         ...,\n",
            "         [-2.4557e-02, -1.0514e+00,  7.7002e-02,  ...,  2.3936e-03,\n",
            "           7.3106e-02,  1.3703e+00],\n",
            "         [-2.4557e-02, -1.0514e+00,  7.7002e-02,  ...,  2.3936e-03,\n",
            "           7.3106e-02,  1.3703e+00],\n",
            "         [-2.4557e-02, -1.0514e+00,  7.7002e-02,  ...,  2.3936e-03,\n",
            "           7.3106e-02,  1.3703e+00]]], device='cuda:0',\n",
            "       grad_fn=<EmbeddingBackward0>)\n",
            "tensor([[[-0.8477, -0.7655, -0.4770,  ...,  0.7756, -0.0668, -0.0826],\n",
            "         [-0.5330, -0.0101, -0.1036,  ...,  0.8113, -1.9637,  1.7705],\n",
            "         [ 0.7934,  0.4232, -0.3490,  ...,  1.0374, -0.0303,  1.1196],\n",
            "         ...,\n",
            "         [-0.0253, -1.0507,  0.0778,  ...,  0.0034,  0.0722,  1.3706],\n",
            "         [-0.0253, -1.0507,  0.0778,  ...,  0.0034,  0.0722,  1.3706],\n",
            "         [-0.0253, -1.0507,  0.0778,  ...,  0.0034,  0.0722,  1.3706]],\n",
            "\n",
            "        [[ 0.9381, -0.7886,  1.0976,  ...,  0.3885, -1.8104, -0.8260],\n",
            "         [ 0.7828,  0.7207,  0.5491,  ...,  0.3596, -1.3994,  0.8030],\n",
            "         [-0.0111,  1.3114,  0.3675,  ...,  0.5850, -0.5285,  0.0951],\n",
            "         ...,\n",
            "         [-0.0253, -1.0507,  0.0778,  ...,  0.0034,  0.0722,  1.3706],\n",
            "         [-0.0253, -1.0507,  0.0778,  ...,  0.0034,  0.0722,  1.3706],\n",
            "         [-0.0253, -1.0507,  0.0778,  ...,  0.0034,  0.0722,  1.3706]],\n",
            "\n",
            "        [[-0.5330, -0.0101, -0.1036,  ...,  0.8113, -1.9637,  1.7705],\n",
            "         [ 0.8547,  0.5643, -0.4040,  ...,  0.0650,  1.9423, -1.6388],\n",
            "         [-0.5330, -0.0101, -0.1036,  ...,  0.8113, -1.9637,  1.7705],\n",
            "         ...,\n",
            "         [-0.0253, -1.0507,  0.0778,  ...,  0.0034,  0.0722,  1.3706],\n",
            "         [-0.0253, -1.0507,  0.0778,  ...,  0.0034,  0.0722,  1.3706],\n",
            "         [-0.0253, -1.0507,  0.0778,  ...,  0.0034,  0.0722,  1.3706]],\n",
            "\n",
            "        ...,\n",
            "\n",
            "        [[ 0.9398,  0.2527,  0.4861,  ...,  1.0354,  0.7428, -0.5186],\n",
            "         [ 1.5478, -0.5307, -0.0115,  ..., -0.2800,  1.2848, -0.7207],\n",
            "         [-0.5330, -0.0101, -0.1036,  ...,  0.8113, -1.9637,  1.7705],\n",
            "         ...,\n",
            "         [-0.0253, -1.0507,  0.0778,  ...,  0.0034,  0.0722,  1.3706],\n",
            "         [-0.0253, -1.0507,  0.0778,  ...,  0.0034,  0.0722,  1.3706],\n",
            "         [-0.0253, -1.0507,  0.0778,  ...,  0.0034,  0.0722,  1.3706]],\n",
            "\n",
            "        [[-0.6680,  0.2910, -0.6651,  ..., -2.2472,  0.2052,  1.8816],\n",
            "         [ 0.0077, -0.9910,  0.3953,  ..., -0.4963,  0.2888, -0.1759],\n",
            "         [-0.5765,  0.1720,  0.6908,  ...,  0.0504, -0.3398, -0.9845],\n",
            "         ...,\n",
            "         [-0.0253, -1.0507,  0.0778,  ...,  0.0034,  0.0722,  1.3706],\n",
            "         [-0.0253, -1.0507,  0.0778,  ...,  0.0034,  0.0722,  1.3706],\n",
            "         [-0.0253, -1.0507,  0.0778,  ...,  0.0034,  0.0722,  1.3706]],\n",
            "\n",
            "        [[ 0.1081,  1.3998,  0.4680,  ...,  0.1037,  0.5221, -0.4825],\n",
            "         [ 0.3604, -1.9813,  0.4673,  ..., -0.5966,  1.2040, -1.4284],\n",
            "         [-0.5330, -0.0101, -0.1036,  ...,  0.8113, -1.9637,  1.7705],\n",
            "         ...,\n",
            "         [-0.0253, -1.0507,  0.0778,  ...,  0.0034,  0.0722,  1.3706],\n",
            "         [-0.0253, -1.0507,  0.0778,  ...,  0.0034,  0.0722,  1.3706],\n",
            "         [-0.0253, -1.0507,  0.0778,  ...,  0.0034,  0.0722,  1.3706]]],\n",
            "       device='cuda:0', grad_fn=<EmbeddingBackward0>)\n",
            "tensor([[[ 3.5765, -0.7733, -1.2455,  ..., -2.2946, -0.2157, -0.2643],\n",
            "         [-0.3686, -0.5824,  1.1236,  ..., -0.4786,  0.8638, -1.3949],\n",
            "         [-0.5337, -0.0096, -0.1027,  ...,  0.8123, -1.9646,  1.7710],\n",
            "         ...,\n",
            "         [-0.0261, -1.0502,  0.0787,  ...,  0.0044,  0.0713,  1.3709],\n",
            "         [-0.0261, -1.0502,  0.0787,  ...,  0.0044,  0.0713,  1.3709],\n",
            "         [-0.0261, -1.0502,  0.0787,  ...,  0.0044,  0.0713,  1.3709]],\n",
            "\n",
            "        [[ 1.0661,  0.9697, -1.1591,  ...,  0.8502, -0.5905,  0.2223],\n",
            "         [-0.5337, -0.0096, -0.1027,  ...,  0.8123, -1.9646,  1.7710],\n",
            "         [-0.5337, -0.0096, -0.1027,  ...,  0.8123, -1.9646,  1.7710],\n",
            "         ...,\n",
            "         [-0.0261, -1.0502,  0.0787,  ...,  0.0044,  0.0713,  1.3709],\n",
            "         [-0.0261, -1.0502,  0.0787,  ...,  0.0044,  0.0713,  1.3709],\n",
            "         [-0.0261, -1.0502,  0.0787,  ...,  0.0044,  0.0713,  1.3709]],\n",
            "\n",
            "        [[-0.7195, -0.0494, -0.7213,  ..., -1.0691, -0.2013,  0.3926],\n",
            "         [ 0.5940, -0.2939,  0.4897,  ..., -0.5127, -0.7371,  0.4804],\n",
            "         [-0.3141, -0.6713,  0.9844,  ..., -0.2705,  0.4271,  0.2999],\n",
            "         ...,\n",
            "         [-0.0261, -1.0502,  0.0787,  ...,  0.0044,  0.0713,  1.3709],\n",
            "         [-0.0261, -1.0502,  0.0787,  ...,  0.0044,  0.0713,  1.3709],\n",
            "         [-0.0261, -1.0502,  0.0787,  ...,  0.0044,  0.0713,  1.3709]],\n",
            "\n",
            "        ...,\n",
            "\n",
            "        [[-0.3564, -0.0659,  1.2063,  ...,  0.5574, -0.5656, -0.3891],\n",
            "         [-0.5337, -0.0096, -0.1027,  ...,  0.8123, -1.9646,  1.7710],\n",
            "         [-0.5337, -0.0096, -0.1027,  ...,  0.8123, -1.9646,  1.7710],\n",
            "         ...,\n",
            "         [-0.0261, -1.0502,  0.0787,  ...,  0.0044,  0.0713,  1.3709],\n",
            "         [-0.0261, -1.0502,  0.0787,  ...,  0.0044,  0.0713,  1.3709],\n",
            "         [-0.0261, -1.0502,  0.0787,  ...,  0.0044,  0.0713,  1.3709]],\n",
            "\n",
            "        [[-0.3212, -0.4053, -1.2599,  ...,  0.8687,  0.3342, -1.2353],\n",
            "         [ 0.4620,  0.9663, -0.6454,  ..., -0.7769,  0.0746,  0.3806],\n",
            "         [ 0.3556,  0.8760, -1.0180,  ...,  0.6252, -0.0434,  1.0089],\n",
            "         ...,\n",
            "         [-0.0261, -1.0502,  0.0787,  ...,  0.0044,  0.0713,  1.3709],\n",
            "         [-0.0261, -1.0502,  0.0787,  ...,  0.0044,  0.0713,  1.3709],\n",
            "         [-0.0261, -1.0502,  0.0787,  ...,  0.0044,  0.0713,  1.3709]],\n",
            "\n",
            "        [[-0.0054, -0.6778, -0.8935,  ..., -1.5209,  0.6355, -1.6623],\n",
            "         [-0.3351,  0.4010, -0.6925,  ...,  2.8455, -1.8922,  0.6374],\n",
            "         [-0.2300,  2.2119,  0.4771,  ..., -2.0871,  1.1619, -0.1826],\n",
            "         ...,\n",
            "         [-0.0261, -1.0502,  0.0787,  ...,  0.0044,  0.0713,  1.3709],\n",
            "         [-0.0261, -1.0502,  0.0787,  ...,  0.0044,  0.0713,  1.3709],\n",
            "         [-0.0261, -1.0502,  0.0787,  ...,  0.0044,  0.0713,  1.3709]]],\n",
            "       device='cuda:0', grad_fn=<EmbeddingBackward0>)\n",
            "tensor([[[ 1.8902,  1.3196,  0.4169,  ..., -0.3365, -2.3314,  1.0665],\n",
            "         [-0.2351,  0.9222, -1.8017,  ..., -1.0191,  0.5706,  1.0500],\n",
            "         [-0.5344, -0.0093, -0.1018,  ...,  0.8133, -1.9655,  1.7716],\n",
            "         ...,\n",
            "         [-0.0269, -1.0498,  0.0795,  ...,  0.0055,  0.0704,  1.3714],\n",
            "         [-0.0269, -1.0498,  0.0795,  ...,  0.0055,  0.0704,  1.3714],\n",
            "         [-0.0269, -1.0498,  0.0795,  ...,  0.0055,  0.0704,  1.3714]],\n",
            "\n",
            "        [[ 0.5937, -0.2933,  0.4900,  ..., -0.5122, -0.7366,  0.4800],\n",
            "         [-0.3358,  0.4007, -0.6923,  ...,  2.8462, -1.8929,  0.6368],\n",
            "         [-0.5344, -0.0093, -0.1018,  ...,  0.8133, -1.9655,  1.7716],\n",
            "         ...,\n",
            "         [-0.0269, -1.0498,  0.0795,  ...,  0.0055,  0.0704,  1.3714],\n",
            "         [-0.0269, -1.0498,  0.0795,  ...,  0.0055,  0.0704,  1.3714],\n",
            "         [-0.0269, -1.0498,  0.0795,  ...,  0.0055,  0.0704,  1.3714]],\n",
            "\n",
            "        [[-1.9166,  0.1709, -0.6824,  ...,  0.1455,  0.1604,  0.3463],\n",
            "         [ 0.3551,  0.8755, -1.0175,  ...,  0.6257, -0.0439,  1.0094],\n",
            "         [-0.5344, -0.0093, -0.1018,  ...,  0.8133, -1.9655,  1.7716],\n",
            "         ...,\n",
            "         [-0.0269, -1.0498,  0.0795,  ...,  0.0055,  0.0704,  1.3714],\n",
            "         [-0.0269, -1.0498,  0.0795,  ...,  0.0055,  0.0704,  1.3714],\n",
            "         [-0.0269, -1.0498,  0.0795,  ...,  0.0055,  0.0704,  1.3714]],\n",
            "\n",
            "        ...,\n",
            "\n",
            "        [[ 0.4697,  1.0193, -0.4567,  ..., -0.2917,  0.5076, -0.5236],\n",
            "         [ 0.8526, -0.9417,  0.0150,  ...,  0.9138, -1.2779,  0.4587],\n",
            "         [-0.2791, -0.8369,  0.4873,  ...,  0.0936,  1.3009,  1.0198],\n",
            "         ...,\n",
            "         [-0.0269, -1.0498,  0.0795,  ...,  0.0055,  0.0704,  1.3714],\n",
            "         [-0.0269, -1.0498,  0.0795,  ...,  0.0055,  0.0704,  1.3714],\n",
            "         [-0.0269, -1.0498,  0.0795,  ...,  0.0055,  0.0704,  1.3714]],\n",
            "\n",
            "        [[-0.9997, -0.1516, -1.2446,  ...,  0.5407,  0.7781, -0.1591],\n",
            "         [ 1.8752,  3.0297, -0.7403,  ..., -0.7039, -1.6703,  0.8368],\n",
            "         [-0.5344, -0.0093, -0.1018,  ...,  0.8133, -1.9655,  1.7716],\n",
            "         ...,\n",
            "         [-0.0269, -1.0498,  0.0795,  ...,  0.0055,  0.0704,  1.3714],\n",
            "         [-0.0269, -1.0498,  0.0795,  ...,  0.0055,  0.0704,  1.3714],\n",
            "         [-0.0269, -1.0498,  0.0795,  ...,  0.0055,  0.0704,  1.3714]],\n",
            "\n",
            "        [[-0.5344, -0.0093, -0.1018,  ...,  0.8133, -1.9655,  1.7716],\n",
            "         [-0.5344, -0.0093, -0.1018,  ...,  0.8133, -1.9655,  1.7716],\n",
            "         [-0.2096, -1.1629, -0.1234,  ..., -0.3188, -0.6162,  1.4285],\n",
            "         ...,\n",
            "         [-0.0269, -1.0498,  0.0795,  ...,  0.0055,  0.0704,  1.3714],\n",
            "         [-0.0269, -1.0498,  0.0795,  ...,  0.0055,  0.0704,  1.3714],\n",
            "         [-0.0269, -1.0498,  0.0795,  ...,  0.0055,  0.0704,  1.3714]]],\n",
            "       device='cuda:0', grad_fn=<EmbeddingBackward0>)\n",
            "tensor([[[-2.4598,  0.6670,  0.7841,  ...,  0.6790, -0.1965,  0.9129],\n",
            "         [ 0.8572, -0.2971, -1.1974,  ...,  2.1625,  1.3311,  0.6505],\n",
            "         [ 0.3558, -0.3193, -1.4088,  ..., -0.1882, -0.0940, -0.3002],\n",
            "         ...,\n",
            "         [-0.0278, -1.0495,  0.0804,  ...,  0.0065,  0.0695,  1.3719],\n",
            "         [-0.0278, -1.0495,  0.0804,  ...,  0.0065,  0.0695,  1.3719],\n",
            "         [-0.0278, -1.0495,  0.0804,  ...,  0.0065,  0.0695,  1.3719]],\n",
            "\n",
            "        [[-0.5353, -0.0089, -0.1009,  ...,  0.8143, -1.9664,  1.7723],\n",
            "         [-1.1252, -0.5816,  0.9984,  ..., -1.7347,  0.6679, -1.5061],\n",
            "         [ 2.3488, -1.6633, -0.1129,  ..., -0.6425,  1.9105, -0.8807],\n",
            "         ...,\n",
            "         [-0.0278, -1.0495,  0.0804,  ...,  0.0065,  0.0695,  1.3719],\n",
            "         [-0.0278, -1.0495,  0.0804,  ...,  0.0065,  0.0695,  1.3719],\n",
            "         [-0.0278, -1.0495,  0.0804,  ...,  0.0065,  0.0695,  1.3719]],\n",
            "\n",
            "        [[-1.8374, -0.5827,  1.5695,  ..., -2.4666,  0.1935,  0.3101],\n",
            "         [ 0.0160, -0.8535,  1.2406,  ...,  1.0537,  1.7755,  1.9707],\n",
            "         [-0.1721, -0.3663,  0.7398,  ...,  0.0070,  2.1512, -0.2807],\n",
            "         ...,\n",
            "         [-0.0278, -1.0495,  0.0804,  ...,  0.0065,  0.0695,  1.3719],\n",
            "         [-0.0278, -1.0495,  0.0804,  ...,  0.0065,  0.0695,  1.3719],\n",
            "         [-0.0278, -1.0495,  0.0804,  ...,  0.0065,  0.0695,  1.3719]],\n",
            "\n",
            "        ...,\n",
            "\n",
            "        [[-0.5869, -0.3750,  0.2403,  ..., -1.3510, -1.8036,  2.2891],\n",
            "         [-0.5353, -0.0089, -0.1009,  ...,  0.8143, -1.9664,  1.7723],\n",
            "         [ 1.0255, -0.8548,  1.3394,  ...,  0.1993,  2.3476, -0.9266],\n",
            "         ...,\n",
            "         [-0.0278, -1.0495,  0.0804,  ...,  0.0065,  0.0695,  1.3719],\n",
            "         [-0.0278, -1.0495,  0.0804,  ...,  0.0065,  0.0695,  1.3719],\n",
            "         [-0.0278, -1.0495,  0.0804,  ...,  0.0065,  0.0695,  1.3719]],\n",
            "\n",
            "        [[-0.5353, -0.0089, -0.1009,  ...,  0.8143, -1.9664,  1.7723],\n",
            "         [ 0.5596,  0.5189,  0.7412,  ...,  0.4913, -0.2988,  0.1393],\n",
            "         [-0.5353, -0.0089, -0.1009,  ...,  0.8143, -1.9664,  1.7723],\n",
            "         ...,\n",
            "         [-0.0278, -1.0495,  0.0804,  ...,  0.0065,  0.0695,  1.3719],\n",
            "         [-0.0278, -1.0495,  0.0804,  ...,  0.0065,  0.0695,  1.3719],\n",
            "         [-0.0278, -1.0495,  0.0804,  ...,  0.0065,  0.0695,  1.3719]],\n",
            "\n",
            "        [[-0.5353, -0.0089, -0.1009,  ...,  0.8143, -1.9664,  1.7723],\n",
            "         [-0.5679,  2.1267,  1.1759,  ..., -1.9235, -0.8354, -1.1903],\n",
            "         [-0.5353, -0.0089, -0.1009,  ...,  0.8143, -1.9664,  1.7723],\n",
            "         ...,\n",
            "         [-0.0278, -1.0495,  0.0804,  ...,  0.0065,  0.0695,  1.3719],\n",
            "         [-0.0278, -1.0495,  0.0804,  ...,  0.0065,  0.0695,  1.3719],\n",
            "         [-0.0278, -1.0495,  0.0804,  ...,  0.0065,  0.0695,  1.3719]]],\n",
            "       device='cuda:0', grad_fn=<EmbeddingBackward0>)\n"
          ]
        },
        {
          "output_type": "stream",
          "name": "stderr",
          "text": [
            "/usr/local/lib/python3.10/dist-packages/pytorch_lightning/trainer/call.py:54: Detected KeyboardInterrupt, attempting graceful shutdown...\n"
          ]
        }
      ],
      "source": [
        "EMBEDDING_DIM = 300\n",
        "EPOCHS = 5\n",
        "LR = 1e-3\n",
        "\n",
        "wandb_logger = WandbLogger(log_model='all')\n",
        "wandb.init(project=\"hw_04_task_01\")\n",
        "\n",
        "model_baseline = SimpleClassifier(VOCAB_SIZE, EMBEDDING_DIM, CLASSES_NUM)\n",
        "criterion = torch.nn.CrossEntropyLoss()\n",
        "\n",
        "train_module =TrainLightningModule(model_baseline, LR, criterion)\n",
        "\n",
        "trainer = pl.Trainer(accelerator=\"gpu\",logger=wandb_logger, max_epochs=EPOCHS)\n",
        "trainer.fit(train_module, train_dataloader, val_dataloader)"
      ]
    },
    {
      "cell_type": "markdown",
      "metadata": {
        "id": "Qj9QJ-xEM_zi"
      },
      "source": [
        "__[0.2 балла] Задание 4:__  Модель выше работает только с титулом.\n",
        "\n",
        "- Залоггируйте её обучение на [WandB](https://wandb.ai/).\n",
        "- Соберите архитектуру, которая будет принимать на вход не только титул, но ещё и сниппет. В этой архитектуре должно происходить следующее:\n",
        "\n",
        "1. Общий слой `nn.Embedding` применяется к сниппету и титулу параллельно.\n",
        "2. Происходит усреднее по текстам.\n",
        "3. Вектора конкатятся в один длины 600\n",
        "4. Линейный слой делает классификацию\n",
        "\n",
        "Обучите эту модель. Сравните траектории обучения на WandB. Прикрепите ссылку на дашборд либо скришот к тетрадке.\n",
        "\n",
        "Даталоадеры придётся объявить заново с учётом сниппетов. Правда ли, что она бьёт на валидационной выборке модель, обученную только на титулах статей?"
      ]
    },
    {
      "cell_type": "markdown",
      "source": [
        "[Запуск без сниппетов](https://wandb.ai/ruslan_iad/hw_04_task_01/runs/ph74zfqw)"
      ],
      "metadata": {
        "id": "JaBtluFjGSi_"
      }
    },
    {
      "cell_type": "code",
      "execution_count": 116,
      "metadata": {
        "id": "pOJSMhYMM_zi"
      },
      "outputs": [],
      "source": [
        "# your code here\n",
        "# (￢_￢)"
      ]
    },
    {
      "cell_type": "markdown",
      "metadata": {
        "id": "qKdBptFbM_zi"
      },
      "source": [
        "## 1.5 Инференс и оценка качества моделей\n",
        "\n",
        "Для каждой новости нам надо предсказывать несколько тэгов. То есть в нашем случае настоящее значение таргета это множество из тэгов $y_i = [tag1, tag2, tag3]$. Прогноз модели также множество из тэгов $\\hat y_i = [tag1, tag4]$.\n",
        "\n",
        "Будем считать метрики качества следующим образом (под $|A|$ имеется в виду мощность множества, то есть число элементов в нём):\n",
        "\n",
        "$$\n",
        "Precision = \\frac{1}{n} \\sum_{i = 1}^n \\frac{|y_i \\cap \\hat{y}_i|}{|\\hat{y}_i|}\n",
        "$$\n",
        "\n",
        "$$\n",
        "Recall = \\frac{1}{n} \\sum_{i = 1}^n \\frac{|y_i \\cap \\hat{y}_i|}{|y_i|}\n",
        "$$\n",
        "\n",
        "Также можно считать аналог Accuracy, но это не самая удачная идея, так как у нас в выборке огромное число нулей и эта метрика при любом разумном пороге для принятия решения будет очень высокой.\n",
        "\n",
        "$$\n",
        "Exact Match = \\frac{1}{n} \\cdot \\frac{1}{k} \\sum_{i = 1}^n \\sum_{k=1}^K [y_{ij} = \\hat{y}_{ij}]\n",
        "$$"
      ]
    },
    {
      "cell_type": "code",
      "execution_count": 117,
      "metadata": {
        "id": "tgBsB48FM_zi"
      },
      "outputs": [],
      "source": [
        "def precision(target, y_pred):\n",
        "    num = ((y_pred == 1) & (target == 1)).sum(dim=1)\n",
        "    denum = (y_pred == 1).sum(dim=1)\n",
        "    return (num/(denum + 1e-5)).mean().item()\n",
        "\n",
        "def recall(target, y_pred):\n",
        "    num = ((y_pred == 1) & (target == 1)).sum(dim=1)\n",
        "    denum = (target == 1).sum(dim=1)\n",
        "    return (num/(denum + 1e-5)).mean().item()\n",
        "\n",
        "def exact_match(target, y_pred):\n",
        "    return (1.*(y_pred == target)).mean().item()"
      ]
    },
    {
      "cell_type": "markdown",
      "metadata": {
        "id": "eD9UeFECM_zi"
      },
      "source": [
        "Построим прогноз на тестовой выборке."
      ]
    },
    {
      "cell_type": "code",
      "execution_count": 118,
      "metadata": {
        "id": "JHHDcGUDM_zi",
        "colab": {
          "base_uri": "https://localhost:8080/",
          "height": 419
        },
        "outputId": "63acbbde-c827-4d72-9cc9-fbfbc7c513f9"
      },
      "outputs": [
        {
          "output_type": "error",
          "ename": "RuntimeError",
          "evalue": "ignored",
          "traceback": [
            "\u001b[0;31m---------------------------------------------------------------------------\u001b[0m",
            "\u001b[0;31mRuntimeError\u001b[0m                              Traceback (most recent call last)",
            "\u001b[0;32m<ipython-input-118-4e3fc7e6a0dd>\u001b[0m in \u001b[0;36m<cell line: 3>\u001b[0;34m()\u001b[0m\n\u001b[1;32m      2\u001b[0m \u001b[0;34m\u001b[0m\u001b[0m\n\u001b[1;32m      3\u001b[0m \u001b[0;32mfor\u001b[0m \u001b[0mtitle\u001b[0m\u001b[0;34m,\u001b[0m \u001b[0mtarget\u001b[0m \u001b[0;32min\u001b[0m \u001b[0mtest_dataloader\u001b[0m\u001b[0;34m:\u001b[0m\u001b[0;34m\u001b[0m\u001b[0;34m\u001b[0m\u001b[0m\n\u001b[0;32m----> 4\u001b[0;31m     \u001b[0mlogit\u001b[0m \u001b[0;34m=\u001b[0m \u001b[0mmodel_baseline\u001b[0m\u001b[0;34m(\u001b[0m\u001b[0mtitle\u001b[0m\u001b[0;34m)\u001b[0m\u001b[0;34m\u001b[0m\u001b[0;34m\u001b[0m\u001b[0m\n\u001b[0m\u001b[1;32m      5\u001b[0m     \u001b[0mpred_prob\u001b[0m \u001b[0;34m=\u001b[0m \u001b[0mF\u001b[0m\u001b[0;34m.\u001b[0m\u001b[0msoftmax\u001b[0m\u001b[0;34m(\u001b[0m\u001b[0mlogit\u001b[0m\u001b[0;34m,\u001b[0m \u001b[0mdim\u001b[0m\u001b[0;34m=\u001b[0m\u001b[0;36m1\u001b[0m\u001b[0;34m)\u001b[0m\u001b[0;34m\u001b[0m\u001b[0;34m\u001b[0m\u001b[0m\n\u001b[1;32m      6\u001b[0m \u001b[0;34m\u001b[0m\u001b[0m\n",
            "\u001b[0;32m/usr/local/lib/python3.10/dist-packages/torch/nn/modules/module.py\u001b[0m in \u001b[0;36m_wrapped_call_impl\u001b[0;34m(self, *args, **kwargs)\u001b[0m\n\u001b[1;32m   1516\u001b[0m             \u001b[0;32mreturn\u001b[0m \u001b[0mself\u001b[0m\u001b[0;34m.\u001b[0m\u001b[0m_compiled_call_impl\u001b[0m\u001b[0;34m(\u001b[0m\u001b[0;34m*\u001b[0m\u001b[0margs\u001b[0m\u001b[0;34m,\u001b[0m \u001b[0;34m**\u001b[0m\u001b[0mkwargs\u001b[0m\u001b[0;34m)\u001b[0m  \u001b[0;31m# type: ignore[misc]\u001b[0m\u001b[0;34m\u001b[0m\u001b[0;34m\u001b[0m\u001b[0m\n\u001b[1;32m   1517\u001b[0m         \u001b[0;32melse\u001b[0m\u001b[0;34m:\u001b[0m\u001b[0;34m\u001b[0m\u001b[0;34m\u001b[0m\u001b[0m\n\u001b[0;32m-> 1518\u001b[0;31m             \u001b[0;32mreturn\u001b[0m \u001b[0mself\u001b[0m\u001b[0;34m.\u001b[0m\u001b[0m_call_impl\u001b[0m\u001b[0;34m(\u001b[0m\u001b[0;34m*\u001b[0m\u001b[0margs\u001b[0m\u001b[0;34m,\u001b[0m \u001b[0;34m**\u001b[0m\u001b[0mkwargs\u001b[0m\u001b[0;34m)\u001b[0m\u001b[0;34m\u001b[0m\u001b[0;34m\u001b[0m\u001b[0m\n\u001b[0m\u001b[1;32m   1519\u001b[0m \u001b[0;34m\u001b[0m\u001b[0m\n\u001b[1;32m   1520\u001b[0m     \u001b[0;32mdef\u001b[0m \u001b[0m_call_impl\u001b[0m\u001b[0;34m(\u001b[0m\u001b[0mself\u001b[0m\u001b[0;34m,\u001b[0m \u001b[0;34m*\u001b[0m\u001b[0margs\u001b[0m\u001b[0;34m,\u001b[0m \u001b[0;34m**\u001b[0m\u001b[0mkwargs\u001b[0m\u001b[0;34m)\u001b[0m\u001b[0;34m:\u001b[0m\u001b[0;34m\u001b[0m\u001b[0;34m\u001b[0m\u001b[0m\n",
            "\u001b[0;32m/usr/local/lib/python3.10/dist-packages/torch/nn/modules/module.py\u001b[0m in \u001b[0;36m_call_impl\u001b[0;34m(self, *args, **kwargs)\u001b[0m\n\u001b[1;32m   1525\u001b[0m                 \u001b[0;32mor\u001b[0m \u001b[0m_global_backward_pre_hooks\u001b[0m \u001b[0;32mor\u001b[0m \u001b[0m_global_backward_hooks\u001b[0m\u001b[0;34m\u001b[0m\u001b[0;34m\u001b[0m\u001b[0m\n\u001b[1;32m   1526\u001b[0m                 or _global_forward_hooks or _global_forward_pre_hooks):\n\u001b[0;32m-> 1527\u001b[0;31m             \u001b[0;32mreturn\u001b[0m \u001b[0mforward_call\u001b[0m\u001b[0;34m(\u001b[0m\u001b[0;34m*\u001b[0m\u001b[0margs\u001b[0m\u001b[0;34m,\u001b[0m \u001b[0;34m**\u001b[0m\u001b[0mkwargs\u001b[0m\u001b[0;34m)\u001b[0m\u001b[0;34m\u001b[0m\u001b[0;34m\u001b[0m\u001b[0m\n\u001b[0m\u001b[1;32m   1528\u001b[0m \u001b[0;34m\u001b[0m\u001b[0m\n\u001b[1;32m   1529\u001b[0m         \u001b[0;32mtry\u001b[0m\u001b[0;34m:\u001b[0m\u001b[0;34m\u001b[0m\u001b[0;34m\u001b[0m\u001b[0m\n",
            "\u001b[0;32m<ipython-input-112-ecfc53612676>\u001b[0m in \u001b[0;36mforward\u001b[0;34m(self, title)\u001b[0m\n\u001b[1;32m     10\u001b[0m \u001b[0;34m\u001b[0m\u001b[0m\n\u001b[1;32m     11\u001b[0m     \u001b[0;32mdef\u001b[0m \u001b[0mforward\u001b[0m\u001b[0;34m(\u001b[0m\u001b[0mself\u001b[0m\u001b[0;34m,\u001b[0m \u001b[0mtitle\u001b[0m\u001b[0;34m)\u001b[0m\u001b[0;34m:\u001b[0m\u001b[0;34m\u001b[0m\u001b[0;34m\u001b[0m\u001b[0m\n\u001b[0;32m---> 12\u001b[0;31m         \u001b[0membedded\u001b[0m \u001b[0;34m=\u001b[0m \u001b[0mself\u001b[0m\u001b[0;34m.\u001b[0m\u001b[0membedding\u001b[0m\u001b[0;34m(\u001b[0m\u001b[0mtitle\u001b[0m\u001b[0;34m)\u001b[0m\u001b[0;34m\u001b[0m\u001b[0;34m\u001b[0m\u001b[0m\n\u001b[0m\u001b[1;32m     13\u001b[0m         \u001b[0mprint\u001b[0m\u001b[0;34m(\u001b[0m\u001b[0membedded\u001b[0m\u001b[0;34m)\u001b[0m\u001b[0;34m\u001b[0m\u001b[0;34m\u001b[0m\u001b[0m\n\u001b[1;32m     14\u001b[0m         \u001b[0membedded\u001b[0m \u001b[0;34m=\u001b[0m \u001b[0membedded\u001b[0m\u001b[0;34m.\u001b[0m\u001b[0mmean\u001b[0m\u001b[0;34m(\u001b[0m\u001b[0mdim\u001b[0m\u001b[0;34m=\u001b[0m\u001b[0;36m1\u001b[0m\u001b[0;34m)\u001b[0m\u001b[0;34m\u001b[0m\u001b[0;34m\u001b[0m\u001b[0m\n",
            "\u001b[0;32m/usr/local/lib/python3.10/dist-packages/torch/nn/modules/module.py\u001b[0m in \u001b[0;36m_wrapped_call_impl\u001b[0;34m(self, *args, **kwargs)\u001b[0m\n\u001b[1;32m   1516\u001b[0m             \u001b[0;32mreturn\u001b[0m \u001b[0mself\u001b[0m\u001b[0;34m.\u001b[0m\u001b[0m_compiled_call_impl\u001b[0m\u001b[0;34m(\u001b[0m\u001b[0;34m*\u001b[0m\u001b[0margs\u001b[0m\u001b[0;34m,\u001b[0m \u001b[0;34m**\u001b[0m\u001b[0mkwargs\u001b[0m\u001b[0;34m)\u001b[0m  \u001b[0;31m# type: ignore[misc]\u001b[0m\u001b[0;34m\u001b[0m\u001b[0;34m\u001b[0m\u001b[0m\n\u001b[1;32m   1517\u001b[0m         \u001b[0;32melse\u001b[0m\u001b[0;34m:\u001b[0m\u001b[0;34m\u001b[0m\u001b[0;34m\u001b[0m\u001b[0m\n\u001b[0;32m-> 1518\u001b[0;31m             \u001b[0;32mreturn\u001b[0m \u001b[0mself\u001b[0m\u001b[0;34m.\u001b[0m\u001b[0m_call_impl\u001b[0m\u001b[0;34m(\u001b[0m\u001b[0;34m*\u001b[0m\u001b[0margs\u001b[0m\u001b[0;34m,\u001b[0m \u001b[0;34m**\u001b[0m\u001b[0mkwargs\u001b[0m\u001b[0;34m)\u001b[0m\u001b[0;34m\u001b[0m\u001b[0;34m\u001b[0m\u001b[0m\n\u001b[0m\u001b[1;32m   1519\u001b[0m \u001b[0;34m\u001b[0m\u001b[0m\n\u001b[1;32m   1520\u001b[0m     \u001b[0;32mdef\u001b[0m \u001b[0m_call_impl\u001b[0m\u001b[0;34m(\u001b[0m\u001b[0mself\u001b[0m\u001b[0;34m,\u001b[0m \u001b[0;34m*\u001b[0m\u001b[0margs\u001b[0m\u001b[0;34m,\u001b[0m \u001b[0;34m**\u001b[0m\u001b[0mkwargs\u001b[0m\u001b[0;34m)\u001b[0m\u001b[0;34m:\u001b[0m\u001b[0;34m\u001b[0m\u001b[0;34m\u001b[0m\u001b[0m\n",
            "\u001b[0;32m/usr/local/lib/python3.10/dist-packages/torch/nn/modules/module.py\u001b[0m in \u001b[0;36m_call_impl\u001b[0;34m(self, *args, **kwargs)\u001b[0m\n\u001b[1;32m   1525\u001b[0m                 \u001b[0;32mor\u001b[0m \u001b[0m_global_backward_pre_hooks\u001b[0m \u001b[0;32mor\u001b[0m \u001b[0m_global_backward_hooks\u001b[0m\u001b[0;34m\u001b[0m\u001b[0;34m\u001b[0m\u001b[0m\n\u001b[1;32m   1526\u001b[0m                 or _global_forward_hooks or _global_forward_pre_hooks):\n\u001b[0;32m-> 1527\u001b[0;31m             \u001b[0;32mreturn\u001b[0m \u001b[0mforward_call\u001b[0m\u001b[0;34m(\u001b[0m\u001b[0;34m*\u001b[0m\u001b[0margs\u001b[0m\u001b[0;34m,\u001b[0m \u001b[0;34m**\u001b[0m\u001b[0mkwargs\u001b[0m\u001b[0;34m)\u001b[0m\u001b[0;34m\u001b[0m\u001b[0;34m\u001b[0m\u001b[0m\n\u001b[0m\u001b[1;32m   1528\u001b[0m \u001b[0;34m\u001b[0m\u001b[0m\n\u001b[1;32m   1529\u001b[0m         \u001b[0;32mtry\u001b[0m\u001b[0;34m:\u001b[0m\u001b[0;34m\u001b[0m\u001b[0;34m\u001b[0m\u001b[0m\n",
            "\u001b[0;32m/usr/local/lib/python3.10/dist-packages/torch/nn/modules/sparse.py\u001b[0m in \u001b[0;36mforward\u001b[0;34m(self, input)\u001b[0m\n\u001b[1;32m    160\u001b[0m \u001b[0;34m\u001b[0m\u001b[0m\n\u001b[1;32m    161\u001b[0m     \u001b[0;32mdef\u001b[0m \u001b[0mforward\u001b[0m\u001b[0;34m(\u001b[0m\u001b[0mself\u001b[0m\u001b[0;34m,\u001b[0m \u001b[0minput\u001b[0m\u001b[0;34m:\u001b[0m \u001b[0mTensor\u001b[0m\u001b[0;34m)\u001b[0m \u001b[0;34m->\u001b[0m \u001b[0mTensor\u001b[0m\u001b[0;34m:\u001b[0m\u001b[0;34m\u001b[0m\u001b[0;34m\u001b[0m\u001b[0m\n\u001b[0;32m--> 162\u001b[0;31m         return F.embedding(\n\u001b[0m\u001b[1;32m    163\u001b[0m             \u001b[0minput\u001b[0m\u001b[0;34m,\u001b[0m \u001b[0mself\u001b[0m\u001b[0;34m.\u001b[0m\u001b[0mweight\u001b[0m\u001b[0;34m,\u001b[0m \u001b[0mself\u001b[0m\u001b[0;34m.\u001b[0m\u001b[0mpadding_idx\u001b[0m\u001b[0;34m,\u001b[0m \u001b[0mself\u001b[0m\u001b[0;34m.\u001b[0m\u001b[0mmax_norm\u001b[0m\u001b[0;34m,\u001b[0m\u001b[0;34m\u001b[0m\u001b[0;34m\u001b[0m\u001b[0m\n\u001b[1;32m    164\u001b[0m             self.norm_type, self.scale_grad_by_freq, self.sparse)\n",
            "\u001b[0;32m/usr/local/lib/python3.10/dist-packages/torch/nn/functional.py\u001b[0m in \u001b[0;36membedding\u001b[0;34m(input, weight, padding_idx, max_norm, norm_type, scale_grad_by_freq, sparse)\u001b[0m\n\u001b[1;32m   2231\u001b[0m         \u001b[0;31m# remove once script supports set_grad_enabled\u001b[0m\u001b[0;34m\u001b[0m\u001b[0;34m\u001b[0m\u001b[0m\n\u001b[1;32m   2232\u001b[0m         \u001b[0m_no_grad_embedding_renorm_\u001b[0m\u001b[0;34m(\u001b[0m\u001b[0mweight\u001b[0m\u001b[0;34m,\u001b[0m \u001b[0minput\u001b[0m\u001b[0;34m,\u001b[0m \u001b[0mmax_norm\u001b[0m\u001b[0;34m,\u001b[0m \u001b[0mnorm_type\u001b[0m\u001b[0;34m)\u001b[0m\u001b[0;34m\u001b[0m\u001b[0;34m\u001b[0m\u001b[0m\n\u001b[0;32m-> 2233\u001b[0;31m     \u001b[0;32mreturn\u001b[0m \u001b[0mtorch\u001b[0m\u001b[0;34m.\u001b[0m\u001b[0membedding\u001b[0m\u001b[0;34m(\u001b[0m\u001b[0mweight\u001b[0m\u001b[0;34m,\u001b[0m \u001b[0minput\u001b[0m\u001b[0;34m,\u001b[0m \u001b[0mpadding_idx\u001b[0m\u001b[0;34m,\u001b[0m \u001b[0mscale_grad_by_freq\u001b[0m\u001b[0;34m,\u001b[0m \u001b[0msparse\u001b[0m\u001b[0;34m)\u001b[0m\u001b[0;34m\u001b[0m\u001b[0;34m\u001b[0m\u001b[0m\n\u001b[0m\u001b[1;32m   2234\u001b[0m \u001b[0;34m\u001b[0m\u001b[0m\n\u001b[1;32m   2235\u001b[0m \u001b[0;34m\u001b[0m\u001b[0m\n",
            "\u001b[0;31mRuntimeError\u001b[0m: Expected all tensors to be on the same device, but found at least two devices, cuda:0 and cpu! (when checking argument for argument index in method wrapper_CUDA__index_select)"
          ]
        }
      ],
      "source": [
        "test_dataloader = DataLoader(test_dataset, shuffle=False, batch_size=test_dataset.__len__())\n",
        "\n",
        "for title, target in test_dataloader:\n",
        "    logit = model_baseline(title)\n",
        "    pred_prob = F.softmax(logit, dim=1)\n",
        "\n",
        "assert pred_prob.shape[0] == test_dataset.__len__()"
      ]
    },
    {
      "cell_type": "markdown",
      "metadata": {
        "id": "mzbiK9llM_zi"
      },
      "source": [
        "Теперь выбирая различное значение порога, мы можем получать разные предсказания. Если взять очень большое значение порога, то метрики сильно просядут, так как во многих документах никакого прогноза не будет построено вообще."
      ]
    },
    {
      "cell_type": "code",
      "execution_count": null,
      "metadata": {
        "id": "v2UI7GKqM_zj"
      },
      "outputs": [],
      "source": [
        "TRESHOLD = 0.01\n",
        "y_pred = 1*(pred_prob > TRESHOLD)\n",
        "\n",
        "print('Exact Match:', exact_match(target, y_pred))\n",
        "print('Precision:', precision(target, y_pred))\n",
        "print('Recall:', recall(target, y_pred))"
      ]
    },
    {
      "cell_type": "code",
      "execution_count": null,
      "metadata": {
        "id": "6v3CTYheM_zj"
      },
      "outputs": [],
      "source": [
        "TRESHOLD = 0.05\n",
        "y_pred = 1*(pred_prob > TRESHOLD)\n",
        "print('Exact Match:', exact_match(target, y_pred))\n",
        "print('Precision:', precision(target, y_pred))\n",
        "print('Recall:', recall(target, y_pred))"
      ]
    },
    {
      "cell_type": "code",
      "execution_count": null,
      "metadata": {
        "id": "7mokX9IVM_zj"
      },
      "outputs": [],
      "source": [
        "TRESHOLD = 0.9\n",
        "y_pred = 1*(pred_prob > TRESHOLD)\n",
        "\n",
        "print('Exact Match:', exact_match(target, y_pred))\n",
        "print('Precision:', precision(target, y_pred))\n",
        "print('Recall:', recall(target, y_pred))"
      ]
    },
    {
      "cell_type": "markdown",
      "metadata": {
        "id": "IUWFt7jjM_zj"
      },
      "source": [
        "Дальше мы будем строить довольно много прогнозов. Давайте напишем код для их строительства в виде функции. Обратите внимание, что на модели со снипетом она упадёт. Когда вы доберётесь до строительства прогнозов, функцию придётся немного модернизировать."
      ]
    },
    {
      "cell_type": "code",
      "execution_count": null,
      "metadata": {
        "id": "B3YFX4d2M_zk"
      },
      "outputs": [],
      "source": [
        "def get_predict(model, dataset):\n",
        "    dataloader = DataLoader(dataset, shuffle=False, batch_size=dataset.__len__())\n",
        "\n",
        "    for title, target in dataloader:\n",
        "        logit = model(title)\n",
        "        pred_prob = F.softmax(logit, dim=1)\n",
        "\n",
        "    assert pred_prob.shape[0] == dataset.__len__()\n",
        "    return pred_prob, target"
      ]
    },
    {
      "cell_type": "markdown",
      "metadata": {
        "id": "g0n493n_M_zk"
      },
      "source": [
        "__[0.2 балла] Задание 5:__ Какая метрика для нас в этой задаче важнее? Точность или полнота? Почему?\n",
        "\n",
        "__ваш ответ:__"
      ]
    },
    {
      "cell_type": "markdown",
      "metadata": {
        "id": "6TFEvxI6M_zk"
      },
      "source": [
        "- Напишите функцию, которая будет подбирать оптимальное значение порога, оптимизирующее выбранную вами метрику.\n",
        "- Подберите значение порога на валидационной выборке.\n",
        "- Сравните модель со сниппетами и без сниппетов, используя выбранную вами метрику при оптимальном значении порога на тестовой выборке.\n",
        "- Какая из них оказалась лучше?"
      ]
    },
    {
      "cell_type": "code",
      "execution_count": null,
      "metadata": {
        "id": "BCq67JmUM_zl"
      },
      "outputs": [],
      "source": [
        "# your code here\n",
        "# (＠_＠)"
      ]
    },
    {
      "cell_type": "markdown",
      "metadata": {
        "id": "o-QRc-UXM_zl"
      },
      "source": [
        "__[0.2 балла] Задание 6:__  Постройте прогнозы для отложенной выборки, которая представляет из себя пересечение сайта РИА-новостей и ВКонтакте. Проседает ли на ней качество модели? Насколько сильно?"
      ]
    },
    {
      "cell_type": "code",
      "execution_count": null,
      "metadata": {
        "id": "3Tc02SgLM_zl"
      },
      "outputs": [],
      "source": [
        "df_oob.head()"
      ]
    },
    {
      "cell_type": "code",
      "execution_count": null,
      "metadata": {
        "id": "1Z5AvLtcM_zl"
      },
      "outputs": [],
      "source": [
        "# your code here\n",
        "# (❍ᴥ❍ʋ)"
      ]
    },
    {
      "cell_type": "markdown",
      "metadata": {
        "id": "EmFzWAHtM_zl"
      },
      "source": [
        "## 1.6 Бонусное задание\n",
        "\n",
        "Давайте модернизируем наши архитектуры настолько, насколько это возможно.\n",
        "\n",
        "__[0.5 балла]__ Попробуйте собрать более большую архитектуру. Например, сразу после слоя эмбеддингов вы можете попробовать добавить свёрточные слои (`Conv1D` свёртки). Поиграйте с оптимизатором и тп.\n",
        "\n",
        "Опишите результаты своих экспериментов ниже. Расскажите, что конкретно вы делали и удалось ли вам улучшить качество модели. Все траектории обучения залоггируйте на WandB.   "
      ]
    },
    {
      "cell_type": "markdown",
      "metadata": {
        "id": "obvk588CM_zl"
      },
      "source": [
        "__Ваш лог экспериментов:__\n",
        "\n",
        "-\n",
        "-\n",
        "-"
      ]
    },
    {
      "cell_type": "code",
      "execution_count": null,
      "metadata": {
        "id": "mII3wWHOM_zl"
      },
      "outputs": [],
      "source": [
        "# your code here\n",
        "# (⊙_⊙)"
      ]
    },
    {
      "cell_type": "markdown",
      "metadata": {
        "id": "7kMKmn72M_zl"
      },
      "source": [
        "__[0.5]__ Скачайте с сайта [Rusvectores](https://rusvectores.org/ru/models/) любые новостные word2vec эмбединги. Возьмите из модели эмбеддинги для всех слов, которые встречаются вв вашем словаре и добавьте их в модель первым слоем. Заморозьте этот слой и не обновляйте в нём веса. Если у вас в словаре есть слово, но его нет среди предобученных эмбеддингов, замените его на токен `#UNKN`."
      ]
    },
    {
      "cell_type": "markdown",
      "metadata": {
        "id": "k9ldlZ5gM_zl"
      },
      "source": [
        "__Ваш лог экспериментов:__\n",
        "\n",
        "-\n",
        "-\n",
        "-"
      ]
    },
    {
      "cell_type": "code",
      "execution_count": null,
      "metadata": {
        "id": "XoIlDPe0M_zl"
      },
      "outputs": [],
      "source": [
        "# your code here\n",
        "# =^･ｪ･^="
      ]
    },
    {
      "cell_type": "markdown",
      "metadata": {
        "id": "w8ziz2ATM_zl"
      },
      "source": [
        "__[1 балл]__ Зафайнтьюньте трансформер для решения задачи с помощью библиотеки `hugging face`. Выбор предобученной модели кратко обоснуйте."
      ]
    },
    {
      "cell_type": "markdown",
      "metadata": {
        "id": "GoVv-AS4M_zl"
      },
      "source": [
        "__Ваш лог экспериментов:__\n",
        "\n",
        "-\n",
        "-\n",
        "-"
      ]
    },
    {
      "cell_type": "code",
      "execution_count": null,
      "metadata": {
        "id": "Dg02xRLrM_zl"
      },
      "outputs": [],
      "source": [
        "# your code here\n",
        "# ٩(ˊ〇ˋ*)و\n"
      ]
    },
    {
      "cell_type": "markdown",
      "source": [
        "Сравните все обученные модели между собой на тестовой выборке."
      ],
      "metadata": {
        "id": "vt8mcUllUmM8"
      }
    },
    {
      "cell_type": "code",
      "source": [
        "# your code here\n",
        "# (⌐■_■)"
      ],
      "metadata": {
        "id": "Kq-sVD7HUkz3"
      },
      "execution_count": null,
      "outputs": []
    },
    {
      "cell_type": "markdown",
      "metadata": {
        "id": "SoCALHfJM_zm"
      },
      "source": [
        "## Часть 2: предсказание категорий (0.3 балла)\n",
        "\n",
        "Возьмите датасет `df_vk` и для всех новостей из него предскажите категории с помощью лучшей, получившейся у вас модели."
      ]
    },
    {
      "cell_type": "code",
      "execution_count": null,
      "metadata": {
        "id": "99fmOzZUM_zm"
      },
      "outputs": [],
      "source": [
        "df_vk['target_tags'] = [[0]]*df_vk.shape[0]\n",
        "\n",
        "# your code here\n",
        "# (っ˘ڡ˘ς)"
      ]
    },
    {
      "cell_type": "markdown",
      "metadata": {
        "id": "qpw07S0UM_zm"
      },
      "source": [
        "На всякий случай сохраните табличку с получившимися у вас предсказаниями. Мало ли, вы не доделаете последнее задание, а потом захотите вернуться к нему. Не прогонять же обучение нейросети и инференс по второму кругу..."
      ]
    },
    {
      "cell_type": "code",
      "execution_count": null,
      "metadata": {
        "id": "alIF9U2tM_zm"
      },
      "outputs": [],
      "source": [
        "# Ваш код с сохранением данных\n",
        "\n",
        "# your code here\n",
        "# ¯\\_(ツ)_/¯"
      ]
    },
    {
      "cell_type": "markdown",
      "metadata": {
        "id": "H_jo72yzM_zm"
      },
      "source": [
        "## Часть 3: сентимент-классификатор (0.5 балла)"
      ]
    },
    {
      "cell_type": "markdown",
      "metadata": {
        "id": "uI33vB5bM_zm"
      },
      "source": [
        "В этой части тетрадки нам предстоит прогнать все комментарии из ВК через сентимент-классификатор. Мы будем делать это с помощью библиотеки HuggingFace. В ней есть удобная [функциональность pipline,](https://huggingface.co/docs/transformers/pipeline_tutorial) чтобы прогонять на своих данных уже обученные модели. 🤗🤗🤗"
      ]
    },
    {
      "cell_type": "code",
      "execution_count": null,
      "metadata": {
        "id": "4VEwMUYxM_zm"
      },
      "outputs": [],
      "source": [
        "df_comments.head()"
      ]
    },
    {
      "cell_type": "markdown",
      "metadata": {
        "id": "3gVL29D3M_zm"
      },
      "source": [
        "Для классификации комментариев на позитивные, негативные и нейтральные будем использовать [модель, о которой можно почитать по ссылке](https://huggingface.co/seara/rubert-tiny2-russian-sentiment)\n",
        "\n",
        "Ответьте на следующие вопросы:\n",
        "\n",
        "1. Как зовут автора модели?\n",
        "2. Как выглядит архитектура модели? Насколько модель большая?\n",
        "3. На каких данных обучена модель? Адекватно ли использовать её для классификации комментариев ВК?"
      ]
    },
    {
      "cell_type": "markdown",
      "metadata": {
        "id": "hedd3_EAM_zm"
      },
      "source": [
        "Установим библиотеку. 🤗🤗🤗"
      ]
    },
    {
      "cell_type": "code",
      "execution_count": null,
      "metadata": {
        "id": "-ZCfZ0ZfM_zm"
      },
      "outputs": [],
      "source": [
        "!pip3 install transformers"
      ]
    },
    {
      "cell_type": "markdown",
      "metadata": {
        "id": "4cDtjMFaM_zm"
      },
      "source": [
        "Разберитесь как можно прогнать модель на корпусе комментариев и сделайте это. Да, с помощью pipeline можно запустить довольно сложные модели, обученные другими людьми в пару строчек. При объявлении модели не забудьте положить её на нужный `device` 🤗🤗🤗"
      ]
    },
    {
      "cell_type": "code",
      "execution_count": null,
      "metadata": {
        "id": "sEfhf12pM_zm"
      },
      "outputs": [],
      "source": [
        "# your code here\n",
        "# ʕ•ᴥ•ʔ"
      ]
    },
    {
      "cell_type": "markdown",
      "metadata": {
        "id": "5XmrUVvhM_zm"
      },
      "source": [
        "Цикл для сентимент-анализа комментариев может работать довольно долго. Я крайне рекомендую вам переодически сохранять к себе на компьютер промежуточные результаты. Итоговый результат я рекомендую записать отдельным столбиком в таблицу с комментариями, а затем сохранить полученные результаты. 🤗🤗🤗"
      ]
    },
    {
      "cell_type": "code",
      "execution_count": null,
      "metadata": {
        "id": "jYpqlGahM_zm"
      },
      "outputs": [],
      "source": [
        "df_vk['sentiment_verdict'] = ...\n",
        "df_vk['sentiment_score'] = ...\n",
        "\n",
        "# <ваш код для сохранения данных>\n",
        "\n",
        "# your code here\n",
        "# ¯\\_(ツ)_/¯\n",
        "\n",
        "# P.S. Код для скоринга комментариев работает довольно долго. Первый, кто проскорит всю базу, может поделиться ей в общем чате с однокурсниками\n",
        "# Если вы используете эту базу, просто продемонстрируйте при решении этого пункта, что ваш код работает"
      ]
    },
    {
      "cell_type": "markdown",
      "metadata": {
        "id": "smRVE1hVM_zn"
      },
      "source": [
        "## Часть 4: аналитика (1 балл + 0.2 бонусных)\n",
        "\n",
        "Мы с вами огромные молодцы. Мы обучили модель для категоризации новостей, построили с её помощью прогнозы. Мы проскорили комментарии на их сентимент-окрас. Теперь давайте проанализируем новости. Описывайте полученные результаты таким образом, чтобы не получить уголовку на 5 лет за дискредитацию чего-нибудь или оскорбление чувств кого-нибудь 💜"
      ]
    },
    {
      "cell_type": "markdown",
      "metadata": {
        "id": "7z-jdjgeM_zn"
      },
      "source": [
        "__[0.2 балла]__ Какая доля комментариев позитивная? Какая доля комментариев негативная? Выведите 10 самых позитивных комментариев.\n",
        "\n",
        "Выведите 10 самых негативных комментариев, поугарайте с них. Удалите их вывод из тетрадки. Никто не должен их видеть, это должно остаться только между нами. Поззитивные не удаляйте. Они пусть останутся."
      ]
    },
    {
      "cell_type": "code",
      "execution_count": null,
      "metadata": {
        "id": "EqOwlAusM_zn"
      },
      "outputs": [],
      "source": [
        "# your code here\n",
        "# ʕ•ᴥ•ʔ"
      ]
    },
    {
      "cell_type": "markdown",
      "metadata": {
        "id": "SGfBQto1M_zn"
      },
      "source": [
        "__[0.2 балла]__ Для каждой новости из датасета посчитайте количество негативных и позитивных комментариев под ней. Сохраните эти количества в виде новых колонок."
      ]
    },
    {
      "cell_type": "code",
      "execution_count": null,
      "metadata": {
        "id": "WNySt0w7M_zn"
      },
      "outputs": [],
      "source": [
        "# your code here\n",
        "# [✖‿✖]"
      ]
    },
    {
      "cell_type": "markdown",
      "metadata": {
        "id": "jBOzB5yBM_zn"
      },
      "source": [
        "__[0.2 балл]__ Правда ли, что новости с большим количеством лайков получают больше негативных комментариев? А позитивных? Правда ли, что чем больше лайков, тем под новостью больше комментариев?\n",
        "\n",
        "Постройте визуализацию, которая могла бы это проиллюстрировать."
      ]
    },
    {
      "cell_type": "code",
      "execution_count": null,
      "metadata": {
        "id": "UjI74lt5M_zn"
      },
      "outputs": [],
      "source": [
        "# your code here\n",
        "# ┌(ಠ_ಠ)┘"
      ]
    },
    {
      "cell_type": "markdown",
      "metadata": {
        "id": "3wN5AFrAM_zn"
      },
      "source": [
        "__[0.2]__  Давайте построим по сентимент-окрасу комментариев топ позитивных новостей.\n",
        "\n",
        "- Если под новостью оставлено 100 комментариев, из которых 80 позитивные, мы можем быть уверены в том, что новость была хорошо воспринята людьми.\n",
        "- Если под новостью всего один комментарий и он оказался позитивным, то у нас 100% позитивных комментариев, но это вовсе не означает, что новость была воспринята хорошо.\n",
        "\n",
        "Получается, что сортировать по доле позитивных комментариев нельзя. Давайте поступим умнее. Доля позитивных комментариев под постом -- это случайная величина. Её довольно часто моделируют с помощью бета-распределения. Если это случайная величина, мы можем построить для неё предиктивный интервал. Пусть $u$ - число позитивных комментариев, а $d$ - нейтральных и негативных.  Пусть\n",
        "\n",
        "$$\n",
        "a = 1 + u \\qquad b = 1 + d.\n",
        "$$\n",
        "\n",
        "Тогда нижняя граница $95\\%$ предиктивного интервала для доли будет вычисляться по такой формуле:\n",
        "\n",
        "$$\n",
        "\\frac{a}{a + b} - 1.65 \\cdot \\sqrt{\\frac{a \\cdot b}{(a + b)^2 \\cdot (a + b + 1)}}\n",
        "$$\n",
        "\n",
        "Если под новостью был всего один комментарий, у такой случайной величины будет высокая дисперсия. Это означаen, что штука, которую мы вычитаем из доли, окажется высокой. Левая граница интервала окажется маленькой и мы не поднимем комментарий в нашем топе наверх. Фактически мы делаем сортировку по квантилю уровня $0.05$ вместо среднего.\n",
        "\n",
        "От вас требуется вбить эту формулу, сделать сортировку и вывести на экран топ позитивных новостей. Подробнее про то, откуда берётся эта формула можно почитать [в этой книге.](https://disk.yandex.ru/i/Ctd08bTwC9eI3g) Ищите 4 главу, страницу 140."
      ]
    },
    {
      "cell_type": "code",
      "execution_count": null,
      "metadata": {
        "id": "ToygzCZwM_zn"
      },
      "outputs": [],
      "source": [
        "# your code here\n",
        "# ฅ^•ﻌ•^ฅ"
      ]
    },
    {
      "cell_type": "markdown",
      "metadata": {
        "id": "8CuDk6kbM_zn"
      },
      "source": [
        "Построили? Срочно пришлите свою любимую позитивную  новость в общий чат!!!\n",
        "\n",
        "Топ негативных новостей строить не будем. Вокруг итак слишком много негатива 😻😻😻"
      ]
    },
    {
      "cell_type": "markdown",
      "metadata": {
        "id": "Gg_wCzsBM_zn"
      },
      "source": [
        "__[0.2]__ Какие категории новостей оказались самыми позитивными? Придумайте способ найти такие категории и опишите его тут.\n",
        "\n",
        "__Ответ:__"
      ]
    },
    {
      "cell_type": "code",
      "execution_count": null,
      "metadata": {
        "id": "SNEWqGVpM_zn"
      },
      "outputs": [],
      "source": [
        "# your code here\n",
        "# ٩(⁎❛ᴗ❛⁎)۶"
      ]
    },
    {
      "cell_type": "markdown",
      "metadata": {
        "id": "gDFw6uQeM_zn"
      },
      "source": [
        "__[0.2 бонусных]__ Проанализируйте, как температура комментария (вероятность того, что он негативный) зависит от длины трэда (число комментариев под новостью)? Значима ли эта взаимосвязь? Если вам для проверки этого хочется построить линейную регрессию, не сдерживайтесь."
      ]
    },
    {
      "cell_type": "code",
      "execution_count": null,
      "metadata": {
        "id": "usdYfPV0M_zn"
      },
      "outputs": [],
      "source": [
        "# your code here\n",
        "# ヾ(๑╹◡╹)ﾉ"
      ]
    }
  ],
  "metadata": {
    "colab": {
      "provenance": [],
      "gpuType": "T4"
    },
    "kernelspec": {
      "display_name": "Python 3",
      "name": "python3"
    },
    "language_info": {
      "codemirror_mode": {
        "name": "ipython",
        "version": 3
      },
      "file_extension": ".py",
      "mimetype": "text/x-python",
      "name": "python",
      "nbconvert_exporter": "python",
      "pygments_lexer": "ipython3",
      "version": "3.11.6"
    },
    "accelerator": "GPU",
    "widgets": {
      "application/vnd.jupyter.widget-state+json": {
        "5a9623cf14284568b903c7bda525d9d3": {
          "model_module": "@jupyter-widgets/controls",
          "model_name": "HBoxModel",
          "model_module_version": "1.5.0",
          "state": {
            "_dom_classes": [],
            "_model_module": "@jupyter-widgets/controls",
            "_model_module_version": "1.5.0",
            "_model_name": "HBoxModel",
            "_view_count": null,
            "_view_module": "@jupyter-widgets/controls",
            "_view_module_version": "1.5.0",
            "_view_name": "HBoxView",
            "box_style": "",
            "children": [
              "IPY_MODEL_ba4ff486b56c422d969b6d2808620157",
              "IPY_MODEL_5189885f757f447dbede1a8fa82db46f",
              "IPY_MODEL_00cf25ba3ffc4963a9c2754336ded19d"
            ],
            "layout": "IPY_MODEL_2882dad25c094f869416044e3ca24749"
          }
        },
        "ba4ff486b56c422d969b6d2808620157": {
          "model_module": "@jupyter-widgets/controls",
          "model_name": "HTMLModel",
          "model_module_version": "1.5.0",
          "state": {
            "_dom_classes": [],
            "_model_module": "@jupyter-widgets/controls",
            "_model_module_version": "1.5.0",
            "_model_name": "HTMLModel",
            "_view_count": null,
            "_view_module": "@jupyter-widgets/controls",
            "_view_module_version": "1.5.0",
            "_view_name": "HTMLView",
            "description": "",
            "description_tooltip": null,
            "layout": "IPY_MODEL_4ffb1845cc9b435eb7c91f8942eaf96c",
            "placeholder": "​",
            "style": "IPY_MODEL_c8fde39bae0247ac98008c5181680c7d",
            "value": "Sanity Checking DataLoader 0: 100%"
          }
        },
        "5189885f757f447dbede1a8fa82db46f": {
          "model_module": "@jupyter-widgets/controls",
          "model_name": "FloatProgressModel",
          "model_module_version": "1.5.0",
          "state": {
            "_dom_classes": [],
            "_model_module": "@jupyter-widgets/controls",
            "_model_module_version": "1.5.0",
            "_model_name": "FloatProgressModel",
            "_view_count": null,
            "_view_module": "@jupyter-widgets/controls",
            "_view_module_version": "1.5.0",
            "_view_name": "ProgressView",
            "bar_style": "",
            "description": "",
            "description_tooltip": null,
            "layout": "IPY_MODEL_dd8c40c73c91449981dd9709bcd7b372",
            "max": 2,
            "min": 0,
            "orientation": "horizontal",
            "style": "IPY_MODEL_c78092e489004ed28d030b53c9e87967",
            "value": 2
          }
        },
        "00cf25ba3ffc4963a9c2754336ded19d": {
          "model_module": "@jupyter-widgets/controls",
          "model_name": "HTMLModel",
          "model_module_version": "1.5.0",
          "state": {
            "_dom_classes": [],
            "_model_module": "@jupyter-widgets/controls",
            "_model_module_version": "1.5.0",
            "_model_name": "HTMLModel",
            "_view_count": null,
            "_view_module": "@jupyter-widgets/controls",
            "_view_module_version": "1.5.0",
            "_view_name": "HTMLView",
            "description": "",
            "description_tooltip": null,
            "layout": "IPY_MODEL_d79104067f4a446b9a6ac9539d3d8567",
            "placeholder": "​",
            "style": "IPY_MODEL_10abf57235034e1aaaad34098587afc8",
            "value": " 2/2 [00:01&lt;00:00,  1.94it/s]"
          }
        },
        "2882dad25c094f869416044e3ca24749": {
          "model_module": "@jupyter-widgets/base",
          "model_name": "LayoutModel",
          "model_module_version": "1.2.0",
          "state": {
            "_model_module": "@jupyter-widgets/base",
            "_model_module_version": "1.2.0",
            "_model_name": "LayoutModel",
            "_view_count": null,
            "_view_module": "@jupyter-widgets/base",
            "_view_module_version": "1.2.0",
            "_view_name": "LayoutView",
            "align_content": null,
            "align_items": null,
            "align_self": null,
            "border": null,
            "bottom": null,
            "display": "inline-flex",
            "flex": null,
            "flex_flow": "row wrap",
            "grid_area": null,
            "grid_auto_columns": null,
            "grid_auto_flow": null,
            "grid_auto_rows": null,
            "grid_column": null,
            "grid_gap": null,
            "grid_row": null,
            "grid_template_areas": null,
            "grid_template_columns": null,
            "grid_template_rows": null,
            "height": null,
            "justify_content": null,
            "justify_items": null,
            "left": null,
            "margin": null,
            "max_height": null,
            "max_width": null,
            "min_height": null,
            "min_width": null,
            "object_fit": null,
            "object_position": null,
            "order": null,
            "overflow": null,
            "overflow_x": null,
            "overflow_y": null,
            "padding": null,
            "right": null,
            "top": null,
            "visibility": "hidden",
            "width": "100%"
          }
        },
        "4ffb1845cc9b435eb7c91f8942eaf96c": {
          "model_module": "@jupyter-widgets/base",
          "model_name": "LayoutModel",
          "model_module_version": "1.2.0",
          "state": {
            "_model_module": "@jupyter-widgets/base",
            "_model_module_version": "1.2.0",
            "_model_name": "LayoutModel",
            "_view_count": null,
            "_view_module": "@jupyter-widgets/base",
            "_view_module_version": "1.2.0",
            "_view_name": "LayoutView",
            "align_content": null,
            "align_items": null,
            "align_self": null,
            "border": null,
            "bottom": null,
            "display": null,
            "flex": null,
            "flex_flow": null,
            "grid_area": null,
            "grid_auto_columns": null,
            "grid_auto_flow": null,
            "grid_auto_rows": null,
            "grid_column": null,
            "grid_gap": null,
            "grid_row": null,
            "grid_template_areas": null,
            "grid_template_columns": null,
            "grid_template_rows": null,
            "height": null,
            "justify_content": null,
            "justify_items": null,
            "left": null,
            "margin": null,
            "max_height": null,
            "max_width": null,
            "min_height": null,
            "min_width": null,
            "object_fit": null,
            "object_position": null,
            "order": null,
            "overflow": null,
            "overflow_x": null,
            "overflow_y": null,
            "padding": null,
            "right": null,
            "top": null,
            "visibility": null,
            "width": null
          }
        },
        "c8fde39bae0247ac98008c5181680c7d": {
          "model_module": "@jupyter-widgets/controls",
          "model_name": "DescriptionStyleModel",
          "model_module_version": "1.5.0",
          "state": {
            "_model_module": "@jupyter-widgets/controls",
            "_model_module_version": "1.5.0",
            "_model_name": "DescriptionStyleModel",
            "_view_count": null,
            "_view_module": "@jupyter-widgets/base",
            "_view_module_version": "1.2.0",
            "_view_name": "StyleView",
            "description_width": ""
          }
        },
        "dd8c40c73c91449981dd9709bcd7b372": {
          "model_module": "@jupyter-widgets/base",
          "model_name": "LayoutModel",
          "model_module_version": "1.2.0",
          "state": {
            "_model_module": "@jupyter-widgets/base",
            "_model_module_version": "1.2.0",
            "_model_name": "LayoutModel",
            "_view_count": null,
            "_view_module": "@jupyter-widgets/base",
            "_view_module_version": "1.2.0",
            "_view_name": "LayoutView",
            "align_content": null,
            "align_items": null,
            "align_self": null,
            "border": null,
            "bottom": null,
            "display": null,
            "flex": "2",
            "flex_flow": null,
            "grid_area": null,
            "grid_auto_columns": null,
            "grid_auto_flow": null,
            "grid_auto_rows": null,
            "grid_column": null,
            "grid_gap": null,
            "grid_row": null,
            "grid_template_areas": null,
            "grid_template_columns": null,
            "grid_template_rows": null,
            "height": null,
            "justify_content": null,
            "justify_items": null,
            "left": null,
            "margin": null,
            "max_height": null,
            "max_width": null,
            "min_height": null,
            "min_width": null,
            "object_fit": null,
            "object_position": null,
            "order": null,
            "overflow": null,
            "overflow_x": null,
            "overflow_y": null,
            "padding": null,
            "right": null,
            "top": null,
            "visibility": null,
            "width": null
          }
        },
        "c78092e489004ed28d030b53c9e87967": {
          "model_module": "@jupyter-widgets/controls",
          "model_name": "ProgressStyleModel",
          "model_module_version": "1.5.0",
          "state": {
            "_model_module": "@jupyter-widgets/controls",
            "_model_module_version": "1.5.0",
            "_model_name": "ProgressStyleModel",
            "_view_count": null,
            "_view_module": "@jupyter-widgets/base",
            "_view_module_version": "1.2.0",
            "_view_name": "StyleView",
            "bar_color": null,
            "description_width": ""
          }
        },
        "d79104067f4a446b9a6ac9539d3d8567": {
          "model_module": "@jupyter-widgets/base",
          "model_name": "LayoutModel",
          "model_module_version": "1.2.0",
          "state": {
            "_model_module": "@jupyter-widgets/base",
            "_model_module_version": "1.2.0",
            "_model_name": "LayoutModel",
            "_view_count": null,
            "_view_module": "@jupyter-widgets/base",
            "_view_module_version": "1.2.0",
            "_view_name": "LayoutView",
            "align_content": null,
            "align_items": null,
            "align_self": null,
            "border": null,
            "bottom": null,
            "display": null,
            "flex": null,
            "flex_flow": null,
            "grid_area": null,
            "grid_auto_columns": null,
            "grid_auto_flow": null,
            "grid_auto_rows": null,
            "grid_column": null,
            "grid_gap": null,
            "grid_row": null,
            "grid_template_areas": null,
            "grid_template_columns": null,
            "grid_template_rows": null,
            "height": null,
            "justify_content": null,
            "justify_items": null,
            "left": null,
            "margin": null,
            "max_height": null,
            "max_width": null,
            "min_height": null,
            "min_width": null,
            "object_fit": null,
            "object_position": null,
            "order": null,
            "overflow": null,
            "overflow_x": null,
            "overflow_y": null,
            "padding": null,
            "right": null,
            "top": null,
            "visibility": null,
            "width": null
          }
        },
        "10abf57235034e1aaaad34098587afc8": {
          "model_module": "@jupyter-widgets/controls",
          "model_name": "DescriptionStyleModel",
          "model_module_version": "1.5.0",
          "state": {
            "_model_module": "@jupyter-widgets/controls",
            "_model_module_version": "1.5.0",
            "_model_name": "DescriptionStyleModel",
            "_view_count": null,
            "_view_module": "@jupyter-widgets/base",
            "_view_module_version": "1.2.0",
            "_view_name": "StyleView",
            "description_width": ""
          }
        },
        "ba230ad2ac0f40509ff3423dd75cde9d": {
          "model_module": "@jupyter-widgets/controls",
          "model_name": "HBoxModel",
          "model_module_version": "1.5.0",
          "state": {
            "_dom_classes": [],
            "_model_module": "@jupyter-widgets/controls",
            "_model_module_version": "1.5.0",
            "_model_name": "HBoxModel",
            "_view_count": null,
            "_view_module": "@jupyter-widgets/controls",
            "_view_module_version": "1.5.0",
            "_view_name": "HBoxView",
            "box_style": "",
            "children": [
              "IPY_MODEL_2961675a03c141a7b8b828c6b1c464de",
              "IPY_MODEL_2a85dc23fb0748c69c97a91618865630",
              "IPY_MODEL_b6aa9fc4c04b4dec866703f09c9adbb5"
            ],
            "layout": "IPY_MODEL_e390b54016a7458bae065ee0c89c910e"
          }
        },
        "2961675a03c141a7b8b828c6b1c464de": {
          "model_module": "@jupyter-widgets/controls",
          "model_name": "HTMLModel",
          "model_module_version": "1.5.0",
          "state": {
            "_dom_classes": [],
            "_model_module": "@jupyter-widgets/controls",
            "_model_module_version": "1.5.0",
            "_model_name": "HTMLModel",
            "_view_count": null,
            "_view_module": "@jupyter-widgets/controls",
            "_view_module_version": "1.5.0",
            "_view_name": "HTMLView",
            "description": "",
            "description_tooltip": null,
            "layout": "IPY_MODEL_8728b4a1680941288c30aadc2a8c584c",
            "placeholder": "​",
            "style": "IPY_MODEL_90e37c2f120c4a0eac0547d88dab8b6c",
            "value": "Epoch 0:   0%"
          }
        },
        "2a85dc23fb0748c69c97a91618865630": {
          "model_module": "@jupyter-widgets/controls",
          "model_name": "FloatProgressModel",
          "model_module_version": "1.5.0",
          "state": {
            "_dom_classes": [],
            "_model_module": "@jupyter-widgets/controls",
            "_model_module_version": "1.5.0",
            "_model_name": "FloatProgressModel",
            "_view_count": null,
            "_view_module": "@jupyter-widgets/controls",
            "_view_module_version": "1.5.0",
            "_view_name": "ProgressView",
            "bar_style": "",
            "description": "",
            "description_tooltip": null,
            "layout": "IPY_MODEL_9189cdb472524c408d1cea31c21e495c",
            "max": 2139,
            "min": 0,
            "orientation": "horizontal",
            "style": "IPY_MODEL_610179f7cf164a2caf007871a7b6c31b",
            "value": 0
          }
        },
        "b6aa9fc4c04b4dec866703f09c9adbb5": {
          "model_module": "@jupyter-widgets/controls",
          "model_name": "HTMLModel",
          "model_module_version": "1.5.0",
          "state": {
            "_dom_classes": [],
            "_model_module": "@jupyter-widgets/controls",
            "_model_module_version": "1.5.0",
            "_model_name": "HTMLModel",
            "_view_count": null,
            "_view_module": "@jupyter-widgets/controls",
            "_view_module_version": "1.5.0",
            "_view_name": "HTMLView",
            "description": "",
            "description_tooltip": null,
            "layout": "IPY_MODEL_fb86299db9c541f3856f6c8b2ba8f24d",
            "placeholder": "​",
            "style": "IPY_MODEL_cfc308dde58341129fd13e8ecfd559a2",
            "value": " 0/2139 [00:00&lt;?, ?it/s]"
          }
        },
        "e390b54016a7458bae065ee0c89c910e": {
          "model_module": "@jupyter-widgets/base",
          "model_name": "LayoutModel",
          "model_module_version": "1.2.0",
          "state": {
            "_model_module": "@jupyter-widgets/base",
            "_model_module_version": "1.2.0",
            "_model_name": "LayoutModel",
            "_view_count": null,
            "_view_module": "@jupyter-widgets/base",
            "_view_module_version": "1.2.0",
            "_view_name": "LayoutView",
            "align_content": null,
            "align_items": null,
            "align_self": null,
            "border": null,
            "bottom": null,
            "display": "inline-flex",
            "flex": null,
            "flex_flow": "row wrap",
            "grid_area": null,
            "grid_auto_columns": null,
            "grid_auto_flow": null,
            "grid_auto_rows": null,
            "grid_column": null,
            "grid_gap": null,
            "grid_row": null,
            "grid_template_areas": null,
            "grid_template_columns": null,
            "grid_template_rows": null,
            "height": null,
            "justify_content": null,
            "justify_items": null,
            "left": null,
            "margin": null,
            "max_height": null,
            "max_width": null,
            "min_height": null,
            "min_width": null,
            "object_fit": null,
            "object_position": null,
            "order": null,
            "overflow": null,
            "overflow_x": null,
            "overflow_y": null,
            "padding": null,
            "right": null,
            "top": null,
            "visibility": null,
            "width": "100%"
          }
        },
        "8728b4a1680941288c30aadc2a8c584c": {
          "model_module": "@jupyter-widgets/base",
          "model_name": "LayoutModel",
          "model_module_version": "1.2.0",
          "state": {
            "_model_module": "@jupyter-widgets/base",
            "_model_module_version": "1.2.0",
            "_model_name": "LayoutModel",
            "_view_count": null,
            "_view_module": "@jupyter-widgets/base",
            "_view_module_version": "1.2.0",
            "_view_name": "LayoutView",
            "align_content": null,
            "align_items": null,
            "align_self": null,
            "border": null,
            "bottom": null,
            "display": null,
            "flex": null,
            "flex_flow": null,
            "grid_area": null,
            "grid_auto_columns": null,
            "grid_auto_flow": null,
            "grid_auto_rows": null,
            "grid_column": null,
            "grid_gap": null,
            "grid_row": null,
            "grid_template_areas": null,
            "grid_template_columns": null,
            "grid_template_rows": null,
            "height": null,
            "justify_content": null,
            "justify_items": null,
            "left": null,
            "margin": null,
            "max_height": null,
            "max_width": null,
            "min_height": null,
            "min_width": null,
            "object_fit": null,
            "object_position": null,
            "order": null,
            "overflow": null,
            "overflow_x": null,
            "overflow_y": null,
            "padding": null,
            "right": null,
            "top": null,
            "visibility": null,
            "width": null
          }
        },
        "90e37c2f120c4a0eac0547d88dab8b6c": {
          "model_module": "@jupyter-widgets/controls",
          "model_name": "DescriptionStyleModel",
          "model_module_version": "1.5.0",
          "state": {
            "_model_module": "@jupyter-widgets/controls",
            "_model_module_version": "1.5.0",
            "_model_name": "DescriptionStyleModel",
            "_view_count": null,
            "_view_module": "@jupyter-widgets/base",
            "_view_module_version": "1.2.0",
            "_view_name": "StyleView",
            "description_width": ""
          }
        },
        "9189cdb472524c408d1cea31c21e495c": {
          "model_module": "@jupyter-widgets/base",
          "model_name": "LayoutModel",
          "model_module_version": "1.2.0",
          "state": {
            "_model_module": "@jupyter-widgets/base",
            "_model_module_version": "1.2.0",
            "_model_name": "LayoutModel",
            "_view_count": null,
            "_view_module": "@jupyter-widgets/base",
            "_view_module_version": "1.2.0",
            "_view_name": "LayoutView",
            "align_content": null,
            "align_items": null,
            "align_self": null,
            "border": null,
            "bottom": null,
            "display": null,
            "flex": "2",
            "flex_flow": null,
            "grid_area": null,
            "grid_auto_columns": null,
            "grid_auto_flow": null,
            "grid_auto_rows": null,
            "grid_column": null,
            "grid_gap": null,
            "grid_row": null,
            "grid_template_areas": null,
            "grid_template_columns": null,
            "grid_template_rows": null,
            "height": null,
            "justify_content": null,
            "justify_items": null,
            "left": null,
            "margin": null,
            "max_height": null,
            "max_width": null,
            "min_height": null,
            "min_width": null,
            "object_fit": null,
            "object_position": null,
            "order": null,
            "overflow": null,
            "overflow_x": null,
            "overflow_y": null,
            "padding": null,
            "right": null,
            "top": null,
            "visibility": null,
            "width": null
          }
        },
        "610179f7cf164a2caf007871a7b6c31b": {
          "model_module": "@jupyter-widgets/controls",
          "model_name": "ProgressStyleModel",
          "model_module_version": "1.5.0",
          "state": {
            "_model_module": "@jupyter-widgets/controls",
            "_model_module_version": "1.5.0",
            "_model_name": "ProgressStyleModel",
            "_view_count": null,
            "_view_module": "@jupyter-widgets/base",
            "_view_module_version": "1.2.0",
            "_view_name": "StyleView",
            "bar_color": null,
            "description_width": ""
          }
        },
        "fb86299db9c541f3856f6c8b2ba8f24d": {
          "model_module": "@jupyter-widgets/base",
          "model_name": "LayoutModel",
          "model_module_version": "1.2.0",
          "state": {
            "_model_module": "@jupyter-widgets/base",
            "_model_module_version": "1.2.0",
            "_model_name": "LayoutModel",
            "_view_count": null,
            "_view_module": "@jupyter-widgets/base",
            "_view_module_version": "1.2.0",
            "_view_name": "LayoutView",
            "align_content": null,
            "align_items": null,
            "align_self": null,
            "border": null,
            "bottom": null,
            "display": null,
            "flex": null,
            "flex_flow": null,
            "grid_area": null,
            "grid_auto_columns": null,
            "grid_auto_flow": null,
            "grid_auto_rows": null,
            "grid_column": null,
            "grid_gap": null,
            "grid_row": null,
            "grid_template_areas": null,
            "grid_template_columns": null,
            "grid_template_rows": null,
            "height": null,
            "justify_content": null,
            "justify_items": null,
            "left": null,
            "margin": null,
            "max_height": null,
            "max_width": null,
            "min_height": null,
            "min_width": null,
            "object_fit": null,
            "object_position": null,
            "order": null,
            "overflow": null,
            "overflow_x": null,
            "overflow_y": null,
            "padding": null,
            "right": null,
            "top": null,
            "visibility": null,
            "width": null
          }
        },
        "cfc308dde58341129fd13e8ecfd559a2": {
          "model_module": "@jupyter-widgets/controls",
          "model_name": "DescriptionStyleModel",
          "model_module_version": "1.5.0",
          "state": {
            "_model_module": "@jupyter-widgets/controls",
            "_model_module_version": "1.5.0",
            "_model_name": "DescriptionStyleModel",
            "_view_count": null,
            "_view_module": "@jupyter-widgets/base",
            "_view_module_version": "1.2.0",
            "_view_name": "StyleView",
            "description_width": ""
          }
        }
      }
    }
  },
  "nbformat": 4,
  "nbformat_minor": 0
}